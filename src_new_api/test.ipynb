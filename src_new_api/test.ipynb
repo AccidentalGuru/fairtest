{
 "metadata": {
  "name": "",
  "signature": "sha256:a0cac12ffd1521f6a45bc6ed379c73a9a201c06821b95aac45574f80588b8e37"
 },
 "nbformat": 3,
 "nbformat_minor": 0,
 "worksheets": [
  {
   "cells": [
    {
     "cell_type": "code",
     "collapsed": false,
     "input": [
      "import fairtest.bugreport.trees.tree_builder as tree_builder\n",
      "import fairtest.bugreport.trees.categorical_tree as cat_tree\n",
      "import fairtest.bugreport.clustering.tree_clustering as tree_clustering\n",
      "import fairtest.bugreport.trees.tree_builder as builder\n",
      "import fairtest.bugreport.clustering.display_clusters as display\n",
      "import fairtest.bugreport.statistics.fairness_measures as fm\n",
      "import fairtest.bugreport.statistics.multiple_testing as multitest\n",
      "import fairtest.bugreport.api as api\n",
      "import imp\n",
      "\n",
      "R_LIBRARIES = ['survival', 'coin']\n",
      "try:\n",
      "  R_LOADED\n",
      "except NameError:\n",
      "    import rpy2.robjects as ro\n",
      "    from rpy2.robjects import numpy2ri\n",
      "    ro.conversion.py2ri = numpy2ri\n",
      "    numpy2ri.activate()\n",
      "    for lib in R_LIBRARIES:\n",
      "        ro.r('library({})'.format(lib))\n",
      "    R_LOADED = True"
     ],
     "language": "python",
     "metadata": {},
     "outputs": [],
     "prompt_number": 1
    },
    {
     "cell_type": "code",
     "collapsed": false,
     "input": [
      "import pandas as pd\n",
      "import ast\n",
      "import sklearn.cross_validation as cross_validation\n",
      "import sklearn.preprocessing as preprocessing\n",
      "RANDOM_SEED = 0\n",
      "\n",
      "'''\n",
      "data = pd.read_csv(\n",
      "            '../data/adult/adult.csv',\n",
      "            header=0,\n",
      "            sep=r'\\s*,\\s*',\n",
      "            engine='python',\n",
      "            na_values=\"?\")\n",
      "data = data.drop('fnlwgt', axis=1)\n",
      "data['hours-per-week'] = map(lambda x: '\u226540' if x>=40 else '<40', data['hours-per-week'])\n",
      "\n",
      "TARGET = 'predicted-income'\n",
      "SENS = ['sex','race']\n",
      "EXPL = [] \n",
      "#EXPL = ['hours-per-week']\n",
      "'''\n",
      "\n",
      "'''\n",
      "data = pd.read_csv(\n",
      "            '../data/staples/staples.csv',\n",
      "            header=0,\n",
      "            sep=r'\\s*,\\s*',\n",
      "            engine='python',\n",
      "            na_values=\"?\")\n",
      "data = data.drop('zipcode', axis=1)\n",
      "data = data.drop('distance', axis=1)\n",
      "TARGET = 'price'\n",
      "SENS = ['income']\n",
      "EXPL = []\n",
      "'''\n",
      "'''\n",
      "data = pd.read_csv(\n",
      "            '../data/medical/predictions_reg_25.csv',\n",
      "            header=0,\n",
      "            sep=r'\\s*,\\s*',\n",
      "            engine='python',\n",
      "            na_values=\"?\")\n",
      "data['Error'] = abs(data['Error'])\n",
      "TARGET = 'Error'\n",
      "SENS = ['Age']\n",
      "EXPL = []\n",
      "'''\n",
      "\n",
      "data = pd.read_csv(\n",
      "            #'../data/images/lfw_black-white.txt',\n",
      "            '../data/images/overfeat_raw.txt',\n",
      "            header=0,\n",
      "            sep=r'\\s*\\t\\s*',\n",
      "            engine='python',\n",
      "            na_values=\"?\")\n",
      "TARGET = 'Labels'\n",
      "SENS = ['Race']\n",
      "EXPL = []\n",
      "labeled_data = map(lambda s: ast.literal_eval(s), data[TARGET])\n",
      "label_encoder = preprocessing.MultiLabelBinarizer()\n",
      "labeled_data = label_encoder.fit_transform(labeled_data)\n",
      "labels = label_encoder.classes_\n",
      "df_labels = pd.DataFrame(labeled_data, columns=labels)\n",
      "data = pd.concat([data.drop(TARGET, axis=1), df_labels], axis=1)\n",
      "TARGET = labels.tolist()\n",
      "\n",
      "\n",
      "data = data[data.columns.drop(TARGET).tolist()+np.array([TARGET]).flatten().tolist()]\n",
      "\n",
      "encoders = {}\n",
      "for column in data.columns:\n",
      "    if data.dtypes[column] == np.object:\n",
      "        encoders[column] = preprocessing.LabelEncoder()\n",
      "        data[column] = encoders[column].fit_transform(data[column])\n",
      "\n",
      "data.tail()"
     ],
     "language": "python",
     "metadata": {},
     "outputs": [
      {
       "html": [
        "<div style=\"max-height:1000px;max-width:1500px;overflow:auto;\">\n",
        "<table border=\"1\" class=\"dataframe\">\n",
        "  <thead>\n",
        "    <tr style=\"text-align: right;\">\n",
        "      <th></th>\n",
        "      <th>Race</th>\n",
        "      <th>Afghan hound</th>\n",
        "      <th>African elephant</th>\n",
        "      <th>African grey</th>\n",
        "      <th>American Staffordshire terrier</th>\n",
        "      <th>American lobster</th>\n",
        "      <th>Arabian camel</th>\n",
        "      <th>Band Aid</th>\n",
        "      <th>Bedlington terrier</th>\n",
        "      <th>Bernese mountain dog</th>\n",
        "      <th>...</th>\n",
        "      <th>wire-haired fox terrier</th>\n",
        "      <th>wok</th>\n",
        "      <th>wombat</th>\n",
        "      <th>wooden spoon</th>\n",
        "      <th>wool</th>\n",
        "      <th>worm fence</th>\n",
        "      <th>wreck</th>\n",
        "      <th>yurt</th>\n",
        "      <th>zebra</th>\n",
        "      <th>zucchini</th>\n",
        "    </tr>\n",
        "  </thead>\n",
        "  <tbody>\n",
        "    <tr>\n",
        "      <th>2642</th>\n",
        "      <td>1</td>\n",
        "      <td>0</td>\n",
        "      <td>0</td>\n",
        "      <td>0</td>\n",
        "      <td>0</td>\n",
        "      <td>0</td>\n",
        "      <td>0</td>\n",
        "      <td>0</td>\n",
        "      <td>0</td>\n",
        "      <td>0</td>\n",
        "      <td>...</td>\n",
        "      <td>0</td>\n",
        "      <td>0</td>\n",
        "      <td>0</td>\n",
        "      <td>0</td>\n",
        "      <td>0</td>\n",
        "      <td>0</td>\n",
        "      <td>0</td>\n",
        "      <td>0</td>\n",
        "      <td>0</td>\n",
        "      <td>0</td>\n",
        "    </tr>\n",
        "    <tr>\n",
        "      <th>2643</th>\n",
        "      <td>1</td>\n",
        "      <td>0</td>\n",
        "      <td>0</td>\n",
        "      <td>0</td>\n",
        "      <td>0</td>\n",
        "      <td>0</td>\n",
        "      <td>0</td>\n",
        "      <td>0</td>\n",
        "      <td>0</td>\n",
        "      <td>0</td>\n",
        "      <td>...</td>\n",
        "      <td>0</td>\n",
        "      <td>0</td>\n",
        "      <td>0</td>\n",
        "      <td>0</td>\n",
        "      <td>0</td>\n",
        "      <td>0</td>\n",
        "      <td>0</td>\n",
        "      <td>0</td>\n",
        "      <td>0</td>\n",
        "      <td>0</td>\n",
        "    </tr>\n",
        "    <tr>\n",
        "      <th>2644</th>\n",
        "      <td>1</td>\n",
        "      <td>0</td>\n",
        "      <td>0</td>\n",
        "      <td>0</td>\n",
        "      <td>0</td>\n",
        "      <td>0</td>\n",
        "      <td>0</td>\n",
        "      <td>0</td>\n",
        "      <td>0</td>\n",
        "      <td>0</td>\n",
        "      <td>...</td>\n",
        "      <td>0</td>\n",
        "      <td>0</td>\n",
        "      <td>0</td>\n",
        "      <td>0</td>\n",
        "      <td>0</td>\n",
        "      <td>0</td>\n",
        "      <td>0</td>\n",
        "      <td>0</td>\n",
        "      <td>0</td>\n",
        "      <td>0</td>\n",
        "    </tr>\n",
        "    <tr>\n",
        "      <th>2645</th>\n",
        "      <td>1</td>\n",
        "      <td>0</td>\n",
        "      <td>0</td>\n",
        "      <td>0</td>\n",
        "      <td>0</td>\n",
        "      <td>0</td>\n",
        "      <td>0</td>\n",
        "      <td>0</td>\n",
        "      <td>0</td>\n",
        "      <td>0</td>\n",
        "      <td>...</td>\n",
        "      <td>0</td>\n",
        "      <td>0</td>\n",
        "      <td>0</td>\n",
        "      <td>0</td>\n",
        "      <td>0</td>\n",
        "      <td>0</td>\n",
        "      <td>0</td>\n",
        "      <td>0</td>\n",
        "      <td>0</td>\n",
        "      <td>0</td>\n",
        "    </tr>\n",
        "    <tr>\n",
        "      <th>2646</th>\n",
        "      <td>1</td>\n",
        "      <td>0</td>\n",
        "      <td>0</td>\n",
        "      <td>0</td>\n",
        "      <td>0</td>\n",
        "      <td>0</td>\n",
        "      <td>0</td>\n",
        "      <td>0</td>\n",
        "      <td>0</td>\n",
        "      <td>0</td>\n",
        "      <td>...</td>\n",
        "      <td>0</td>\n",
        "      <td>0</td>\n",
        "      <td>0</td>\n",
        "      <td>0</td>\n",
        "      <td>0</td>\n",
        "      <td>0</td>\n",
        "      <td>0</td>\n",
        "      <td>0</td>\n",
        "      <td>0</td>\n",
        "      <td>0</td>\n",
        "    </tr>\n",
        "  </tbody>\n",
        "</table>\n",
        "<p>5 rows \u00d7 746 columns</p>\n",
        "</div>"
       ],
       "metadata": {},
       "output_type": "pyout",
       "prompt_number": 2,
       "text": [
        "      Race  Afghan hound  African elephant  African grey  \\\n",
        "2642     1             0                 0             0   \n",
        "2643     1             0                 0             0   \n",
        "2644     1             0                 0             0   \n",
        "2645     1             0                 0             0   \n",
        "2646     1             0                 0             0   \n",
        "\n",
        "      American Staffordshire terrier  American lobster  Arabian camel  \\\n",
        "2642                               0                 0              0   \n",
        "2643                               0                 0              0   \n",
        "2644                               0                 0              0   \n",
        "2645                               0                 0              0   \n",
        "2646                               0                 0              0   \n",
        "\n",
        "      Band Aid  Bedlington terrier  Bernese mountain dog    ...     \\\n",
        "2642         0                   0                     0    ...      \n",
        "2643         0                   0                     0    ...      \n",
        "2644         0                   0                     0    ...      \n",
        "2645         0                   0                     0    ...      \n",
        "2646         0                   0                     0    ...      \n",
        "\n",
        "      wire-haired fox terrier  wok  wombat  wooden spoon  wool  worm fence  \\\n",
        "2642                        0    0       0             0     0           0   \n",
        "2643                        0    0       0             0     0           0   \n",
        "2644                        0    0       0             0     0           0   \n",
        "2645                        0    0       0             0     0           0   \n",
        "2646                        0    0       0             0     0           0   \n",
        "\n",
        "      wreck  yurt  zebra  zucchini  \n",
        "2642      0     0      0         0  \n",
        "2643      0     0      0         0  \n",
        "2644      0     0      0         0  \n",
        "2645      0     0      0         0  \n",
        "2646      0     0      0         0  \n",
        "\n",
        "[5 rows x 746 columns]"
       ]
      }
     ],
     "prompt_number": 2
    },
    {
     "cell_type": "code",
     "collapsed": false,
     "input": [
      "y = data[TARGET]\n",
      "X = data.drop(TARGET, axis=1)\n",
      "X_train, X_test, y_train, y_test = cross_validation.train_test_split(X,y, train_size=0.5, random_state=RANDOM_SEED)\n",
      "\n",
      "X_train.tail()"
     ],
     "language": "python",
     "metadata": {},
     "outputs": [
      {
       "html": [
        "<div style=\"max-height:1000px;max-width:1500px;overflow:auto;\">\n",
        "<table border=\"1\" class=\"dataframe\">\n",
        "  <thead>\n",
        "    <tr style=\"text-align: right;\">\n",
        "      <th></th>\n",
        "      <th>age</th>\n",
        "      <th>Workclass</th>\n",
        "      <th>education</th>\n",
        "      <th>education-num</th>\n",
        "      <th>marital-status</th>\n",
        "      <th>occupation</th>\n",
        "      <th>relationship</th>\n",
        "      <th>race</th>\n",
        "      <th>sex</th>\n",
        "      <th>capital-gain</th>\n",
        "      <th>capital-loss</th>\n",
        "      <th>hours-per-week</th>\n",
        "      <th>native-country</th>\n",
        "    </tr>\n",
        "  </thead>\n",
        "  <tbody>\n",
        "    <tr>\n",
        "      <th>21243</th>\n",
        "      <td>65</td>\n",
        "      <td>0</td>\n",
        "      <td>11</td>\n",
        "      <td>9</td>\n",
        "      <td>2</td>\n",
        "      <td>0</td>\n",
        "      <td>0</td>\n",
        "      <td>4</td>\n",
        "      <td>1</td>\n",
        "      <td>2414</td>\n",
        "      <td>0</td>\n",
        "      <td>0</td>\n",
        "      <td>39</td>\n",
        "    </tr>\n",
        "    <tr>\n",
        "      <th>45891</th>\n",
        "      <td>61</td>\n",
        "      <td>0</td>\n",
        "      <td>9</td>\n",
        "      <td>13</td>\n",
        "      <td>2</td>\n",
        "      <td>0</td>\n",
        "      <td>0</td>\n",
        "      <td>4</td>\n",
        "      <td>1</td>\n",
        "      <td>4386</td>\n",
        "      <td>0</td>\n",
        "      <td>1</td>\n",
        "      <td>39</td>\n",
        "    </tr>\n",
        "    <tr>\n",
        "      <th>42613</th>\n",
        "      <td>41</td>\n",
        "      <td>6</td>\n",
        "      <td>15</td>\n",
        "      <td>10</td>\n",
        "      <td>2</td>\n",
        "      <td>10</td>\n",
        "      <td>0</td>\n",
        "      <td>4</td>\n",
        "      <td>1</td>\n",
        "      <td>0</td>\n",
        "      <td>0</td>\n",
        "      <td>1</td>\n",
        "      <td>39</td>\n",
        "    </tr>\n",
        "    <tr>\n",
        "      <th>43567</th>\n",
        "      <td>47</td>\n",
        "      <td>6</td>\n",
        "      <td>9</td>\n",
        "      <td>13</td>\n",
        "      <td>2</td>\n",
        "      <td>12</td>\n",
        "      <td>0</td>\n",
        "      <td>4</td>\n",
        "      <td>1</td>\n",
        "      <td>0</td>\n",
        "      <td>0</td>\n",
        "      <td>1</td>\n",
        "      <td>39</td>\n",
        "    </tr>\n",
        "    <tr>\n",
        "      <th>2732</th>\n",
        "      <td>25</td>\n",
        "      <td>4</td>\n",
        "      <td>15</td>\n",
        "      <td>10</td>\n",
        "      <td>4</td>\n",
        "      <td>8</td>\n",
        "      <td>1</td>\n",
        "      <td>4</td>\n",
        "      <td>1</td>\n",
        "      <td>2597</td>\n",
        "      <td>0</td>\n",
        "      <td>1</td>\n",
        "      <td>39</td>\n",
        "    </tr>\n",
        "  </tbody>\n",
        "</table>\n",
        "</div>"
       ],
       "metadata": {},
       "output_type": "pyout",
       "prompt_number": 94,
       "text": [
        "       age  Workclass  education  education-num  marital-status  occupation  \\\n",
        "21243   65          0         11              9               2           0   \n",
        "45891   61          0          9             13               2           0   \n",
        "42613   41          6         15             10               2          10   \n",
        "43567   47          6          9             13               2          12   \n",
        "2732    25          4         15             10               4           8   \n",
        "\n",
        "       relationship  race  sex  capital-gain  capital-loss  hours-per-week  \\\n",
        "21243             0     4    1          2414             0               0   \n",
        "45891             0     4    1          4386             0               1   \n",
        "42613             0     4    1             0             0               1   \n",
        "43567             0     4    1             0             0               1   \n",
        "2732              1     4    1          2597             0               1   \n",
        "\n",
        "       native-country  \n",
        "21243              39  \n",
        "45891              39  \n",
        "42613              39  \n",
        "43567              39  \n",
        "2732               39  "
       ]
      }
     ],
     "prompt_number": 94
    },
    {
     "cell_type": "code",
     "collapsed": false,
     "input": [
      "imp.reload(api)\n",
      "imp.reload(cat_tree)\n",
      "imp.reload(builder)\n",
      "\n",
      "feature_info = []\n",
      "for col in data.columns.drop(TARGET):\n",
      "    ftype = 'sens' if col in SENS else 'expl' if col in EXPL else 'context'\n",
      "    arity = None if not col in encoders else len(encoders[col].classes_)\n",
      "    feature_info.append(api.Feature(col, ftype, arity))\n",
      "\n",
      "try:\n",
      "    target_arity = len(encoders[TARGET].classes_)\n",
      "except:\n",
      "    target_arity = None\n",
      "target_info = api.Target(np.asarray([TARGET]).flatten(), arity=target_arity)   \n",
      "    \n",
      "FT = api.Fairtest(feature_info, target_info)\n",
      "\n",
      "#import cProfile as cp\n",
      "#cp.run('FT.train(X_train, y_train)')\n",
      "FT.train(X_train, y_train)"
     ],
     "language": "python",
     "metadata": {},
     "outputs": [
      {
       "output_type": "stream",
       "stream": "stdout",
       "text": [
        "TRAINING WITH SENSITIVE FEATURE race\n",
        "targets = ['predicted-income']\n",
        "contextual features = set(['Workclass', 'relationship', 'age', 'capital-gain', 'sex', 'hours-per-week', 'native-country', 'education-num', 'capital-loss', 'education', 'marital-status', 'occupation'])\n",
        "dim = (2, 5)\n",
        "thresholds = {'education-num': [6.5, 8.5, 9.5, 10.5, 11.5, 12.5, 13.5, 14.5, 15.5], 'capital-loss': [106.5, 268.0, 371.0, 522.0, 639.0, 766.5, 927.0, 1033.0, 1175.0, 1299.0], 'age': [21.5, 24.5, 28.5, 32.5, 35.5, 39.5, 42.5, 46.5, 51.5, 58.5], 'capital-gain': [57.0, 257.5, 497.5, 754.0, 952.5, 1023.0, 1070.5, 1098.5, 1131.0, 1162.0]}"
       ]
      },
      {
       "output_type": "stream",
       "stream": "stdout",
       "text": [
        "\n",
        "splitting on age (score=0.00956418057552) with threshold 58.5 at pred []"
       ]
      },
      {
       "output_type": "stream",
       "stream": "stdout",
       "text": [
        "\n",
        "splitting on age (score=0.00914751676841) with threshold 42.5 at pred ['age <= 58.5']"
       ]
      },
      {
       "output_type": "stream",
       "stream": "stdout",
       "text": [
        "\n",
        "splitting on Workclass (score=0.00621544112725) with threshold None at pred ['age <= 58.5', 'age <= 42.5']"
       ]
      },
      {
       "output_type": "stream",
       "stream": "stdout",
       "text": [
        "\n",
        "splitting on age (score=0.00760315691225) with threshold 32.5 at pred ['age <= 58.5', 'age <= 42.5', 'Workclass = 4']"
       ]
      },
      {
       "output_type": "stream",
       "stream": "stdout",
       "text": [
        "\n",
        "splitting on age (score=0.00917499174747) with threshold 28.5 at pred ['age <= 58.5', 'age <= 42.5', 'Workclass = 4', 'age <= 32.5']"
       ]
      },
      {
       "output_type": "stream",
       "stream": "stdout",
       "text": [
        "\n",
        "splitting on capital-loss (score=0.0121059479836) with threshold 106.5 at pred ['age <= 58.5', 'age <= 42.5', 'Workclass = 4', 'age > 32.5']"
       ]
      },
      {
       "output_type": "stream",
       "stream": "stdout",
       "text": [
        "\n",
        "splitting on relationship (score=0.0183621346575) with threshold None at pred ['age <= 58.5', 'age <= 42.5', 'Workclass = 1']"
       ]
      },
      {
       "output_type": "stream",
       "stream": "stdout",
       "text": [
        "\n",
        "splitting on age (score=0.00312798472776) with threshold 39.5 at pred ['age <= 58.5', 'age <= 42.5', 'Workclass = 2']"
       ]
      },
      {
       "output_type": "stream",
       "stream": "stdout",
       "text": [
        "\n",
        "splitting on age (score=0.00530943458582) with threshold 32.5 at pred ['age <= 58.5', 'age <= 42.5', 'Workclass = 2', 'age <= 39.5']\n",
        "splitting on hours-per-week (score=0.0200796319662) with threshold None at pred ['age <= 58.5', 'age <= 42.5', 'Workclass = 7']"
       ]
      },
      {
       "output_type": "stream",
       "stream": "stdout",
       "text": [
        "\n",
        "splitting on age (score=0.0132782874473) with threshold 35.5 at pred ['age <= 58.5', 'age <= 42.5', 'Workclass = 7', 'hours-per-week = 1']\n",
        "splitting on age (score=0.0143696264145) with threshold 28.5 at pred ['age <= 58.5', 'age <= 42.5', 'Workclass = 6']"
       ]
      },
      {
       "output_type": "stream",
       "stream": "stdout",
       "text": [
        "\n",
        "splitting on marital-status (score=0.0284910348038) with threshold None at pred ['age <= 58.5', 'age <= 42.5', 'Workclass = 0']"
       ]
      },
      {
       "output_type": "stream",
       "stream": "stdout",
       "text": [
        "\n",
        "splitting on hours-per-week (score=0.0355916696415) with threshold None at pred ['age <= 58.5', 'age <= 42.5', 'Workclass = 0', 'marital-status = 4']\n",
        "splitting on age (score=0.00636612884197) with threshold 32.5 at pred ['age <= 58.5', 'age <= 42.5', 'Workclass = 5']"
       ]
      },
      {
       "output_type": "stream",
       "stream": "stdout",
       "text": [
        "\n",
        "splitting on capital-gain (score=0.0112827561756) with threshold 57.0 at pred ['age <= 58.5', 'age > 42.5']"
       ]
      },
      {
       "output_type": "stream",
       "stream": "stdout",
       "text": [
        "\n",
        "splitting on Workclass (score=0.0043513041999) with threshold None at pred ['age <= 58.5', 'age > 42.5', 'capital-gain <= 57.0']"
       ]
      },
      {
       "output_type": "stream",
       "stream": "stdout",
       "text": [
        "\n",
        "splitting on education-num (score=0.0117291625429) with threshold 13.5 at pred ['age <= 58.5', 'age > 42.5', 'capital-gain <= 57.0', 'Workclass = 4']"
       ]
      },
      {
       "output_type": "stream",
       "stream": "stdout",
       "text": [
        "\n",
        "splitting on education-num (score=0.00681146736515) with threshold 12.5 at pred ['age <= 58.5', 'age > 42.5', 'capital-gain <= 57.0', 'Workclass = 5']"
       ]
      },
      {
       "output_type": "stream",
       "stream": "stdout",
       "text": [
        "\n",
        "splitting on relationship (score=0.0131354108878) with threshold None at pred ['age <= 58.5', 'age > 42.5', 'capital-gain > 57.0']"
       ]
      },
      {
       "output_type": "stream",
       "stream": "stdout",
       "text": [
        "\n",
        "splitting on education (score=0.00896011437055) with threshold None at pred ['age <= 58.5', 'age > 42.5', 'capital-gain > 57.0', 'relationship = 0']\n",
        "splitting on capital-loss (score=0.019355065823) with threshold 1299.0 at pred ['age > 58.5']"
       ]
      },
      {
       "output_type": "stream",
       "stream": "stdout",
       "text": [
        "\n",
        "splitting on capital-gain (score=0.0125947270057) with threshold 1131.0 at pred ['age > 58.5', 'capital-loss <= 1299.0']"
       ]
      },
      {
       "output_type": "stream",
       "stream": "stdout",
       "text": [
        "\n",
        "splitting on relationship (score=0.0165530319389) with threshold None at pred ['age > 58.5', 'capital-loss <= 1299.0', 'capital-gain <= 1131.0']"
       ]
      },
      {
       "output_type": "stream",
       "stream": "stdout",
       "text": [
        "\n",
        "splitting on education (score=0.00764605043185) with threshold None at pred ['age > 58.5', 'capital-loss <= 1299.0', 'capital-gain <= 1131.0', 'relationship = 0']"
       ]
      },
      {
       "output_type": "stream",
       "stream": "stdout",
       "text": [
        "\n",
        "splitting on education-num (score=0.00979682593538) with threshold 12.5 at pred ['age > 58.5', 'capital-loss <= 1299.0', 'capital-gain > 1131.0']"
       ]
      },
      {
       "output_type": "stream",
       "stream": "stdout",
       "text": [
        "\n",
        "TRAINING WITH SENSITIVE FEATURE sex"
       ]
      },
      {
       "output_type": "stream",
       "stream": "stdout",
       "text": [
        "\n",
        "targets = ['predicted-income']\n",
        "contextual features = set(['Workclass', 'relationship', 'age', 'capital-gain', 'hours-per-week', 'race', 'native-country', 'education-num', 'capital-loss', 'education', 'marital-status', 'occupation'])\n",
        "dim = (2, 2)\n",
        "thresholds = {'education-num': [6.5, 8.5, 9.5, 10.5, 11.5, 12.5, 13.5, 14.5, 15.5], 'capital-loss': [106.5, 268.0, 371.0, 522.0, 639.0, 766.5, 927.0, 1033.0, 1175.0, 1299.0], 'age': [21.5, 24.5, 28.5, 32.5, 35.5, 39.5, 42.5, 46.5, 51.5, 58.5], 'capital-gain': [57.0, 257.5, 497.5, 754.0, 952.5, 1023.0, 1070.5, 1098.5, 1131.0, 1162.0]}"
       ]
      },
      {
       "output_type": "stream",
       "stream": "stdout",
       "text": [
        "\n",
        "splitting on education-num (score=0.0476168306331) with threshold 11.5 at pred []"
       ]
      },
      {
       "output_type": "stream",
       "stream": "stdout",
       "text": [
        "\n",
        "splitting on education-num (score=0.043129127137) with threshold 9.5 at pred ['education-num <= 11.5']"
       ]
      },
      {
       "output_type": "stream",
       "stream": "stdout",
       "text": [
        "\n",
        "splitting on occupation (score=0.0182578291803) with threshold None at pred ['education-num <= 11.5', 'education-num <= 9.5']"
       ]
      },
      {
       "output_type": "stream",
       "stream": "stdout",
       "text": [
        "\n",
        "splitting on age (score=0.00888757458424) with threshold 46.5 at pred ['education-num <= 11.5', 'education-num <= 9.5', 'occupation = 14']"
       ]
      },
      {
       "output_type": "stream",
       "stream": "stdout",
       "text": [
        "\n",
        "splitting on age (score=0.0297190814467) with threshold 39.5 at pred ['education-num <= 11.5', 'education-num <= 9.5', 'occupation = 7']"
       ]
      },
      {
       "output_type": "stream",
       "stream": "stdout",
       "text": [
        "\n",
        "splitting on age (score=0.0296407067375) with threshold 35.5 at pred ['education-num <= 11.5', 'education-num <= 9.5', 'occupation = 7', 'age <= 39.5']\n",
        "splitting on age (score=0.0180017832107) with threshold 46.5 at pred ['education-num <= 11.5', 'education-num <= 9.5', 'occupation = 7', 'age > 39.5']\n",
        "splitting on education-num (score=0.00780473736925) with threshold 6.5 at pred ['education-num <= 11.5', 'education-num <= 9.5', 'occupation = 0']"
       ]
      },
      {
       "output_type": "stream",
       "stream": "stdout",
       "text": [
        "\n",
        "splitting on age (score=0.0141909222328) with threshold 58.5 at pred ['education-num <= 11.5', 'education-num <= 9.5', 'occupation = 8']"
       ]
      },
      {
       "output_type": "stream",
       "stream": "stdout",
       "text": [
        "\n",
        "splitting on marital-status (score=0.00167605048216) with threshold None at pred ['education-num <= 11.5', 'education-num <= 9.5', 'occupation = 8', 'age <= 58.5']\n",
        "splitting on age (score=0.0279758722947) with threshold 46.5 at pred ['education-num <= 11.5', 'education-num <= 9.5', 'occupation = 1']"
       ]
      },
      {
       "output_type": "stream",
       "stream": "stdout",
       "text": [
        "\n",
        "splitting on age (score=0.015712607275) with threshold 28.5 at pred ['education-num <= 11.5', 'education-num <= 9.5', 'occupation = 1', 'age <= 46.5']\n",
        "splitting on hours-per-week (score=0.0403469225267) with threshold None at pred ['education-num <= 11.5', 'education-num <= 9.5', 'occupation = 1', 'age > 46.5']\n",
        "splitting on relationship (score=0.0103506890175) with threshold None at pred ['education-num <= 11.5', 'education-num <= 9.5', 'occupation = 6']"
       ]
      },
      {
       "output_type": "stream",
       "stream": "stdout",
       "text": [
        "\n",
        "splitting on age (score=0.00700743304995) with threshold 58.5 at pred ['education-num <= 11.5', 'education-num <= 9.5', 'occupation = 3']"
       ]
      },
      {
       "output_type": "stream",
       "stream": "stdout",
       "text": [
        "\n",
        "splitting on age (score=0.00319933147214) with threshold 32.5 at pred ['education-num <= 11.5', 'education-num <= 9.5', 'occupation = 3', 'age <= 58.5']"
       ]
      },
      {
       "output_type": "stream",
       "stream": "stdout",
       "text": [
        "\n",
        "splitting on age (score=0.00521935775709) with threshold 46.5 at pred ['education-num <= 11.5', 'education-num <= 9.5', 'occupation = 5']"
       ]
      },
      {
       "output_type": "stream",
       "stream": "stdout",
       "text": [
        "\n",
        "splitting on age (score=0.060694001007) with threshold 42.5 at pred ['education-num <= 11.5', 'education-num <= 9.5', 'occupation = 12']"
       ]
      },
      {
       "output_type": "stream",
       "stream": "stdout",
       "text": [
        "\n",
        "splitting on age (score=0.0389220609252) with threshold 35.5 at pred ['education-num <= 11.5', 'education-num <= 9.5', 'occupation = 12', 'age <= 42.5']"
       ]
      },
      {
       "output_type": "stream",
       "stream": "stdout",
       "text": [
        "\n",
        "splitting on age (score=0.046206465035) with threshold 51.5 at pred ['education-num <= 11.5', 'education-num <= 9.5', 'occupation = 12', 'age > 42.5']\n",
        "splitting on Workclass (score=0.0353355176364) with threshold None at pred ['education-num <= 11.5', 'education-num <= 9.5', 'occupation = 4']"
       ]
      },
      {
       "output_type": "stream",
       "stream": "stdout",
       "text": [
        "\n",
        "splitting on age (score=0.0451584238616) with threshold 42.5 at pred ['education-num <= 11.5', 'education-num <= 9.5', 'occupation = 4', 'Workclass = 4']\n",
        "splitting on age (score=0.0529349968872) with threshold 46.5 at pred ['education-num <= 11.5', 'education-num > 9.5']"
       ]
      },
      {
       "output_type": "stream",
       "stream": "stdout",
       "text": [
        "\n",
        "splitting on occupation (score=0.0126569717871) with threshold None at pred ['education-num <= 11.5', 'education-num > 9.5', 'age <= 46.5']"
       ]
      },
      {
       "output_type": "stream",
       "stream": "stdout",
       "text": [
        "\n",
        "splitting on age (score=0.0120675778942) with threshold 35.5 at pred ['education-num <= 11.5', 'education-num > 9.5', 'age <= 46.5', 'occupation = 10']\n",
        "splitting on age (score=0.0324152499096) with threshold 39.5 at pred ['education-num <= 11.5', 'education-num > 9.5', 'age <= 46.5', 'occupation = 12']"
       ]
      },
      {
       "output_type": "stream",
       "stream": "stdout",
       "text": [
        "\n",
        "splitting on age (score=0.00486362258027) with threshold 32.5 at pred ['education-num <= 11.5', 'education-num > 9.5', 'age <= 46.5', 'occupation = 13']\n",
        "splitting on age (score=0.0305683386559) with threshold 39.5 at pred ['education-num <= 11.5', 'education-num > 9.5', 'age <= 46.5', 'occupation = 4']"
       ]
      },
      {
       "output_type": "stream",
       "stream": "stdout",
       "text": [
        "\n",
        "splitting on education-num (score=0.0364800213306) with threshold 10.5 at pred ['education-num <= 11.5', 'education-num > 9.5', 'age <= 46.5', 'occupation = 1']"
       ]
      },
      {
       "output_type": "stream",
       "stream": "stdout",
       "text": [
        "\n",
        "splitting on age (score=0.0109303724218) with threshold 39.5 at pred ['education-num <= 11.5', 'education-num > 9.5', 'age <= 46.5', 'occupation = 3']\n",
        "splitting on age (score=0.00489440539491) with threshold 32.5 at pred ['education-num <= 11.5', 'education-num > 9.5', 'age <= 46.5', 'occupation = 8']"
       ]
      },
      {
       "output_type": "stream",
       "stream": "stdout",
       "text": [
        "\n",
        "splitting on age (score=0.00532529043445) with threshold 32.5 at pred ['education-num <= 11.5', 'education-num > 9.5', 'age <= 46.5', 'occupation = 7']\n",
        "splitting on education-num (score=0.0685250797068) with threshold 10.5 at pred ['education-num <= 11.5', 'education-num > 9.5', 'age > 46.5']"
       ]
      },
      {
       "output_type": "stream",
       "stream": "stdout",
       "text": [
        "\n",
        "splitting on occupation (score=0.0362812232266) with threshold None at pred ['education-num <= 11.5', 'education-num > 9.5', 'age > 46.5', 'education-num <= 10.5']"
       ]
      },
      {
       "output_type": "stream",
       "stream": "stdout",
       "text": [
        "\n",
        "splitting on age (score=0.0624116177869) with threshold 51.5 at pred ['education-num <= 11.5', 'education-num > 9.5', 'age > 46.5', 'education-num > 10.5']"
       ]
      },
      {
       "output_type": "stream",
       "stream": "stdout",
       "text": [
        "\n",
        "splitting on age (score=0.0543989807922) with threshold 51.5 at pred ['education-num > 11.5']"
       ]
      },
      {
       "output_type": "stream",
       "stream": "stdout",
       "text": [
        "\n",
        "splitting on age (score=0.0458988467334) with threshold 42.5 at pred ['education-num > 11.5', 'age <= 51.5']"
       ]
      },
      {
       "output_type": "stream",
       "stream": "stdout",
       "text": [
        "\n",
        "splitting on age (score=0.030742060374) with threshold 39.5 at pred ['education-num > 11.5', 'age <= 51.5', 'age <= 42.5']"
       ]
      },
      {
       "output_type": "stream",
       "stream": "stdout",
       "text": [
        "\n",
        "splitting on hours-per-week (score=0.0191538158123) with threshold None at pred ['education-num > 11.5', 'age <= 51.5', 'age <= 42.5', 'age <= 39.5']"
       ]
      },
      {
       "output_type": "stream",
       "stream": "stdout",
       "text": [
        "\n",
        "splitting on occupation (score=0.0388909881103) with threshold None at pred ['education-num > 11.5', 'age <= 51.5', 'age <= 42.5', 'age > 39.5']"
       ]
      },
      {
       "output_type": "stream",
       "stream": "stdout",
       "text": [
        "\n",
        "splitting on education-num (score=0.0538479402613) with threshold 13.5 at pred ['education-num > 11.5', 'age <= 51.5', 'age > 42.5']"
       ]
      },
      {
       "output_type": "stream",
       "stream": "stdout",
       "text": [
        "\n",
        "splitting on age (score=0.045260878251) with threshold 46.5 at pred ['education-num > 11.5', 'age <= 51.5', 'age > 42.5', 'education-num <= 13.5']"
       ]
      },
      {
       "output_type": "stream",
       "stream": "stdout",
       "text": [
        "\n",
        "splitting on occupation (score=0.0446227098257) with threshold None at pred ['education-num > 11.5', 'age <= 51.5', 'age > 42.5', 'education-num > 13.5']\n",
        "splitting on age (score=0.0568586543241) with threshold 58.5 at pred ['education-num > 11.5', 'age > 51.5']"
       ]
      },
      {
       "output_type": "stream",
       "stream": "stdout",
       "text": [
        "\n",
        "splitting on education-num (score=0.0727341970676) with threshold 13.5 at pred ['education-num > 11.5', 'age > 51.5', 'age <= 58.5']"
       ]
      },
      {
       "output_type": "stream",
       "stream": "stdout",
       "text": [
        "\n",
        "splitting on capital-gain (score=0.0307296850131) with threshold 57.0 at pred ['education-num > 11.5', 'age > 51.5', 'age > 58.5']"
       ]
      },
      {
       "output_type": "stream",
       "stream": "stdout",
       "text": [
        "\n",
        "splitting on education (score=0.0141670393239) with threshold None at pred ['education-num > 11.5', 'age > 51.5', 'age > 58.5', 'capital-gain <= 57.0']\n"
       ]
      }
     ],
     "prompt_number": 102
    },
    {
     "cell_type": "code",
     "collapsed": false,
     "input": [
      "imp.reload(api)\n",
      "imp.reload(tree_clustering)\n",
      "imp.reload(multitest)\n",
      "\n",
      "FT.test(X_test, y_test, prune_insignificant=False)"
     ],
     "language": "python",
     "metadata": {},
     "outputs": [
      {
       "output_type": "stream",
       "stream": "stdout",
       "text": [
        "{'race': [<fairtest.bugreport.clustering.tree_clustering.Cluster instance at 0x113dd93b0>, <fairtest.bugreport.clustering.tree_clustering.Cluster instance at 0x119eb2d40>, <fairtest.bugreport.clustering.tree_clustering.Cluster instance at 0x111447b00>, <fairtest.bugreport.clustering.tree_clustering.Cluster instance at 0x11141b248>, <fairtest.bugreport.clustering.tree_clustering.Cluster instance at 0x111447b48>, <fairtest.bugreport.clustering.tree_clustering.Cluster instance at 0x1113d3a28>, <fairtest.bugreport.clustering.tree_clustering.Cluster instance at 0x113d95908>, <fairtest.bugreport.clustering.tree_clustering.Cluster instance at 0x115c93950>, <fairtest.bugreport.clustering.tree_clustering.Cluster instance at 0x114fd0a70>, <fairtest.bugreport.clustering.tree_clustering.Cluster instance at 0x114fe2878>, <fairtest.bugreport.clustering.tree_clustering.Cluster instance at 0x114796320>, <fairtest.bugreport.clustering.tree_clustering.Cluster instance at 0x113b945f0>, <fairtest.bugreport.clustering.tree_clustering.Cluster instance at 0x119e86638>, <fairtest.bugreport.clustering.tree_clustering.Cluster instance at 0x114796b90>, <fairtest.bugreport.clustering.tree_clustering.Cluster instance at 0x113c39710>, <fairtest.bugreport.clustering.tree_clustering.Cluster instance at 0x117405c68>, <fairtest.bugreport.clustering.tree_clustering.Cluster instance at 0x1113dcdd0>, <fairtest.bugreport.clustering.tree_clustering.Cluster instance at 0x117405998>, <fairtest.bugreport.clustering.tree_clustering.Cluster instance at 0x11141e950>, <fairtest.bugreport.clustering.tree_clustering.Cluster instance at 0x1159de8c0>, <fairtest.bugreport.clustering.tree_clustering.Cluster instance at 0x1113dc998>, <fairtest.bugreport.clustering.tree_clustering.Cluster instance at 0x117d82f38>, <fairtest.bugreport.clustering.tree_clustering.Cluster instance at 0x113d96998>, <fairtest.bugreport.clustering.tree_clustering.Cluster instance at 0x113b956c8>, <fairtest.bugreport.clustering.tree_clustering.Cluster instance at 0x113cd03b0>, <fairtest.bugreport.clustering.tree_clustering.Cluster instance at 0x113cd0128>, <fairtest.bugreport.clustering.tree_clustering.Cluster instance at 0x111443170>, <fairtest.bugreport.clustering.tree_clustering.Cluster instance at 0x113cd0a28>, <fairtest.bugreport.clustering.tree_clustering.Cluster instance at 0x115c99d88>, <fairtest.bugreport.clustering.tree_clustering.Cluster instance at 0x114759710>, <fairtest.bugreport.clustering.tree_clustering.Cluster instance at 0x114fb4b48>, <fairtest.bugreport.clustering.tree_clustering.Cluster instance at 0x119eaa710>, <fairtest.bugreport.clustering.tree_clustering.Cluster instance at 0x119eaa4d0>, <fairtest.bugreport.clustering.tree_clustering.Cluster instance at 0x117d752d8>, <fairtest.bugreport.clustering.tree_clustering.Cluster instance at 0x113c243b0>, <fairtest.bugreport.clustering.tree_clustering.Cluster instance at 0x113cc63f8>, <fairtest.bugreport.clustering.tree_clustering.Cluster instance at 0x113f68518>, <fairtest.bugreport.clustering.tree_clustering.Cluster instance at 0x114fb37a0>, <fairtest.bugreport.clustering.tree_clustering.Cluster instance at 0x113f3a368>, <fairtest.bugreport.clustering.tree_clustering.Cluster instance at 0x113f6e560>, <fairtest.bugreport.clustering.tree_clustering.Cluster instance at 0x1178d0d88>, <fairtest.bugreport.clustering.tree_clustering.Cluster instance at 0x113cc65f0>, <fairtest.bugreport.clustering.tree_clustering.Cluster instance at 0x113f3a998>, <fairtest.bugreport.clustering.tree_clustering.Cluster instance at 0x117d75cb0>, <fairtest.bugreport.clustering.tree_clustering.Cluster instance at 0x113f68d88>, <fairtest.bugreport.clustering.tree_clustering.Cluster instance at 0x113f688c0>, <fairtest.bugreport.clustering.tree_clustering.Cluster instance at 0x1178d0128>, <fairtest.bugreport.clustering.tree_clustering.Cluster instance at 0x119d44710>, <fairtest.bugreport.clustering.tree_clustering.Cluster instance at 0x119d695f0>, <fairtest.bugreport.clustering.tree_clustering.Cluster instance at 0x1178d0e18>, <fairtest.bugreport.clustering.tree_clustering.Cluster instance at 0x113ba07a0>, <fairtest.bugreport.clustering.tree_clustering.Cluster instance at 0x113ab6950>, <fairtest.bugreport.clustering.tree_clustering.Cluster instance at 0x113c241b8>, <fairtest.bugreport.clustering.tree_clustering.Cluster instance at 0x119d69680>, <fairtest.bugreport.clustering.tree_clustering.Cluster instance at 0x119d440e0>, <fairtest.bugreport.clustering.tree_clustering.Cluster instance at 0x119d692d8>, <fairtest.bugreport.clustering.tree_clustering.Cluster instance at 0x114fb4680>, <fairtest.bugreport.clustering.tree_clustering.Cluster instance at 0x113ba0bd8>, <fairtest.bugreport.clustering.tree_clustering.Cluster instance at 0x113f6e128>, <fairtest.bugreport.clustering.tree_clustering.Cluster instance at 0x113f599e0>, <fairtest.bugreport.clustering.tree_clustering.Cluster instance at 0x113f59b90>, <fairtest.bugreport.clustering.tree_clustering.Cluster instance at 0x113b6b1b8>, <fairtest.bugreport.clustering.tree_clustering.Cluster instance at 0x113b6b290>, <fairtest.bugreport.clustering.tree_clustering.Cluster instance at 0x115c9ca28>, <fairtest.bugreport.clustering.tree_clustering.Cluster instance at 0x113b944d0>], 'sex': [<fairtest.bugreport.clustering.tree_clustering.Cluster instance at 0x113ba0fc8>, <fairtest.bugreport.clustering.tree_clustering.Cluster instance at 0x1178d0488>, <fairtest.bugreport.clustering.tree_clustering.Cluster instance at 0x113ba05f0>, <fairtest.bugreport.clustering.tree_clustering.Cluster instance at 0x113f59710>, <fairtest.bugreport.clustering.tree_clustering.Cluster instance at 0x113aea1b8>, <fairtest.bugreport.clustering.tree_clustering.Cluster instance at 0x113cc6ea8>, <fairtest.bugreport.clustering.tree_clustering.Cluster instance at 0x1174100e0>, <fairtest.bugreport.clustering.tree_clustering.Cluster instance at 0x113aeab90>, <fairtest.bugreport.clustering.tree_clustering.Cluster instance at 0x111412b90>, <fairtest.bugreport.clustering.tree_clustering.Cluster instance at 0x113aea9e0>, <fairtest.bugreport.clustering.tree_clustering.Cluster instance at 0x1173fd7e8>, <fairtest.bugreport.clustering.tree_clustering.Cluster instance at 0x1113e0b90>, <fairtest.bugreport.clustering.tree_clustering.Cluster instance at 0x116453cf8>, <fairtest.bugreport.clustering.tree_clustering.Cluster instance at 0x1173fd638>, <fairtest.bugreport.clustering.tree_clustering.Cluster instance at 0x1173fd1b8>, <fairtest.bugreport.clustering.tree_clustering.Cluster instance at 0x111412c20>, <fairtest.bugreport.clustering.tree_clustering.Cluster instance at 0x113aea290>, <fairtest.bugreport.clustering.tree_clustering.Cluster instance at 0x1114125a8>, <fairtest.bugreport.clustering.tree_clustering.Cluster instance at 0x1113e0cf8>, <fairtest.bugreport.clustering.tree_clustering.Cluster instance at 0x1164538c0>, <fairtest.bugreport.clustering.tree_clustering.Cluster instance at 0x111412050>, <fairtest.bugreport.clustering.tree_clustering.Cluster instance at 0x113ab6c20>, <fairtest.bugreport.clustering.tree_clustering.Cluster instance at 0x116453710>, <fairtest.bugreport.clustering.tree_clustering.Cluster instance at 0x111412320>, <fairtest.bugreport.clustering.tree_clustering.Cluster instance at 0x1164536c8>, <fairtest.bugreport.clustering.tree_clustering.Cluster instance at 0x12f110f80>, <fairtest.bugreport.clustering.tree_clustering.Cluster instance at 0x113d51d88>, <fairtest.bugreport.clustering.tree_clustering.Cluster instance at 0x116453b48>, <fairtest.bugreport.clustering.tree_clustering.Cluster instance at 0x113aeac68>, <fairtest.bugreport.clustering.tree_clustering.Cluster instance at 0x116453ea8>, <fairtest.bugreport.clustering.tree_clustering.Cluster instance at 0x12f110638>, <fairtest.bugreport.clustering.tree_clustering.Cluster instance at 0x116453a70>, <fairtest.bugreport.clustering.tree_clustering.Cluster instance at 0x117410830>, <fairtest.bugreport.clustering.tree_clustering.Cluster instance at 0x12f110710>, <fairtest.bugreport.clustering.tree_clustering.Cluster instance at 0x113d518c0>, <fairtest.bugreport.clustering.tree_clustering.Cluster instance at 0x11478b4d0>, <fairtest.bugreport.clustering.tree_clustering.Cluster instance at 0x1173fd050>, <fairtest.bugreport.clustering.tree_clustering.Cluster instance at 0x113d51710>, <fairtest.bugreport.clustering.tree_clustering.Cluster instance at 0x11478b290>, <fairtest.bugreport.clustering.tree_clustering.Cluster instance at 0x12f110a70>, <fairtest.bugreport.clustering.tree_clustering.Cluster instance at 0x113d51c20>, <fairtest.bugreport.clustering.tree_clustering.Cluster instance at 0x113d90d40>, <fairtest.bugreport.clustering.tree_clustering.Cluster instance at 0x113d51998>, <fairtest.bugreport.clustering.tree_clustering.Cluster instance at 0x11478bef0>, <fairtest.bugreport.clustering.tree_clustering.Cluster instance at 0x11478bab8>, <fairtest.bugreport.clustering.tree_clustering.Cluster instance at 0x113d51b00>, <fairtest.bugreport.clustering.tree_clustering.Cluster instance at 0x113d90cf8>, <fairtest.bugreport.clustering.tree_clustering.Cluster instance at 0x113d90c68>, <fairtest.bugreport.clustering.tree_clustering.Cluster instance at 0x113d90368>, <fairtest.bugreport.clustering.tree_clustering.Cluster instance at 0x113d516c8>, <fairtest.bugreport.clustering.tree_clustering.Cluster instance at 0x113d51680>, <fairtest.bugreport.clustering.tree_clustering.Cluster instance at 0x113d90170>, <fairtest.bugreport.clustering.tree_clustering.Cluster instance at 0x11478bfc8>, <fairtest.bugreport.clustering.tree_clustering.Cluster instance at 0x113d5e320>, <fairtest.bugreport.clustering.tree_clustering.Cluster instance at 0x113d5e758>, <fairtest.bugreport.clustering.tree_clustering.Cluster instance at 0x113d90b00>, <fairtest.bugreport.clustering.tree_clustering.Cluster instance at 0x115c9ccf8>, <fairtest.bugreport.clustering.tree_clustering.Cluster instance at 0x1113e0d88>, <fairtest.bugreport.clustering.tree_clustering.Cluster instance at 0x114fb0a70>, <fairtest.bugreport.clustering.tree_clustering.Cluster instance at 0x114fb0e60>, <fairtest.bugreport.clustering.tree_clustering.Cluster instance at 0x1173fd560>, <fairtest.bugreport.clustering.tree_clustering.Cluster instance at 0x113d99d40>, <fairtest.bugreport.clustering.tree_clustering.Cluster instance at 0x113d90248>, <fairtest.bugreport.clustering.tree_clustering.Cluster instance at 0x113a65e60>, <fairtest.bugreport.clustering.tree_clustering.Cluster instance at 0x113d99c68>, <fairtest.bugreport.clustering.tree_clustering.Cluster instance at 0x114fb0440>, <fairtest.bugreport.clustering.tree_clustering.Cluster instance at 0x117407638>, <fairtest.bugreport.clustering.tree_clustering.Cluster instance at 0x114fb05f0>, <fairtest.bugreport.clustering.tree_clustering.Cluster instance at 0x11478b8c0>, <fairtest.bugreport.clustering.tree_clustering.Cluster instance at 0x114faf3b0>, <fairtest.bugreport.clustering.tree_clustering.Cluster instance at 0x114faf3f8>, <fairtest.bugreport.clustering.tree_clustering.Cluster instance at 0x114faf098>, <fairtest.bugreport.clustering.tree_clustering.Cluster instance at 0x114faf200>, <fairtest.bugreport.clustering.tree_clustering.Cluster instance at 0x114fafef0>, <fairtest.bugreport.clustering.tree_clustering.Cluster instance at 0x117407a28>, <fairtest.bugreport.clustering.tree_clustering.Cluster instance at 0x117407830>, <fairtest.bugreport.clustering.tree_clustering.Cluster instance at 0x113aceab8>, <fairtest.bugreport.clustering.tree_clustering.Cluster instance at 0x113ace998>, <fairtest.bugreport.clustering.tree_clustering.Cluster instance at 0x114faf320>, <fairtest.bugreport.clustering.tree_clustering.Cluster instance at 0x1113d9560>, <fairtest.bugreport.clustering.tree_clustering.Cluster instance at 0x1113d9908>, <fairtest.bugreport.clustering.tree_clustering.Cluster instance at 0x1113d9c68>, <fairtest.bugreport.clustering.tree_clustering.Cluster instance at 0x1113d9128>, <fairtest.bugreport.clustering.tree_clustering.Cluster instance at 0x114fafa70>, <fairtest.bugreport.clustering.tree_clustering.Cluster instance at 0x1113d90e0>, <fairtest.bugreport.clustering.tree_clustering.Cluster instance at 0x114faf758>, <fairtest.bugreport.clustering.tree_clustering.Cluster instance at 0x1113d9368>, <fairtest.bugreport.clustering.tree_clustering.Cluster instance at 0x114fb89e0>, <fairtest.bugreport.clustering.tree_clustering.Cluster instance at 0x1113d95a8>, <fairtest.bugreport.clustering.tree_clustering.Cluster instance at 0x114fb86c8>, <fairtest.bugreport.clustering.tree_clustering.Cluster instance at 0x114fb83f8>, <fairtest.bugreport.clustering.tree_clustering.Cluster instance at 0x1113d9098>, <fairtest.bugreport.clustering.tree_clustering.Cluster instance at 0x114fafb48>, <fairtest.bugreport.clustering.tree_clustering.Cluster instance at 0x114fb0518>, <fairtest.bugreport.clustering.tree_clustering.Cluster instance at 0x111441cf8>, <fairtest.bugreport.clustering.tree_clustering.Cluster instance at 0x111441518>, <fairtest.bugreport.clustering.tree_clustering.Cluster instance at 0x113d5e488>, <fairtest.bugreport.clustering.tree_clustering.Cluster instance at 0x114fb06c8>, <fairtest.bugreport.clustering.tree_clustering.Cluster instance at 0x1178c7998>, <fairtest.bugreport.clustering.tree_clustering.Cluster instance at 0x114fb8908>, <fairtest.bugreport.clustering.tree_clustering.Cluster instance at 0x114fb0c20>, <fairtest.bugreport.clustering.tree_clustering.Cluster instance at 0x111441998>, <fairtest.bugreport.clustering.tree_clustering.Cluster instance at 0x113adf7e8>, <fairtest.bugreport.clustering.tree_clustering.Cluster instance at 0x1178c7638>, <fairtest.bugreport.clustering.tree_clustering.Cluster instance at 0x111441758>, <fairtest.bugreport.clustering.tree_clustering.Cluster instance at 0x1178c7cb0>, <fairtest.bugreport.clustering.tree_clustering.Cluster instance at 0x1114413b0>, <fairtest.bugreport.clustering.tree_clustering.Cluster instance at 0x1178c7050>, <fairtest.bugreport.clustering.tree_clustering.Cluster instance at 0x1178c75f0>, <fairtest.bugreport.clustering.tree_clustering.Cluster instance at 0x113adfcb0>, <fairtest.bugreport.clustering.tree_clustering.Cluster instance at 0x113adfab8>, <fairtest.bugreport.clustering.tree_clustering.Cluster instance at 0x1114208c0>, <fairtest.bugreport.clustering.tree_clustering.Cluster instance at 0x113adfe18>, <fairtest.bugreport.clustering.tree_clustering.Cluster instance at 0x111441200>, <fairtest.bugreport.clustering.tree_clustering.Cluster instance at 0x114fc1f80>, <fairtest.bugreport.clustering.tree_clustering.Cluster instance at 0x1178c79e0>, <fairtest.bugreport.clustering.tree_clustering.Cluster instance at 0x111441320>, <fairtest.bugreport.clustering.tree_clustering.Cluster instance at 0x114fc1a70>, <fairtest.bugreport.clustering.tree_clustering.Cluster instance at 0x114fc1cf8>, <fairtest.bugreport.clustering.tree_clustering.Cluster instance at 0x114fc1dd0>, <fairtest.bugreport.clustering.tree_clustering.Cluster instance at 0x1159df638>]}\n"
       ]
      }
     ],
     "prompt_number": 103
    },
    {
     "cell_type": "code",
     "collapsed": false,
     "input": [
      "imp.reload(display)\n",
      "FT.report(None, encoders=encoders)"
     ],
     "language": "python",
     "metadata": {},
     "outputs": [
      {
       "output_type": "stream",
       "stream": "stdout",
       "text": [
        "Global Population of size 24421\n",
        "\n",
        "+------------------+--------------------+--------------------+--------------+-------------+---------------+----------------+\n",
        "| predicted-income | Amer-Indian-Eskimo | Asian-Pac-Islander |    Black     |    Other    |     White     |     Total      |\n",
        "+------------------+--------------------+--------------------+--------------+-------------+---------------+----------------+\n",
        "|      <=50K       |    211 (88.3%)     |    556 (73.0%)     | 2061 (87.8%) | 165 (88.2%) | 15647 (74.9%) | 18640 (76.3%)  |\n",
        "|       >50K       |     28 (11.7%)     |    206 (27.0%)     | 287 (12.2%)  |  22 (11.8%) |  5238 (25.1%) |  5781 (23.7%)  |\n",
        "|      Total       |     239 (1.0%)     |     762 (3.1%)     | 2348 (9.6%)  |  187 (0.8%) | 20885 (85.5%) | 24421 (100.0%) |\n",
        "+------------------+--------------------+--------------------+--------------+-------------+---------------+----------------+\n",
        "\n",
        "p-value = 1.82e-53 ; NMI = [0.0059, 0.0148]\n",
        "================================================================================\n",
        "\n",
        "Sub-Population of size 358\n",
        "Context = {'age': (-inf, 42.5], 'Workclass': 'Federal-gov'}\n",
        "\n",
        "+------------------+--------------------+--------------------+------------+-----------+-------------+--------------+\n",
        "| predicted-income | Amer-Indian-Eskimo | Asian-Pac-Islander |   Black    |   Other   |    White    |    Total     |\n",
        "+------------------+--------------------+--------------------+------------+-----------+-------------+--------------+\n",
        "|      <=50K       |     9 (100.0%)     |     10 (71.4%)     | 65 (91.5%) | 5 (83.3%) | 162 (62.8%) | 251 (70.1%)  |\n",
        "|       >50K       |      0 (0.0%)      |     4 (28.6%)      |  6 (8.5%)  | 1 (16.7%) |  96 (37.2%) | 107 (29.9%)  |\n",
        "|      Total       |      9 (2.5%)      |     14 (3.9%)      | 71 (19.8%) |  6 (1.7%) | 258 (72.1%) | 358 (100.0%) |\n",
        "+------------------+--------------------+--------------------+------------+-----------+-------------+--------------+\n",
        "\n",
        "p-value = 1.73e-04 ; NMI = [0.0146, 0.1946]\n",
        "--------------------------------------------------------------------------------\n",
        "\n",
        "Sub-Population of size 4554\n",
        "Context = {'age': (32.5, 42.5], 'Workclass': 'Private'}\n",
        "\n",
        "+------------------+--------------------+--------------------+-------------+------------+--------------+---------------+\n",
        "| predicted-income | Amer-Indian-Eskimo | Asian-Pac-Islander |    Black    |   Other    |    White     |     Total     |\n",
        "+------------------+--------------------+--------------------+-------------+------------+--------------+---------------+\n",
        "|      <=50K       |     29 (80.6%)     |     96 (64.4%)     | 397 (87.6%) | 27 (81.8%) | 2662 (68.6%) |  3211 (70.5%) |\n",
        "|       >50K       |     7 (19.4%)      |     53 (35.6%)     |  56 (12.4%) | 6 (18.2%)  | 1221 (31.4%) |  1343 (29.5%) |\n",
        "|      Total       |     36 (0.8%)      |     149 (3.3%)     |  453 (9.9%) | 33 (0.7%)  | 3883 (85.3%) | 4554 (100.0%) |\n",
        "+------------------+--------------------+--------------------+-------------+------------+--------------+---------------+"
       ]
      },
      {
       "output_type": "stream",
       "stream": "stdout",
       "text": [
        "\n",
        "\n",
        "p-value = 3.54e-16 ; NMI = [0.0069, 0.0337]\n",
        "--------------------------------------------------------------------------------\n",
        "\n",
        "Hierarchical printing of subpopulations (summary)\n",
        "\n",
        "================================================================================\n",
        "\n",
        " Context = {} ; CI = [0.0059, 0.0148]\n",
        "   Context = {'age': (32.5, 42.5], 'Workclass': 'Private'} ; CI = [0.0069, 0.0337]\n",
        "   Context = {'age': (-inf, 42.5], 'Workclass': 'Federal-gov'} ; CI = [0.0146, 0.1946]\n",
        "--------------------------------------------------------------------------------\n",
        "\n",
        "Global Population of size 24421\n",
        "\n",
        "+------------------+--------------+---------------+----------------+\n",
        "| predicted-income |    Female    |      Male     |     Total      |\n",
        "+------------------+--------------+---------------+----------------+\n",
        "|      <=50K       | 7218 (89.2%) | 11422 (70.0%) | 18640 (76.3%)  |\n",
        "|       >50K       | 876 (10.8%)  |  4905 (30.0%) |  5781 (23.7%)  |\n",
        "|      Total       | 8094 (33.1%) | 16327 (66.9%) | 24421 (100.0%) |\n",
        "+------------------+--------------+---------------+----------------+\n",
        "\n",
        "p-value = 1.86e-178 ; NMI = [0.0363, 0.0558]\n",
        "================================================================================\n",
        "\n",
        "Sub-Population of size 6791\n",
        "Context = {'education-num': (11.5, inf)}\n",
        "\n",
        "+------------------+--------------+--------------+---------------+\n",
        "| predicted-income |    Female    |     Male     |     Total     |\n",
        "+------------------+--------------+--------------+---------------+\n",
        "|      <=50K       | 1594 (76.4%) | 2156 (45.8%) |  3750 (55.2%) |\n",
        "|       >50K       | 492 (23.6%)  | 2549 (54.2%) |  3041 (44.8%) |\n",
        "|      Total       | 2086 (30.7%) | 4705 (69.3%) | 6791 (100.0%) |\n",
        "+------------------+--------------+--------------+---------------+\n",
        "\n",
        "p-value = 4.81e-124 ; NMI = [0.0487, 0.0907]\n",
        "--------------------------------------------------------------------------------\n",
        "\n",
        "Sub-Population of size 1371\n",
        "Context = {'education-num': (9.5, 11.5], 'age': (46.5, inf)}\n",
        "\n",
        "+------------------+-------------+-------------+---------------+\n",
        "| predicted-income |    Female   |     Male    |     Total     |\n",
        "+------------------+-------------+-------------+---------------+\n",
        "|      <=50K       | 423 (88.1%) | 497 (55.8%) |  920 (67.1%)  |\n",
        "|       >50K       |  57 (11.9%) | 394 (44.2%) |  451 (32.9%)  |\n",
        "|      Total       | 480 (35.0%) | 891 (65.0%) | 1371 (100.0%) |\n",
        "+------------------+-------------+-------------+---------------+\n",
        "\n",
        "p-value = 2.94e-35 ; NMI = [0.0484, 0.1557]\n",
        "--------------------------------------------------------------------------------\n",
        "\n",
        "Sub-Population of size 1054\n",
        "Context = {'education-num': (-inf, 9.5], 'occupation': 'Sales'}\n",
        "\n",
        "+------------------+-------------+-------------+---------------+\n",
        "| predicted-income |    Female   |     Male    |     Total     |\n",
        "+------------------+-------------+-------------+---------------+\n",
        "|      <=50K       | 464 (95.5%) | 416 (73.2%) |  880 (83.5%)  |\n",
        "|       >50K       |  22 (4.5%)  | 152 (26.8%) |  174 (16.5%)  |\n",
        "|      Total       | 486 (46.1%) | 568 (53.9%) | 1054 (100.0%) |\n",
        "+------------------+-------------+-------------+---------------+\n",
        "\n",
        "p-value = 1.71e-22 ; NMI = [0.0469, 0.2042]\n",
        "--------------------------------------------------------------------------------\n",
        "\n",
        "Sub-Population of size 654\n",
        "Context = {'education-num': (9.5, 11.5], 'age': (-inf, 46.5], 'occupation': 'Sales'}\n",
        "\n",
        "+------------------+-------------+-------------+--------------+\n",
        "| predicted-income |    Female   |     Male    |    Total     |\n",
        "+------------------+-------------+-------------+--------------+\n",
        "|      <=50K       | 262 (97.0%) | 287 (74.7%) | 549 (83.9%)  |\n",
        "|       >50K       |   8 (3.0%)  |  97 (25.3%) | 105 (16.1%)  |\n",
        "|      Total       | 270 (41.3%) | 384 (58.7%) | 654 (100.0%) |\n",
        "+------------------+-------------+-------------+--------------+\n",
        "\n",
        "p-value = 8.97e-15 ; NMI = [0.0399, 0.2490]\n",
        "--------------------------------------------------------------------------------\n",
        "\n",
        "Sub-Population of size 6469\n",
        "Context = {'education-num': (9.5, 11.5]}\n",
        "\n",
        "+------------------+--------------+--------------+---------------+\n",
        "| predicted-income |    Female    |     Male     |     Total     |\n",
        "+------------------+--------------+--------------+---------------+\n",
        "|      <=50K       | 2256 (92.1%) | 2942 (73.2%) |  5198 (80.4%) |\n",
        "|       >50K       |  193 (7.9%)  | 1078 (26.8%) |  1271 (19.6%) |\n",
        "|      Total       | 2449 (37.9%) | 4020 (62.1%) | 6469 (100.0%) |\n",
        "+------------------+--------------+--------------+---------------+"
       ]
      },
      {
       "output_type": "stream",
       "stream": "stdout",
       "text": [
        "\n",
        "\n",
        "p-value = 2.07e-83 ; NMI = [0.0397, 0.0845]\n",
        "--------------------------------------------------------------------------------\n",
        "\n",
        "Hierarchical printing of subpopulations (summary)\n",
        "\n",
        "================================================================================\n",
        "\n",
        " Context = {} ; CI = [0.0363, 0.0558]\n",
        "   Context = {'education-num': (-inf, 9.5], 'occupation': 'Sales'} ; CI = [0.0469, 0.2042]\n",
        "   Context = {'education-num': (9.5, 11.5]} ; CI = [0.0397, 0.0845]\n",
        "     Context = {'education-num': (9.5, 11.5], 'age': (-inf, 46.5], 'occupation': 'Sales'} ; CI = [0.0399, 0.2490]\n",
        "     Context = {'education-num': (9.5, 11.5], 'age': (46.5, inf)} ; CI = [0.0484, 0.1557]\n",
        "   Context = {'education-num': (11.5, inf)} ; CI = [0.0487, 0.0907]\n",
        "--------------------------------------------------------------------------------\n",
        "\n"
       ]
      }
     ],
     "prompt_number": 104
    },
    {
     "cell_type": "code",
     "collapsed": false,
     "input": [
      "import fairtest.bugreport.api2 as api2\n",
      "imp.reload(api2)\n",
      "\n",
      "'''\n",
      "data = pd.read_csv(\n",
      "            '../data/adult/adult.csv',\n",
      "            header=0,\n",
      "            sep=r'\\s*,\\s*',\n",
      "            engine='python',\n",
      "            na_values=\"?\")\n",
      "data = data.drop('fnlwgt', axis=1)\n",
      "#data['hours-per-week'] = map(lambda x: '\u226540' if x>=40 else '<40', data['hours-per-week'])\n",
      "TARGET = 'predicted-income'\n",
      "SENS = ['race']\n",
      "EXPL = []\n",
      "'''\n",
      "\n",
      "data = pd.read_csv(\n",
      "            '../data/staples/staples.csv',\n",
      "            header=0,\n",
      "            sep=r'\\s*,\\s*',\n",
      "            engine='python',\n",
      "            na_values=\"?\")\n",
      "data = data.drop('zipcode', axis=1)\n",
      "data = data.drop('distance', axis=1)\n",
      "TARGET = 'price'\n",
      "SENS = ['income']\n",
      "EXPL = []\n",
      "\n",
      "'''\n",
      "data = pd.read_csv(\n",
      "            #'../data/images/lfw_black-white.txt',\n",
      "            '../data/images/overfeat_raw.txt',\n",
      "            header=0,\n",
      "            sep=r'\\s*\\t\\s*',\n",
      "            engine='python',\n",
      "            na_values=\"?\")\n",
      "TARGET = 'Labels'\n",
      "SENS = ['Race']\n",
      "EXPL = []\n",
      "labeled_data = map(lambda s: ast.literal_eval(s), data[TARGET])\n",
      "label_encoder = preprocessing.MultiLabelBinarizer()\n",
      "labeled_data = label_encoder.fit_transform(labeled_data)\n",
      "labels = label_encoder.classes_\n",
      "df_labels = pd.DataFrame(labeled_data, columns=labels)\n",
      "data = pd.concat([data.drop(TARGET, axis=1), df_labels], axis=1)\n",
      "TARGET = labels.tolist()\n",
      "'''\n",
      "\n",
      "measures = {}\n",
      "exp = api2.Experiment(data, SENS, TARGET, EXPL, train_size=0.25, measures=measures, random_state=RANDOM_SEED)"
     ],
     "language": "python",
     "metadata": {},
     "outputs": [],
     "prompt_number": 6
    },
    {
     "cell_type": "code",
     "collapsed": false,
     "input": [
      "imp.reload(fm)\n",
      "imp.reload(cat_tree)\n",
      "exp.train()"
     ],
     "language": "python",
     "metadata": {},
     "outputs": [
      {
       "output_type": "stream",
       "stream": "stdout",
       "text": [
        "TRAINING WITH SENSITIVE FEATURE income\n"
       ]
      }
     ],
     "prompt_number": 7
    },
    {
     "cell_type": "code",
     "collapsed": false,
     "input": [
      "imp.reload(multitest)\n",
      "exp.test(approx_stats=False)"
     ],
     "language": "python",
     "metadata": {},
     "outputs": [],
     "prompt_number": 13
    },
    {
     "cell_type": "code",
     "collapsed": false,
     "input": [
      "imp.reload(display)\n",
      "exp.report('adult.csv', None)"
     ],
     "language": "python",
     "metadata": {},
     "outputs": [
      {
       "output_type": "stream",
       "stream": "stdout",
       "text": [
        "================================================================================\n",
        "Commit Hash: \td92df066c9f3d00e47ee0478f3cdbb5478c82e25\n",
        "\n",
        "Dataset: adult.csv\n",
        "Train Size: 247217\n",
        "Test Size: 741654\n",
        "S: ['income']\n",
        "X: ['city', 'state', 'race', 'gender']\n",
        "E: None\n",
        "O: ['price']\n",
        "\n",
        "Train Params: \t{'max_bins': 10, 'min_leaf_size': 100, 'max_depth': 5, 'agg_type': 'avg'}\n",
        "Test Params: \t{'prune_insignificant': True, 'approx': False, 'fdr': 0.05}\n",
        "Report Params: \t{'filter_by': 'better_than_ancestors', 'sort_by': 'effect'}\n",
        "================================================================================\n",
        "\n",
        "Global Population of size 741654\n",
        "\n",
        "+-------+----------------+----------------+-----------------+\n",
        "| price |  income < 50K  | income >= 50K  |      Total      |\n",
        "+-------+----------------+----------------+-----------------+\n",
        "|  high |  22897 (6.1%)  |  20717 (5.6%)  |   43614 (5.9%)  |\n",
        "|  low  | 351564 (93.9%) | 346476 (94.4%) |  698040 (94.1%) |\n",
        "| Total | 374461 (50.5%) | 367193 (49.5%) | 741654 (100.0%) |\n",
        "+-------+----------------+----------------+-----------------+\n",
        "\n",
        "p-value = 1.36e-16 ; NMI = [0.0001, 0.0004]\n",
        "================================================================================\n",
        "\n",
        "Sub-Population of size 35207\n",
        "Context = {'state': 'CA', 'race': 'White Not Hispanic or Latino'}\n",
        "\n",
        "+-------+---------------+---------------+----------------+\n",
        "| price |  income < 50K | income >= 50K |     Total      |\n",
        "+-------+---------------+---------------+----------------+\n",
        "|  high |   878 (7.6%)  |  1038 (4.4%)  |  1916 (5.4%)   |\n",
        "|  low  | 10677 (92.4%) | 22614 (95.6%) | 33291 (94.6%)  |\n",
        "| Total | 11555 (32.8%) | 23652 (67.2%) | 35207 (100.0%) |\n",
        "+-------+---------------+---------------+----------------+\n",
        "\n",
        "p-value = 1.50e-32 ; NMI = [0.0054, 0.0159]\n",
        "--------------------------------------------------------------------------------\n",
        "\n",
        "Sub-Population of size 26712\n",
        "Context = {'state': 'NY', 'race': 'White Not Hispanic or Latino'}\n",
        "\n",
        "+-------+---------------+---------------+----------------+\n",
        "| price |  income < 50K | income >= 50K |     Total      |\n",
        "+-------+---------------+---------------+----------------+\n",
        "|  high |  1516 (15.0%) |  1599 (9.6%)  |  3115 (11.7%)  |\n",
        "|  low  |  8590 (85.0%) | 15007 (90.4%) | 23597 (88.3%)  |\n",
        "| Total | 10106 (37.8%) | 16606 (62.2%) | 26712 (100.0%) |\n",
        "+-------+---------------+---------------+----------------+\n",
        "\n",
        "p-value = 9.80e-38 ; NMI = [0.0052, 0.0136]\n",
        "--------------------------------------------------------------------------------\n",
        "\n",
        "Sub-Population of size 7131\n",
        "Context = {'state': 'NY', 'race': 'Black or African American'}\n",
        "\n",
        "+-------+--------------+---------------+---------------+\n",
        "| price | income < 50K | income >= 50K |     Total     |\n",
        "+-------+--------------+---------------+---------------+\n",
        "|  high |  105 (2.5%)  |   25 (0.8%)   |   130 (1.8%)  |\n",
        "|  low  | 4036 (97.5%) |  2965 (99.2%) |  7001 (98.2%) |\n",
        "| Total | 4141 (58.1%) |  2990 (41.9%) | 7131 (100.0%) |\n",
        "+-------+--------------+---------------+---------------+\n",
        "\n",
        "p-value = 4.24e-07 ; NMI = [0.0047, 0.0511]\n",
        "--------------------------------------------------------------------------------\n",
        "\n",
        "Sub-Population of size 4152\n",
        "Context = {'state': 'MD', 'race': 'Black or African American'}\n",
        "\n",
        "+-------+--------------+---------------+---------------+\n",
        "| price | income < 50K | income >= 50K |     Total     |\n",
        "+-------+--------------+---------------+---------------+\n",
        "|  high |  100 (5.0%)  |   42 (2.0%)   |   142 (3.4%)  |\n",
        "|  low  | 1914 (95.0%) |  2096 (98.0%) |  4010 (96.6%) |\n",
        "| Total | 2014 (48.5%) |  2138 (51.5%) | 4152 (100.0%) |\n",
        "+-------+--------------+---------------+---------------+"
       ]
      },
      {
       "output_type": "stream",
       "stream": "stdout",
       "text": [
        "\n",
        "\n",
        "p-value = 9.62e-07 ; NMI = [0.0043, 0.0549]\n",
        "--------------------------------------------------------------------------------\n",
        "\n",
        "Sub-Population of size 5664\n",
        "Context = {'gender': 'F', 'state': 'WA', 'race': 'White Not Hispanic or Latino'}\n",
        "\n",
        "+-------+--------------+---------------+---------------+\n",
        "| price | income < 50K | income >= 50K |     Total     |\n",
        "+-------+--------------+---------------+---------------+\n",
        "|  high | 298 (13.5%)  |   285 (8.3%)  |  583 (10.3%)  |\n",
        "|  low  | 1917 (86.5%) |  3164 (91.7%) |  5081 (89.7%) |\n",
        "| Total | 2215 (39.1%) |  3449 (60.9%) | 5664 (100.0%) |\n",
        "+-------+--------------+---------------+---------------+\n",
        "\n",
        "p-value = 1.11e-08 ; NMI = [0.0026, 0.0233]\n",
        "--------------------------------------------------------------------------------\n",
        "\n",
        "Sub-Population of size 33789\n",
        "Context = {'state': 'CA', 'race': 'Hispanic or Latino'}\n",
        "\n",
        "+-------+---------------+---------------+----------------+\n",
        "| price |  income < 50K | income >= 50K |     Total      |\n",
        "+-------+---------------+---------------+----------------+\n",
        "|  high |  1118 (4.7%)  |   292 (2.9%)  |  1410 (4.2%)   |\n",
        "|  low  | 22657 (95.3%) |  9722 (97.1%) | 32379 (95.8%)  |\n",
        "| Total | 23775 (70.4%) | 10014 (29.6%) | 33789 (100.0%) |\n",
        "+-------+---------------+---------------+----------------+\n",
        "\n",
        "p-value = 2.16e-13 ; NMI = [0.0018, 0.0095]\n",
        "--------------------------------------------------------------------------------\n",
        "\n",
        "Sub-Population of size 5346\n",
        "Context = {'state': 'CA', 'race': 'Black or African American'}\n",
        "\n",
        "+-------+--------------+---------------+---------------+\n",
        "| price | income < 50K | income >= 50K |     Total     |\n",
        "+-------+--------------+---------------+---------------+\n",
        "|  high |  92 (3.0%)   |   28 (1.2%)   |   120 (2.2%)  |\n",
        "|  low  | 2937 (97.0%) |  2289 (98.8%) |  5226 (97.8%) |\n",
        "| Total | 3029 (56.7%) |  2317 (43.3%) | 5346 (100.0%) |\n",
        "+-------+--------------+---------------+---------------+\n",
        "\n",
        "p-value = 3.33e-05 ; NMI = [0.0018, 0.0450]\n",
        "--------------------------------------------------------------------------------\n",
        "\n",
        "Sub-Population of size 13882\n",
        "Context = {'gender': 'F', 'state': 'TX', 'race': 'White Not Hispanic or Latino'}\n",
        "\n",
        "+-------+--------------+---------------+----------------+\n",
        "| price | income < 50K | income >= 50K |     Total      |\n",
        "+-------+--------------+---------------+----------------+\n",
        "|  high |  205 (3.9%)  |   189 (2.2%)  |   394 (2.8%)   |\n",
        "|  low  | 5074 (96.1%) |  8414 (97.8%) | 13488 (97.2%)  |\n",
        "| Total | 5279 (38.0%) |  8603 (62.0%) | 13882 (100.0%) |\n",
        "+-------+--------------+---------------+----------------+\n",
        "\n",
        "p-value = 1.73e-07 ; NMI = [0.0018, 0.0210]\n",
        "--------------------------------------------------------------------------------\n",
        "\n",
        "Sub-Population of size 27452\n",
        "Context = {'state': 'TX', 'race': 'White Not Hispanic or Latino'}\n",
        "\n",
        "+-------+---------------+---------------+----------------+\n",
        "| price |  income < 50K | income >= 50K |     Total      |\n",
        "+-------+---------------+---------------+----------------+\n",
        "|  high |   401 (3.8%)  |   406 (2.4%)  |   807 (2.9%)   |\n",
        "|  low  | 10109 (96.2%) | 16536 (97.6%) | 26645 (97.1%)  |\n",
        "| Total | 10510 (38.3%) | 16942 (61.7%) | 27452 (100.0%) |\n",
        "+-------+---------------+---------------+----------------+\n",
        "\n",
        "p-value = 5.44e-10 ; NMI = [0.0016, 0.0134]\n",
        "--------------------------------------------------------------------------------\n",
        "\n",
        "Sub-Population of size 11420\n",
        "Context = {'state': 'WA', 'race': 'White Not Hispanic or Latino'}\n",
        "\n",
        "+-------+--------------+---------------+----------------+\n",
        "| price | income < 50K | income >= 50K |     Total      |\n",
        "+-------+--------------+---------------+----------------+\n",
        "|  high | 572 (12.8%)  |   613 (8.8%)  |  1185 (10.4%)  |\n",
        "|  low  | 3900 (87.2%) |  6335 (91.2%) | 10235 (89.6%)  |\n",
        "| Total | 4472 (39.2%) |  6948 (60.8%) | 11420 (100.0%) |\n",
        "+-------+--------------+---------------+----------------+"
       ]
      },
      {
       "output_type": "stream",
       "stream": "stdout",
       "text": [
        "\n",
        "\n",
        "p-value = 4.08e-10 ; NMI = [0.0015, 0.0132]\n",
        "--------------------------------------------------------------------------------\n",
        "\n",
        "Sub-Population of size 5283\n",
        "Context = {'race': 'American Indian and Alaska Native'}\n",
        "\n",
        "+-------+--------------+---------------+---------------+\n",
        "| price | income < 50K | income >= 50K |     Total     |\n",
        "+-------+--------------+---------------+---------------+\n",
        "|  high | 700 (20.6%)  |  275 (14.6%)  |  975 (18.5%)  |\n",
        "|  low  | 2701 (79.4%) |  1607 (85.4%) |  4308 (81.5%) |\n",
        "| Total | 3401 (64.4%) |  1882 (35.6%) | 5283 (100.0%) |\n",
        "+-------+--------------+---------------+---------------+\n",
        "\n",
        "p-value = 7.73e-07 ; NMI = [0.0011, 0.0140]\n",
        "--------------------------------------------------------------------------------\n",
        "\n",
        "Sub-Population of size 463996\n",
        "Context = {'race': 'White Not Hispanic or Latino'}\n",
        "\n",
        "+-------+----------------+----------------+-----------------+\n",
        "| price |  income < 50K  | income >= 50K  |      Total      |\n",
        "+-------+----------------+----------------+-----------------+\n",
        "|  high |  15707 (8.1%)  |  17938 (6.7%)  |   33645 (7.3%)  |\n",
        "|  low  | 178558 (91.9%) | 251793 (93.3%) |  430351 (92.7%) |\n",
        "| Total | 194265 (41.9%) | 269731 (58.1%) | 463996 (100.0%) |\n",
        "+-------+----------------+----------------+-----------------+\n",
        "\n",
        "p-value = 4.88e-75 ; NMI = [0.0010, 0.0019]\n",
        "--------------------------------------------------------------------------------\n",
        "\n",
        "Sub-Population of size 130001\n",
        "Context = {'race': 'Hispanic or Latino'}\n",
        "\n",
        "+-------+---------------+---------------+-----------------+\n",
        "| price |  income < 50K | income >= 50K |      Total      |\n",
        "+-------+---------------+---------------+-----------------+\n",
        "|  high |  4574 (5.0%)  |  1476 (3.9%)  |   6050 (4.7%)   |\n",
        "|  low  | 87637 (95.0%) | 36314 (96.1%) |  123951 (95.3%) |\n",
        "| Total | 92211 (70.9%) | 37790 (29.1%) | 130001 (100.0%) |\n",
        "+-------+---------------+---------------+-----------------+\n",
        "\n",
        "p-value = 2.06e-15 ; NMI = [0.0005, 0.0027]\n",
        "--------------------------------------------------------------------------------\n",
        "\n",
        "Sub-Population of size 92631\n",
        "Context = {'race': 'Black or African American'}\n",
        "\n",
        "+-------+---------------+---------------+----------------+\n",
        "| price |  income < 50K | income >= 50K |     Total      |\n",
        "+-------+---------------+---------------+----------------+\n",
        "|  high |  1051 (1.8%)  |   425 (1.3%)  |  1476 (1.6%)   |\n",
        "|  low  | 58309 (98.2%) | 32846 (98.7%) | 91155 (98.4%)  |\n",
        "| Total | 59360 (64.1%) | 33271 (35.9%) | 92631 (100.0%) |\n",
        "+-------+---------------+---------------+----------------+\n",
        "\n",
        "p-value = 8.48e-08 ; NMI = [0.0005, 0.0051]\n",
        "--------------------------------------------------------------------------------\n",
        "\n",
        "Hierarchical printing of subpopulations (summary)\n",
        "\n",
        "================================================================================\n",
        "\n",
        " Context = {} ; CI = [0.0001, 0.0004]\n",
        "   Context = {'race': 'White Not Hispanic or Latino'} ; CI = [0.0010, 0.0019]\n",
        "     Context = {'state': 'WA', 'race': 'White Not Hispanic or Latino'} ; CI = [0.0015, 0.0132]\n",
        "       Context = {'gender': 'F', 'state': 'WA', 'race': 'White Not Hispanic or Latino'} ; CI = [0.0026, 0.0233]\n",
        "     Context = {'state': 'NY', 'race': 'White Not Hispanic or Latino'} ; CI = [0.0052, 0.0136]\n",
        "     Context = {'state': 'CA', 'race': 'White Not Hispanic or Latino'} ; CI = [0.0054, 0.0159]\n",
        "     Context = {'state': 'TX', 'race': 'White Not Hispanic or Latino'} ; CI = [0.0016, 0.0134]\n",
        "       Context = {'gender': 'F', 'state': 'TX', 'race': 'White Not Hispanic or Latino'} ; CI = [0.0018, 0.0210]\n",
        "   Context = {'race': 'Black or African American'} ; CI = [0.0005, 0.0051]\n",
        "     Context = {'state': 'NY', 'race': 'Black or African American'} ; CI = [0.0047, 0.0511]\n",
        "     Context = {'state': 'CA', 'race': 'Black or African American'} ; CI = [0.0018, 0.0450]\n",
        "     Context = {'state': 'MD', 'race': 'Black or African American'} ; CI = [0.0043, 0.0549]\n",
        "   Context = {'race': 'Hispanic or Latino'} ; CI = [0.0005, 0.0027]\n",
        "     Context = {'state': 'CA', 'race': 'Hispanic or Latino'} ; CI = [0.0018, 0.0095]\n",
        "   Context = {'race': 'American Indian and Alaska Native'} ; CI = [0.0011, 0.0140]\n",
        "--------------------------------------------------------------------------------\n",
        "\n"
       ]
      }
     ],
     "prompt_number": 14
    },
    {
     "cell_type": "code",
     "collapsed": false,
     "input": [
      "imp.reload(api2)\n",
      "\n",
      "#\n",
      "# X = [ 'race', 'city', 'state']\n",
      "# 'race' in [0, 1, 2]\n",
      "# 'city' in [0, 1, 2, 3, 4]\n",
      "# 'state' in [0, 1, 2, 3, 4]\n",
      "#\n",
      "X = np.array([[1, 2, 2], [0, 0, 2], [0, 0, 1], [0, 0, 3], [2, 4, 3], [0, 0, 3],\\\n",
      "        [1, 4, 3], [2, 2, 2], [0, 0, 0], [0, 0, 3], [1, 2, 0], [0, 1, 1],\\\n",
      "        [2, 4, 4], [2, 4, 2], [2, 1, 3], [1, 4, 3], [1, 4, 3], [0, 3, 4],\\\n",
      "        [2, 2, 4], [2, 4, 2], [0, 0, 3], [2, 3, 3], [0, 0, 2], [0, 0, 2],\\\n",
      "        [0, 2, 2], [1, 3, 4], [0, 3, 4], [2, 1, 1], [2, 4, 4], [2, 1, 4],\\\n",
      "        [0, 4, 4], [0, 4, 4], [1, 2, 2], [1, 2, 2], [0, 0, 1], [1, 2, 1],\\\n",
      "        [0, 0, 1], [1, 1, 1], [0, 2, 2], [1, 2, 4], [1, 2, 0], [0, 0, 1],\\\n",
      "        [2, 3, 2], [0, 0, 3], [2, 3, 1], [2, 1, 0], [1, 2, 0], [0, 4, 2],\\\n",
      "        [2, 3, 3], [0, 4, 1]]*1000).astype(str)\n",
      "\n",
      "#\n",
      "# y = [ 'price']\n",
      "# 'price' in [0, 1]\n",
      "#\n",
      "# 'city' == 0 will always get 'price' == 1 and  have people with 'race' == 0\n",
      "#\n",
      "y = np.array([0, 1, 1, 1, 1, 1, 0, 1, 1, 1, 0, 1, 1, 1, 0, 0, 0, 1, 1, 0, 1, 1, 1,\\\n",
      "        1, 1, 0, 1, 1, 0, 0, 1, 1, 0, 1, 1, 1, 1, 0, 1, 0, 1, 1, 0, 1, 1,\\\n",
      "        0, 1, 1, 1, 0]*1000).astype(str)\n",
      "\n",
      "data = np.concatenate((X, np.array([y]).T), axis=1)\n",
      "\n",
      "SENS = [0]\n",
      "EXPL = []\n",
      "TARGET = 3\n",
      "\n",
      "FT2 = api2.Fairtest(data, SENS, TARGET, EXPL)"
     ],
     "language": "python",
     "metadata": {},
     "outputs": [],
     "prompt_number": 171
    },
    {
     "cell_type": "code",
     "collapsed": false,
     "input": [
      "FT2.train()"
     ],
     "language": "python",
     "metadata": {},
     "outputs": [
      {
       "output_type": "stream",
       "stream": "stdout",
       "text": [
        "TRAINING WITH SENSITIVE FEATURE 0\n",
        "targets = [3]\n",
        "contextual features = set([1, 2])\n",
        "dim = (2, 3)\n",
        "thresholds = {}\n",
        "splitting on 2 (score=0.429177121282) with threshold None at pred []"
       ]
      },
      {
       "output_type": "stream",
       "stream": "stdout",
       "text": [
        "\n",
        "splitting on 1 (score=0.534268097539) with threshold None at pred ['2 = 4']\n",
        "splitting on 1 (score=0.181704093727) with threshold None at pred ['2 = 1']\n",
        "splitting on 1 (score=0.229032453336) with threshold None at pred ['2 = 3']\n",
        "splitting on 1 (score=0.173369659845) with threshold None at pred ['2 = 2']"
       ]
      },
      {
       "output_type": "stream",
       "stream": "stdout",
       "text": [
        "\n"
       ]
      }
     ],
     "prompt_number": 172
    },
    {
     "cell_type": "code",
     "collapsed": false,
     "input": [
      "imp.reload(tree_clustering)\n",
      "FT2.test()"
     ],
     "language": "python",
     "metadata": {},
     "outputs": [],
     "prompt_number": 173
    },
    {
     "cell_type": "code",
     "collapsed": false,
     "input": [
      "imp.reload(display)\n",
      "FT2.report(None)"
     ],
     "language": "python",
     "metadata": {},
     "outputs": [
      {
       "output_type": "stream",
       "stream": "stdout",
       "text": [
        "Global Population of size 25000\n",
        "\n",
        "+-------+---------------+--------------+--------------+----------------+\n",
        "|   3   |       0       |      1       |      2       |     Total      |\n",
        "+-------+---------------+--------------+--------------+----------------+\n",
        "|   0   |   488 (4.4%)  | 4465 (68.8%) | 2992 (40.0%) |  7945 (31.8%)  |\n",
        "|   1   | 10549 (95.6%) | 2022 (31.2%) | 4484 (60.0%) | 17055 (68.2%)  |\n",
        "| Total | 11037 (44.1%) | 6487 (25.9%) | 7476 (29.9%) | 25000 (100.0%) |\n",
        "+-------+---------------+--------------+--------------+----------------+\n",
        "\n",
        "p-value = 2.30e-179 ; NMI = [0.2737, 0.3116]\n",
        "================================================================================\n",
        "\n",
        "Sub-Population of size 1972\n",
        "Context = {1: '4', 2: '3'}\n",
        "\n",
        "+-------+------------+-----------------+----------------+-----------------+\n",
        "|   3   |     0      |        1        |       2        |      Total      |\n",
        "+-------+------------+-----------------+----------------+-----------------+\n",
        "|   0   | 0.0 (nan%) | 1483.0 (100.0%) |   0.0 (0.0%)   |  1483.0 (75.2%) |\n",
        "|   1   | 0.0 (nan%) |    0.0 (0.0%)   | 489.0 (100.0%) |  489.0 (24.8%)  |\n",
        "| Total | 0.0 (0.0%) |  1483.0 (75.2%) | 489.0 (24.8%)  | 1972.0 (100.0%) |\n",
        "+-------+------------+-----------------+----------------+-----------------+\n",
        "\n",
        "p-value = 2.30e-179 ; NMI = [0.8692, 1.0000]\n",
        "--------------------------------------------------------------------------------\n",
        "\n",
        "Sub-Population of size 1464\n",
        "Context = {1: '1', 2: '1'}\n",
        "\n",
        "+-------+--------------+--------------+--------------+---------------+\n",
        "|   3   |      0       |      1       |      2       |     Total     |\n",
        "+-------+--------------+--------------+--------------+---------------+\n",
        "|   0   |   0 (0.0%)   | 516 (100.0%) |   0 (0.0%)   |  516 (35.2%)  |\n",
        "|   1   | 475 (100.0%) |   0 (0.0%)   | 473 (100.0%) |  948 (64.8%)  |\n",
        "| Total | 475 (32.4%)  | 516 (35.2%)  | 473 (32.3%)  | 1464 (100.0%) |\n",
        "+-------+--------------+--------------+--------------+---------------+\n",
        "\n",
        "p-value = 2.30e-179 ; NMI = [0.8598, 1.0000]\n",
        "--------------------------------------------------------------------------------\n",
        "\n",
        "Sub-Population of size 1516\n",
        "Context = {1: '3', 2: '4'}\n",
        "\n",
        "+-------+-----------------+----------------+------------+-----------------+\n",
        "|   3   |        0        |       1        |     2      |      Total      |\n",
        "+-------+-----------------+----------------+------------+-----------------+\n",
        "|   0   |    0.0 (0.0%)   | 486.0 (100.0%) | 0.0 (nan%) |  486.0 (32.1%)  |\n",
        "|   1   | 1030.0 (100.0%) |   0.0 (0.0%)   | 0.0 (nan%) |  1030.0 (67.9%) |\n",
        "| Total |  1030.0 (67.9%) | 486.0 (32.1%)  | 0.0 (0.0%) | 1516.0 (100.0%) |\n",
        "+-------+-----------------+----------------+------------+-----------------+"
       ]
      },
      {
       "output_type": "stream",
       "stream": "stdout",
       "text": [
        "\n",
        "\n",
        "p-value = 2.30e-179 ; NMI = [0.8597, 1.0000]\n",
        "--------------------------------------------------------------------------------\n",
        "\n",
        "Sub-Population of size 1019\n",
        "Context = {1: '2', 2: '4'}\n",
        "\n",
        "+-------+------------+----------------+----------------+-----------------+\n",
        "|   3   |     0      |       1        |       2        |      Total      |\n",
        "+-------+------------+----------------+----------------+-----------------+\n",
        "|   0   | 0.0 (nan%) | 504.0 (100.0%) |   0.0 (0.0%)   |  504.0 (49.5%)  |\n",
        "|   1   | 0.0 (nan%) |   0.0 (0.0%)   | 515.0 (100.0%) |  515.0 (50.5%)  |\n",
        "| Total | 0.0 (0.0%) | 504.0 (49.5%)  | 515.0 (50.5%)  | 1019.0 (100.0%) |\n",
        "+-------+------------+----------------+----------------+-----------------+\n",
        "\n",
        "p-value = 2.30e-179 ; NMI = [0.8383, 1.0000]\n",
        "--------------------------------------------------------------------------------\n",
        "\n",
        "Sub-Population of size 5990\n",
        "Context = {2: '3'}\n",
        "\n",
        "+-------+---------------+---------------+--------------+---------------+\n",
        "|   3   |       0       |       1       |      2       |     Total     |\n",
        "+-------+---------------+---------------+--------------+---------------+\n",
        "|   0   |    0 (0.0%)   | 1483 (100.0%) | 490 (24.7%)  |  1973 (32.9%) |\n",
        "|   1   | 2522 (100.0%) |    0 (0.0%)   | 1495 (75.3%) |  4017 (67.1%) |\n",
        "| Total |  2522 (42.1%) |  1483 (24.8%) | 1985 (33.1%) | 5990 (100.0%) |\n",
        "+-------+---------------+---------------+--------------+---------------+\n",
        "\n",
        "p-value = 2.30e-179 ; NMI = [0.6482, 0.7674]\n",
        "--------------------------------------------------------------------------------\n",
        "\n",
        "Sub-Population of size 4991\n",
        "Context = {2: '4'}\n",
        "\n",
        "+-------+---------------+--------------+--------------+---------------+\n",
        "|   3   |       0       |      1       |      2       |     Total     |\n",
        "+-------+---------------+--------------+--------------+---------------+\n",
        "|   0   |    0 (0.0%)   | 990 (100.0%) | 986 (49.5%)  |  1976 (39.6%) |\n",
        "|   1   | 2008 (100.0%) |   0 (0.0%)   | 1007 (50.5%) |  3015 (60.4%) |\n",
        "| Total |  2008 (40.2%) | 990 (19.8%)  | 1993 (39.9%) | 4991 (100.0%) |\n",
        "+-------+---------------+--------------+--------------+---------------+"
       ]
      },
      {
       "output_type": "stream",
       "stream": "stdout",
       "text": [
        "\n",
        "\n",
        "p-value = 2.30e-179 ; NMI = [0.5305, 0.6459]\n",
        "--------------------------------------------------------------------------------\n",
        "\n",
        "Sub-Population of size 3025\n",
        "Context = {1: '2', 2: '2'}\n",
        "\n",
        "+-------+---------------+--------------+--------------+---------------+\n",
        "|   3   |       0       |      1       |      2       |     Total     |\n",
        "+-------+---------------+--------------+--------------+---------------+\n",
        "|   0   |    0 (0.0%)   | 1001 (66.4%) |   0 (0.0%)   |  1001 (33.1%) |\n",
        "|   1   | 1001 (100.0%) | 506 (33.6%)  | 517 (100.0%) |  2024 (66.9%) |\n",
        "| Total |  1001 (33.1%) | 1507 (49.8%) | 517 (17.1%)  | 3025 (100.0%) |\n",
        "+-------+---------------+--------------+--------------+---------------+\n",
        "\n",
        "p-value = 2.30e-179 ; NMI = [0.4304, 0.5704]\n",
        "--------------------------------------------------------------------------------\n",
        "\n",
        "Sub-Population of size 2513\n",
        "Context = {2: '0'}\n",
        "\n",
        "+-------+--------------+--------------+--------------+---------------+\n",
        "|   3   |      0       |      1       |      2       |     Total     |\n",
        "+-------+--------------+--------------+--------------+---------------+\n",
        "|   0   |   0 (0.0%)   | 475 (31.7%)  | 500 (100.0%) |  975 (38.8%)  |\n",
        "|   1   | 513 (100.0%) | 1025 (68.3%) |   0 (0.0%)   |  1538 (61.2%) |\n",
        "| Total | 513 (20.4%)  | 1500 (59.7%) | 500 (19.9%)  | 2513 (100.0%) |\n",
        "+-------+--------------+--------------+--------------+---------------+\n",
        "\n",
        "p-value = 2.30e-179 ; NMI = [0.3734, 0.5141]\n",
        "--------------------------------------------------------------------------------\n",
        "\n",
        "Sub-Population of size 6579\n",
        "Context = {2: '2'}\n",
        "\n",
        "+-------+---------------+--------------+--------------+---------------+\n",
        "|   3   |       0       |      1       |      2       |     Total     |\n",
        "+-------+---------------+--------------+--------------+---------------+\n",
        "|   0   |    0 (0.0%)   | 1001 (66.4%) | 1016 (49.5%) |  2017 (30.7%) |\n",
        "|   1   | 3021 (100.0%) | 506 (33.6%)  | 1035 (50.5%) |  4562 (69.3%) |\n",
        "| Total |  3021 (45.9%) | 1507 (22.9%) | 2051 (31.2%) | 6579 (100.0%) |\n",
        "+-------+---------------+--------------+--------------+---------------+\n",
        "\n",
        "p-value = 2.30e-179 ; NMI = [0.3689, 0.4567]\n",
        "--------------------------------------------------------------------------------\n",
        "\n",
        "Hierarchical printing of subpopulations (summary)\n",
        "\n",
        "================================================================================\n",
        "\n",
        " Context = {} ; CI = [0.2737, 0.3116]\n",
        "   Context = {2: '4'} ; CI = [0.5305, 0.6459]\n",
        "     Context = {1: '3', 2: '4'} ; CI = [0.8597, 1.0000]\n",
        "     Context = {1: '2', 2: '4'} ; CI = [0.8383, 1.0000]\n",
        "   Context = {1: '1', 2: '1'} ; CI = [0.8598, 1.0000]\n",
        "   Context = {2: '3'} ; CI = [0.6482, 0.7674]\n",
        "     Context = {1: '4', 2: '3'} ; CI = [0.8692, 1.0000]\n",
        "   Context = {2: '0'} ; CI = [0.3734, 0.5141]\n",
        "   Context = {2: '2'} ; CI = [0.3689, 0.4567]\n",
        "     Context = {1: '2', 2: '2'} ; CI = [0.4304, 0.5704]\n",
        "--------------------------------------------------------------------------------\n",
        "\n"
       ]
      }
     ],
     "prompt_number": 174
    },
    {
     "cell_type": "code",
     "collapsed": false,
     "input": [],
     "language": "python",
     "metadata": {},
     "outputs": []
    }
   ],
   "metadata": {}
  }
 ]
}