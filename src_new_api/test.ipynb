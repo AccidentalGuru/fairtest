{
 "metadata": {
  "name": "",
  "signature": "sha256:b69deb0b4f08bae93f492d5f42788b43d0729a66fafaa9691ed097ef7e3b1505"
 },
 "nbformat": 3,
 "nbformat_minor": 0,
 "worksheets": [
  {
   "cells": [
    {
     "cell_type": "code",
     "collapsed": false,
     "input": [
      "import fairtest.bugreport.trees.tree_builder as tree_builder\n",
      "import fairtest.bugreport.trees.categorical_tree as cat_tree\n",
      "import fairtest.bugreport.clustering.tree_clustering as tree_clustering\n",
      "import fairtest.bugreport.trees.tree_builder as builder\n",
      "import fairtest.bugreport.clustering.display_clusters as display\n",
      "import fairtest.bugreport.statistics.fairness_measures as fm\n",
      "import fairtest.bugreport.statistics.multiple_testing as multitest\n",
      "import fairtest.bugreport.api as api\n",
      "import imp"
     ],
     "language": "python",
     "metadata": {},
     "outputs": [],
     "prompt_number": 1
    },
    {
     "cell_type": "code",
     "collapsed": false,
     "input": [
      "import pandas as pd\n",
      "import ast\n",
      "import sklearn.cross_validation as cross_validation\n",
      "import sklearn.preprocessing as preprocessing\n",
      "RANDOM_SEED = 0\n",
      "\n",
      "'''\n",
      "data = pd.read_csv(\n",
      "            '../data/adult/adult.csv',\n",
      "            header=0,\n",
      "            sep=r'\\s*,\\s*',\n",
      "            engine='python',\n",
      "            na_values=\"?\")\n",
      "data = data.drop('fnlwgt', axis=1)\n",
      "data['hours-per-week'] = map(lambda x: '\u226540' if x>=40 else '<40', data['hours-per-week'])\n",
      "\n",
      "TARGET = 'predicted-income'\n",
      "SENS = ['sex','race']\n",
      "EXPL = [] \n",
      "#EXPL = ['hours-per-week']\n",
      "'''\n",
      "\n",
      "'''\n",
      "data = pd.read_csv(\n",
      "            '../data/staples/staples.csv',\n",
      "            header=0,\n",
      "            sep=r'\\s*,\\s*',\n",
      "            engine='python',\n",
      "            na_values=\"?\")\n",
      "data = data.drop('zipcode', axis=1)\n",
      "data = data.drop('distance', axis=1)\n",
      "TARGET = 'price'\n",
      "SENS = ['income']\n",
      "EXPL = []\n",
      "'''\n",
      "'''\n",
      "data = pd.read_csv(\n",
      "            '../data/medical/predictions_reg_25.csv',\n",
      "            header=0,\n",
      "            sep=r'\\s*,\\s*',\n",
      "            engine='python',\n",
      "            na_values=\"?\")\n",
      "data['Error'] = abs(data['Error'])\n",
      "TARGET = 'Error'\n",
      "SENS = ['Age']\n",
      "EXPL = []\n",
      "'''\n",
      "\n",
      "data = pd.read_csv(\n",
      "            #'../data/images/lfw_black-white.txt',\n",
      "            '../data/images/overfeat_raw.txt',\n",
      "            header=0,\n",
      "            sep=r'\\s*\\t\\s*',\n",
      "            engine='python',\n",
      "            na_values=\"?\")\n",
      "TARGET = 'Labels'\n",
      "SENS = ['Race']\n",
      "EXPL = []\n",
      "labeled_data = map(lambda s: ast.literal_eval(s), data[TARGET])\n",
      "label_encoder = preprocessing.MultiLabelBinarizer()\n",
      "labeled_data = label_encoder.fit_transform(labeled_data)\n",
      "labels = label_encoder.classes_\n",
      "df_labels = pd.DataFrame(labeled_data, columns=labels)\n",
      "data = pd.concat([data.drop(TARGET, axis=1), df_labels], axis=1)\n",
      "TARGET = labels.tolist()\n",
      "\n",
      "\n",
      "data = data[data.columns.drop(TARGET).tolist()+np.array([TARGET]).flatten().tolist()]\n",
      "\n",
      "encoders = {}\n",
      "for column in data.columns:\n",
      "    if data.dtypes[column] == np.object:\n",
      "        encoders[column] = preprocessing.LabelEncoder()\n",
      "        data[column] = encoders[column].fit_transform(data[column])\n",
      "\n",
      "data.tail()"
     ],
     "language": "python",
     "metadata": {},
     "outputs": [
      {
       "metadata": {},
       "output_type": "pyout",
       "prompt_number": 133,
       "text": [
        "'\\ndata = data[data.columns.drop(TARGET).tolist()+np.array([TARGET]).flatten().tolist()]\\n\\nencoders = {}\\nfor column in data.columns:\\n    if data.dtypes[column] == np.object:\\n        encoders[column] = preprocessing.LabelEncoder()\\n        data[column] = encoders[column].fit_transform(data[column])\\n\\ndata.tail()\\n'"
       ]
      }
     ],
     "prompt_number": 133
    },
    {
     "cell_type": "code",
     "collapsed": false,
     "input": [
      "y = data[TARGET]\n",
      "X = data.drop(TARGET, axis=1)\n",
      "X_train, X_test, y_train, y_test = cross_validation.train_test_split(X,y, train_size=0.5, random_state=RANDOM_SEED)\n",
      "\n",
      "X_train.tail()"
     ],
     "language": "python",
     "metadata": {},
     "outputs": [
      {
       "html": [
        "<div style=\"max-height:1000px;max-width:1500px;overflow:auto;\">\n",
        "<table border=\"1\" class=\"dataframe\">\n",
        "  <thead>\n",
        "    <tr style=\"text-align: right;\">\n",
        "      <th></th>\n",
        "      <th>age</th>\n",
        "      <th>Workclass</th>\n",
        "      <th>education</th>\n",
        "      <th>education-num</th>\n",
        "      <th>marital-status</th>\n",
        "      <th>occupation</th>\n",
        "      <th>relationship</th>\n",
        "      <th>race</th>\n",
        "      <th>sex</th>\n",
        "      <th>capital-gain</th>\n",
        "      <th>capital-loss</th>\n",
        "      <th>hours-per-week</th>\n",
        "      <th>native-country</th>\n",
        "    </tr>\n",
        "  </thead>\n",
        "  <tbody>\n",
        "    <tr>\n",
        "      <th>21243</th>\n",
        "      <td>65</td>\n",
        "      <td>0</td>\n",
        "      <td>11</td>\n",
        "      <td>9</td>\n",
        "      <td>2</td>\n",
        "      <td>0</td>\n",
        "      <td>0</td>\n",
        "      <td>4</td>\n",
        "      <td>1</td>\n",
        "      <td>2414</td>\n",
        "      <td>0</td>\n",
        "      <td>0</td>\n",
        "      <td>39</td>\n",
        "    </tr>\n",
        "    <tr>\n",
        "      <th>45891</th>\n",
        "      <td>61</td>\n",
        "      <td>0</td>\n",
        "      <td>9</td>\n",
        "      <td>13</td>\n",
        "      <td>2</td>\n",
        "      <td>0</td>\n",
        "      <td>0</td>\n",
        "      <td>4</td>\n",
        "      <td>1</td>\n",
        "      <td>4386</td>\n",
        "      <td>0</td>\n",
        "      <td>1</td>\n",
        "      <td>39</td>\n",
        "    </tr>\n",
        "    <tr>\n",
        "      <th>42613</th>\n",
        "      <td>41</td>\n",
        "      <td>6</td>\n",
        "      <td>15</td>\n",
        "      <td>10</td>\n",
        "      <td>2</td>\n",
        "      <td>10</td>\n",
        "      <td>0</td>\n",
        "      <td>4</td>\n",
        "      <td>1</td>\n",
        "      <td>0</td>\n",
        "      <td>0</td>\n",
        "      <td>1</td>\n",
        "      <td>39</td>\n",
        "    </tr>\n",
        "    <tr>\n",
        "      <th>43567</th>\n",
        "      <td>47</td>\n",
        "      <td>6</td>\n",
        "      <td>9</td>\n",
        "      <td>13</td>\n",
        "      <td>2</td>\n",
        "      <td>12</td>\n",
        "      <td>0</td>\n",
        "      <td>4</td>\n",
        "      <td>1</td>\n",
        "      <td>0</td>\n",
        "      <td>0</td>\n",
        "      <td>1</td>\n",
        "      <td>39</td>\n",
        "    </tr>\n",
        "    <tr>\n",
        "      <th>2732</th>\n",
        "      <td>25</td>\n",
        "      <td>4</td>\n",
        "      <td>15</td>\n",
        "      <td>10</td>\n",
        "      <td>4</td>\n",
        "      <td>8</td>\n",
        "      <td>1</td>\n",
        "      <td>4</td>\n",
        "      <td>1</td>\n",
        "      <td>2597</td>\n",
        "      <td>0</td>\n",
        "      <td>1</td>\n",
        "      <td>39</td>\n",
        "    </tr>\n",
        "  </tbody>\n",
        "</table>\n",
        "</div>"
       ],
       "metadata": {},
       "output_type": "pyout",
       "prompt_number": 94,
       "text": [
        "       age  Workclass  education  education-num  marital-status  occupation  \\\n",
        "21243   65          0         11              9               2           0   \n",
        "45891   61          0          9             13               2           0   \n",
        "42613   41          6         15             10               2          10   \n",
        "43567   47          6          9             13               2          12   \n",
        "2732    25          4         15             10               4           8   \n",
        "\n",
        "       relationship  race  sex  capital-gain  capital-loss  hours-per-week  \\\n",
        "21243             0     4    1          2414             0               0   \n",
        "45891             0     4    1          4386             0               1   \n",
        "42613             0     4    1             0             0               1   \n",
        "43567             0     4    1             0             0               1   \n",
        "2732              1     4    1          2597             0               1   \n",
        "\n",
        "       native-country  \n",
        "21243              39  \n",
        "45891              39  \n",
        "42613              39  \n",
        "43567              39  \n",
        "2732               39  "
       ]
      }
     ],
     "prompt_number": 94
    },
    {
     "cell_type": "code",
     "collapsed": false,
     "input": [
      "imp.reload(api)\n",
      "imp.reload(cat_tree)\n",
      "imp.reload(builder)\n",
      "\n",
      "feature_info = []\n",
      "for col in data.columns.drop(TARGET):\n",
      "    ftype = 'sens' if col in SENS else 'expl' if col in EXPL else 'context'\n",
      "    arity = None if not col in encoders else len(encoders[col].classes_)\n",
      "    feature_info.append(api.Feature(col, ftype, arity))\n",
      "\n",
      "try:\n",
      "    target_arity = len(encoders[TARGET].classes_)\n",
      "except:\n",
      "    target_arity = None\n",
      "target_info = api.Target(np.asarray([TARGET]).flatten(), arity=target_arity)   \n",
      "    \n",
      "FT = api.Fairtest(feature_info, target_info)\n",
      "\n",
      "#import cProfile as cp\n",
      "#cp.run('FT.train(X_train, y_train)')\n",
      "FT.train(X_train, y_train)"
     ],
     "language": "python",
     "metadata": {},
     "outputs": [
      {
       "output_type": "stream",
       "stream": "stdout",
       "text": [
        "TRAINING WITH SENSITIVE FEATURE race\n",
        "targets = ['predicted-income']\n",
        "contextual features = set(['Workclass', 'relationship', 'age', 'capital-gain', 'sex', 'hours-per-week', 'native-country', 'education-num', 'capital-loss', 'education', 'marital-status', 'occupation'])\n",
        "dim = (2, 5)\n",
        "thresholds = {'education-num': [6.5, 8.5, 9.5, 10.5, 11.5, 12.5, 13.5, 14.5, 15.5], 'capital-loss': [106.5, 268.0, 371.0, 522.0, 639.0, 766.5, 927.0, 1033.0, 1175.0, 1299.0], 'age': [21.5, 24.5, 28.5, 32.5, 35.5, 39.5, 42.5, 46.5, 51.5, 58.5], 'capital-gain': [57.0, 257.5, 497.5, 754.0, 952.5, 1023.0, 1070.5, 1098.5, 1131.0, 1162.0]}"
       ]
      },
      {
       "output_type": "stream",
       "stream": "stdout",
       "text": [
        "\n",
        "splitting on age (score=0.00956418057552) with threshold 58.5 at pred []"
       ]
      },
      {
       "output_type": "stream",
       "stream": "stdout",
       "text": [
        "\n",
        "splitting on age (score=0.00914751676841) with threshold 42.5 at pred ['age <= 58.5']"
       ]
      },
      {
       "output_type": "stream",
       "stream": "stdout",
       "text": [
        "\n",
        "splitting on Workclass (score=0.00621544112725) with threshold None at pred ['age <= 58.5', 'age <= 42.5']"
       ]
      },
      {
       "output_type": "stream",
       "stream": "stdout",
       "text": [
        "\n",
        "splitting on age (score=0.00760315691225) with threshold 32.5 at pred ['age <= 58.5', 'age <= 42.5', 'Workclass = 4']"
       ]
      },
      {
       "output_type": "stream",
       "stream": "stdout",
       "text": [
        "\n",
        "splitting on age (score=0.00917499174747) with threshold 28.5 at pred ['age <= 58.5', 'age <= 42.5', 'Workclass = 4', 'age <= 32.5']"
       ]
      },
      {
       "output_type": "stream",
       "stream": "stdout",
       "text": [
        "\n",
        "splitting on capital-loss (score=0.0121059479836) with threshold 106.5 at pred ['age <= 58.5', 'age <= 42.5', 'Workclass = 4', 'age > 32.5']"
       ]
      },
      {
       "output_type": "stream",
       "stream": "stdout",
       "text": [
        "\n",
        "splitting on relationship (score=0.0183621346575) with threshold None at pred ['age <= 58.5', 'age <= 42.5', 'Workclass = 1']"
       ]
      },
      {
       "output_type": "stream",
       "stream": "stdout",
       "text": [
        "\n",
        "splitting on age (score=0.00312798472776) with threshold 39.5 at pred ['age <= 58.5', 'age <= 42.5', 'Workclass = 2']"
       ]
      },
      {
       "output_type": "stream",
       "stream": "stdout",
       "text": [
        "\n",
        "splitting on age (score=0.00530943458582) with threshold 32.5 at pred ['age <= 58.5', 'age <= 42.5', 'Workclass = 2', 'age <= 39.5']\n",
        "splitting on hours-per-week (score=0.0200796319662) with threshold None at pred ['age <= 58.5', 'age <= 42.5', 'Workclass = 7']"
       ]
      },
      {
       "output_type": "stream",
       "stream": "stdout",
       "text": [
        "\n",
        "splitting on age (score=0.0132782874473) with threshold 35.5 at pred ['age <= 58.5', 'age <= 42.5', 'Workclass = 7', 'hours-per-week = 1']\n",
        "splitting on age (score=0.0143696264145) with threshold 28.5 at pred ['age <= 58.5', 'age <= 42.5', 'Workclass = 6']"
       ]
      },
      {
       "output_type": "stream",
       "stream": "stdout",
       "text": [
        "\n",
        "splitting on marital-status (score=0.0284910348038) with threshold None at pred ['age <= 58.5', 'age <= 42.5', 'Workclass = 0']"
       ]
      },
      {
       "output_type": "stream",
       "stream": "stdout",
       "text": [
        "\n",
        "splitting on hours-per-week (score=0.0355916696415) with threshold None at pred ['age <= 58.5', 'age <= 42.5', 'Workclass = 0', 'marital-status = 4']\n",
        "splitting on age (score=0.00636612884197) with threshold 32.5 at pred ['age <= 58.5', 'age <= 42.5', 'Workclass = 5']"
       ]
      },
      {
       "output_type": "stream",
       "stream": "stdout",
       "text": [
        "\n",
        "splitting on capital-gain (score=0.0112827561756) with threshold 57.0 at pred ['age <= 58.5', 'age > 42.5']"
       ]
      },
      {
       "output_type": "stream",
       "stream": "stdout",
       "text": [
        "\n",
        "splitting on Workclass (score=0.0043513041999) with threshold None at pred ['age <= 58.5', 'age > 42.5', 'capital-gain <= 57.0']"
       ]
      },
      {
       "output_type": "stream",
       "stream": "stdout",
       "text": [
        "\n",
        "splitting on education-num (score=0.0117291625429) with threshold 13.5 at pred ['age <= 58.5', 'age > 42.5', 'capital-gain <= 57.0', 'Workclass = 4']"
       ]
      },
      {
       "output_type": "stream",
       "stream": "stdout",
       "text": [
        "\n",
        "splitting on education-num (score=0.00681146736515) with threshold 12.5 at pred ['age <= 58.5', 'age > 42.5', 'capital-gain <= 57.0', 'Workclass = 5']"
       ]
      },
      {
       "output_type": "stream",
       "stream": "stdout",
       "text": [
        "\n",
        "splitting on relationship (score=0.0131354108878) with threshold None at pred ['age <= 58.5', 'age > 42.5', 'capital-gain > 57.0']"
       ]
      },
      {
       "output_type": "stream",
       "stream": "stdout",
       "text": [
        "\n",
        "splitting on education (score=0.00896011437055) with threshold None at pred ['age <= 58.5', 'age > 42.5', 'capital-gain > 57.0', 'relationship = 0']\n",
        "splitting on capital-loss (score=0.019355065823) with threshold 1299.0 at pred ['age > 58.5']"
       ]
      },
      {
       "output_type": "stream",
       "stream": "stdout",
       "text": [
        "\n",
        "splitting on capital-gain (score=0.0125947270057) with threshold 1131.0 at pred ['age > 58.5', 'capital-loss <= 1299.0']"
       ]
      },
      {
       "output_type": "stream",
       "stream": "stdout",
       "text": [
        "\n",
        "splitting on relationship (score=0.0165530319389) with threshold None at pred ['age > 58.5', 'capital-loss <= 1299.0', 'capital-gain <= 1131.0']"
       ]
      },
      {
       "output_type": "stream",
       "stream": "stdout",
       "text": [
        "\n",
        "splitting on education (score=0.00764605043185) with threshold None at pred ['age > 58.5', 'capital-loss <= 1299.0', 'capital-gain <= 1131.0', 'relationship = 0']"
       ]
      },
      {
       "output_type": "stream",
       "stream": "stdout",
       "text": [
        "\n",
        "splitting on education-num (score=0.00979682593538) with threshold 12.5 at pred ['age > 58.5', 'capital-loss <= 1299.0', 'capital-gain > 1131.0']"
       ]
      },
      {
       "output_type": "stream",
       "stream": "stdout",
       "text": [
        "\n",
        "TRAINING WITH SENSITIVE FEATURE sex"
       ]
      },
      {
       "output_type": "stream",
       "stream": "stdout",
       "text": [
        "\n",
        "targets = ['predicted-income']\n",
        "contextual features = set(['Workclass', 'relationship', 'age', 'capital-gain', 'hours-per-week', 'race', 'native-country', 'education-num', 'capital-loss', 'education', 'marital-status', 'occupation'])\n",
        "dim = (2, 2)\n",
        "thresholds = {'education-num': [6.5, 8.5, 9.5, 10.5, 11.5, 12.5, 13.5, 14.5, 15.5], 'capital-loss': [106.5, 268.0, 371.0, 522.0, 639.0, 766.5, 927.0, 1033.0, 1175.0, 1299.0], 'age': [21.5, 24.5, 28.5, 32.5, 35.5, 39.5, 42.5, 46.5, 51.5, 58.5], 'capital-gain': [57.0, 257.5, 497.5, 754.0, 952.5, 1023.0, 1070.5, 1098.5, 1131.0, 1162.0]}"
       ]
      },
      {
       "output_type": "stream",
       "stream": "stdout",
       "text": [
        "\n",
        "splitting on education-num (score=0.0476168306331) with threshold 11.5 at pred []"
       ]
      },
      {
       "output_type": "stream",
       "stream": "stdout",
       "text": [
        "\n",
        "splitting on education-num (score=0.043129127137) with threshold 9.5 at pred ['education-num <= 11.5']"
       ]
      },
      {
       "output_type": "stream",
       "stream": "stdout",
       "text": [
        "\n",
        "splitting on occupation (score=0.0182578291803) with threshold None at pred ['education-num <= 11.5', 'education-num <= 9.5']"
       ]
      },
      {
       "output_type": "stream",
       "stream": "stdout",
       "text": [
        "\n",
        "splitting on age (score=0.00888757458424) with threshold 46.5 at pred ['education-num <= 11.5', 'education-num <= 9.5', 'occupation = 14']"
       ]
      },
      {
       "output_type": "stream",
       "stream": "stdout",
       "text": [
        "\n",
        "splitting on age (score=0.0297190814467) with threshold 39.5 at pred ['education-num <= 11.5', 'education-num <= 9.5', 'occupation = 7']"
       ]
      },
      {
       "output_type": "stream",
       "stream": "stdout",
       "text": [
        "\n",
        "splitting on age (score=0.0296407067375) with threshold 35.5 at pred ['education-num <= 11.5', 'education-num <= 9.5', 'occupation = 7', 'age <= 39.5']\n",
        "splitting on age (score=0.0180017832107) with threshold 46.5 at pred ['education-num <= 11.5', 'education-num <= 9.5', 'occupation = 7', 'age > 39.5']\n",
        "splitting on education-num (score=0.00780473736925) with threshold 6.5 at pred ['education-num <= 11.5', 'education-num <= 9.5', 'occupation = 0']"
       ]
      },
      {
       "output_type": "stream",
       "stream": "stdout",
       "text": [
        "\n",
        "splitting on age (score=0.0141909222328) with threshold 58.5 at pred ['education-num <= 11.5', 'education-num <= 9.5', 'occupation = 8']"
       ]
      },
      {
       "output_type": "stream",
       "stream": "stdout",
       "text": [
        "\n",
        "splitting on marital-status (score=0.00167605048216) with threshold None at pred ['education-num <= 11.5', 'education-num <= 9.5', 'occupation = 8', 'age <= 58.5']\n",
        "splitting on age (score=0.0279758722947) with threshold 46.5 at pred ['education-num <= 11.5', 'education-num <= 9.5', 'occupation = 1']"
       ]
      },
      {
       "output_type": "stream",
       "stream": "stdout",
       "text": [
        "\n",
        "splitting on age (score=0.015712607275) with threshold 28.5 at pred ['education-num <= 11.5', 'education-num <= 9.5', 'occupation = 1', 'age <= 46.5']\n",
        "splitting on hours-per-week (score=0.0403469225267) with threshold None at pred ['education-num <= 11.5', 'education-num <= 9.5', 'occupation = 1', 'age > 46.5']\n",
        "splitting on relationship (score=0.0103506890175) with threshold None at pred ['education-num <= 11.5', 'education-num <= 9.5', 'occupation = 6']"
       ]
      },
      {
       "output_type": "stream",
       "stream": "stdout",
       "text": [
        "\n",
        "splitting on age (score=0.00700743304995) with threshold 58.5 at pred ['education-num <= 11.5', 'education-num <= 9.5', 'occupation = 3']"
       ]
      },
      {
       "output_type": "stream",
       "stream": "stdout",
       "text": [
        "\n",
        "splitting on age (score=0.00319933147214) with threshold 32.5 at pred ['education-num <= 11.5', 'education-num <= 9.5', 'occupation = 3', 'age <= 58.5']"
       ]
      },
      {
       "output_type": "stream",
       "stream": "stdout",
       "text": [
        "\n",
        "splitting on age (score=0.00521935775709) with threshold 46.5 at pred ['education-num <= 11.5', 'education-num <= 9.5', 'occupation = 5']"
       ]
      },
      {
       "output_type": "stream",
       "stream": "stdout",
       "text": [
        "\n",
        "splitting on age (score=0.060694001007) with threshold 42.5 at pred ['education-num <= 11.5', 'education-num <= 9.5', 'occupation = 12']"
       ]
      },
      {
       "output_type": "stream",
       "stream": "stdout",
       "text": [
        "\n",
        "splitting on age (score=0.0389220609252) with threshold 35.5 at pred ['education-num <= 11.5', 'education-num <= 9.5', 'occupation = 12', 'age <= 42.5']"
       ]
      },
      {
       "output_type": "stream",
       "stream": "stdout",
       "text": [
        "\n",
        "splitting on age (score=0.046206465035) with threshold 51.5 at pred ['education-num <= 11.5', 'education-num <= 9.5', 'occupation = 12', 'age > 42.5']\n",
        "splitting on Workclass (score=0.0353355176364) with threshold None at pred ['education-num <= 11.5', 'education-num <= 9.5', 'occupation = 4']"
       ]
      },
      {
       "output_type": "stream",
       "stream": "stdout",
       "text": [
        "\n",
        "splitting on age (score=0.0451584238616) with threshold 42.5 at pred ['education-num <= 11.5', 'education-num <= 9.5', 'occupation = 4', 'Workclass = 4']\n",
        "splitting on age (score=0.0529349968872) with threshold 46.5 at pred ['education-num <= 11.5', 'education-num > 9.5']"
       ]
      },
      {
       "output_type": "stream",
       "stream": "stdout",
       "text": [
        "\n",
        "splitting on occupation (score=0.0126569717871) with threshold None at pred ['education-num <= 11.5', 'education-num > 9.5', 'age <= 46.5']"
       ]
      },
      {
       "output_type": "stream",
       "stream": "stdout",
       "text": [
        "\n",
        "splitting on age (score=0.0120675778942) with threshold 35.5 at pred ['education-num <= 11.5', 'education-num > 9.5', 'age <= 46.5', 'occupation = 10']\n",
        "splitting on age (score=0.0324152499096) with threshold 39.5 at pred ['education-num <= 11.5', 'education-num > 9.5', 'age <= 46.5', 'occupation = 12']"
       ]
      },
      {
       "output_type": "stream",
       "stream": "stdout",
       "text": [
        "\n",
        "splitting on age (score=0.00486362258027) with threshold 32.5 at pred ['education-num <= 11.5', 'education-num > 9.5', 'age <= 46.5', 'occupation = 13']\n",
        "splitting on age (score=0.0305683386559) with threshold 39.5 at pred ['education-num <= 11.5', 'education-num > 9.5', 'age <= 46.5', 'occupation = 4']"
       ]
      },
      {
       "output_type": "stream",
       "stream": "stdout",
       "text": [
        "\n",
        "splitting on education-num (score=0.0364800213306) with threshold 10.5 at pred ['education-num <= 11.5', 'education-num > 9.5', 'age <= 46.5', 'occupation = 1']"
       ]
      },
      {
       "output_type": "stream",
       "stream": "stdout",
       "text": [
        "\n",
        "splitting on age (score=0.0109303724218) with threshold 39.5 at pred ['education-num <= 11.5', 'education-num > 9.5', 'age <= 46.5', 'occupation = 3']\n",
        "splitting on age (score=0.00489440539491) with threshold 32.5 at pred ['education-num <= 11.5', 'education-num > 9.5', 'age <= 46.5', 'occupation = 8']"
       ]
      },
      {
       "output_type": "stream",
       "stream": "stdout",
       "text": [
        "\n",
        "splitting on age (score=0.00532529043445) with threshold 32.5 at pred ['education-num <= 11.5', 'education-num > 9.5', 'age <= 46.5', 'occupation = 7']\n",
        "splitting on education-num (score=0.0685250797068) with threshold 10.5 at pred ['education-num <= 11.5', 'education-num > 9.5', 'age > 46.5']"
       ]
      },
      {
       "output_type": "stream",
       "stream": "stdout",
       "text": [
        "\n",
        "splitting on occupation (score=0.0362812232266) with threshold None at pred ['education-num <= 11.5', 'education-num > 9.5', 'age > 46.5', 'education-num <= 10.5']"
       ]
      },
      {
       "output_type": "stream",
       "stream": "stdout",
       "text": [
        "\n",
        "splitting on age (score=0.0624116177869) with threshold 51.5 at pred ['education-num <= 11.5', 'education-num > 9.5', 'age > 46.5', 'education-num > 10.5']"
       ]
      },
      {
       "output_type": "stream",
       "stream": "stdout",
       "text": [
        "\n",
        "splitting on age (score=0.0543989807922) with threshold 51.5 at pred ['education-num > 11.5']"
       ]
      },
      {
       "output_type": "stream",
       "stream": "stdout",
       "text": [
        "\n",
        "splitting on age (score=0.0458988467334) with threshold 42.5 at pred ['education-num > 11.5', 'age <= 51.5']"
       ]
      },
      {
       "output_type": "stream",
       "stream": "stdout",
       "text": [
        "\n",
        "splitting on age (score=0.030742060374) with threshold 39.5 at pred ['education-num > 11.5', 'age <= 51.5', 'age <= 42.5']"
       ]
      },
      {
       "output_type": "stream",
       "stream": "stdout",
       "text": [
        "\n",
        "splitting on hours-per-week (score=0.0191538158123) with threshold None at pred ['education-num > 11.5', 'age <= 51.5', 'age <= 42.5', 'age <= 39.5']"
       ]
      },
      {
       "output_type": "stream",
       "stream": "stdout",
       "text": [
        "\n",
        "splitting on occupation (score=0.0388909881103) with threshold None at pred ['education-num > 11.5', 'age <= 51.5', 'age <= 42.5', 'age > 39.5']"
       ]
      },
      {
       "output_type": "stream",
       "stream": "stdout",
       "text": [
        "\n",
        "splitting on education-num (score=0.0538479402613) with threshold 13.5 at pred ['education-num > 11.5', 'age <= 51.5', 'age > 42.5']"
       ]
      },
      {
       "output_type": "stream",
       "stream": "stdout",
       "text": [
        "\n",
        "splitting on age (score=0.045260878251) with threshold 46.5 at pred ['education-num > 11.5', 'age <= 51.5', 'age > 42.5', 'education-num <= 13.5']"
       ]
      },
      {
       "output_type": "stream",
       "stream": "stdout",
       "text": [
        "\n",
        "splitting on occupation (score=0.0446227098257) with threshold None at pred ['education-num > 11.5', 'age <= 51.5', 'age > 42.5', 'education-num > 13.5']\n",
        "splitting on age (score=0.0568586543241) with threshold 58.5 at pred ['education-num > 11.5', 'age > 51.5']"
       ]
      },
      {
       "output_type": "stream",
       "stream": "stdout",
       "text": [
        "\n",
        "splitting on education-num (score=0.0727341970676) with threshold 13.5 at pred ['education-num > 11.5', 'age > 51.5', 'age <= 58.5']"
       ]
      },
      {
       "output_type": "stream",
       "stream": "stdout",
       "text": [
        "\n",
        "splitting on capital-gain (score=0.0307296850131) with threshold 57.0 at pred ['education-num > 11.5', 'age > 51.5', 'age > 58.5']"
       ]
      },
      {
       "output_type": "stream",
       "stream": "stdout",
       "text": [
        "\n",
        "splitting on education (score=0.0141670393239) with threshold None at pred ['education-num > 11.5', 'age > 51.5', 'age > 58.5', 'capital-gain <= 57.0']\n"
       ]
      }
     ],
     "prompt_number": 102
    },
    {
     "cell_type": "code",
     "collapsed": false,
     "input": [
      "imp.reload(api)\n",
      "imp.reload(tree_clustering)\n",
      "imp.reload(multitest)\n",
      "\n",
      "FT.test(X_test, y_test, prune_insignificant=False)"
     ],
     "language": "python",
     "metadata": {},
     "outputs": [
      {
       "output_type": "stream",
       "stream": "stdout",
       "text": [
        "{'race': [<fairtest.bugreport.clustering.tree_clustering.Cluster instance at 0x113dd93b0>, <fairtest.bugreport.clustering.tree_clustering.Cluster instance at 0x119eb2d40>, <fairtest.bugreport.clustering.tree_clustering.Cluster instance at 0x111447b00>, <fairtest.bugreport.clustering.tree_clustering.Cluster instance at 0x11141b248>, <fairtest.bugreport.clustering.tree_clustering.Cluster instance at 0x111447b48>, <fairtest.bugreport.clustering.tree_clustering.Cluster instance at 0x1113d3a28>, <fairtest.bugreport.clustering.tree_clustering.Cluster instance at 0x113d95908>, <fairtest.bugreport.clustering.tree_clustering.Cluster instance at 0x115c93950>, <fairtest.bugreport.clustering.tree_clustering.Cluster instance at 0x114fd0a70>, <fairtest.bugreport.clustering.tree_clustering.Cluster instance at 0x114fe2878>, <fairtest.bugreport.clustering.tree_clustering.Cluster instance at 0x114796320>, <fairtest.bugreport.clustering.tree_clustering.Cluster instance at 0x113b945f0>, <fairtest.bugreport.clustering.tree_clustering.Cluster instance at 0x119e86638>, <fairtest.bugreport.clustering.tree_clustering.Cluster instance at 0x114796b90>, <fairtest.bugreport.clustering.tree_clustering.Cluster instance at 0x113c39710>, <fairtest.bugreport.clustering.tree_clustering.Cluster instance at 0x117405c68>, <fairtest.bugreport.clustering.tree_clustering.Cluster instance at 0x1113dcdd0>, <fairtest.bugreport.clustering.tree_clustering.Cluster instance at 0x117405998>, <fairtest.bugreport.clustering.tree_clustering.Cluster instance at 0x11141e950>, <fairtest.bugreport.clustering.tree_clustering.Cluster instance at 0x1159de8c0>, <fairtest.bugreport.clustering.tree_clustering.Cluster instance at 0x1113dc998>, <fairtest.bugreport.clustering.tree_clustering.Cluster instance at 0x117d82f38>, <fairtest.bugreport.clustering.tree_clustering.Cluster instance at 0x113d96998>, <fairtest.bugreport.clustering.tree_clustering.Cluster instance at 0x113b956c8>, <fairtest.bugreport.clustering.tree_clustering.Cluster instance at 0x113cd03b0>, <fairtest.bugreport.clustering.tree_clustering.Cluster instance at 0x113cd0128>, <fairtest.bugreport.clustering.tree_clustering.Cluster instance at 0x111443170>, <fairtest.bugreport.clustering.tree_clustering.Cluster instance at 0x113cd0a28>, <fairtest.bugreport.clustering.tree_clustering.Cluster instance at 0x115c99d88>, <fairtest.bugreport.clustering.tree_clustering.Cluster instance at 0x114759710>, <fairtest.bugreport.clustering.tree_clustering.Cluster instance at 0x114fb4b48>, <fairtest.bugreport.clustering.tree_clustering.Cluster instance at 0x119eaa710>, <fairtest.bugreport.clustering.tree_clustering.Cluster instance at 0x119eaa4d0>, <fairtest.bugreport.clustering.tree_clustering.Cluster instance at 0x117d752d8>, <fairtest.bugreport.clustering.tree_clustering.Cluster instance at 0x113c243b0>, <fairtest.bugreport.clustering.tree_clustering.Cluster instance at 0x113cc63f8>, <fairtest.bugreport.clustering.tree_clustering.Cluster instance at 0x113f68518>, <fairtest.bugreport.clustering.tree_clustering.Cluster instance at 0x114fb37a0>, <fairtest.bugreport.clustering.tree_clustering.Cluster instance at 0x113f3a368>, <fairtest.bugreport.clustering.tree_clustering.Cluster instance at 0x113f6e560>, <fairtest.bugreport.clustering.tree_clustering.Cluster instance at 0x1178d0d88>, <fairtest.bugreport.clustering.tree_clustering.Cluster instance at 0x113cc65f0>, <fairtest.bugreport.clustering.tree_clustering.Cluster instance at 0x113f3a998>, <fairtest.bugreport.clustering.tree_clustering.Cluster instance at 0x117d75cb0>, <fairtest.bugreport.clustering.tree_clustering.Cluster instance at 0x113f68d88>, <fairtest.bugreport.clustering.tree_clustering.Cluster instance at 0x113f688c0>, <fairtest.bugreport.clustering.tree_clustering.Cluster instance at 0x1178d0128>, <fairtest.bugreport.clustering.tree_clustering.Cluster instance at 0x119d44710>, <fairtest.bugreport.clustering.tree_clustering.Cluster instance at 0x119d695f0>, <fairtest.bugreport.clustering.tree_clustering.Cluster instance at 0x1178d0e18>, <fairtest.bugreport.clustering.tree_clustering.Cluster instance at 0x113ba07a0>, <fairtest.bugreport.clustering.tree_clustering.Cluster instance at 0x113ab6950>, <fairtest.bugreport.clustering.tree_clustering.Cluster instance at 0x113c241b8>, <fairtest.bugreport.clustering.tree_clustering.Cluster instance at 0x119d69680>, <fairtest.bugreport.clustering.tree_clustering.Cluster instance at 0x119d440e0>, <fairtest.bugreport.clustering.tree_clustering.Cluster instance at 0x119d692d8>, <fairtest.bugreport.clustering.tree_clustering.Cluster instance at 0x114fb4680>, <fairtest.bugreport.clustering.tree_clustering.Cluster instance at 0x113ba0bd8>, <fairtest.bugreport.clustering.tree_clustering.Cluster instance at 0x113f6e128>, <fairtest.bugreport.clustering.tree_clustering.Cluster instance at 0x113f599e0>, <fairtest.bugreport.clustering.tree_clustering.Cluster instance at 0x113f59b90>, <fairtest.bugreport.clustering.tree_clustering.Cluster instance at 0x113b6b1b8>, <fairtest.bugreport.clustering.tree_clustering.Cluster instance at 0x113b6b290>, <fairtest.bugreport.clustering.tree_clustering.Cluster instance at 0x115c9ca28>, <fairtest.bugreport.clustering.tree_clustering.Cluster instance at 0x113b944d0>], 'sex': [<fairtest.bugreport.clustering.tree_clustering.Cluster instance at 0x113ba0fc8>, <fairtest.bugreport.clustering.tree_clustering.Cluster instance at 0x1178d0488>, <fairtest.bugreport.clustering.tree_clustering.Cluster instance at 0x113ba05f0>, <fairtest.bugreport.clustering.tree_clustering.Cluster instance at 0x113f59710>, <fairtest.bugreport.clustering.tree_clustering.Cluster instance at 0x113aea1b8>, <fairtest.bugreport.clustering.tree_clustering.Cluster instance at 0x113cc6ea8>, <fairtest.bugreport.clustering.tree_clustering.Cluster instance at 0x1174100e0>, <fairtest.bugreport.clustering.tree_clustering.Cluster instance at 0x113aeab90>, <fairtest.bugreport.clustering.tree_clustering.Cluster instance at 0x111412b90>, <fairtest.bugreport.clustering.tree_clustering.Cluster instance at 0x113aea9e0>, <fairtest.bugreport.clustering.tree_clustering.Cluster instance at 0x1173fd7e8>, <fairtest.bugreport.clustering.tree_clustering.Cluster instance at 0x1113e0b90>, <fairtest.bugreport.clustering.tree_clustering.Cluster instance at 0x116453cf8>, <fairtest.bugreport.clustering.tree_clustering.Cluster instance at 0x1173fd638>, <fairtest.bugreport.clustering.tree_clustering.Cluster instance at 0x1173fd1b8>, <fairtest.bugreport.clustering.tree_clustering.Cluster instance at 0x111412c20>, <fairtest.bugreport.clustering.tree_clustering.Cluster instance at 0x113aea290>, <fairtest.bugreport.clustering.tree_clustering.Cluster instance at 0x1114125a8>, <fairtest.bugreport.clustering.tree_clustering.Cluster instance at 0x1113e0cf8>, <fairtest.bugreport.clustering.tree_clustering.Cluster instance at 0x1164538c0>, <fairtest.bugreport.clustering.tree_clustering.Cluster instance at 0x111412050>, <fairtest.bugreport.clustering.tree_clustering.Cluster instance at 0x113ab6c20>, <fairtest.bugreport.clustering.tree_clustering.Cluster instance at 0x116453710>, <fairtest.bugreport.clustering.tree_clustering.Cluster instance at 0x111412320>, <fairtest.bugreport.clustering.tree_clustering.Cluster instance at 0x1164536c8>, <fairtest.bugreport.clustering.tree_clustering.Cluster instance at 0x12f110f80>, <fairtest.bugreport.clustering.tree_clustering.Cluster instance at 0x113d51d88>, <fairtest.bugreport.clustering.tree_clustering.Cluster instance at 0x116453b48>, <fairtest.bugreport.clustering.tree_clustering.Cluster instance at 0x113aeac68>, <fairtest.bugreport.clustering.tree_clustering.Cluster instance at 0x116453ea8>, <fairtest.bugreport.clustering.tree_clustering.Cluster instance at 0x12f110638>, <fairtest.bugreport.clustering.tree_clustering.Cluster instance at 0x116453a70>, <fairtest.bugreport.clustering.tree_clustering.Cluster instance at 0x117410830>, <fairtest.bugreport.clustering.tree_clustering.Cluster instance at 0x12f110710>, <fairtest.bugreport.clustering.tree_clustering.Cluster instance at 0x113d518c0>, <fairtest.bugreport.clustering.tree_clustering.Cluster instance at 0x11478b4d0>, <fairtest.bugreport.clustering.tree_clustering.Cluster instance at 0x1173fd050>, <fairtest.bugreport.clustering.tree_clustering.Cluster instance at 0x113d51710>, <fairtest.bugreport.clustering.tree_clustering.Cluster instance at 0x11478b290>, <fairtest.bugreport.clustering.tree_clustering.Cluster instance at 0x12f110a70>, <fairtest.bugreport.clustering.tree_clustering.Cluster instance at 0x113d51c20>, <fairtest.bugreport.clustering.tree_clustering.Cluster instance at 0x113d90d40>, <fairtest.bugreport.clustering.tree_clustering.Cluster instance at 0x113d51998>, <fairtest.bugreport.clustering.tree_clustering.Cluster instance at 0x11478bef0>, <fairtest.bugreport.clustering.tree_clustering.Cluster instance at 0x11478bab8>, <fairtest.bugreport.clustering.tree_clustering.Cluster instance at 0x113d51b00>, <fairtest.bugreport.clustering.tree_clustering.Cluster instance at 0x113d90cf8>, <fairtest.bugreport.clustering.tree_clustering.Cluster instance at 0x113d90c68>, <fairtest.bugreport.clustering.tree_clustering.Cluster instance at 0x113d90368>, <fairtest.bugreport.clustering.tree_clustering.Cluster instance at 0x113d516c8>, <fairtest.bugreport.clustering.tree_clustering.Cluster instance at 0x113d51680>, <fairtest.bugreport.clustering.tree_clustering.Cluster instance at 0x113d90170>, <fairtest.bugreport.clustering.tree_clustering.Cluster instance at 0x11478bfc8>, <fairtest.bugreport.clustering.tree_clustering.Cluster instance at 0x113d5e320>, <fairtest.bugreport.clustering.tree_clustering.Cluster instance at 0x113d5e758>, <fairtest.bugreport.clustering.tree_clustering.Cluster instance at 0x113d90b00>, <fairtest.bugreport.clustering.tree_clustering.Cluster instance at 0x115c9ccf8>, <fairtest.bugreport.clustering.tree_clustering.Cluster instance at 0x1113e0d88>, <fairtest.bugreport.clustering.tree_clustering.Cluster instance at 0x114fb0a70>, <fairtest.bugreport.clustering.tree_clustering.Cluster instance at 0x114fb0e60>, <fairtest.bugreport.clustering.tree_clustering.Cluster instance at 0x1173fd560>, <fairtest.bugreport.clustering.tree_clustering.Cluster instance at 0x113d99d40>, <fairtest.bugreport.clustering.tree_clustering.Cluster instance at 0x113d90248>, <fairtest.bugreport.clustering.tree_clustering.Cluster instance at 0x113a65e60>, <fairtest.bugreport.clustering.tree_clustering.Cluster instance at 0x113d99c68>, <fairtest.bugreport.clustering.tree_clustering.Cluster instance at 0x114fb0440>, <fairtest.bugreport.clustering.tree_clustering.Cluster instance at 0x117407638>, <fairtest.bugreport.clustering.tree_clustering.Cluster instance at 0x114fb05f0>, <fairtest.bugreport.clustering.tree_clustering.Cluster instance at 0x11478b8c0>, <fairtest.bugreport.clustering.tree_clustering.Cluster instance at 0x114faf3b0>, <fairtest.bugreport.clustering.tree_clustering.Cluster instance at 0x114faf3f8>, <fairtest.bugreport.clustering.tree_clustering.Cluster instance at 0x114faf098>, <fairtest.bugreport.clustering.tree_clustering.Cluster instance at 0x114faf200>, <fairtest.bugreport.clustering.tree_clustering.Cluster instance at 0x114fafef0>, <fairtest.bugreport.clustering.tree_clustering.Cluster instance at 0x117407a28>, <fairtest.bugreport.clustering.tree_clustering.Cluster instance at 0x117407830>, <fairtest.bugreport.clustering.tree_clustering.Cluster instance at 0x113aceab8>, <fairtest.bugreport.clustering.tree_clustering.Cluster instance at 0x113ace998>, <fairtest.bugreport.clustering.tree_clustering.Cluster instance at 0x114faf320>, <fairtest.bugreport.clustering.tree_clustering.Cluster instance at 0x1113d9560>, <fairtest.bugreport.clustering.tree_clustering.Cluster instance at 0x1113d9908>, <fairtest.bugreport.clustering.tree_clustering.Cluster instance at 0x1113d9c68>, <fairtest.bugreport.clustering.tree_clustering.Cluster instance at 0x1113d9128>, <fairtest.bugreport.clustering.tree_clustering.Cluster instance at 0x114fafa70>, <fairtest.bugreport.clustering.tree_clustering.Cluster instance at 0x1113d90e0>, <fairtest.bugreport.clustering.tree_clustering.Cluster instance at 0x114faf758>, <fairtest.bugreport.clustering.tree_clustering.Cluster instance at 0x1113d9368>, <fairtest.bugreport.clustering.tree_clustering.Cluster instance at 0x114fb89e0>, <fairtest.bugreport.clustering.tree_clustering.Cluster instance at 0x1113d95a8>, <fairtest.bugreport.clustering.tree_clustering.Cluster instance at 0x114fb86c8>, <fairtest.bugreport.clustering.tree_clustering.Cluster instance at 0x114fb83f8>, <fairtest.bugreport.clustering.tree_clustering.Cluster instance at 0x1113d9098>, <fairtest.bugreport.clustering.tree_clustering.Cluster instance at 0x114fafb48>, <fairtest.bugreport.clustering.tree_clustering.Cluster instance at 0x114fb0518>, <fairtest.bugreport.clustering.tree_clustering.Cluster instance at 0x111441cf8>, <fairtest.bugreport.clustering.tree_clustering.Cluster instance at 0x111441518>, <fairtest.bugreport.clustering.tree_clustering.Cluster instance at 0x113d5e488>, <fairtest.bugreport.clustering.tree_clustering.Cluster instance at 0x114fb06c8>, <fairtest.bugreport.clustering.tree_clustering.Cluster instance at 0x1178c7998>, <fairtest.bugreport.clustering.tree_clustering.Cluster instance at 0x114fb8908>, <fairtest.bugreport.clustering.tree_clustering.Cluster instance at 0x114fb0c20>, <fairtest.bugreport.clustering.tree_clustering.Cluster instance at 0x111441998>, <fairtest.bugreport.clustering.tree_clustering.Cluster instance at 0x113adf7e8>, <fairtest.bugreport.clustering.tree_clustering.Cluster instance at 0x1178c7638>, <fairtest.bugreport.clustering.tree_clustering.Cluster instance at 0x111441758>, <fairtest.bugreport.clustering.tree_clustering.Cluster instance at 0x1178c7cb0>, <fairtest.bugreport.clustering.tree_clustering.Cluster instance at 0x1114413b0>, <fairtest.bugreport.clustering.tree_clustering.Cluster instance at 0x1178c7050>, <fairtest.bugreport.clustering.tree_clustering.Cluster instance at 0x1178c75f0>, <fairtest.bugreport.clustering.tree_clustering.Cluster instance at 0x113adfcb0>, <fairtest.bugreport.clustering.tree_clustering.Cluster instance at 0x113adfab8>, <fairtest.bugreport.clustering.tree_clustering.Cluster instance at 0x1114208c0>, <fairtest.bugreport.clustering.tree_clustering.Cluster instance at 0x113adfe18>, <fairtest.bugreport.clustering.tree_clustering.Cluster instance at 0x111441200>, <fairtest.bugreport.clustering.tree_clustering.Cluster instance at 0x114fc1f80>, <fairtest.bugreport.clustering.tree_clustering.Cluster instance at 0x1178c79e0>, <fairtest.bugreport.clustering.tree_clustering.Cluster instance at 0x111441320>, <fairtest.bugreport.clustering.tree_clustering.Cluster instance at 0x114fc1a70>, <fairtest.bugreport.clustering.tree_clustering.Cluster instance at 0x114fc1cf8>, <fairtest.bugreport.clustering.tree_clustering.Cluster instance at 0x114fc1dd0>, <fairtest.bugreport.clustering.tree_clustering.Cluster instance at 0x1159df638>]}\n"
       ]
      }
     ],
     "prompt_number": 103
    },
    {
     "cell_type": "code",
     "collapsed": false,
     "input": [
      "imp.reload(display)\n",
      "FT.report(None, encoders=encoders)"
     ],
     "language": "python",
     "metadata": {},
     "outputs": [
      {
       "output_type": "stream",
       "stream": "stdout",
       "text": [
        "Global Population of size 24421\n",
        "\n",
        "+------------------+--------------------+--------------------+--------------+-------------+---------------+----------------+\n",
        "| predicted-income | Amer-Indian-Eskimo | Asian-Pac-Islander |    Black     |    Other    |     White     |     Total      |\n",
        "+------------------+--------------------+--------------------+--------------+-------------+---------------+----------------+\n",
        "|      <=50K       |    211 (88.3%)     |    556 (73.0%)     | 2061 (87.8%) | 165 (88.2%) | 15647 (74.9%) | 18640 (76.3%)  |\n",
        "|       >50K       |     28 (11.7%)     |    206 (27.0%)     | 287 (12.2%)  |  22 (11.8%) |  5238 (25.1%) |  5781 (23.7%)  |\n",
        "|      Total       |     239 (1.0%)     |     762 (3.1%)     | 2348 (9.6%)  |  187 (0.8%) | 20885 (85.5%) | 24421 (100.0%) |\n",
        "+------------------+--------------------+--------------------+--------------+-------------+---------------+----------------+\n",
        "\n",
        "p-value = 1.82e-53 ; NMI = [0.0059, 0.0148]\n",
        "================================================================================\n",
        "\n",
        "Sub-Population of size 358\n",
        "Context = {'age': (-inf, 42.5], 'Workclass': 'Federal-gov'}\n",
        "\n",
        "+------------------+--------------------+--------------------+------------+-----------+-------------+--------------+\n",
        "| predicted-income | Amer-Indian-Eskimo | Asian-Pac-Islander |   Black    |   Other   |    White    |    Total     |\n",
        "+------------------+--------------------+--------------------+------------+-----------+-------------+--------------+\n",
        "|      <=50K       |     9 (100.0%)     |     10 (71.4%)     | 65 (91.5%) | 5 (83.3%) | 162 (62.8%) | 251 (70.1%)  |\n",
        "|       >50K       |      0 (0.0%)      |     4 (28.6%)      |  6 (8.5%)  | 1 (16.7%) |  96 (37.2%) | 107 (29.9%)  |\n",
        "|      Total       |      9 (2.5%)      |     14 (3.9%)      | 71 (19.8%) |  6 (1.7%) | 258 (72.1%) | 358 (100.0%) |\n",
        "+------------------+--------------------+--------------------+------------+-----------+-------------+--------------+\n",
        "\n",
        "p-value = 1.73e-04 ; NMI = [0.0146, 0.1946]\n",
        "--------------------------------------------------------------------------------\n",
        "\n",
        "Sub-Population of size 4554\n",
        "Context = {'age': (32.5, 42.5], 'Workclass': 'Private'}\n",
        "\n",
        "+------------------+--------------------+--------------------+-------------+------------+--------------+---------------+\n",
        "| predicted-income | Amer-Indian-Eskimo | Asian-Pac-Islander |    Black    |   Other    |    White     |     Total     |\n",
        "+------------------+--------------------+--------------------+-------------+------------+--------------+---------------+\n",
        "|      <=50K       |     29 (80.6%)     |     96 (64.4%)     | 397 (87.6%) | 27 (81.8%) | 2662 (68.6%) |  3211 (70.5%) |\n",
        "|       >50K       |     7 (19.4%)      |     53 (35.6%)     |  56 (12.4%) | 6 (18.2%)  | 1221 (31.4%) |  1343 (29.5%) |\n",
        "|      Total       |     36 (0.8%)      |     149 (3.3%)     |  453 (9.9%) | 33 (0.7%)  | 3883 (85.3%) | 4554 (100.0%) |\n",
        "+------------------+--------------------+--------------------+-------------+------------+--------------+---------------+"
       ]
      },
      {
       "output_type": "stream",
       "stream": "stdout",
       "text": [
        "\n",
        "\n",
        "p-value = 3.54e-16 ; NMI = [0.0069, 0.0337]\n",
        "--------------------------------------------------------------------------------\n",
        "\n",
        "Hierarchical printing of subpopulations (summary)\n",
        "\n",
        "================================================================================\n",
        "\n",
        " Context = {} ; CI = [0.0059, 0.0148]\n",
        "   Context = {'age': (32.5, 42.5], 'Workclass': 'Private'} ; CI = [0.0069, 0.0337]\n",
        "   Context = {'age': (-inf, 42.5], 'Workclass': 'Federal-gov'} ; CI = [0.0146, 0.1946]\n",
        "--------------------------------------------------------------------------------\n",
        "\n",
        "Global Population of size 24421\n",
        "\n",
        "+------------------+--------------+---------------+----------------+\n",
        "| predicted-income |    Female    |      Male     |     Total      |\n",
        "+------------------+--------------+---------------+----------------+\n",
        "|      <=50K       | 7218 (89.2%) | 11422 (70.0%) | 18640 (76.3%)  |\n",
        "|       >50K       | 876 (10.8%)  |  4905 (30.0%) |  5781 (23.7%)  |\n",
        "|      Total       | 8094 (33.1%) | 16327 (66.9%) | 24421 (100.0%) |\n",
        "+------------------+--------------+---------------+----------------+\n",
        "\n",
        "p-value = 1.86e-178 ; NMI = [0.0363, 0.0558]\n",
        "================================================================================\n",
        "\n",
        "Sub-Population of size 6791\n",
        "Context = {'education-num': (11.5, inf)}\n",
        "\n",
        "+------------------+--------------+--------------+---------------+\n",
        "| predicted-income |    Female    |     Male     |     Total     |\n",
        "+------------------+--------------+--------------+---------------+\n",
        "|      <=50K       | 1594 (76.4%) | 2156 (45.8%) |  3750 (55.2%) |\n",
        "|       >50K       | 492 (23.6%)  | 2549 (54.2%) |  3041 (44.8%) |\n",
        "|      Total       | 2086 (30.7%) | 4705 (69.3%) | 6791 (100.0%) |\n",
        "+------------------+--------------+--------------+---------------+\n",
        "\n",
        "p-value = 4.81e-124 ; NMI = [0.0487, 0.0907]\n",
        "--------------------------------------------------------------------------------\n",
        "\n",
        "Sub-Population of size 1371\n",
        "Context = {'education-num': (9.5, 11.5], 'age': (46.5, inf)}\n",
        "\n",
        "+------------------+-------------+-------------+---------------+\n",
        "| predicted-income |    Female   |     Male    |     Total     |\n",
        "+------------------+-------------+-------------+---------------+\n",
        "|      <=50K       | 423 (88.1%) | 497 (55.8%) |  920 (67.1%)  |\n",
        "|       >50K       |  57 (11.9%) | 394 (44.2%) |  451 (32.9%)  |\n",
        "|      Total       | 480 (35.0%) | 891 (65.0%) | 1371 (100.0%) |\n",
        "+------------------+-------------+-------------+---------------+\n",
        "\n",
        "p-value = 2.94e-35 ; NMI = [0.0484, 0.1557]\n",
        "--------------------------------------------------------------------------------\n",
        "\n",
        "Sub-Population of size 1054\n",
        "Context = {'education-num': (-inf, 9.5], 'occupation': 'Sales'}\n",
        "\n",
        "+------------------+-------------+-------------+---------------+\n",
        "| predicted-income |    Female   |     Male    |     Total     |\n",
        "+------------------+-------------+-------------+---------------+\n",
        "|      <=50K       | 464 (95.5%) | 416 (73.2%) |  880 (83.5%)  |\n",
        "|       >50K       |  22 (4.5%)  | 152 (26.8%) |  174 (16.5%)  |\n",
        "|      Total       | 486 (46.1%) | 568 (53.9%) | 1054 (100.0%) |\n",
        "+------------------+-------------+-------------+---------------+\n",
        "\n",
        "p-value = 1.71e-22 ; NMI = [0.0469, 0.2042]\n",
        "--------------------------------------------------------------------------------\n",
        "\n",
        "Sub-Population of size 654\n",
        "Context = {'education-num': (9.5, 11.5], 'age': (-inf, 46.5], 'occupation': 'Sales'}\n",
        "\n",
        "+------------------+-------------+-------------+--------------+\n",
        "| predicted-income |    Female   |     Male    |    Total     |\n",
        "+------------------+-------------+-------------+--------------+\n",
        "|      <=50K       | 262 (97.0%) | 287 (74.7%) | 549 (83.9%)  |\n",
        "|       >50K       |   8 (3.0%)  |  97 (25.3%) | 105 (16.1%)  |\n",
        "|      Total       | 270 (41.3%) | 384 (58.7%) | 654 (100.0%) |\n",
        "+------------------+-------------+-------------+--------------+\n",
        "\n",
        "p-value = 8.97e-15 ; NMI = [0.0399, 0.2490]\n",
        "--------------------------------------------------------------------------------\n",
        "\n",
        "Sub-Population of size 6469\n",
        "Context = {'education-num': (9.5, 11.5]}\n",
        "\n",
        "+------------------+--------------+--------------+---------------+\n",
        "| predicted-income |    Female    |     Male     |     Total     |\n",
        "+------------------+--------------+--------------+---------------+\n",
        "|      <=50K       | 2256 (92.1%) | 2942 (73.2%) |  5198 (80.4%) |\n",
        "|       >50K       |  193 (7.9%)  | 1078 (26.8%) |  1271 (19.6%) |\n",
        "|      Total       | 2449 (37.9%) | 4020 (62.1%) | 6469 (100.0%) |\n",
        "+------------------+--------------+--------------+---------------+"
       ]
      },
      {
       "output_type": "stream",
       "stream": "stdout",
       "text": [
        "\n",
        "\n",
        "p-value = 2.07e-83 ; NMI = [0.0397, 0.0845]\n",
        "--------------------------------------------------------------------------------\n",
        "\n",
        "Hierarchical printing of subpopulations (summary)\n",
        "\n",
        "================================================================================\n",
        "\n",
        " Context = {} ; CI = [0.0363, 0.0558]\n",
        "   Context = {'education-num': (-inf, 9.5], 'occupation': 'Sales'} ; CI = [0.0469, 0.2042]\n",
        "   Context = {'education-num': (9.5, 11.5]} ; CI = [0.0397, 0.0845]\n",
        "     Context = {'education-num': (9.5, 11.5], 'age': (-inf, 46.5], 'occupation': 'Sales'} ; CI = [0.0399, 0.2490]\n",
        "     Context = {'education-num': (9.5, 11.5], 'age': (46.5, inf)} ; CI = [0.0484, 0.1557]\n",
        "   Context = {'education-num': (11.5, inf)} ; CI = [0.0487, 0.0907]\n",
        "--------------------------------------------------------------------------------\n",
        "\n"
       ]
      }
     ],
     "prompt_number": 104
    },
    {
     "cell_type": "code",
     "collapsed": false,
     "input": [
      "import fairtest.bugreport.api2 as api2\n",
      "imp.reload(api2)\n",
      "\n",
      "'''\n",
      "data = pd.read_csv(\n",
      "            '../data/adult/adult.csv',\n",
      "            header=0,\n",
      "            sep=r'\\s*,\\s*',\n",
      "            engine='python',\n",
      "            na_values=\"?\")\n",
      "data = data.drop('fnlwgt', axis=1)\n",
      "#data['hours-per-week'] = map(lambda x: '\u226540' if x>=40 else '<40', data['hours-per-week'])\n",
      "TARGET = 'predicted-income'\n",
      "SENS = ['sex','race']\n",
      "EXPL = []\n",
      "'''\n",
      "\n",
      "data = pd.read_csv(\n",
      "            #'../data/images/lfw_black-white.txt',\n",
      "            '../data/images/overfeat_raw.txt',\n",
      "            header=0,\n",
      "            sep=r'\\s*\\t\\s*',\n",
      "            engine='python',\n",
      "            na_values=\"?\")\n",
      "TARGET = 'Labels'\n",
      "SENS = ['Race']\n",
      "EXPL = []\n",
      "labeled_data = map(lambda s: ast.literal_eval(s), data[TARGET])\n",
      "label_encoder = preprocessing.MultiLabelBinarizer()\n",
      "labeled_data = label_encoder.fit_transform(labeled_data)\n",
      "labels = label_encoder.classes_\n",
      "df_labels = pd.DataFrame(labeled_data, columns=labels)\n",
      "data = pd.concat([data.drop(TARGET, axis=1), df_labels], axis=1)\n",
      "TARGET = labels.tolist()\n",
      "\n",
      "FT2 = api2.Fairtest(data, SENS, TARGET, EXPL, random_state=RANDOM_SEED)"
     ],
     "language": "python",
     "metadata": {},
     "outputs": [],
     "prompt_number": 138
    },
    {
     "cell_type": "code",
     "collapsed": false,
     "input": [
      "imp.reload(cat_tree)\n",
      "FT2.train()"
     ],
     "language": "python",
     "metadata": {},
     "outputs": [
      {
       "output_type": "stream",
       "stream": "stdout",
       "text": [
        "TRAINING WITH SENSITIVE FEATURE Race\n",
        "targets = ['Afghan hound', 'African elephant', 'African grey', 'American Staffordshire terrier', 'American lobster', 'Arabian camel', 'Band Aid', 'Bedlington terrier', 'Bernese mountain dog', 'Blenheim spaniel', 'Boston bull', 'Bouvier des Flandres', 'Brabancon griffon', 'Brittany spaniel', 'CD player', 'Cardigan', 'Chesapeake Bay retriever', 'Chihuahua', 'Christmas stocking', 'Crock Pot', 'Dandie Dinmont', 'Doberman', 'Dungeness crab', 'Dutch oven', 'Egyptian cat', 'English foxhound', 'English springer', 'EntleBucher', 'Eskimo dog', 'French bulldog', 'French horn', 'French loaf', 'German short-haired pointer', 'Gila monster', 'Gordon setter', 'Granny Smith', 'Great Dane', 'Great Pyrenees', 'Greater Swiss Mountain dog', 'Ibizan hound', 'Indian cobra', 'Indian elephant', 'Irish setter', 'Irish terrier', 'Irish water spaniel', 'Irish wolfhound', 'Italian greyhound', 'Japanese spaniel', 'Kerry blue terrier', 'Komodo dragon', 'Labrador retriever', 'Leonberg', 'Loafer', 'Madagascar cat', 'Maltese dog', 'Mexican hairless', 'Model T', 'Newfoundland', 'Norwegian elkhound', 'Old English sheepdog', 'Pembroke', 'Petri dish', 'Polaroid camera', 'Pomeranian', 'Rhodesian ridgeback', 'Rottweiler', 'Saluki', 'Samoyed', 'Scotch terrier', 'Scottish deerhound', 'Sealyham terrier', 'Siamese cat', 'Siberian husky', 'Staffordshire bullterrier', 'Sussex spaniel', 'Tibetan mastiff', 'Weimaraner', 'Welsh springer spaniel', 'West Highland white terrier', 'Windsor tie', 'Yorkshire terrier', 'abacus', 'abaya', 'academic gown', 'accordion', 'acorn', 'acorn squash', 'acoustic guitar', 'admiral', 'affenpinscher', 'agama', 'aircraft carrier', 'airship', 'albatross', 'alp', 'altar', 'ambulance', 'amphibian', 'analog clock', 'apiary', 'apron', 'armadillo', 'artichoke', 'assault rifle', 'baboon', 'backpack', 'bagel', 'bakery', 'balance beam', 'balloon', 'ballplayer', 'ballpoint', 'banana', 'banjo', 'bannister', 'barbell', 'barber chair', 'barbershop', 'barn spider', 'barometer', 'barracouta', 'barrow', 'baseball', 'basenji', 'basketball', 'basset', 'bassinet', 'bassoon', 'bath towel', 'bathing cap', 'bathtub', 'beagle', 'beaker', 'bearskin', 'beer bottle', 'beer glass', 'bell cote', 'bib', 'bicycle-built-for-two', 'bighorn', 'bikini', 'binder', 'binoculars', 'birdhouse', 'black stork', 'black-and-tan coonhound', 'black-footed ferret', 'bloodhound', 'bluetick', 'boa constrictor', 'bobsled', 'bolete', 'bolo tie', 'bonnet', 'book jacket', 'bookcase', 'bookshop', 'bottlecap', 'bow', 'bow tie', 'boxer', 'brain coral', 'brassiere', 'breakwater', 'breastplate', 'broccoli', 'broom', 'bubble', 'bucket', 'buckeye', 'buckle', 'bull mastiff', 'bullet train', 'bulletproof vest', 'burrito', 'butcher shop', 'butternut squash', 'cab', 'caldron', 'can opener', 'candle', 'cannon', 'canoe', 'capuchin', 'car mirror', 'car wheel', 'carbonara', 'cardigan', 'carousel', 'carton', 'cash machine', 'cassette', 'cassette player', 'castle', 'catamaran', 'cauliflower', 'cello', 'cellular telephone', 'chain', 'chain mail', 'chain saw', 'chainlink fence', 'chambered nautilus', 'cheetah', 'chickadee', 'chiffonier', 'chime', 'chimpanzee', 'chiton', 'chocolate sauce', 'chow', 'cinema', 'cleaver', 'cliff', 'cliff dwelling', 'cloak', 'clog', 'clumber', 'cock', 'cocker spaniel', 'cockroach', 'cocktail shaker', 'coffee mug', 'coho', 'combination lock', 'comic book', 'common iguana', 'computer keyboard', 'conch', 'confectionery', 'coral reef', 'corkscrew', 'corn', 'cornet', 'coucal', 'cougar', 'cowboy boot', 'cowboy hat', 'cradle', 'crane', 'crash helmet', 'crayfish', 'crib', 'croquet ball', 'crossword puzzle', 'crutch', 'cucumber', 'cuirass', 'cup', 'curly-coated retriever', 'custard apple', 'dalmatian', 'desk', 'desktop computer', 'dial telephone', 'diamondback', 'diaper', 'digital watch', 'dining table', 'dishwasher', 'disk brake', 'dock', 'dogsled', 'doormat', 'dough', 'dragonfly', 'drilling platform', 'drum', 'drumstick', 'dugong', 'dumbbell', 'dung beetle', 'ear', 'echidna', 'eel', 'eft', 'eggnog', 'electric fan', 'electric guitar', 'electric ray', 'entertainment center', 'espresso', 'espresso maker', 'face powder', 'feather boa', 'fiddler crab', 'fig', 'file', 'fire engine', 'fireboat', 'flagpole', 'flamingo', 'flute', 'folding chair', 'football helmet', 'forklift', 'fountain', 'four-poster', 'fox squirrel', 'frilled lizard', 'frying pan', 'fur coat', 'gar', 'garbage truck', 'garter snake', 'gas pump', 'gasmask', 'gazelle', 'giant schnauzer', 'gibbon', 'go-kart', 'goblet', 'golden retriever', 'goldfish', 'golf ball', 'golfcart', 'gondola', 'gong', 'goose', 'gorilla', 'gown', 'grand piano', 'greenhouse', 'grocery store', 'groom', 'guacamole', 'guenon', 'guillotine', 'guinea pig', 'hair slide', 'hair spray', 'half track', 'hammer', 'hamper', 'hamster', 'hand blower', 'hand-held computer', 'harmonica', 'harp', 'hartebeest', 'harvester', 'hatchet', 'hay', 'head cabbage', 'hen-of-the-woods', 'hermit crab', 'hippopotamus', 'hog', 'holster', 'home theater', 'honeycomb', 'hook', 'hoopskirt', 'horizontal bar', 'hornbill', 'horned viper', 'horse cart', 'hot pot', 'hotdog', 'hourglass', 'hummingbird', 'iPod', 'ice cream', 'ice lolly', 'indigo bunting', 'iron', 'isopod', 'jacamar', \"jack-o'-lantern\", 'jackfruit', 'jean', 'jeep', 'jellyfish', 'jersey', 'jigsaw puzzle', 'jinrikisha', 'joystick', 'keeshond', 'kelpie', 'killer whale', 'kimono', 'king crab', 'king penguin', 'king snake', 'knee pad', 'knot', 'koala', 'komondor', 'kuvasz', 'lab coat', 'ladle', 'ladybug', 'lakeside', 'lampshade', 'langur', 'laptop', 'lawn mower', 'leatherback turtle', 'lens cap', 'leopard', 'library', 'lifeboat', 'lighter', 'limousine', 'liner', 'lion', 'lipstick', 'llama', 'loggerhead', 'lorikeet', 'lotion', 'loudspeaker', 'loupe', 'lumbermill', 'macaque', 'macaw', 'magpie', 'mailbag', 'mailbox', 'maillot', 'malamute', 'maraca', 'marimba', 'marmoset', 'mask', 'matchstick', 'maypole', 'maze', 'megalith', 'menu', 'microphone', 'microwave', 'military uniform', 'milk can', 'miniature pinscher', 'miniature poodle', 'miniature schnauzer', 'minibus', 'miniskirt', 'minivan', 'mitten', 'mixing bowl', 'monastery', 'monitor', 'moped', 'mortarboard', 'mosque', 'mosquito net', 'motor scooter', 'mountain bike', 'mountain tent', 'mouse', 'mousetrap', 'moving van', 'mud turtle', 'muzzle', 'nail', 'neck brace', 'necklace', 'nematode', 'night snake', 'nipple', 'notebook', 'oboe', 'ocarina', 'oil filter', 'orangutan', 'organ', 'oscilloscope', 'otterhound', 'overskirt', 'ox', 'oxcart', 'oxygen mask', 'paddle', 'padlock', 'paintbrush', 'pajama', 'panpipe', 'paper towel', 'papillon', 'parachute', 'parallel bars', 'park bench', 'parking meter', 'patas', 'patio', 'pay-phone', 'pedestal', 'pelican', 'pencil box', 'pencil sharpener', 'perfume', 'photocopier', 'pick', 'pickelhaube', 'picket fence', 'pickup', 'pier', 'piggy bank', 'pill bottle', 'pillow', 'pineapple', 'ping-pong ball', 'pinwheel', 'pitcher', 'plane', 'planetarium', 'plastic bag', 'plate', 'plate rack', 'platypus', 'plow', 'plunger', 'pole', 'polecat', 'police van', 'poncho', 'pool table', 'pop bottle', 'pot', \"potter's wheel\", 'power drill', 'prayer rug', 'pretzel', 'printer', 'prison', 'proboscis monkey', 'projectile', 'projector', 'puck', 'puffer', 'pug', 'punching bag', 'quill', 'quilt', 'racer', 'racket', 'radio', 'radio telescope', 'rain barrel', 'ram', 'rapeseed', 'recreational vehicle', 'red wine', 'redbone', 'reel', 'reflex camera', 'refrigerator', 'remote control', 'restaurant', 'revolver', 'rhinoceros beetle', 'rifle', 'ringlet', 'ringneck snake', 'rock beauty', 'rock crab', 'rock python', 'rocking chair', 'rotisserie', 'rugby ball', 'rule', 'running shoe', 'safe', 'safety pin', 'saltshaker', 'sandal', 'sandbar', 'sarong', 'sax', 'scabbard', 'scale', 'school bus', 'schooner', 'scoreboard', 'scorpion', 'screen', 'screw', 'screwdriver', 'scuba diver', 'sea cucumber', 'sea lion', 'sea snake', 'sea urchin', 'seashore', 'seat belt', 'sewing machine', 'shield', 'shoe shop', 'shoji', 'shopping basket', 'shopping cart', 'shovel', 'shower cap', 'shower curtain', 'siamang', 'sidewinder', 'ski', 'ski mask', 'sleeping bag', 'slide rule', 'sliding door', 'slot', 'slug', 'snorkel', 'snow leopard', 'snowmobile', 'snowplow', 'soap dispenser', 'soccer ball', 'sock', 'solar dish', 'sombrero', 'sorrel', 'soup bowl', 'space bar', 'space heater', 'space shuttle', 'spaghetti squash', 'spatula', 'speedboat', 'spider monkey', 'spindle', 'spotlight', 'spotted salamander', 'squirrel monkey', 'stage', 'standard poodle', 'starfish', 'steam locomotive', 'steel drum', 'stethoscope', 'stingray', 'stole', 'stone wall', 'stopwatch', 'strainer', 'strawberry', 'street sign', 'stretcher', 'studio couch', 'stupa', 'sturgeon', 'suit', 'sulphur-crested cockatoo', 'sunglass', 'sunglasses', 'sunscreen', 'suspension bridge', 'swab', 'sweatshirt', 'swimming trunks', 'swing', 'switch', 'syringe', 'tabby', 'tank', 'tape player', 'tarantula', 'teapot', 'teddy', 'television', 'tench', 'tennis ball', 'terrapin', 'thatch', 'theater curtain', 'thimble', 'thresher', 'throne', 'thunder snake', 'tick', 'tiger', 'tiger cat', 'tile roof', 'timber wolf', 'titi', 'toaster', 'tobacco shop', 'toilet seat', 'toilet tissue', 'torch', 'totem pole', 'toucan', 'tow truck', 'toy poodle', 'toy terrier', 'toyshop', 'tractor', 'traffic light', 'trench coat', 'triceratops', 'tricycle', 'trilobite', 'trimaran', 'tripod', 'triumphal arch', 'trombone', 'tub', 'turnstile', 'tusker', 'umbrella', 'unicycle', 'upright', 'vacuum', 'valley', 'vase', 'velvet', 'vending machine', 'vestment', 'vine snake', 'violin', 'vizsla', 'volleyball', 'vulture', 'walking stick', 'wallaby', 'wardrobe', 'warplane', 'warthog', 'washbasin', 'washer', 'water bottle', 'water buffalo', 'water jug', 'water snake', 'weasel', 'web site', 'whiskey jug', 'whistle', 'wig', 'window screen', 'window shade', 'wine bottle', 'wire-haired fox terrier', 'wok', 'wombat', 'wooden spoon', 'wool', 'worm fence', 'wreck', 'yurt', 'zebra', 'zucchini']\n",
        "contextual features = set([])\n",
        "dim = (None, 2)\n",
        "thresholds = {}\n"
       ]
      }
     ],
     "prompt_number": 139
    },
    {
     "cell_type": "code",
     "collapsed": false,
     "input": [
      "imp.reload(multitest)\n",
      "FT2.test()"
     ],
     "language": "python",
     "metadata": {},
     "outputs": [],
     "prompt_number": 140
    },
    {
     "cell_type": "code",
     "collapsed": false,
     "input": [
      "FT2.report(None)"
     ],
     "language": "python",
     "metadata": {},
     "outputs": [
      {
       "output_type": "stream",
       "stream": "stdout",
       "text": [
        "Global Population of size 1324\n",
        "\n",
        "Average MI of top-50 labels: 0.00791646258877\n",
        "\n",
        "                 conf low  conf high       p-value\n",
        "brassiere        0.066349   0.236681  1.477705e-24\n",
        "maillot          0.050269   0.181508  4.061346e-24\n",
        "bikini           0.043300   0.198357  1.942129e-17\n",
        "lipstick         0.035728   0.216990  1.119841e-12\n",
        "miniskirt        0.029604   0.181430  1.450646e-12\n",
        "tub              0.020362   0.353428  1.971099e-05\n",
        "face powder      0.019017   0.257575  2.008970e-06\n",
        "ski mask         0.017638   0.217217  7.127573e-07\n",
        "toyshop          0.016629   0.324644  4.902033e-05\n",
        "bearskin         0.012051   0.261441  9.797873e-05\n",
        "steel drum       0.009917   0.261169  3.362381e-04\n",
        "football helmet  0.009304   0.344793  2.485853e-03\n",
        "diaper           0.008722   0.182894  7.917387e-05\n",
        "mask             0.008603   0.139290  1.103724e-05\n",
        "bathtub          0.008041   0.285729  1.970613e-03\n",
        "gown             0.006113   0.146909  1.917250e-04\n",
        "stethoscope      0.005645   0.111855  5.349375e-05\n",
        "hand blower      0.004578   0.146549  1.078149e-03\n",
        "comic book       0.004268   0.193927  1.050491e-02\n",
        "velvet           0.003746   0.174004  1.255129e-02\n",
        "notebook         0.003746   0.174004  1.255129e-02\n",
        "panpipe          0.003610   0.161414  9.292692e-03\n",
        "bath towel       0.003236   0.149134  1.602926e-02\n",
        "seat belt        0.002045   0.091957  2.098081e-02\n",
        "hair spray       0.001737   0.078903  1.050491e-02\n",
        "Band Aid         0.001563   0.064979  5.237113e-03\n",
        "sarong           0.000000   0.045217  1.000000e+00\n",
        "drumstick        0.000000   0.095615  1.000000e+00\n",
        "rugby ball       0.000000   0.119301  1.000000e+00\n",
        "stole            0.000000   0.107525  6.880118e-01\n",
        "suit             0.000000   0.036431  1.000000e+00\n",
        "pajama           0.000000   0.052130  1.000000e+00\n",
        "acoustic guitar  0.000000   0.189521  1.000000e+00\n",
        "cowboy hat       0.000000   0.044639  1.000000e+00\n",
        "volleyball       0.000000   0.078163  1.000000e+00\n",
        "bolo tie         0.000000   0.112990  2.710967e-01\n",
        "maze             0.000000   0.484714  1.000000e+00\n",
        "umbrella         0.000000   0.155760  1.000000e+00\n",
        "cradle           0.000000   0.142140  1.000000e+00\n",
        "overskirt        0.000000   0.053060  1.000000e+00\n",
        "hair slide       0.000000   0.160879  8.963871e-01\n",
        "hoopskirt        0.000000   0.095615  1.000000e+00\n",
        "book jacket      0.000000   0.202613  8.695469e-01\n",
        "sombrero         0.000000   0.118116  1.000000e+00\n",
        "prison           0.000000   0.189521  1.000000e+00\n",
        "swing            0.000000   0.059349  1.000000e+00\n",
        "folding chair    0.000000   0.272834  1.000000e+00\n",
        "balance beam     0.000000   0.085626  1.000000e+00\n",
        "croquet ball     0.000000   0.193037  1.000000e+00\n",
        "bassoon          0.000000   0.116183  1.000000e+00\n",
        "\n",
        "+-----------+-------------+-------------+---------------+\n",
        "| brassiere |    Black    |    White    |     Total     |\n",
        "+-----------+-------------+-------------+---------------+\n",
        "|     0     | 681 (98.4%) | 522 (82.6%) |  1203 (90.9%) |\n",
        "|     1     |  11 (1.6%)  | 110 (17.4%) |   121 (9.1%)  |\n",
        "|   Total   | 692 (52.3%) | 632 (47.7%) | 1324 (100.0%) |\n",
        "+-----------+-------------+-------------+---------------+\n",
        "\n",
        "+---------+-------------+-------------+---------------+\n",
        "| maillot |    Black    |    White    |     Total     |\n",
        "+---------+-------------+-------------+---------------+\n",
        "|    0    | 662 (95.7%) | 484 (76.6%) |  1146 (86.6%) |\n",
        "|    1    |  30 (4.3%)  | 148 (23.4%) |  178 (13.4%)  |\n",
        "|  Total  | 692 (52.3%) | 632 (47.7%) | 1324 (100.0%) |\n",
        "+---------+-------------+-------------+---------------+"
       ]
      },
      {
       "output_type": "stream",
       "stream": "stdout",
       "text": [
        "\n",
        "\n",
        "+--------+-------------+-------------+---------------+\n",
        "| bikini |    Black    |    White    |     Total     |\n",
        "+--------+-------------+-------------+---------------+\n",
        "|   0    | 678 (98.0%) | 538 (85.1%) |  1216 (91.8%) |\n",
        "|   1    |  14 (2.0%)  |  94 (14.9%) |   108 (8.2%)  |\n",
        "| Total  | 692 (52.3%) | 632 (47.7%) | 1324 (100.0%) |\n",
        "+--------+-------------+-------------+---------------+\n",
        "\n",
        "+----------+-------------+-------------+---------------+\n",
        "| lipstick |    Black    |    White    |     Total     |\n",
        "+----------+-------------+-------------+---------------+\n",
        "|    0     | 685 (99.0%) | 570 (90.2%) |  1255 (94.8%) |\n",
        "|    1     |   7 (1.0%)  |  62 (9.8%)  |   69 (5.2%)   |\n",
        "|  Total   | 692 (52.3%) | 632 (47.7%) | 1324 (100.0%) |\n",
        "+----------+-------------+-------------+---------------+\n",
        "\n",
        "+-----------+-------------+-------------+---------------+\n",
        "| miniskirt |    Black    |    White    |     Total     |\n",
        "+-----------+-------------+-------------+---------------+\n",
        "|     0     | 679 (98.1%) | 557 (88.1%) |  1236 (93.4%) |\n",
        "|     1     |  13 (1.9%)  |  75 (11.9%) |   88 (6.6%)   |\n",
        "|   Total   | 692 (52.3%) | 632 (47.7%) | 1324 (100.0%) |\n",
        "+-----------+-------------+-------------+---------------+"
       ]
      },
      {
       "output_type": "stream",
       "stream": "stdout",
       "text": [
        "\n",
        "\n",
        "+-------+--------------+-------------+---------------+\n",
        "|  tub  |    Black     |    White    |     Total     |\n",
        "+-------+--------------+-------------+---------------+\n",
        "|   0   | 692 (100.0%) | 615 (97.3%) |  1307 (98.7%) |\n",
        "|   1   |   0 (0.0%)   |  17 (2.7%)  |   17 (1.3%)   |\n",
        "| Total | 692 (52.3%)  | 632 (47.7%) | 1324 (100.0%) |\n",
        "+-------+--------------+-------------+---------------+\n",
        "\n",
        "+-------------+-------------+-------------+---------------+\n",
        "| face powder |    Black    |    White    |     Total     |\n",
        "+-------------+-------------+-------------+---------------+\n",
        "|      0      | 690 (99.7%) | 604 (95.6%) |  1294 (97.7%) |\n",
        "|      1      |   2 (0.3%)  |  28 (4.4%)  |   30 (2.3%)   |\n",
        "|    Total    | 692 (52.3%) | 632 (47.7%) | 1324 (100.0%) |\n",
        "+-------------+-------------+-------------+---------------+\n",
        "\n",
        "+----------+-------------+-------------+---------------+\n",
        "| ski mask |    Black    |    White    |     Total     |\n",
        "+----------+-------------+-------------+---------------+\n",
        "|    0     | 655 (94.7%) | 629 (99.5%) |  1284 (97.0%) |\n",
        "|    1     |  37 (5.3%)  |   3 (0.5%)  |   40 (3.0%)   |\n",
        "|  Total   | 692 (52.3%) | 632 (47.7%) | 1324 (100.0%) |\n",
        "+----------+-------------+-------------+---------------+\n",
        "\n",
        "+---------+-------------+--------------+---------------+\n",
        "| toyshop |    Black    |    White     |     Total     |\n",
        "+---------+-------------+--------------+---------------+\n",
        "|    0    | 674 (97.4%) | 632 (100.0%) |  1306 (98.6%) |\n",
        "|    1    |  18 (2.6%)  |   0 (0.0%)   |   18 (1.4%)   |\n",
        "|  Total  | 692 (52.3%) | 632 (47.7%)  | 1324 (100.0%) |\n",
        "+---------+-------------+--------------+---------------+"
       ]
      },
      {
       "output_type": "stream",
       "stream": "stdout",
       "text": [
        "\n",
        "\n",
        "+----------+-------------+-------------+---------------+\n",
        "| bearskin |    Black    |    White    |     Total     |\n",
        "+----------+-------------+-------------+---------------+\n",
        "|    0     | 670 (96.8%) | 631 (99.8%) |  1301 (98.3%) |\n",
        "|    1     |  22 (3.2%)  |   1 (0.2%)  |   23 (1.7%)   |\n",
        "|  Total   | 692 (52.3%) | 632 (47.7%) | 1324 (100.0%) |\n",
        "+----------+-------------+-------------+---------------+\n",
        "\n",
        "+------------+-------------+-------------+---------------+\n",
        "| steel drum |    Black    |    White    |     Total     |\n",
        "+------------+-------------+-------------+---------------+\n",
        "|     0      | 672 (97.1%) | 631 (99.8%) |  1303 (98.4%) |\n",
        "|     1      |  20 (2.9%)  |   1 (0.2%)  |   21 (1.6%)   |\n",
        "|   Total    | 692 (52.3%) | 632 (47.7%) | 1324 (100.0%) |\n",
        "+------------+-------------+-------------+---------------+\n",
        "\n",
        "+-----------------+-------------+--------------+---------------+\n",
        "| football helmet |    Black    |    White     |     Total     |\n",
        "+-----------------+-------------+--------------+---------------+\n",
        "|        0        | 680 (98.3%) | 632 (100.0%) |  1312 (99.1%) |\n",
        "|        1        |  12 (1.7%)  |   0 (0.0%)   |   12 (0.9%)   |\n",
        "|      Total      | 692 (52.3%) | 632 (47.7%)  | 1324 (100.0%) |\n",
        "+-----------------+-------------+--------------+---------------+\n",
        "\n",
        "+--------+-------------+-------------+---------------+\n",
        "| diaper |    Black    |    White    |     Total     |\n",
        "+--------+-------------+-------------+---------------+\n",
        "|   0    | 686 (99.1%) | 600 (94.9%) |  1286 (97.1%) |\n",
        "|   1    |   6 (0.9%)  |  32 (5.1%)  |   38 (2.9%)   |\n",
        "| Total  | 692 (52.3%) | 632 (47.7%) | 1324 (100.0%) |\n",
        "+--------+-------------+-------------+---------------+"
       ]
      },
      {
       "output_type": "stream",
       "stream": "stdout",
       "text": [
        "\n",
        "\n",
        "+-------+-------------+-------------+---------------+\n",
        "|  mask |    Black    |    White    |     Total     |\n",
        "+-------+-------------+-------------+---------------+\n",
        "|   0   | 640 (92.5%) | 621 (98.3%) |  1261 (95.2%) |\n",
        "|   1   |  52 (7.5%)  |  11 (1.7%)  |   63 (4.8%)   |\n",
        "| Total | 692 (52.3%) | 632 (47.7%) | 1324 (100.0%) |\n",
        "+-------+-------------+-------------+---------------+\n",
        "\n",
        "+---------+-------------+-------------+---------------+\n",
        "| bathtub |    Black    |    White    |     Total     |\n",
        "+---------+-------------+-------------+---------------+\n",
        "|    0    | 691 (99.9%) | 617 (97.6%) |  1308 (98.8%) |\n",
        "|    1    |   1 (0.1%)  |  15 (2.4%)  |   16 (1.2%)   |\n",
        "|  Total  | 692 (52.3%) | 632 (47.7%) | 1324 (100.0%) |\n",
        "+---------+-------------+-------------+---------------+\n",
        "\n",
        "+-------+-------------+-------------+---------------+\n",
        "|  gown |    Black    |    White    |     Total     |\n",
        "+-------+-------------+-------------+---------------+\n",
        "|   0   | 682 (98.6%) | 594 (94.0%) |  1276 (96.4%) |\n",
        "|   1   |  10 (1.4%)  |  38 (6.0%)  |   48 (3.6%)   |\n",
        "| Total | 692 (52.3%) | 632 (47.7%) | 1324 (100.0%) |\n",
        "+-------+-------------+-------------+---------------+\n",
        "\n",
        "+-------------+-------------+-------------+---------------+\n",
        "| stethoscope |    Black    |    White    |     Total     |\n",
        "+-------------+-------------+-------------+---------------+\n",
        "|      0      | 672 (97.1%) | 575 (91.0%) |  1247 (94.2%) |\n",
        "|      1      |  20 (2.9%)  |  57 (9.0%)  |   77 (5.8%)   |\n",
        "|    Total    | 692 (52.3%) | 632 (47.7%) | 1324 (100.0%) |\n",
        "+-------------+-------------+-------------+---------------+"
       ]
      },
      {
       "output_type": "stream",
       "stream": "stdout",
       "text": [
        "\n",
        "\n",
        "+-------------+-------------+-------------+---------------+\n",
        "| hand blower |    Black    |    White    |     Total     |\n",
        "+-------------+-------------+-------------+---------------+\n",
        "|      0      | 683 (98.7%) | 599 (94.8%) |  1282 (96.8%) |\n",
        "|      1      |   9 (1.3%)  |  33 (5.2%)  |   42 (3.2%)   |\n",
        "|    Total    | 692 (52.3%) | 632 (47.7%) | 1324 (100.0%) |\n",
        "+-------------+-------------+-------------+---------------+\n",
        "\n",
        "+------------+-------------+-------------+---------------+\n",
        "| comic book |    Black    |    White    |     Total     |\n",
        "+------------+-------------+-------------+---------------+\n",
        "|     0      | 672 (97.1%) | 629 (99.5%) |  1301 (98.3%) |\n",
        "|     1      |  20 (2.9%)  |   3 (0.5%)  |   23 (1.7%)   |\n",
        "|   Total    | 692 (52.3%) | 632 (47.7%) | 1324 (100.0%) |\n",
        "+------------+-------------+-------------+---------------+\n",
        "\n",
        "+--------+-------------+-------------+---------------+\n",
        "| velvet |    Black    |    White    |     Total     |\n",
        "+--------+-------------+-------------+---------------+\n",
        "|   0    | 687 (99.3%) | 611 (96.7%) |  1298 (98.0%) |\n",
        "|   1    |   5 (0.7%)  |  21 (3.3%)  |   26 (2.0%)   |\n",
        "| Total  | 692 (52.3%) | 632 (47.7%) | 1324 (100.0%) |\n",
        "+--------+-------------+-------------+---------------+"
       ]
      },
      {
       "output_type": "stream",
       "stream": "stdout",
       "text": [
        "\n",
        "\n",
        "+----------+-------------+-------------+---------------+\n",
        "| notebook |    Black    |    White    |     Total     |\n",
        "+----------+-------------+-------------+---------------+\n",
        "|    0     | 687 (99.3%) | 611 (96.7%) |  1298 (98.0%) |\n",
        "|    1     |   5 (0.7%)  |  21 (3.3%)  |   26 (2.0%)   |\n",
        "|  Total   | 692 (52.3%) | 632 (47.7%) | 1324 (100.0%) |\n",
        "+----------+-------------+-------------+---------------+\n",
        "\n",
        "+---------+-------------+-------------+---------------+\n",
        "| panpipe |    Black    |    White    |     Total     |\n",
        "+---------+-------------+-------------+---------------+\n",
        "|    0    | 667 (96.4%) | 627 (99.2%) |  1294 (97.7%) |\n",
        "|    1    |  25 (3.6%)  |   5 (0.8%)  |   30 (2.3%)   |\n",
        "|  Total  | 692 (52.3%) | 632 (47.7%) | 1324 (100.0%) |\n",
        "+---------+-------------+-------------+---------------+\n",
        "\n",
        "+------------+-------------+-------------+---------------+\n",
        "| bath towel |    Black    |    White    |     Total     |\n",
        "+------------+-------------+-------------+---------------+\n",
        "|     0      | 685 (99.0%) | 608 (96.2%) |  1293 (97.7%) |\n",
        "|     1      |   7 (1.0%)  |  24 (3.8%)  |   31 (2.3%)   |\n",
        "|   Total    | 692 (52.3%) | 632 (47.7%) | 1324 (100.0%) |\n",
        "+------------+-------------+-------------+---------------+"
       ]
      },
      {
       "output_type": "stream",
       "stream": "stdout",
       "text": [
        "\n",
        "\n",
        "+-----------+-------------+-------------+---------------+\n",
        "| seat belt |    Black    |    White    |     Total     |\n",
        "+-----------+-------------+-------------+---------------+\n",
        "|     0     | 674 (97.4%) | 592 (93.7%) |  1266 (95.6%) |\n",
        "|     1     |  18 (2.6%)  |  40 (6.3%)  |   58 (4.4%)   |\n",
        "|   Total   | 692 (52.3%) | 632 (47.7%) | 1324 (100.0%) |\n",
        "+-----------+-------------+-------------+---------------+\n",
        "\n",
        "+------------+-------------+-------------+---------------+\n",
        "| hair spray |    Black    |    White    |     Total     |\n",
        "+------------+-------------+-------------+---------------+\n",
        "|     0      | 666 (96.2%) | 579 (91.6%) |  1245 (94.0%) |\n",
        "|     1      |  26 (3.8%)  |  53 (8.4%)  |   79 (6.0%)   |\n",
        "|   Total    | 692 (52.3%) | 632 (47.7%) | 1324 (100.0%) |\n",
        "+------------+-------------+-------------+---------------+\n",
        "\n",
        "+----------+-------------+-------------+---------------+\n",
        "| Band Aid |    Black    |    White    |     Total     |\n",
        "+----------+-------------+-------------+---------------+\n",
        "|    0     | 652 (94.2%) | 559 (88.4%) |  1211 (91.5%) |\n",
        "|    1     |  40 (5.8%)  |  73 (11.6%) |   113 (8.5%)  |\n",
        "|  Total   | 692 (52.3%) | 632 (47.7%) | 1324 (100.0%) |\n",
        "+----------+-------------+-------------+---------------+\n",
        "\n",
        "+--------+-------------+-------------+---------------+\n",
        "| sarong |    Black    |    White    |     Total     |\n",
        "+--------+-------------+-------------+---------------+\n",
        "|   0    | 671 (97.0%) | 607 (96.0%) |  1278 (96.5%) |\n",
        "|   1    |  21 (3.0%)  |  25 (4.0%)  |   46 (3.5%)   |\n",
        "| Total  | 692 (52.3%) | 632 (47.7%) | 1324 (100.0%) |\n",
        "+--------+-------------+-------------+---------------+"
       ]
      },
      {
       "output_type": "stream",
       "stream": "stdout",
       "text": [
        "\n",
        "\n",
        "+-----------+-------------+-------------+---------------+\n",
        "| drumstick |    Black    |    White    |     Total     |\n",
        "+-----------+-------------+-------------+---------------+\n",
        "|     0     | 684 (98.8%) | 619 (97.9%) |  1303 (98.4%) |\n",
        "|     1     |   8 (1.2%)  |  13 (2.1%)  |   21 (1.6%)   |\n",
        "|   Total   | 692 (52.3%) | 632 (47.7%) | 1324 (100.0%) |\n",
        "+-----------+-------------+-------------+---------------+\n",
        "\n",
        "+------------+-------------+-------------+---------------+\n",
        "| rugby ball |    Black    |    White    |     Total     |\n",
        "+------------+-------------+-------------+---------------+\n",
        "|     0      | 685 (99.0%) | 628 (99.4%) |  1313 (99.2%) |\n",
        "|     1      |   7 (1.0%)  |   4 (0.6%)  |   11 (0.8%)   |\n",
        "|   Total    | 692 (52.3%) | 632 (47.7%) | 1324 (100.0%) |\n",
        "+------------+-------------+-------------+---------------+\n",
        "\n",
        "+-------+-------------+-------------+---------------+\n",
        "| stole |    Black    |    White    |     Total     |\n",
        "+-------+-------------+-------------+---------------+\n",
        "|   0   | 683 (98.7%) | 613 (97.0%) |  1296 (97.9%) |\n",
        "|   1   |   9 (1.3%)  |  19 (3.0%)  |   28 (2.1%)   |\n",
        "| Total | 692 (52.3%) | 632 (47.7%) | 1324 (100.0%) |\n",
        "+-------+-------------+-------------+---------------+"
       ]
      },
      {
       "output_type": "stream",
       "stream": "stdout",
       "text": [
        "\n",
        "\n",
        "+-------+-------------+-------------+---------------+\n",
        "|  suit |    Black    |    White    |     Total     |\n",
        "+-------+-------------+-------------+---------------+\n",
        "|   0   | 625 (90.3%) | 589 (93.2%) |  1214 (91.7%) |\n",
        "|   1   |  67 (9.7%)  |  43 (6.8%)  |   110 (8.3%)  |\n",
        "| Total | 692 (52.3%) | 632 (47.7%) | 1324 (100.0%) |\n",
        "+-------+-------------+-------------+---------------+\n",
        "\n",
        "+--------+-------------+-------------+---------------+\n",
        "| pajama |    Black    |    White    |     Total     |\n",
        "+--------+-------------+-------------+---------------+\n",
        "|   0    | 676 (97.7%) | 613 (97.0%) |  1289 (97.4%) |\n",
        "|   1    |  16 (2.3%)  |  19 (3.0%)  |   35 (2.6%)   |\n",
        "| Total  | 692 (52.3%) | 632 (47.7%) | 1324 (100.0%) |\n",
        "+--------+-------------+-------------+---------------+"
       ]
      },
      {
       "output_type": "stream",
       "stream": "stdout",
       "text": [
        "\n",
        "\n",
        "+-----------------+-------------+-------------+---------------+\n",
        "| acoustic guitar |    Black    |    White    |     Total     |\n",
        "+-----------------+-------------+-------------+---------------+\n",
        "|        0        | 686 (99.1%) | 630 (99.7%) |  1316 (99.4%) |\n",
        "|        1        |   6 (0.9%)  |   2 (0.3%)  |    8 (0.6%)   |\n",
        "|      Total      | 692 (52.3%) | 632 (47.7%) | 1324 (100.0%) |\n",
        "+-----------------+-------------+-------------+---------------+\n",
        "\n",
        "+------------+-------------+-------------+---------------+\n",
        "| cowboy hat |    Black    |    White    |     Total     |\n",
        "+------------+-------------+-------------+---------------+\n",
        "|     0      | 661 (95.5%) | 611 (96.7%) |  1272 (96.1%) |\n",
        "|     1      |  31 (4.5%)  |  21 (3.3%)  |   52 (3.9%)   |\n",
        "|   Total    | 692 (52.3%) | 632 (47.7%) | 1324 (100.0%) |\n",
        "+------------+-------------+-------------+---------------+"
       ]
      },
      {
       "output_type": "stream",
       "stream": "stdout",
       "text": [
        "\n",
        "\n",
        "+------------+-------------+-------------+---------------+\n",
        "| volleyball |    Black    |    White    |     Total     |\n",
        "+------------+-------------+-------------+---------------+\n",
        "|     0      | 686 (99.1%) | 626 (99.1%) |  1312 (99.1%) |\n",
        "|     1      |   6 (0.9%)  |   6 (0.9%)  |   12 (0.9%)   |\n",
        "|   Total    | 692 (52.3%) | 632 (47.7%) | 1324 (100.0%) |\n",
        "+------------+-------------+-------------+---------------+\n",
        "\n",
        "+----------+-------------+-------------+---------------+\n",
        "| bolo tie |    Black    |    White    |     Total     |\n",
        "+----------+-------------+-------------+---------------+\n",
        "|    0     | 669 (96.7%) | 624 (98.7%) |  1293 (97.7%) |\n",
        "|    1     |  23 (3.3%)  |   8 (1.3%)  |   31 (2.3%)   |\n",
        "|  Total   | 692 (52.3%) | 632 (47.7%) | 1324 (100.0%) |\n",
        "+----------+-------------+-------------+---------------+"
       ]
      },
      {
       "output_type": "stream",
       "stream": "stdout",
       "text": [
        "\n",
        "\n",
        "+-------+-------------+--------------+---------------+\n",
        "|  maze |    Black    |    White     |     Total     |\n",
        "+-------+-------------+--------------+---------------+\n",
        "|   0   | 691 (99.9%) | 632 (100.0%) |  1323 (99.9%) |\n",
        "|   1   |   1 (0.1%)  |   0 (0.0%)   |    1 (0.1%)   |\n",
        "| Total | 692 (52.3%) | 632 (47.7%)  | 1324 (100.0%) |\n",
        "+-------+-------------+--------------+---------------+\n",
        "\n",
        "+----------+-------------+-------------+---------------+\n",
        "| umbrella |    Black    |    White    |     Total     |\n",
        "+----------+-------------+-------------+---------------+\n",
        "|    0     | 688 (99.4%) | 622 (98.4%) |  1310 (98.9%) |\n",
        "|    1     |   4 (0.6%)  |  10 (1.6%)  |   14 (1.1%)   |\n",
        "|  Total   | 692 (52.3%) | 632 (47.7%) | 1324 (100.0%) |\n",
        "+----------+-------------+-------------+---------------+\n",
        "\n",
        "+--------+-------------+-------------+---------------+\n",
        "| cradle |    Black    |    White    |     Total     |\n",
        "+--------+-------------+-------------+---------------+\n",
        "|   0    | 689 (99.6%) | 628 (99.4%) |  1317 (99.5%) |\n",
        "|   1    |   3 (0.4%)  |   4 (0.6%)  |    7 (0.5%)   |\n",
        "| Total  | 692 (52.3%) | 632 (47.7%) | 1324 (100.0%) |\n",
        "+--------+-------------+-------------+---------------+"
       ]
      },
      {
       "output_type": "stream",
       "stream": "stdout",
       "text": [
        "\n",
        "\n",
        "+-----------+-------------+-------------+---------------+\n",
        "| overskirt |    Black    |    White    |     Total     |\n",
        "+-----------+-------------+-------------+---------------+\n",
        "|     0     | 672 (97.1%) | 618 (97.8%) |  1290 (97.4%) |\n",
        "|     1     |  20 (2.9%)  |  14 (2.2%)  |   34 (2.6%)   |\n",
        "|   Total   | 692 (52.3%) | 632 (47.7%) | 1324 (100.0%) |\n",
        "+-----------+-------------+-------------+---------------+\n",
        "\n",
        "+------------+-------------+-------------+---------------+\n",
        "| hair slide |    Black    |    White    |     Total     |\n",
        "+------------+-------------+-------------+---------------+\n",
        "|     0      | 688 (99.4%) | 621 (98.3%) |  1309 (98.9%) |\n",
        "|     1      |   4 (0.6%)  |  11 (1.7%)  |   15 (1.1%)   |\n",
        "|   Total    | 692 (52.3%) | 632 (47.7%) | 1324 (100.0%) |\n",
        "+------------+-------------+-------------+---------------+\n",
        "\n",
        "+-----------+-------------+-------------+---------------+\n",
        "| hoopskirt |    Black    |    White    |     Total     |\n",
        "+-----------+-------------+-------------+---------------+\n",
        "|     0     | 684 (98.8%) | 619 (97.9%) |  1303 (98.4%) |\n",
        "|     1     |   8 (1.2%)  |  13 (2.1%)  |   21 (1.6%)   |\n",
        "|   Total   | 692 (52.3%) | 632 (47.7%) | 1324 (100.0%) |\n",
        "+-----------+-------------+-------------+---------------+\n",
        "\n",
        "+-------------+-------------+-------------+---------------+\n",
        "| book jacket |    Black    |    White    |     Total     |\n",
        "+-------------+-------------+-------------+---------------+\n",
        "|      0      | 683 (98.7%) | 630 (99.7%) |  1313 (99.2%) |\n",
        "|      1      |   9 (1.3%)  |   2 (0.3%)  |   11 (0.8%)   |\n",
        "|    Total    | 692 (52.3%) | 632 (47.7%) | 1324 (100.0%) |\n",
        "+-------------+-------------+-------------+---------------+"
       ]
      },
      {
       "output_type": "stream",
       "stream": "stdout",
       "text": [
        "\n",
        "\n",
        "+----------+-------------+-------------+---------------+\n",
        "| sombrero |    Black    |    White    |     Total     |\n",
        "+----------+-------------+-------------+---------------+\n",
        "|    0     | 681 (98.4%) | 627 (99.2%) |  1308 (98.8%) |\n",
        "|    1     |  11 (1.6%)  |   5 (0.8%)  |   16 (1.2%)   |\n",
        "|  Total   | 692 (52.3%) | 632 (47.7%) | 1324 (100.0%) |\n",
        "+----------+-------------+-------------+---------------+\n",
        "\n",
        "+--------+-------------+-------------+---------------+\n",
        "| prison |    Black    |    White    |     Total     |\n",
        "+--------+-------------+-------------+---------------+\n",
        "|   0    | 686 (99.1%) | 630 (99.7%) |  1316 (99.4%) |\n",
        "|   1    |   6 (0.9%)  |   2 (0.3%)  |    8 (0.6%)   |\n",
        "| Total  | 692 (52.3%) | 632 (47.7%) | 1324 (100.0%) |\n",
        "+--------+-------------+-------------+---------------+\n",
        "\n",
        "+-------+-------------+-------------+---------------+\n",
        "| swing |    Black    |    White    |     Total     |\n",
        "+-------+-------------+-------------+---------------+\n",
        "|   0   | 684 (98.8%) | 625 (98.9%) |  1309 (98.9%) |\n",
        "|   1   |   8 (1.2%)  |   7 (1.1%)  |   15 (1.1%)   |\n",
        "| Total | 692 (52.3%) | 632 (47.7%) | 1324 (100.0%) |\n",
        "+-------+-------------+-------------+---------------+\n",
        "\n",
        "+---------------+-------------+-------------+---------------+\n",
        "| folding chair |    Black    |    White    |     Total     |\n",
        "+---------------+-------------+-------------+---------------+\n",
        "|       0       | 691 (99.9%) | 628 (99.4%) |  1319 (99.6%) |\n",
        "|       1       |   1 (0.1%)  |   4 (0.6%)  |    5 (0.4%)   |\n",
        "|     Total     | 692 (52.3%) | 632 (47.7%) | 1324 (100.0%) |\n",
        "+---------------+-------------+-------------+---------------+"
       ]
      },
      {
       "output_type": "stream",
       "stream": "stdout",
       "text": [
        "\n",
        "\n",
        "+--------------+-------------+-------------+---------------+\n",
        "| balance beam |    Black    |    White    |     Total     |\n",
        "+--------------+-------------+-------------+---------------+\n",
        "|      0       | 682 (98.6%) | 616 (97.5%) |  1298 (98.0%) |\n",
        "|      1       |  10 (1.4%)  |  16 (2.5%)  |   26 (2.0%)   |\n",
        "|    Total     | 692 (52.3%) | 632 (47.7%) | 1324 (100.0%) |\n",
        "+--------------+-------------+-------------+---------------+\n",
        "\n",
        "+--------------+-------------+-------------+---------------+\n",
        "| croquet ball |    Black    |    White    |     Total     |\n",
        "+--------------+-------------+-------------+---------------+\n",
        "|      0       | 690 (99.7%) | 628 (99.4%) |  1318 (99.5%) |\n",
        "|      1       |   2 (0.3%)  |   4 (0.6%)  |    6 (0.5%)   |\n",
        "|    Total     | 692 (52.3%) | 632 (47.7%) | 1324 (100.0%) |\n",
        "+--------------+-------------+-------------+---------------+\n",
        "\n",
        "+---------+-------------+-------------+---------------+\n",
        "| bassoon |    Black    |    White    |     Total     |\n",
        "+---------+-------------+-------------+---------------+\n",
        "|    0    | 677 (97.8%) | 626 (99.1%) |  1303 (98.4%) |\n",
        "|    1    |  15 (2.2%)  |   6 (0.9%)  |   21 (1.6%)   |\n",
        "|  Total  | 692 (52.3%) | 632 (47.7%) | 1324 (100.0%) |\n",
        "+---------+-------------+-------------+---------------+"
       ]
      },
      {
       "output_type": "stream",
       "stream": "stdout",
       "text": [
        "\n",
        "\n",
        "================================================================================\n",
        "\n",
        "Hierarchical printing of subpopulations (summary)\n",
        "\n",
        "================================================================================\n",
        "\n",
        " Context = {} ; Avg Effect = 0.0079\n",
        "--------------------------------------------------------------------------------\n",
        "\n"
       ]
      }
     ],
     "prompt_number": 141
    },
    {
     "cell_type": "code",
     "collapsed": false,
     "input": [],
     "language": "python",
     "metadata": {},
     "outputs": []
    }
   ],
   "metadata": {}
  }
 ]
}