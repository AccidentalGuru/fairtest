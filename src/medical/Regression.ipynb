{
 "metadata": {
  "name": "",
  "signature": "sha256:9f585bc82181f7a775fbe14cf2379194b33b2b95ae2b146e32469c7450f73147"
 },
 "nbformat": 3,
 "nbformat_minor": 0,
 "worksheets": [
  {
   "cells": [
    {
     "cell_type": "code",
     "collapsed": false,
     "input": [
      "import pandas as pd\n",
      "import numpy as np\n",
      "import scipy.stats as stats\n",
      "from collections import Counter\n",
      "import sklearn.preprocessing as preprocessing\n",
      "import sklearn.linear_model as linear_model\n",
      "import sklearn.cross_validation as cross_validation\n",
      "import sklearn.metrics as metrics\n",
      "import sklearn.ensemble as ensemble\n",
      "import sklearn.svm as svm\n",
      "import seaborn as sns"
     ],
     "language": "python",
     "metadata": {},
     "outputs": [],
     "prompt_number": 1
    },
    {
     "cell_type": "code",
     "collapsed": false,
     "input": [
      "original_data = pd.read_csv(\n",
      "    \"../../data/medical/heritage_data.csv\",\n",
      "    header=0,\n",
      "    sep=',',\n",
      "    engine='python',\n",
      "    na_values=\"?\")\n",
      "\n",
      "original_data.tail()"
     ],
     "language": "python",
     "metadata": {},
     "outputs": [
      {
       "html": [
        "<div style=\"max-height:1000px;max-width:1500px;overflow:auto;\">\n",
        "<table border=\"1\" class=\"dataframe\">\n",
        "  <thead>\n",
        "    <tr style=\"text-align: right;\">\n",
        "      <th></th>\n",
        "      <th>\ufeffMemberID_t</th>\n",
        "      <th>YEAR_t</th>\n",
        "      <th>ClaimsTruncated</th>\n",
        "      <th>DaysInHospital</th>\n",
        "      <th>trainset</th>\n",
        "      <th>age_05</th>\n",
        "      <th>age_15</th>\n",
        "      <th>age_25</th>\n",
        "      <th>age_35</th>\n",
        "      <th>age_45</th>\n",
        "      <th>...</th>\n",
        "      <th>drugCount_max</th>\n",
        "      <th>drugCount_min</th>\n",
        "      <th>drugCount_ave</th>\n",
        "      <th>drugcount_months</th>\n",
        "      <th>labCount_max</th>\n",
        "      <th>labCount_min</th>\n",
        "      <th>labCount_ave</th>\n",
        "      <th>labcount_months</th>\n",
        "      <th>labNull</th>\n",
        "      <th>drugNull</th>\n",
        "    </tr>\n",
        "  </thead>\n",
        "  <tbody>\n",
        "    <tr>\n",
        "      <th>218409</th>\n",
        "      <td>16622402</td>\n",
        "      <td>Y2</td>\n",
        "      <td>0</td>\n",
        "      <td>0</td>\n",
        "      <td>1</td>\n",
        "      <td>0</td>\n",
        "      <td>0</td>\n",
        "      <td>0</td>\n",
        "      <td>0</td>\n",
        "      <td>1</td>\n",
        "      <td>...</td>\n",
        "      <td>4</td>\n",
        "      <td>3</td>\n",
        "      <td>3.181818</td>\n",
        "      <td>11</td>\n",
        "      <td>9</td>\n",
        "      <td>1</td>\n",
        "      <td>5.0</td>\n",
        "      <td>2</td>\n",
        "      <td>0</td>\n",
        "      <td>0</td>\n",
        "    </tr>\n",
        "    <tr>\n",
        "      <th>218410</th>\n",
        "      <td>16622477</td>\n",
        "      <td>Y2</td>\n",
        "      <td>0</td>\n",
        "      <td>0</td>\n",
        "      <td>1</td>\n",
        "      <td>0</td>\n",
        "      <td>0</td>\n",
        "      <td>0</td>\n",
        "      <td>0</td>\n",
        "      <td>0</td>\n",
        "      <td>...</td>\n",
        "      <td>1</td>\n",
        "      <td>1</td>\n",
        "      <td>1.000000</td>\n",
        "      <td>2</td>\n",
        "      <td>0</td>\n",
        "      <td>0</td>\n",
        "      <td>0.0</td>\n",
        "      <td>0</td>\n",
        "      <td>1</td>\n",
        "      <td>0</td>\n",
        "    </tr>\n",
        "    <tr>\n",
        "      <th>218411</th>\n",
        "      <td>16674403</td>\n",
        "      <td>Y2</td>\n",
        "      <td>0</td>\n",
        "      <td>0</td>\n",
        "      <td>1</td>\n",
        "      <td>0</td>\n",
        "      <td>0</td>\n",
        "      <td>0</td>\n",
        "      <td>0</td>\n",
        "      <td>0</td>\n",
        "      <td>...</td>\n",
        "      <td>2</td>\n",
        "      <td>1</td>\n",
        "      <td>1.200000</td>\n",
        "      <td>5</td>\n",
        "      <td>4</td>\n",
        "      <td>1</td>\n",
        "      <td>2.5</td>\n",
        "      <td>2</td>\n",
        "      <td>0</td>\n",
        "      <td>0</td>\n",
        "    </tr>\n",
        "    <tr>\n",
        "      <th>218412</th>\n",
        "      <td>16819725</td>\n",
        "      <td>Y2</td>\n",
        "      <td>0</td>\n",
        "      <td>0</td>\n",
        "      <td>1</td>\n",
        "      <td>0</td>\n",
        "      <td>0</td>\n",
        "      <td>0</td>\n",
        "      <td>0</td>\n",
        "      <td>1</td>\n",
        "      <td>...</td>\n",
        "      <td>3</td>\n",
        "      <td>1</td>\n",
        "      <td>1.714285</td>\n",
        "      <td>7</td>\n",
        "      <td>6</td>\n",
        "      <td>6</td>\n",
        "      <td>6.0</td>\n",
        "      <td>1</td>\n",
        "      <td>0</td>\n",
        "      <td>0</td>\n",
        "    </tr>\n",
        "    <tr>\n",
        "      <th>218413</th>\n",
        "      <td>16942180</td>\n",
        "      <td>Y2</td>\n",
        "      <td>1</td>\n",
        "      <td>0</td>\n",
        "      <td>1</td>\n",
        "      <td>0</td>\n",
        "      <td>0</td>\n",
        "      <td>0</td>\n",
        "      <td>0</td>\n",
        "      <td>1</td>\n",
        "      <td>...</td>\n",
        "      <td>2</td>\n",
        "      <td>1</td>\n",
        "      <td>1.222222</td>\n",
        "      <td>9</td>\n",
        "      <td>9</td>\n",
        "      <td>1</td>\n",
        "      <td>3.2</td>\n",
        "      <td>10</td>\n",
        "      <td>0</td>\n",
        "      <td>0</td>\n",
        "    </tr>\n",
        "  </tbody>\n",
        "</table>\n",
        "<p>5 rows \u00d7 143 columns</p>\n",
        "</div>"
       ],
       "metadata": {},
       "output_type": "pyout",
       "prompt_number": 2,
       "text": [
        "        \ufeffMemberID_t YEAR_t  ClaimsTruncated  DaysInHospital  trainset  age_05  \\\n",
        "218409     16622402     Y2                0               0         1       0   \n",
        "218410     16622477     Y2                0               0         1       0   \n",
        "218411     16674403     Y2                0               0         1       0   \n",
        "218412     16819725     Y2                0               0         1       0   \n",
        "218413     16942180     Y2                1               0         1       0   \n",
        "\n",
        "        age_15  age_25  age_35  age_45    ...     drugCount_max  \\\n",
        "218409       0       0       0       1    ...                 4   \n",
        "218410       0       0       0       0    ...                 1   \n",
        "218411       0       0       0       0    ...                 2   \n",
        "218412       0       0       0       1    ...                 3   \n",
        "218413       0       0       0       1    ...                 2   \n",
        "\n",
        "        drugCount_min  drugCount_ave  drugcount_months  labCount_max  \\\n",
        "218409              3       3.181818                11             9   \n",
        "218410              1       1.000000                 2             0   \n",
        "218411              1       1.200000                 5             4   \n",
        "218412              1       1.714285                 7             6   \n",
        "218413              1       1.222222                 9             9   \n",
        "\n",
        "        labCount_min  labCount_ave  labcount_months  labNull  drugNull  \n",
        "218409             1           5.0                2        0         0  \n",
        "218410             0           0.0                0        1         0  \n",
        "218411             1           2.5                2        0         0  \n",
        "218412             6           6.0                1        0         0  \n",
        "218413             1           3.2               10        0         0  \n",
        "\n",
        "[5 rows x 143 columns]"
       ]
      }
     ],
     "prompt_number": 2
    },
    {
     "cell_type": "code",
     "collapsed": false,
     "input": [
      "cols = original_data.columns.tolist()\n",
      "cols[0] = 'MemberID_t'\n",
      "original_data.columns = cols\n",
      "original_data.tail()"
     ],
     "language": "python",
     "metadata": {},
     "outputs": [
      {
       "html": [
        "<div style=\"max-height:1000px;max-width:1500px;overflow:auto;\">\n",
        "<table border=\"1\" class=\"dataframe\">\n",
        "  <thead>\n",
        "    <tr style=\"text-align: right;\">\n",
        "      <th></th>\n",
        "      <th>MemberID_t</th>\n",
        "      <th>YEAR_t</th>\n",
        "      <th>ClaimsTruncated</th>\n",
        "      <th>DaysInHospital</th>\n",
        "      <th>trainset</th>\n",
        "      <th>age_05</th>\n",
        "      <th>age_15</th>\n",
        "      <th>age_25</th>\n",
        "      <th>age_35</th>\n",
        "      <th>age_45</th>\n",
        "      <th>...</th>\n",
        "      <th>drugCount_max</th>\n",
        "      <th>drugCount_min</th>\n",
        "      <th>drugCount_ave</th>\n",
        "      <th>drugcount_months</th>\n",
        "      <th>labCount_max</th>\n",
        "      <th>labCount_min</th>\n",
        "      <th>labCount_ave</th>\n",
        "      <th>labcount_months</th>\n",
        "      <th>labNull</th>\n",
        "      <th>drugNull</th>\n",
        "    </tr>\n",
        "  </thead>\n",
        "  <tbody>\n",
        "    <tr>\n",
        "      <th>218409</th>\n",
        "      <td>16622402</td>\n",
        "      <td>Y2</td>\n",
        "      <td>0</td>\n",
        "      <td>0</td>\n",
        "      <td>1</td>\n",
        "      <td>0</td>\n",
        "      <td>0</td>\n",
        "      <td>0</td>\n",
        "      <td>0</td>\n",
        "      <td>1</td>\n",
        "      <td>...</td>\n",
        "      <td>4</td>\n",
        "      <td>3</td>\n",
        "      <td>3.181818</td>\n",
        "      <td>11</td>\n",
        "      <td>9</td>\n",
        "      <td>1</td>\n",
        "      <td>5.0</td>\n",
        "      <td>2</td>\n",
        "      <td>0</td>\n",
        "      <td>0</td>\n",
        "    </tr>\n",
        "    <tr>\n",
        "      <th>218410</th>\n",
        "      <td>16622477</td>\n",
        "      <td>Y2</td>\n",
        "      <td>0</td>\n",
        "      <td>0</td>\n",
        "      <td>1</td>\n",
        "      <td>0</td>\n",
        "      <td>0</td>\n",
        "      <td>0</td>\n",
        "      <td>0</td>\n",
        "      <td>0</td>\n",
        "      <td>...</td>\n",
        "      <td>1</td>\n",
        "      <td>1</td>\n",
        "      <td>1.000000</td>\n",
        "      <td>2</td>\n",
        "      <td>0</td>\n",
        "      <td>0</td>\n",
        "      <td>0.0</td>\n",
        "      <td>0</td>\n",
        "      <td>1</td>\n",
        "      <td>0</td>\n",
        "    </tr>\n",
        "    <tr>\n",
        "      <th>218411</th>\n",
        "      <td>16674403</td>\n",
        "      <td>Y2</td>\n",
        "      <td>0</td>\n",
        "      <td>0</td>\n",
        "      <td>1</td>\n",
        "      <td>0</td>\n",
        "      <td>0</td>\n",
        "      <td>0</td>\n",
        "      <td>0</td>\n",
        "      <td>0</td>\n",
        "      <td>...</td>\n",
        "      <td>2</td>\n",
        "      <td>1</td>\n",
        "      <td>1.200000</td>\n",
        "      <td>5</td>\n",
        "      <td>4</td>\n",
        "      <td>1</td>\n",
        "      <td>2.5</td>\n",
        "      <td>2</td>\n",
        "      <td>0</td>\n",
        "      <td>0</td>\n",
        "    </tr>\n",
        "    <tr>\n",
        "      <th>218412</th>\n",
        "      <td>16819725</td>\n",
        "      <td>Y2</td>\n",
        "      <td>0</td>\n",
        "      <td>0</td>\n",
        "      <td>1</td>\n",
        "      <td>0</td>\n",
        "      <td>0</td>\n",
        "      <td>0</td>\n",
        "      <td>0</td>\n",
        "      <td>1</td>\n",
        "      <td>...</td>\n",
        "      <td>3</td>\n",
        "      <td>1</td>\n",
        "      <td>1.714285</td>\n",
        "      <td>7</td>\n",
        "      <td>6</td>\n",
        "      <td>6</td>\n",
        "      <td>6.0</td>\n",
        "      <td>1</td>\n",
        "      <td>0</td>\n",
        "      <td>0</td>\n",
        "    </tr>\n",
        "    <tr>\n",
        "      <th>218413</th>\n",
        "      <td>16942180</td>\n",
        "      <td>Y2</td>\n",
        "      <td>1</td>\n",
        "      <td>0</td>\n",
        "      <td>1</td>\n",
        "      <td>0</td>\n",
        "      <td>0</td>\n",
        "      <td>0</td>\n",
        "      <td>0</td>\n",
        "      <td>1</td>\n",
        "      <td>...</td>\n",
        "      <td>2</td>\n",
        "      <td>1</td>\n",
        "      <td>1.222222</td>\n",
        "      <td>9</td>\n",
        "      <td>9</td>\n",
        "      <td>1</td>\n",
        "      <td>3.2</td>\n",
        "      <td>10</td>\n",
        "      <td>0</td>\n",
        "      <td>0</td>\n",
        "    </tr>\n",
        "  </tbody>\n",
        "</table>\n",
        "<p>5 rows \u00d7 143 columns</p>\n",
        "</div>"
       ],
       "metadata": {},
       "output_type": "pyout",
       "prompt_number": 3,
       "text": [
        "        MemberID_t YEAR_t  ClaimsTruncated  DaysInHospital  trainset  age_05  \\\n",
        "218409    16622402     Y2                0               0         1       0   \n",
        "218410    16622477     Y2                0               0         1       0   \n",
        "218411    16674403     Y2                0               0         1       0   \n",
        "218412    16819725     Y2                0               0         1       0   \n",
        "218413    16942180     Y2                1               0         1       0   \n",
        "\n",
        "        age_15  age_25  age_35  age_45    ...     drugCount_max  \\\n",
        "218409       0       0       0       1    ...                 4   \n",
        "218410       0       0       0       0    ...                 1   \n",
        "218411       0       0       0       0    ...                 2   \n",
        "218412       0       0       0       1    ...                 3   \n",
        "218413       0       0       0       1    ...                 2   \n",
        "\n",
        "        drugCount_min  drugCount_ave  drugcount_months  labCount_max  \\\n",
        "218409              3       3.181818                11             9   \n",
        "218410              1       1.000000                 2             0   \n",
        "218411              1       1.200000                 5             4   \n",
        "218412              1       1.714285                 7             6   \n",
        "218413              1       1.222222                 9             9   \n",
        "\n",
        "        labCount_min  labCount_ave  labcount_months  labNull  drugNull  \n",
        "218409             1           5.0                2        0         0  \n",
        "218410             0           0.0                0        1         0  \n",
        "218411             1           2.5                2        0         0  \n",
        "218412             6           6.0                1        0         0  \n",
        "218413             1           3.2               10        0         0  \n",
        "\n",
        "[5 rows x 143 columns]"
       ]
      }
     ],
     "prompt_number": 3
    },
    {
     "cell_type": "code",
     "collapsed": false,
     "input": [
      "RANDOM_SEED = 0\n",
      "\n",
      "data = original_data.copy()\n",
      "\n",
      "data = data[data['sexMISS'] == 0]\n",
      "data = data[data['age_MISS'] == 0]\n",
      "#data['DaysInHospital'] = data['DaysInHospital'].map(lambda x: min(x,1))\n",
      "data['age_01-30'] = data['age_05'] + data['age_15'] + data['age_25']\n",
      "data['age_31-60'] = data['age_35'] + data['age_45'] + data['age_55']\n",
      "data['age_61-99'] = data['age_65'] + data['age_75'] + data['age_85']\n",
      "\n",
      "data = data.drop(['age_05', 'age_15', 'age_25', 'age_35', 'age_45', 'age_55', 'age_65', 'age_75', 'age_85'], axis=1)\n",
      "data = data[data['trainset'] == 1]\n",
      "data = data.reset_index(drop=True)\n",
      "\n",
      "del data['MemberID_t']\n",
      "del data['YEAR_t']\n",
      "del data['trainset']\n",
      "\n",
      "X_train, X_test, y_train, y_test = cross_validation.train_test_split(data[data.columns.difference(['DaysInHospital'])], data['DaysInHospital'], train_size=0.25, random_state=RANDOM_SEED)\n",
      "\n",
      "X_test = X_test.reset_index(drop=True)\n",
      "y_test = y_test.reset_index(drop=True)\n",
      "print len(X_train)"
     ],
     "language": "python",
     "metadata": {},
     "outputs": [
      {
       "output_type": "stream",
       "stream": "stdout",
       "text": [
        "28785\n"
       ]
      }
     ],
     "prompt_number": 125
    },
    {
     "cell_type": "code",
     "collapsed": false,
     "input": [
      "GBM_NTREES = 500\n",
      "GBM_SHRINKAGE = 0.05\n",
      "GBM_DEPTH = 4\n",
      "GBM_MINOBS = 50\n",
      "\n",
      "p_h = (1.0*sum(y_train))/len(y_train)\n",
      "ratio = (1-p_h)/p_h\n",
      "\n",
      "print 'proportion of hospitalized users: {:.2f}%'.format(100*p_h)\n",
      "sample_weight = map(lambda x: ratio if x==1 else 1, y_train)\n",
      "\n",
      "#cls = ensemble.GradientBoostingClassifier(n_estimators=GBM_NTREES, learning_rate=GBM_SHRINKAGE, max_depth=GBM_DEPTH, min_samples_leaf=GBM_MINOBS, verbose=1)\n",
      "#cls.fit(X_train, y_train, sample_weight=sample_weight)\n",
      "#cls = linear_model.LogisticRegression(class_weight={0: 1, 1: 4})\n",
      "#cls.fit(X_train, y_train)\n",
      "\n",
      "cls = ensemble.GradientBoostingRegressor(n_estimators=GBM_NTREES, learning_rate=GBM_SHRINKAGE, max_depth=GBM_DEPTH, min_samples_leaf=GBM_MINOBS, verbose=1)\n",
      "cls.fit(X_train, y_train)\n",
      "y_pred = cls.predict(X_test)\n",
      "\n",
      "y_pred = map(lambda x: int(max(min(round(x),1),0)), y_pred)\n",
      "y_test = y_test.map(lambda x: int(max(min(round(x),1),0)))\n",
      "\n",
      "print \"Regression:\"\n",
      "print \"Accuracy: {:.2f}%\".format(100*metrics.accuracy_score(y_test, y_pred))\n",
      "print metrics.f1_score(y_test, y_pred)"
     ],
     "language": "python",
     "metadata": {},
     "outputs": [
      {
       "output_type": "stream",
       "stream": "stdout",
       "text": [
        "proportion of hospitalized users: 32.81%\n",
        "      Iter       Train Loss   Remaining Time "
       ]
      },
      {
       "output_type": "stream",
       "stream": "stdout",
       "text": [
        "\n",
        "         1           1.8235           48.95s"
       ]
      },
      {
       "output_type": "stream",
       "stream": "stdout",
       "text": [
        "\n",
        "         2           1.8113           39.96s"
       ]
      },
      {
       "output_type": "stream",
       "stream": "stdout",
       "text": [
        "\n",
        "         3           1.7998           34.50s"
       ]
      },
      {
       "output_type": "stream",
       "stream": "stdout",
       "text": [
        "\n",
        "         4           1.7895           30.91s"
       ]
      },
      {
       "output_type": "stream",
       "stream": "stdout",
       "text": [
        "\n",
        "         5           1.7798           28.74s"
       ]
      },
      {
       "output_type": "stream",
       "stream": "stdout",
       "text": [
        "\n",
        "         6           1.7706           27.80s"
       ]
      },
      {
       "output_type": "stream",
       "stream": "stdout",
       "text": [
        "\n",
        "         7           1.7621           26.63s"
       ]
      },
      {
       "output_type": "stream",
       "stream": "stdout",
       "text": [
        "\n",
        "         8           1.7542           25.98s"
       ]
      },
      {
       "output_type": "stream",
       "stream": "stdout",
       "text": [
        "\n",
        "         9           1.7469           25.21s"
       ]
      },
      {
       "output_type": "stream",
       "stream": "stdout",
       "text": [
        "\n",
        "        10           1.7406           24.51s"
       ]
      },
      {
       "output_type": "stream",
       "stream": "stdout",
       "text": [
        "\n",
        "        20           1.6914           21.06s"
       ]
      },
      {
       "output_type": "stream",
       "stream": "stdout",
       "text": [
        "\n",
        "        30           1.6611           18.53s"
       ]
      },
      {
       "output_type": "stream",
       "stream": "stdout",
       "text": [
        "\n",
        "        40           1.6435           15.73s"
       ]
      },
      {
       "output_type": "stream",
       "stream": "stdout",
       "text": [
        "\n",
        "        50           1.6324           12.69s"
       ]
      },
      {
       "output_type": "stream",
       "stream": "stdout",
       "text": [
        "\n",
        "        60           1.6215            9.88s"
       ]
      },
      {
       "output_type": "stream",
       "stream": "stdout",
       "text": [
        "\n",
        "        70           1.6135            7.33s"
       ]
      },
      {
       "output_type": "stream",
       "stream": "stdout",
       "text": [
        "\n",
        "        80           1.6040            4.78s"
       ]
      },
      {
       "output_type": "stream",
       "stream": "stdout",
       "text": [
        "\n",
        "        90           1.5978            2.36s"
       ]
      },
      {
       "output_type": "stream",
       "stream": "stdout",
       "text": [
        "\n",
        "       100           1.5906            0.00s"
       ]
      },
      {
       "output_type": "stream",
       "stream": "stdout",
       "text": [
        "\n",
        "Regression:"
       ]
      },
      {
       "output_type": "stream",
       "stream": "stdout",
       "text": [
        "\n",
        "Accuracy: 81.77%\n",
        "0.303547730691"
       ]
      },
      {
       "output_type": "stream",
       "stream": "stdout",
       "text": [
        "\n"
       ]
      }
     ],
     "prompt_number": 129
    },
    {
     "cell_type": "code",
     "collapsed": false,
     "input": [
      "cm = metrics.confusion_matrix(y_test, y_pred)\n",
      "plt.figure(figsize=(12,12))\n",
      "sns.heatmap(cm, annot=True, fmt=\"d\", xticklabels=['0', '1+'], yticklabels=['0', '1+'])\n",
      "plt.ylabel(\"True value\")\n",
      "plt.xlabel(\"Predicted value\")\n",
      "plt.show()"
     ],
     "language": "python",
     "metadata": {},
     "outputs": [
      {
       "metadata": {},
       "output_type": "display_data",
       "png": "[encoded data removed]",
       "text": [
        "<matplotlib.figure.Figure at 0x11414ab50>"
       ]
      }
     ],
     "prompt_number": 130
    },
    {
     "cell_type": "code",
     "collapsed": false,
     "input": [
      "index_m = X_test[X_test['sexMALE'] == 1].index\n",
      "index_f = X_test[X_test['sexFEMALE'] == 1].index\n",
      "\n",
      "print 'Male: {} ; Female: {}'.format(len(index_m), len(index_f))\n",
      "\n",
      "y_test_m = y_test.loc[index_m]\n",
      "y_test_f = y_test.loc[index_f]\n",
      "\n",
      "y_pred_m = np.take(y_pred, index_m)\n",
      "y_pred_f = np.take(y_pred, index_f)\n",
      "\n",
      "print \"Accuracy Male: {:.2f}%\".format(100*metrics.accuracy_score(y_test_m, y_pred_m))\n",
      "print \"Accuracy Female: {:.2f}%\".format(100*metrics.accuracy_score(y_test_f, y_pred_f))\n",
      "print\n",
      "fp_male = filter(lambda (real, pred): (real == 0) and (pred == 1), zip(y_test_m, y_pred_m))\n",
      "fp_female = filter(lambda (real, pred): (real == 0) and (pred == 1), zip(y_test_f, y_pred_f))\n",
      "print 'Male FP: {}-{} ({:.2f}%)'.format(len(fp_male), len(index_m)-len(fp_male), (100.0*len(fp_male))/len(index_m))\n",
      "print 'Female FP: {}-{} ({:.2f}%)'.format(len(fp_female), len(index_f)-len(fp_female), (100.0*len(fp_female))/len(index_f))\n",
      "print\n",
      "fn_male = filter(lambda (real, pred): (real == 1) and (pred == 0), zip(y_test_m, y_pred_m))\n",
      "fn_female = filter(lambda (real, pred): (real == 1) and (pred == 0), zip(y_test_f, y_pred_f))\n",
      "print 'Male FN: {}-{} ({:.2f}%)'.format(len(fn_male), len(index_m)-len(fn_male), (100.0*len(fn_male))/len(index_m))\n",
      "print 'Female FN: {}-{} ({:.2f}%)'.format(len(fn_female), len(index_f)-len(fn_female), (100.0*len(fn_female))/len(index_f))\n",
      "print\n",
      "true_male = filter(lambda (real, pred): real == pred, zip(y_test_m, y_pred_m))\n",
      "true_female = filter(lambda (real, pred): real == pred, zip(y_test_f, y_pred_f))\n",
      "print 'Male True: {}-{} ({:.2f}%)'.format(len(true_male), len(index_m)-len(true_male), (100.0*len(true_male))/len(index_m))\n",
      "print 'Female True: {}-{} ({:.2f}%)'.format(len(true_female), len(index_f)-len(true_female), (100.0*len(true_female))/len(index_f))"
     ],
     "language": "python",
     "metadata": {},
     "outputs": [
      {
       "output_type": "stream",
       "stream": "stdout",
       "text": [
        "Male: 38623 ; Female: 47735\n",
        "Accuracy Male: 83.74%\n",
        "Accuracy Female: 80.18%\n",
        "\n",
        "Male FP: 3397-35226 (8.80%)"
       ]
      },
      {
       "output_type": "stream",
       "stream": "stdout",
       "text": [
        "\n",
        "Female FP: 5423-42312 (11.36%)\n",
        "\n",
        "Male FN: 2885-35738 (7.47%)"
       ]
      },
      {
       "output_type": "stream",
       "stream": "stdout",
       "text": [
        "\n",
        "Female FN: 4039-43696 (8.46%)\n",
        "\n",
        "Male True: 32341-6282 (83.74%)"
       ]
      },
      {
       "output_type": "stream",
       "stream": "stdout",
       "text": [
        "\n",
        "Female True: 38273-9462 (80.18%)\n"
       ]
      }
     ],
     "prompt_number": 131
    },
    {
     "cell_type": "code",
     "collapsed": false,
     "input": [
      "index_y = X_test[X_test['age_01-30'] == 1].index\n",
      "index_m = X_test[X_test['age_31-60'] == 1].index\n",
      "index_o = X_test[X_test['age_61-99'] == 1].index\n",
      "\n",
      "print 'Young: {} ; Middle: {} ; Old: {}'.format(len(index_y), len(index_m), len(index_o))\n",
      "\n",
      "y_test_y = y_test.loc[index_y]\n",
      "y_test_m = y_test.loc[index_m]\n",
      "y_test_o = y_test.loc[index_o]\n",
      "\n",
      "y_pred_y = np.take(y_pred, index_y)\n",
      "y_pred_m = np.take(y_pred, index_m)\n",
      "y_pred_o = np.take(y_pred, index_o)\n",
      "\n",
      "print \"Accuracy Young: {:.2f}%\".format(100*metrics.accuracy_score(y_test_y, y_pred_y))\n",
      "print \"Accuracy Middle: {:.2f}%\".format(100*metrics.accuracy_score(y_test_m, y_pred_m))\n",
      "print \"Accuracy Old: {:.2f}%\".format(100*metrics.accuracy_score(y_test_o, y_pred_o))\n",
      "\n",
      "fp_young = filter(lambda (real, pred): (real == 0) and (pred == 1), zip(y_test_y, y_pred_y))\n",
      "fp_middle = filter(lambda (real, pred): (real == 0) and (pred == 1), zip(y_test_m, y_pred_m))\n",
      "fp_old = filter(lambda (real, pred): (real == 0) and (pred == 1), zip(y_test_o, y_pred_o))\n",
      "\n",
      "fn_young = filter(lambda (real, pred): (real == 1) and (pred == 0), zip(y_test_y, y_pred_y))\n",
      "fn_middle = filter(lambda (real, pred): (real == 1) and (pred == 0), zip(y_test_m, y_pred_m))\n",
      "fn_old = filter(lambda (real, pred): (real == 1) and (pred == 0), zip(y_test_o, y_pred_o))\n",
      "\n",
      "print\n",
      "print 'Young FP: {}-{} ({:.2f}%)'.format(len(fp_young), len(index_y)-len(fp_young), (100.0*len(fp_young))/len(index_y))\n",
      "print 'Middle FP: {}-{} ({:.2f}%)'.format(len(fp_middle), len(index_m)-len(fp_middle), (100.0*len(fp_middle))/len(index_m))\n",
      "print 'Old FP: {}-{} ({:.2f}%)'.format(len(fp_old), len(index_o)-len(fp_old), (100.0*len(fp_old))/len(index_o))\n",
      "print\n",
      "print 'Young FN: {}-{} ({:.2f}%)'.format(len(fn_young), len(index_y)-len(fn_young), (100.0*len(fn_young))/len(index_y))\n",
      "print 'Middle FN: {}-{} ({:.2f}%)'.format(len(fn_middle), len(index_m)-len(fn_middle), (100.0*len(fn_middle))/len(index_m))\n",
      "print 'Old FN: {}-{} ({:.2f}%)'.format(len(fn_old), len(index_o)-len(fn_old), (100.0*len(fn_old))/len(index_o))"
     ],
     "language": "python",
     "metadata": {},
     "outputs": [
      {
       "output_type": "stream",
       "stream": "stdout",
       "text": [
        "Young: 22354 ; Middle: 32393 ; Old: 31611\n",
        "Accuracy Young: 89.92%\n",
        "Accuracy Middle: 89.12%\n",
        "Accuracy Old: 68.47%\n",
        "\n"
       ]
      },
      {
       "output_type": "stream",
       "stream": "stdout",
       "text": [
        "Young FP: 324-22030 (1.45%)\n",
        "Middle FP: 1125-31268 (3.47%)\n",
        "Old FP: 7371-24240 (23.32%)\n",
        "\n",
        "Young FN: 1929-20425 (8.63%)\n",
        "Middle FN: 2399-29994 (7.41%)\n",
        "Old FN: 2596-29015 (8.21%)\n"
       ]
      }
     ],
     "prompt_number": 132
    },
    {
     "cell_type": "code",
     "collapsed": false,
     "input": [
      "out_data = X_test.copy()\n",
      "#print out_data.columns.tolist()\n",
      "del out_data['sexMISS']\n",
      "del out_data['age_MISS']\n",
      "\n",
      "ages = ['age_01-30', 'age_31-60', 'age_61-99']\n",
      "out_data['Age'] = map(lambda l: ages[l.index(1)], zip(out_data['age_01-30'], out_data['age_31-60'], out_data['age_61-99']))\n",
      "del out_data['age_01-30']\n",
      "del out_data['age_31-60']\n",
      "del out_data['age_61-99']\n",
      "\n",
      "genders = ['female', 'male']\n",
      "out_data['Gender'] = map(lambda l: genders[l.index(1)], zip(out_data['sexFEMALE'], out_data['sexMALE']))\n",
      "del out_data['sexFEMALE']\n",
      "del out_data['sexMALE']\n",
      "\n",
      "#print out_data.columns.tolist()\n",
      "out_data['Pred_FP'] = map(lambda (val, pred): int((val == 0) and (pred == 1)), zip(y_test, y_pred))\n",
      "out_data['Pred_FN'] = map(lambda (val, pred): int((val == 1) and (pred == 0)), zip(y_test, y_pred))\n",
      "out_data['Pred_TP'] = map(lambda (val, pred): int((val == 1) and (pred == 1)), zip(y_test, y_pred))\n",
      "out_data['Pred_TN'] = map(lambda (val, pred): int((val == 0) and (pred == 0)), zip(y_test, y_pred))\n",
      "out_data['Pred_Correct'] = map(lambda (val, pred): int(val == pred), zip(y_test, y_pred))\n",
      "\n",
      "#out_data.to_csv('../../data/medical/predictions2.csv', sep=',', index=False)"
     ],
     "language": "python",
     "metadata": {},
     "outputs": [],
     "prompt_number": 133
    },
    {
     "cell_type": "code",
     "collapsed": false,
     "input": [
      "temp = out_data.copy()\n",
      "temp['DaysInHospital'] = y_test\n",
      "temp['DaysInHospitalPred'] = y_pred\n",
      "\n",
      "tab = pd.crosstab(temp['DaysInHospital'], temp['Age'])\n",
      "print tab\n",
      "print\n",
      "tab = tab.values\n",
      "\n",
      "print 'Young in Hospital: {:.2f}%'.format((100.0*tab[1,0])/sum(tab[:,0]))\n",
      "print 'Middle in Hospital: {:.2f}%'.format((100.0*tab[1,1])/sum(tab[:,1]))\n",
      "print 'Old in Hospital: {:.2f}%'.format((100.0*tab[1,2])/sum(tab[:,2]))\n",
      "print\n",
      "\n",
      "tab = pd.crosstab(temp['DaysInHospitalPred'], temp['Age'])\n",
      "print tab\n",
      "print\n",
      "tab = tab.values\n",
      "\n",
      "print 'Young predicted in Hospital: {:.2f}%'.format((100.0*tab[1,0])/sum(tab[:,0]))\n",
      "print 'Middle predicted in Hospital: {:.2f}%'.format((100.0*tab[1,1])/sum(tab[:,1]))\n",
      "print 'Old predicted in Hospital: {:.2f}%'.format((100.0*tab[1,2])/sum(tab[:,2]))\n",
      "print"
     ],
     "language": "python",
     "metadata": {},
     "outputs": [
      {
       "output_type": "stream",
       "stream": "stdout",
       "text": [
        "Age             age_01-30  age_31-60  age_61-99\n",
        "DaysInHospital                                 \n",
        "0                   20188      29571      26244\n",
        "1                    2166       2822       5367\n",
        "\n",
        "Young in Hospital: 9.69%\n",
        "Middle in Hospital: 8.71%\n",
        "Old in Hospital: 16.98%\n",
        "\n",
        "Age                 age_01-30  age_31-60  age_61-99\n",
        "DaysInHospitalPred                                 \n",
        "0                       21793      30845      21469\n",
        "1                         561       1548      10142\n",
        "\n",
        "Young predicted in Hospital: 2.51%\n",
        "Middle predicted in Hospital: 4.78%\n",
        "Old predicted in Hospital: 32.08%\n",
        "\n"
       ]
      }
     ],
     "prompt_number": 134
    },
    {
     "cell_type": "code",
     "collapsed": false,
     "input": [],
     "language": "python",
     "metadata": {},
     "outputs": []
    }
   ],
   "metadata": {}
  }
 ]
}