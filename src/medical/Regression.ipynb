{
 "metadata": {
  "name": "",
  "signature": "sha256:3fbaeac1e45ae3f53663fd48bd4bc3bd26bfbe27cee8c7d8215fa9dae341fb6c"
 },
 "nbformat": 3,
 "nbformat_minor": 0,
 "worksheets": [
  {
   "cells": [
    {
     "cell_type": "code",
     "collapsed": false,
     "input": [
      "import pandas as pd\n",
      "import numpy as np\n",
      "import scipy.stats as stats\n",
      "from collections import Counter\n",
      "import sklearn.preprocessing as preprocessing\n",
      "import sklearn.linear_model as linear_model\n",
      "import sklearn.cross_validation as cross_validation\n",
      "import sklearn.metrics as metrics\n",
      "import sklearn.ensemble as ensemble\n",
      "import sklearn.svm as svm\n",
      "import seaborn as sns"
     ],
     "language": "python",
     "metadata": {},
     "outputs": [],
     "prompt_number": 6
    },
    {
     "cell_type": "code",
     "collapsed": false,
     "input": [
      "original_data = pd.read_csv(\n",
      "    \"../../data/medical/heritage_data.csv\",\n",
      "    header=0,\n",
      "    sep=',',\n",
      "    engine='python',\n",
      "    na_values=\"?\")\n",
      "\n",
      "original_data.tail()"
     ],
     "language": "python",
     "metadata": {},
     "outputs": [
      {
       "html": [
        "<div style=\"max-height:1000px;max-width:1500px;overflow:auto;\">\n",
        "<table border=\"1\" class=\"dataframe\">\n",
        "  <thead>\n",
        "    <tr style=\"text-align: right;\">\n",
        "      <th></th>\n",
        "      <th>\ufeffMemberID_t</th>\n",
        "      <th>YEAR_t</th>\n",
        "      <th>ClaimsTruncated</th>\n",
        "      <th>DaysInHospital</th>\n",
        "      <th>trainset</th>\n",
        "      <th>age_05</th>\n",
        "      <th>age_15</th>\n",
        "      <th>age_25</th>\n",
        "      <th>age_35</th>\n",
        "      <th>age_45</th>\n",
        "      <th>...</th>\n",
        "      <th>drugCount_max</th>\n",
        "      <th>drugCount_min</th>\n",
        "      <th>drugCount_ave</th>\n",
        "      <th>drugcount_months</th>\n",
        "      <th>labCount_max</th>\n",
        "      <th>labCount_min</th>\n",
        "      <th>labCount_ave</th>\n",
        "      <th>labcount_months</th>\n",
        "      <th>labNull</th>\n",
        "      <th>drugNull</th>\n",
        "    </tr>\n",
        "  </thead>\n",
        "  <tbody>\n",
        "    <tr>\n",
        "      <th>218409</th>\n",
        "      <td>16622402</td>\n",
        "      <td>Y2</td>\n",
        "      <td>0</td>\n",
        "      <td>0</td>\n",
        "      <td>1</td>\n",
        "      <td>0</td>\n",
        "      <td>0</td>\n",
        "      <td>0</td>\n",
        "      <td>0</td>\n",
        "      <td>1</td>\n",
        "      <td>...</td>\n",
        "      <td>4</td>\n",
        "      <td>3</td>\n",
        "      <td>3.181818</td>\n",
        "      <td>11</td>\n",
        "      <td>9</td>\n",
        "      <td>1</td>\n",
        "      <td>5.0</td>\n",
        "      <td>2</td>\n",
        "      <td>0</td>\n",
        "      <td>0</td>\n",
        "    </tr>\n",
        "    <tr>\n",
        "      <th>218410</th>\n",
        "      <td>16622477</td>\n",
        "      <td>Y2</td>\n",
        "      <td>0</td>\n",
        "      <td>0</td>\n",
        "      <td>1</td>\n",
        "      <td>0</td>\n",
        "      <td>0</td>\n",
        "      <td>0</td>\n",
        "      <td>0</td>\n",
        "      <td>0</td>\n",
        "      <td>...</td>\n",
        "      <td>1</td>\n",
        "      <td>1</td>\n",
        "      <td>1.000000</td>\n",
        "      <td>2</td>\n",
        "      <td>0</td>\n",
        "      <td>0</td>\n",
        "      <td>0.0</td>\n",
        "      <td>0</td>\n",
        "      <td>1</td>\n",
        "      <td>0</td>\n",
        "    </tr>\n",
        "    <tr>\n",
        "      <th>218411</th>\n",
        "      <td>16674403</td>\n",
        "      <td>Y2</td>\n",
        "      <td>0</td>\n",
        "      <td>0</td>\n",
        "      <td>1</td>\n",
        "      <td>0</td>\n",
        "      <td>0</td>\n",
        "      <td>0</td>\n",
        "      <td>0</td>\n",
        "      <td>0</td>\n",
        "      <td>...</td>\n",
        "      <td>2</td>\n",
        "      <td>1</td>\n",
        "      <td>1.200000</td>\n",
        "      <td>5</td>\n",
        "      <td>4</td>\n",
        "      <td>1</td>\n",
        "      <td>2.5</td>\n",
        "      <td>2</td>\n",
        "      <td>0</td>\n",
        "      <td>0</td>\n",
        "    </tr>\n",
        "    <tr>\n",
        "      <th>218412</th>\n",
        "      <td>16819725</td>\n",
        "      <td>Y2</td>\n",
        "      <td>0</td>\n",
        "      <td>0</td>\n",
        "      <td>1</td>\n",
        "      <td>0</td>\n",
        "      <td>0</td>\n",
        "      <td>0</td>\n",
        "      <td>0</td>\n",
        "      <td>1</td>\n",
        "      <td>...</td>\n",
        "      <td>3</td>\n",
        "      <td>1</td>\n",
        "      <td>1.714285</td>\n",
        "      <td>7</td>\n",
        "      <td>6</td>\n",
        "      <td>6</td>\n",
        "      <td>6.0</td>\n",
        "      <td>1</td>\n",
        "      <td>0</td>\n",
        "      <td>0</td>\n",
        "    </tr>\n",
        "    <tr>\n",
        "      <th>218413</th>\n",
        "      <td>16942180</td>\n",
        "      <td>Y2</td>\n",
        "      <td>1</td>\n",
        "      <td>0</td>\n",
        "      <td>1</td>\n",
        "      <td>0</td>\n",
        "      <td>0</td>\n",
        "      <td>0</td>\n",
        "      <td>0</td>\n",
        "      <td>1</td>\n",
        "      <td>...</td>\n",
        "      <td>2</td>\n",
        "      <td>1</td>\n",
        "      <td>1.222222</td>\n",
        "      <td>9</td>\n",
        "      <td>9</td>\n",
        "      <td>1</td>\n",
        "      <td>3.2</td>\n",
        "      <td>10</td>\n",
        "      <td>0</td>\n",
        "      <td>0</td>\n",
        "    </tr>\n",
        "  </tbody>\n",
        "</table>\n",
        "<p>5 rows \u00d7 143 columns</p>\n",
        "</div>"
       ],
       "metadata": {},
       "output_type": "pyout",
       "prompt_number": 7,
       "text": [
        "        \ufeffMemberID_t YEAR_t  ClaimsTruncated  DaysInHospital  trainset  age_05  \\\n",
        "218409     16622402     Y2                0               0         1       0   \n",
        "218410     16622477     Y2                0               0         1       0   \n",
        "218411     16674403     Y2                0               0         1       0   \n",
        "218412     16819725     Y2                0               0         1       0   \n",
        "218413     16942180     Y2                1               0         1       0   \n",
        "\n",
        "        age_15  age_25  age_35  age_45    ...     drugCount_max  \\\n",
        "218409       0       0       0       1    ...                 4   \n",
        "218410       0       0       0       0    ...                 1   \n",
        "218411       0       0       0       0    ...                 2   \n",
        "218412       0       0       0       1    ...                 3   \n",
        "218413       0       0       0       1    ...                 2   \n",
        "\n",
        "        drugCount_min  drugCount_ave  drugcount_months  labCount_max  \\\n",
        "218409              3       3.181818                11             9   \n",
        "218410              1       1.000000                 2             0   \n",
        "218411              1       1.200000                 5             4   \n",
        "218412              1       1.714285                 7             6   \n",
        "218413              1       1.222222                 9             9   \n",
        "\n",
        "        labCount_min  labCount_ave  labcount_months  labNull  drugNull  \n",
        "218409             1           5.0                2        0         0  \n",
        "218410             0           0.0                0        1         0  \n",
        "218411             1           2.5                2        0         0  \n",
        "218412             6           6.0                1        0         0  \n",
        "218413             1           3.2               10        0         0  \n",
        "\n",
        "[5 rows x 143 columns]"
       ]
      }
     ],
     "prompt_number": 7
    },
    {
     "cell_type": "code",
     "collapsed": false,
     "input": [
      "cols = original_data.columns.tolist()\n",
      "cols[0] = 'MemberID_t'\n",
      "original_data.columns = cols\n",
      "original_data.tail()"
     ],
     "language": "python",
     "metadata": {},
     "outputs": [
      {
       "html": [
        "<div style=\"max-height:1000px;max-width:1500px;overflow:auto;\">\n",
        "<table border=\"1\" class=\"dataframe\">\n",
        "  <thead>\n",
        "    <tr style=\"text-align: right;\">\n",
        "      <th></th>\n",
        "      <th>MemberID_t</th>\n",
        "      <th>YEAR_t</th>\n",
        "      <th>ClaimsTruncated</th>\n",
        "      <th>DaysInHospital</th>\n",
        "      <th>trainset</th>\n",
        "      <th>age_05</th>\n",
        "      <th>age_15</th>\n",
        "      <th>age_25</th>\n",
        "      <th>age_35</th>\n",
        "      <th>age_45</th>\n",
        "      <th>...</th>\n",
        "      <th>drugCount_max</th>\n",
        "      <th>drugCount_min</th>\n",
        "      <th>drugCount_ave</th>\n",
        "      <th>drugcount_months</th>\n",
        "      <th>labCount_max</th>\n",
        "      <th>labCount_min</th>\n",
        "      <th>labCount_ave</th>\n",
        "      <th>labcount_months</th>\n",
        "      <th>labNull</th>\n",
        "      <th>drugNull</th>\n",
        "    </tr>\n",
        "  </thead>\n",
        "  <tbody>\n",
        "    <tr>\n",
        "      <th>218409</th>\n",
        "      <td>16622402</td>\n",
        "      <td>Y2</td>\n",
        "      <td>0</td>\n",
        "      <td>0</td>\n",
        "      <td>1</td>\n",
        "      <td>0</td>\n",
        "      <td>0</td>\n",
        "      <td>0</td>\n",
        "      <td>0</td>\n",
        "      <td>1</td>\n",
        "      <td>...</td>\n",
        "      <td>4</td>\n",
        "      <td>3</td>\n",
        "      <td>3.181818</td>\n",
        "      <td>11</td>\n",
        "      <td>9</td>\n",
        "      <td>1</td>\n",
        "      <td>5.0</td>\n",
        "      <td>2</td>\n",
        "      <td>0</td>\n",
        "      <td>0</td>\n",
        "    </tr>\n",
        "    <tr>\n",
        "      <th>218410</th>\n",
        "      <td>16622477</td>\n",
        "      <td>Y2</td>\n",
        "      <td>0</td>\n",
        "      <td>0</td>\n",
        "      <td>1</td>\n",
        "      <td>0</td>\n",
        "      <td>0</td>\n",
        "      <td>0</td>\n",
        "      <td>0</td>\n",
        "      <td>0</td>\n",
        "      <td>...</td>\n",
        "      <td>1</td>\n",
        "      <td>1</td>\n",
        "      <td>1.000000</td>\n",
        "      <td>2</td>\n",
        "      <td>0</td>\n",
        "      <td>0</td>\n",
        "      <td>0.0</td>\n",
        "      <td>0</td>\n",
        "      <td>1</td>\n",
        "      <td>0</td>\n",
        "    </tr>\n",
        "    <tr>\n",
        "      <th>218411</th>\n",
        "      <td>16674403</td>\n",
        "      <td>Y2</td>\n",
        "      <td>0</td>\n",
        "      <td>0</td>\n",
        "      <td>1</td>\n",
        "      <td>0</td>\n",
        "      <td>0</td>\n",
        "      <td>0</td>\n",
        "      <td>0</td>\n",
        "      <td>0</td>\n",
        "      <td>...</td>\n",
        "      <td>2</td>\n",
        "      <td>1</td>\n",
        "      <td>1.200000</td>\n",
        "      <td>5</td>\n",
        "      <td>4</td>\n",
        "      <td>1</td>\n",
        "      <td>2.5</td>\n",
        "      <td>2</td>\n",
        "      <td>0</td>\n",
        "      <td>0</td>\n",
        "    </tr>\n",
        "    <tr>\n",
        "      <th>218412</th>\n",
        "      <td>16819725</td>\n",
        "      <td>Y2</td>\n",
        "      <td>0</td>\n",
        "      <td>0</td>\n",
        "      <td>1</td>\n",
        "      <td>0</td>\n",
        "      <td>0</td>\n",
        "      <td>0</td>\n",
        "      <td>0</td>\n",
        "      <td>1</td>\n",
        "      <td>...</td>\n",
        "      <td>3</td>\n",
        "      <td>1</td>\n",
        "      <td>1.714285</td>\n",
        "      <td>7</td>\n",
        "      <td>6</td>\n",
        "      <td>6</td>\n",
        "      <td>6.0</td>\n",
        "      <td>1</td>\n",
        "      <td>0</td>\n",
        "      <td>0</td>\n",
        "    </tr>\n",
        "    <tr>\n",
        "      <th>218413</th>\n",
        "      <td>16942180</td>\n",
        "      <td>Y2</td>\n",
        "      <td>1</td>\n",
        "      <td>0</td>\n",
        "      <td>1</td>\n",
        "      <td>0</td>\n",
        "      <td>0</td>\n",
        "      <td>0</td>\n",
        "      <td>0</td>\n",
        "      <td>1</td>\n",
        "      <td>...</td>\n",
        "      <td>2</td>\n",
        "      <td>1</td>\n",
        "      <td>1.222222</td>\n",
        "      <td>9</td>\n",
        "      <td>9</td>\n",
        "      <td>1</td>\n",
        "      <td>3.2</td>\n",
        "      <td>10</td>\n",
        "      <td>0</td>\n",
        "      <td>0</td>\n",
        "    </tr>\n",
        "  </tbody>\n",
        "</table>\n",
        "<p>5 rows \u00d7 143 columns</p>\n",
        "</div>"
       ],
       "metadata": {},
       "output_type": "pyout",
       "prompt_number": 8,
       "text": [
        "        MemberID_t YEAR_t  ClaimsTruncated  DaysInHospital  trainset  age_05  \\\n",
        "218409    16622402     Y2                0               0         1       0   \n",
        "218410    16622477     Y2                0               0         1       0   \n",
        "218411    16674403     Y2                0               0         1       0   \n",
        "218412    16819725     Y2                0               0         1       0   \n",
        "218413    16942180     Y2                1               0         1       0   \n",
        "\n",
        "        age_15  age_25  age_35  age_45    ...     drugCount_max  \\\n",
        "218409       0       0       0       1    ...                 4   \n",
        "218410       0       0       0       0    ...                 1   \n",
        "218411       0       0       0       0    ...                 2   \n",
        "218412       0       0       0       1    ...                 3   \n",
        "218413       0       0       0       1    ...                 2   \n",
        "\n",
        "        drugCount_min  drugCount_ave  drugcount_months  labCount_max  \\\n",
        "218409              3       3.181818                11             9   \n",
        "218410              1       1.000000                 2             0   \n",
        "218411              1       1.200000                 5             4   \n",
        "218412              1       1.714285                 7             6   \n",
        "218413              1       1.222222                 9             9   \n",
        "\n",
        "        labCount_min  labCount_ave  labcount_months  labNull  drugNull  \n",
        "218409             1           5.0                2        0         0  \n",
        "218410             0           0.0                0        1         0  \n",
        "218411             1           2.5                2        0         0  \n",
        "218412             6           6.0                1        0         0  \n",
        "218413             1           3.2               10        0         0  \n",
        "\n",
        "[5 rows x 143 columns]"
       ]
      }
     ],
     "prompt_number": 8
    },
    {
     "cell_type": "code",
     "collapsed": false,
     "input": [
      "RANDOM_SEED = 0\n",
      "\n",
      "data = original_data.copy()\n",
      "\n",
      "data = data[data['sexMISS'] == 0]\n",
      "data = data[data['age_MISS'] == 0]\n",
      "data['DaysInHospital'] = data['DaysInHospital'].map(lambda x: min(x,1))\n",
      "data['age_01-30'] = data['age_05'] + data['age_15'] + data['age_25']\n",
      "data['age_31-60'] = data['age_35'] + data['age_45'] + data['age_55']\n",
      "data['age_61-99'] = data['age_65'] + data['age_75'] + data['age_85']\n",
      "\n",
      "data = data.drop(['age_05', 'age_15', 'age_25', 'age_35', 'age_45', 'age_55', 'age_65', 'age_75', 'age_85'], axis=1)\n",
      "data = data[data['trainset'] == 1]\n",
      "data = data.reset_index(drop=True)\n",
      "\n",
      "del data['MemberID_t']\n",
      "del data['YEAR_t']\n",
      "del data['trainset']\n",
      "\n",
      "X_train, X_test, y_train, y_test = cross_validation.train_test_split(data[data.columns.difference(['DaysInHospital'])], data['DaysInHospital'], train_size=0.25, random_state=RANDOM_SEED)\n",
      "\n",
      "X_test = X_test.reset_index(drop=True)\n",
      "y_test = y_test.reset_index(drop=True)\n",
      "print len(X_train)"
     ],
     "language": "python",
     "metadata": {},
     "outputs": [
      {
       "output_type": "stream",
       "stream": "stdout",
       "text": [
        "28785\n"
       ]
      }
     ],
     "prompt_number": 9
    },
    {
     "cell_type": "code",
     "collapsed": false,
     "input": [
      "GBM_NTREES = 500\n",
      "GBM_SHRINKAGE = 0.05\n",
      "GBM_DEPTH = 4\n",
      "GBM_MINOBS = 50\n",
      "\n",
      "cls = ensemble.GradientBoostingClassifier(n_estimators=GBM_NTREES, learning_rate=GBM_SHRINKAGE, max_depth=GBM_DEPTH, min_samples_leaf=GBM_MINOBS, verbose=1)\n",
      "cls.fit(X_train, y_train)\n",
      "y_pred = cls.predict(X_test)\n",
      "\n",
      "print \"Regression:\"\n",
      "print \"Accuracy: {:.2f}%\".format(100*metrics.accuracy_score(y_test, y_pred))"
     ],
     "language": "python",
     "metadata": {},
     "outputs": [
      {
       "output_type": "stream",
       "stream": "stdout",
       "text": [
        "      Iter       Train Loss   Remaining Time \n",
        "         1           0.7103            3.83m"
       ]
      },
      {
       "output_type": "stream",
       "stream": "stdout",
       "text": [
        "\n",
        "         2           0.7056            3.04m"
       ]
      },
      {
       "output_type": "stream",
       "stream": "stdout",
       "text": [
        "\n",
        "         3           0.7013            2.78m"
       ]
      },
      {
       "output_type": "stream",
       "stream": "stdout",
       "text": [
        "\n",
        "         4           0.6976            2.62m"
       ]
      },
      {
       "output_type": "stream",
       "stream": "stdout",
       "text": [
        "\n",
        "         5           0.6946            2.50m"
       ]
      },
      {
       "output_type": "stream",
       "stream": "stdout",
       "text": [
        "\n",
        "         6           0.6916            2.40m"
       ]
      },
      {
       "output_type": "stream",
       "stream": "stdout",
       "text": [
        "\n",
        "         7           0.6890            2.35m"
       ]
      },
      {
       "output_type": "stream",
       "stream": "stdout",
       "text": [
        "\n",
        "         8           0.6868            2.29m"
       ]
      },
      {
       "output_type": "stream",
       "stream": "stdout",
       "text": [
        "\n",
        "         9           0.6846            2.26m"
       ]
      },
      {
       "output_type": "stream",
       "stream": "stdout",
       "text": [
        "\n",
        "        10           0.6825            2.24m"
       ]
      },
      {
       "output_type": "stream",
       "stream": "stdout",
       "text": [
        "\n",
        "        20           0.6688            2.15m"
       ]
      },
      {
       "output_type": "stream",
       "stream": "stdout",
       "text": [
        "\n",
        "        30           0.6596            2.14m"
       ]
      },
      {
       "output_type": "stream",
       "stream": "stdout",
       "text": [
        "\n",
        "        40           0.6534            2.17m"
       ]
      },
      {
       "output_type": "stream",
       "stream": "stdout",
       "text": [
        "\n",
        "        50           0.6492            2.16m"
       ]
      },
      {
       "output_type": "stream",
       "stream": "stdout",
       "text": [
        "\n",
        "        60           0.6457            2.09m"
       ]
      },
      {
       "output_type": "stream",
       "stream": "stdout",
       "text": [
        "\n",
        "        70           0.6427            2.00m"
       ]
      },
      {
       "output_type": "stream",
       "stream": "stdout",
       "text": [
        "\n",
        "        80           0.6403            1.91m"
       ]
      },
      {
       "output_type": "stream",
       "stream": "stdout",
       "text": [
        "\n",
        "        90           0.6381            1.84m"
       ]
      },
      {
       "output_type": "stream",
       "stream": "stdout",
       "text": [
        "\n",
        "       100           0.6360            1.75m"
       ]
      },
      {
       "output_type": "stream",
       "stream": "stdout",
       "text": [
        "\n",
        "       200           0.6201            1.18m"
       ]
      },
      {
       "output_type": "stream",
       "stream": "stdout",
       "text": [
        "\n",
        "       300           0.6066           45.80s"
       ]
      },
      {
       "output_type": "stream",
       "stream": "stdout",
       "text": [
        "\n",
        "       400           0.5938           22.48s"
       ]
      },
      {
       "output_type": "stream",
       "stream": "stdout",
       "text": [
        "\n",
        "       500           0.5822            0.00s"
       ]
      },
      {
       "output_type": "stream",
       "stream": "stdout",
       "text": [
        "\n",
        "Regression:"
       ]
      },
      {
       "output_type": "stream",
       "stream": "stdout",
       "text": [
        "\n",
        "Accuracy: 88.21%\n"
       ]
      }
     ],
     "prompt_number": 10
    },
    {
     "cell_type": "code",
     "collapsed": false,
     "input": [
      "cm = metrics.confusion_matrix(y_test, y_pred)\n",
      "plt.figure(figsize=(12,12))\n",
      "sns.heatmap(cm, annot=True, fmt=\"d\", xticklabels=['0', '1+'], yticklabels=['0', '1+'])\n",
      "plt.ylabel(\"True value\")\n",
      "plt.xlabel(\"Predicted value\")\n",
      "plt.show()"
     ],
     "language": "python",
     "metadata": {},
     "outputs": [
      {
       "metadata": {},
       "output_type": "display_data",
       "png": "[encoded data removed]",
       "text": [
        "<matplotlib.figure.Figure at 0x106eff9d0>"
       ]
      }
     ],
     "prompt_number": 11
    },
    {
     "cell_type": "code",
     "collapsed": false,
     "input": [
      "index_m = X_test[X_test['sexMALE'] == 1].index\n",
      "index_f = X_test[X_test['sexFEMALE'] == 1].index\n",
      "\n",
      "print 'Male: {} ; Female: {}'.format(len(index_m), len(index_f))\n",
      "\n",
      "y_test_m = y_test.loc[index_m]\n",
      "y_test_f = y_test.loc[index_f]\n",
      "\n",
      "y_pred_m = np.take(y_pred, index_m)\n",
      "y_pred_f = np.take(y_pred, index_f)\n",
      "\n",
      "print \"Accuracy Male: {:.2f}%\".format(100*metrics.accuracy_score(y_test_m, y_pred_m))\n",
      "print \"Accuracy Female: {:.2f}%\".format(100*metrics.accuracy_score(y_test_f, y_pred_f))\n",
      "print\n",
      "fp_male = filter(lambda (real, pred): (real == 0) and (pred == 1), zip(y_test_m, y_pred_m))\n",
      "fp_female = filter(lambda (real, pred): (real == 0) and (pred == 1), zip(y_test_f, y_pred_f))\n",
      "print 'Male FP: {}-{} ({:.2f}%)'.format(len(fp_male), len(index_m)-len(fp_male), (100.0*len(fp_male))/len(index_m))\n",
      "print 'Female FP: {}-{} ({:.2f}%)'.format(len(fp_female), len(index_f)-len(fp_female), (100.0*len(fp_female))/len(index_f))\n",
      "print\n",
      "fn_male = filter(lambda (real, pred): (real == 1) and (pred == 0), zip(y_test_m, y_pred_m))\n",
      "fn_female = filter(lambda (real, pred): (real == 1) and (pred == 0), zip(y_test_f, y_pred_f))\n",
      "print 'Male FN: {}-{} ({:.2f}%)'.format(len(fn_male), len(index_m)-len(fn_male), (100.0*len(fn_male))/len(index_m))\n",
      "print 'Female FN: {}-{} ({:.2f}%)'.format(len(fn_female), len(index_f)-len(fn_female), (100.0*len(fn_female))/len(index_f))\n",
      "print\n",
      "true_male = filter(lambda (real, pred): real == pred, zip(y_test_m, y_pred_m))\n",
      "true_female = filter(lambda (real, pred): real == pred, zip(y_test_f, y_pred_f))\n",
      "print 'Male True: {}-{} ({:.2f}%)'.format(len(true_male), len(index_m)-len(true_male), (100.0*len(true_male))/len(index_m))\n",
      "print 'Female True: {}-{} ({:.2f}%)'.format(len(true_female), len(index_f)-len(true_female), (100.0*len(true_female))/len(index_f))"
     ],
     "language": "python",
     "metadata": {},
     "outputs": [
      {
       "output_type": "stream",
       "stream": "stdout",
       "text": [
        "Male: 38623 ; Female: 47735\n",
        "Accuracy Male: 89.43%\n",
        "Accuracy Female: 87.23%\n",
        "\n",
        "Male FP: 158-38465 (0.41%)"
       ]
      },
      {
       "output_type": "stream",
       "stream": "stdout",
       "text": [
        "\n",
        "Female FP: 305-47430 (0.64%)\n",
        "\n",
        "Male FN: 3923-34700 (10.16%)"
       ]
      },
      {
       "output_type": "stream",
       "stream": "stdout",
       "text": [
        "\n",
        "Female FN: 5792-41943 (12.13%)\n",
        "\n",
        "Male True: 34542-4081 (89.43%)\n",
        "Female True: 41638-6097 (87.23%)\n"
       ]
      }
     ],
     "prompt_number": 12
    },
    {
     "cell_type": "code",
     "collapsed": false,
     "input": [
      "index_y = X_test[X_test['age_01-30'] == 1].index\n",
      "index_m = X_test[X_test['age_31-60'] == 1].index\n",
      "index_o = X_test[X_test['age_61-99'] == 1].index\n",
      "\n",
      "print 'Young: {} ; Middle: {} ; Old: {}'.format(len(index_y), len(index_m), len(index_o))\n",
      "\n",
      "y_test_y = y_test.loc[index_y]\n",
      "y_test_m = y_test.loc[index_m]\n",
      "y_test_o = y_test.loc[index_o]\n",
      "\n",
      "y_pred_y = np.take(y_pred, index_y)\n",
      "y_pred_m = np.take(y_pred, index_m)\n",
      "y_pred_o = np.take(y_pred, index_o)\n",
      "\n",
      "print \"Accuracy Young: {:.2f}%\".format(100*metrics.accuracy_score(y_test_y, y_pred_y))\n",
      "print \"Accuracy Middle: {:.2f}%\".format(100*metrics.accuracy_score(y_test_m, y_pred_m))\n",
      "print \"Accuracy Old: {:.2f}%\".format(100*metrics.accuracy_score(y_test_o, y_pred_o))\n",
      "\n",
      "fp_young = filter(lambda (real, pred): (real == 0) and (pred == 1), zip(y_test_y, y_pred_y))\n",
      "fp_middle = filter(lambda (real, pred): (real == 0) and (pred == 1), zip(y_test_m, y_pred_m))\n",
      "fp_old = filter(lambda (real, pred): (real == 0) and (pred == 1), zip(y_test_o, y_pred_o))\n",
      "\n",
      "fn_young = filter(lambda (real, pred): (real == 1) and (pred == 0), zip(y_test_y, y_pred_y))\n",
      "fn_middle = filter(lambda (real, pred): (real == 1) and (pred == 0), zip(y_test_m, y_pred_m))\n",
      "fn_old = filter(lambda (real, pred): (real == 1) and (pred == 0), zip(y_test_o, y_pred_o))\n",
      "\n",
      "print\n",
      "print 'Young FP: {}-{} ({:.2f}%)'.format(len(fp_young), len(index_y)-len(fp_young), (100.0*len(fp_young))/len(index_y))\n",
      "print 'Middle FP: {}-{} ({:.2f}%)'.format(len(fp_middle), len(index_m)-len(fp_middle), (100.0*len(fp_middle))/len(index_m))\n",
      "print 'Old FP: {}-{} ({:.2f}%)'.format(len(fp_old), len(index_o)-len(fp_old), (100.0*len(fp_old))/len(index_o))\n",
      "print\n",
      "print 'Young FN: {}-{} ({:.2f}%)'.format(len(fn_young), len(index_y)-len(fn_young), (100.0*len(fn_young))/len(index_y))\n",
      "print 'Middle FN: {}-{} ({:.2f}%)'.format(len(fn_middle), len(index_m)-len(fn_middle), (100.0*len(fn_middle))/len(index_m))\n",
      "print 'Old FN: {}-{} ({:.2f}%)'.format(len(fn_old), len(index_o)-len(fn_old), (100.0*len(fn_old))/len(index_o))"
     ],
     "language": "python",
     "metadata": {},
     "outputs": [
      {
       "output_type": "stream",
       "stream": "stdout",
       "text": [
        "Young: 22354 ; Middle: 32393 ; Old: 31611\n",
        "Accuracy Young: 90.76%\n",
        "Accuracy Middle: 91.47%\n",
        "Accuracy Old: 83.08%\n",
        "\n"
       ]
      },
      {
       "output_type": "stream",
       "stream": "stdout",
       "text": [
        "Young FP: 39-22315 (0.17%)\n",
        "Middle FP: 52-32341 (0.16%)\n",
        "Old FP: 372-31239 (1.18%)\n",
        "\n",
        "Young FN: 2027-20327 (9.07%)\n",
        "Middle FN: 2712-29681 (8.37%)\n",
        "Old FN: 4976-26635 (15.74%)\n"
       ]
      }
     ],
     "prompt_number": 14
    },
    {
     "cell_type": "code",
     "collapsed": false,
     "input": [
      "out_data = X_test.copy()\n",
      "#print out_data.columns.tolist()\n",
      "del out_data['sexMISS']\n",
      "del out_data['age_MISS']\n",
      "\n",
      "ages = ['age_01-30', 'age_31-60', 'age_61-99']\n",
      "out_data['Age'] = map(lambda l: ages[l.index(1)], zip(out_data['age_01-30'], out_data['age_31-60'], out_data['age_61-99']))\n",
      "del out_data['age_01-30']\n",
      "del out_data['age_31-60']\n",
      "del out_data['age_61-99']\n",
      "\n",
      "genders = ['female', 'male']\n",
      "out_data['Gender'] = map(lambda l: genders[l.index(1)], zip(out_data['sexFEMALE'], out_data['sexMALE']))\n",
      "del out_data['sexFEMALE']\n",
      "del out_data['sexMALE']\n",
      "\n",
      "#print out_data.columns.tolist()\n",
      "out_data['Pred_FP'] = map(lambda (val, pred): int((val == 0) and (pred == 1)), zip(y_test, y_pred))\n",
      "out_data['Pred_Correct'] = map(lambda (val, pred): int(val == pred), zip(y_test, y_pred))\n",
      "#print len(out_data), out_data['Pred_FP'].sum()\n",
      "#print len(out_data), out_data['Pred_Correct'].sum()\n",
      "\n",
      "out_data.to_csv('../../data/medical/predictions.csv', sep=',', index=False)"
     ],
     "language": "python",
     "metadata": {},
     "outputs": [],
     "prompt_number": 16
    },
    {
     "cell_type": "code",
     "collapsed": false,
     "input": [],
     "language": "python",
     "metadata": {},
     "outputs": []
    }
   ],
   "metadata": {}
  }
 ]
}