{
 "cells": [
  {
   "cell_type": "code",
   "execution_count": 1,
   "metadata": {
    "collapsed": false
   },
   "outputs": [
    {
     "name": "stdout",
     "output_type": "stream",
     "text": [
      "Populating the interactive namespace from numpy and matplotlib\n"
     ]
    }
   ],
   "source": [
    "%pylab inline"
   ]
  },
  {
   "cell_type": "code",
   "execution_count": 2,
   "metadata": {
    "collapsed": true
   },
   "outputs": [],
   "source": [
    "import pandas as pd\n",
    "import imp\n",
    "import rpy2.robjects as ro\n",
    "from rpy2.robjects import numpy2ri\n",
    "\n",
    "RANDOM_SEED = 0\n",
    "numpy2ri.activate()\n",
    "ro.r('set.seed({})'.format(RANDOM_SEED))\n",
    "\n",
    "import fairtest.utils.log as fairtest_log\n",
    "imp.reload(fairtest_log)\n",
    "fairtest_log.set_params(filename='fairtest.log')"
   ]
  },
  {
   "cell_type": "code",
   "execution_count": 57,
   "metadata": {
    "collapsed": false
   },
   "outputs": [
    {
     "name": "stderr",
     "output_type": "stream",
     "text": [
      "INFO:root:New Testing Investigation\n",
      "INFO:root:Encoding Feature Gender\n",
      "INFO:root:Encoding Feature Occupation\n",
      "INFO:root:Target Feature: Target(names=['Avg Movie Rating'], arity=None)\n",
      "INFO:root:Training Size 3020 -  Testing Size 3020\n",
      "INFO:root:Choosing metric CORR for feature Gender\n",
      "INFO:root:Choosing metric CORR for feature Age\n",
      "INFO:root:New Testing Investigation\n",
      "INFO:root:Encoding Feature Gender\n",
      "INFO:root:Encoding Feature Occupation\n",
      "INFO:root:Target Feature: Target(names=['RMSE'], arity=None)\n",
      "INFO:root:Training Size 3020 -  Testing Size 3020\n",
      "INFO:root:Choosing metric CORR for feature Gender\n",
      "INFO:root:Choosing metric CORR for feature Age\n",
      "INFO:root:New Discovery Investigation\n",
      "INFO:root:Encoding Feature Gender\n",
      "INFO:root:Encoding Feature Age\n",
      "INFO:root:Encoding Feature Occupation\n",
      "INFO:root:Target Feature: Target(names=[Action ... Western], arity=None)\n",
      "INFO:root:Training Size 3020 -  Testing Size 3020\n",
      "INFO:root:Choosing metric REGRESSION for feature Gender\n",
      "INFO:root:Choosing metric REGRESSION for feature Age\n",
      "INFO:root:New Testing Investigation\n",
      "INFO:root:Encoding Feature Gender\n",
      "INFO:root:Encoding Feature Occupation\n",
      "INFO:root:Target Feature: Target(names=['Avg Movie Age'], arity=None)\n",
      "INFO:root:Training Size 3020 -  Testing Size 3020\n",
      "INFO:root:Choosing metric CORR for feature Gender\n",
      "INFO:root:Choosing metric CORR for feature Age\n"
     ]
    }
   ],
   "source": [
    "import fairtest.utils.prepare_data as prepare\n",
    "import fairtest.investigation as inv\n",
    "import fairtest.testing as testing\n",
    "import fairtest.discovery as discovery\n",
    "import fairtest.error_profiling as error_profiling\n",
    "import fairtest.modules.metrics as metrics\n",
    "import fairtest.modules.metrics.correlation as correlation\n",
    "import fairtest.modules.metrics.regression as regression\n",
    "import fairtest.modules.metrics.binary_metrics as binary_metrics\n",
    "import fairtest.modules.statistics.confidence_interval as intervals\n",
    "import ast\n",
    "import sklearn.preprocessing as preprocessing\n",
    "imp.reload(intervals)\n",
    "imp.reload(inv)\n",
    "imp.reload(testing)\n",
    "imp.reload(discovery)\n",
    "imp.reload(error_profiling)\n",
    "imp.reload(metrics)\n",
    "imp.reload(correlation)\n",
    "imp.reload(binary_metrics)\n",
    "imp.reload(regression)\n",
    "\n",
    "\n",
    "dataname = 'movies'\n",
    "\n",
    "\n",
    "# Testing Investigation on Movie Ratings\n",
    "data1 = prepare.data_from_csv(\n",
    "            '../data/recommender/recommendations.txt',\n",
    "            sep='\\\\t',\n",
    "            to_drop=['RMSE', 'Types', 'Avg Movie Age'])\n",
    "SENS = ['Gender', 'Age']\n",
    "TARGET = 'Avg Movie Rating'\n",
    "EXPL = []\n",
    "\n",
    "data1['Age'] = map(lambda a: 10 if a == 1 \n",
    "                      else 20 if a == 18 \n",
    "                      else 30 if a == 25 \n",
    "                      else 40 if a == 35 \n",
    "                      else 50 if a == 45 or a == 50\n",
    "                      else 60 if a == 56 else None, data1['Age'])\n",
    "test_ratings = testing.Testing(data1, SENS, TARGET, EXPL, train_size=0.5, random_state=RANDOM_SEED)\n",
    "\n",
    "\n",
    "# Testing Investigation on RMSE\n",
    "data3 = prepare.data_from_csv(\n",
    "            '../data/recommender/recommendations.txt',\n",
    "            sep='\\\\t',\n",
    "            to_drop=['Types', 'Avg Movie Age', 'Avg Movie Rating'])\n",
    "SENS = ['Gender', 'Age']\n",
    "TARGET = 'RMSE'\n",
    "EXPL = []\n",
    "\n",
    "data3['Age'] = map(lambda a: 10 if a == 1 \n",
    "                      else 20 if a == 18 \n",
    "                      else 30 if a == 25 \n",
    "                      else 40 if a == 35 \n",
    "                      else 50 if a == 45 or a == 50\n",
    "                      else 60 if a == 56 else None, data3['Age'])\n",
    "test_rmse = testing.Testing(data3, SENS, TARGET, EXPL, train_size=0.5, random_state=RANDOM_SEED)\n",
    "\n",
    "\n",
    "# Discovery Investigation on Movie Types\n",
    "data2 = prepare.data_from_csv(\n",
    "            '../data/recommender/recommendations.txt',\n",
    "            sep='\\\\t',\n",
    "            to_drop=['Avg Movie Age', 'Avg Movie Rating', 'RMSE'])\n",
    "TARGET = 'Types'\n",
    "SENS = ['Gender', 'Age']\n",
    "EXPL = []\n",
    "\n",
    "data2['Age'] = map(lambda a: '<35' if a < 35 else '>=35', data2['Age'])\n",
    "\n",
    "labeled_data = map(lambda s: ast.literal_eval(s), data2[TARGET])\n",
    "for labels in labeled_data:\n",
    "    assert(len(labels) == 5)\n",
    "label_encoder = preprocessing.MultiLabelBinarizer()\n",
    "labeled_data = label_encoder.fit_transform(labeled_data)\n",
    "labels = label_encoder.classes_\n",
    "df_labels = pd.DataFrame(labeled_data, columns=labels)\n",
    "data2 = pd.concat([data2.drop(TARGET, axis=1), df_labels], axis=1)\n",
    "TARGET = labels.tolist()\n",
    "\n",
    "discovery_types = discovery.Discovery(data2, SENS, TARGET, EXPL, train_size=0.5, topk=15, random_state=RANDOM_SEED)\n",
    "                                      \n",
    "\n",
    "# Testing Investigation on Movie Age                                      \n",
    "data4 = prepare.data_from_csv(\n",
    "            '../data/recommender/recommendations.txt',\n",
    "            sep='\\\\t',\n",
    "            to_drop=['Types', 'Avg Movie Rating', 'RMSE'])\n",
    "TARGET = 'Avg Movie Age'\n",
    "SENS = ['Gender', 'Age']\n",
    "EXPL = []\n",
    "\n",
    "data4['Age'] = map(lambda a: 10 if a == 1 \n",
    "                      else 20 if a == 18 \n",
    "                      else 30 if a == 25 \n",
    "                      else 40 if a == 35 \n",
    "                      else 50 if a == 45 or a == 50\n",
    "                      else 60 if a == 56 else None, data4['Age'])                              \n",
    "\n",
    "test_ages = testing.Testing(data4, SENS, TARGET, EXPL, train_size=0.5, random_state=RANDOM_SEED)\n",
    "\n",
    "investigations = [test_ratings, test_rmse, test_ages, discovery_types]"
   ]
  },
  {
   "cell_type": "code",
   "execution_count": 58,
   "metadata": {
    "collapsed": false
   },
   "outputs": [
    {
     "name": "stderr",
     "output_type": "stream",
     "text": [
      "INFO:root:Begin training phase with protected feature Gender\n",
      "INFO:root:Building a Guided Decision Tree\n",
      "INFO:root:splitting on Age (score=0.0119413682903) with threshold 45.0 at pred []\n",
      "INFO:root:splitting on Age (score=0.0120974782475) with threshold 25.0 at pred ['Age <= 45.0']\n",
      "INFO:root:splitting on Occupation (score=0.01319515324) with threshold None at pred ['Age <= 45.0', 'Age > 25.0']\n",
      "INFO:root:splitting on Age (score=0.00109298646408) with threshold 35.0 at pred ['Age <= 45.0', 'Age > 25.0', 'Occupation = 7']\n",
      "INFO:root:Begin training phase with protected feature Age\n",
      "INFO:root:Building a Guided Decision Tree\n",
      "INFO:root:splitting on Gender (score=0.114767969484) with threshold None at pred []\n",
      "INFO:root:splitting on Occupation (score=0.0195100589938) with threshold None at pred ['Gender = 1']\n",
      "INFO:root:Begin training phase with protected feature Gender\n",
      "INFO:root:Building a Guided Decision Tree\n",
      "INFO:root:splitting on Age (score=0.0561652949309) with threshold 25.0 at pred []\n",
      "INFO:root:splitting on Age (score=0.0347857750395) with threshold 15.0 at pred ['Age <= 25.0']\n",
      "INFO:root:splitting on Occupation (score=0.0074092842215) with threshold None at pred ['Age > 25.0']\n",
      "INFO:root:splitting on Age (score=0.0161992092307) with threshold 35.0 at pred ['Age > 25.0', 'Occupation = 7']\n",
      "INFO:root:splitting on Age (score=0.000955870235879) with threshold 45.0 at pred ['Age > 25.0', 'Occupation = 7', 'Age > 35.0']\n",
      "INFO:root:splitting on Age (score=0.00641578774298) with threshold 35.0 at pred ['Age > 25.0', 'Occupation = 17']\n",
      "INFO:root:Begin training phase with protected feature Age\n",
      "INFO:root:Building a Guided Decision Tree\n",
      "INFO:root:splitting on Gender (score=0.0630780310197) with threshold None at pred []\n",
      "INFO:root:splitting on Occupation (score=0.0100847506044) with threshold None at pred ['Gender = 1']\n",
      "INFO:root:Begin training phase with protected feature Gender\n",
      "INFO:root:Building a Guided Decision Tree\n",
      "INFO:root:splitting on Age (score=0.00649409995981) with threshold 25.0 at pred []\n",
      "INFO:root:splitting on Age (score=0.00917146210732) with threshold 35.0 at pred ['Age > 25.0']\n",
      "INFO:root:Begin training phase with protected feature Age\n",
      "INFO:root:Building a Guided Decision Tree\n",
      "INFO:root:splitting on Gender (score=0.208667979707) with threshold None at pred []\n",
      "INFO:root:splitting on Occupation (score=0.0630895099301) with threshold None at pred ['Gender = 1']\n",
      "INFO:root:splitting on Occupation (score=0.00893085486127) with threshold None at pred ['Gender = 0']\n",
      "INFO:root:Begin training phase with protected feature Gender\n",
      "INFO:root:Building a Guided Decision Tree\n",
      "INFO:root:splitting on Age (score=0.176913815861) with threshold None at pred []\n",
      "INFO:root:splitting on Occupation (score=0.118656586131) with threshold None at pred ['Age = 0']\n",
      "INFO:root:splitting on Occupation (score=0.0879470334731) with threshold None at pred ['Age = 1']\n",
      "INFO:root:Begin training phase with protected feature Age\n",
      "INFO:root:Building a Guided Decision Tree\n",
      "INFO:root:splitting on Gender (score=0.150496881142) with threshold None at pred []\n",
      "INFO:root:splitting on Occupation (score=0.125595485092) with threshold None at pred ['Gender = 1']\n",
      "INFO:root:splitting on Occupation (score=0.082336871528) with threshold None at pred ['Gender = 0']\n"
     ]
    }
   ],
   "source": [
    "import fairtest.modules.context_discovery.guided_tree as guided_tree\n",
    "imp.reload(guided_tree)\n",
    "inv.train(investigations, score_aggregation='avg', min_leaf_size=100, max_depth=5)"
   ]
  },
  {
   "cell_type": "code",
   "execution_count": 59,
   "metadata": {
    "collapsed": false
   },
   "outputs": [
    {
     "name": "stderr",
     "output_type": "stream",
     "text": [
      "INFO:root:Begin testing phase\n",
      "INFO:root:Testing 11 hypotheses\n",
      "INFO:root:Testing 15 hypotheses\n",
      "INFO:root:Testing 12 hypotheses\n",
      "INFO:root:Testing 390 hypotheses\n"
     ]
    }
   ],
   "source": [
    "import fairtest.modules.statistics.hypothesis_test as tests\n",
    "import fairtest.modules.statistics.multiple_testing as multitest\n",
    "import fairtest.modules.context_discovery.tree_parser as tree_parser\n",
    "import fairtest.modules.statistics.confidence_interval as intervals\n",
    "imp.reload(tests)\n",
    "imp.reload(multitest)\n",
    "imp.reload(tree_parser)\n",
    "imp.reload(intervals)\n",
    "\n",
    "inv.test(investigations, exact=True, prune_insignificant=True)"
   ]
  },
  {
   "cell_type": "code",
   "execution_count": 60,
   "metadata": {
    "collapsed": false
   },
   "outputs": [],
   "source": [
    "import fairtest.modules.bug_report.report as rep\n",
    "import fairtest.modules.bug_report.filter_rank as fr\n",
    "imp.reload(rep)\n",
    "imp.reload(fr)\n",
    "\n",
    "output_dir = '../results_new'\n",
    "inv.report(investigations, dataname, ci_level=0.95, output_dir=output_dir, node_filter=fr.FILTER_BETTER_THAN_ANCESTORS)"
   ]
  },
  {
   "cell_type": "code",
   "execution_count": null,
   "metadata": {
    "collapsed": true
   },
   "outputs": [],
   "source": []
  }
 ],
 "metadata": {
  "kernelspec": {
   "display_name": "Python 2",
   "language": "python",
   "name": "python2"
  },
  "language_info": {
   "codemirror_mode": {
    "name": "ipython",
    "version": 2
   },
   "file_extension": ".py",
   "mimetype": "text/x-python",
   "name": "python",
   "nbconvert_exporter": "python",
   "pygments_lexer": "ipython2",
   "version": "2.7.10"
  }
 },
 "nbformat": 4,
 "nbformat_minor": 0
}
