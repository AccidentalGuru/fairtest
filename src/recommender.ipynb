{
 "cells": [
  {
   "cell_type": "code",
   "execution_count": 1,
   "metadata": {
    "collapsed": false
   },
   "outputs": [
    {
     "name": "stdout",
     "output_type": "stream",
     "text": [
      "Populating the interactive namespace from numpy and matplotlib\n"
     ]
    }
   ],
   "source": [
    "%pylab inline"
   ]
  },
  {
   "cell_type": "code",
   "execution_count": 2,
   "metadata": {
    "collapsed": true
   },
   "outputs": [],
   "source": [
    "import pandas as pd\n",
    "import imp\n",
    "import rpy2.robjects as ro\n",
    "from rpy2.robjects import numpy2ri\n",
    "\n",
    "RANDOM_SEED = 0\n",
    "numpy2ri.activate()\n",
    "ro.r('set.seed({})'.format(RANDOM_SEED))\n",
    "\n",
    "import fairtest.utils.log as fairtest_log\n",
    "imp.reload(fairtest_log)\n",
    "fairtest_log.set_params(filename='fairtest.log')"
   ]
  },
  {
   "cell_type": "code",
   "execution_count": 3,
   "metadata": {
    "collapsed": false
   },
   "outputs": [
    {
     "name": "stderr",
     "output_type": "stream",
     "text": [
      "INFO:root:Encoding Feature Gender\n",
      "INFO:root:Encoding Feature Occupation\n",
      "INFO:root:Encoding Feature Age_bin\n",
      "INFO:root:Training Size 3020\n",
      "INFO:root:Testing Sizes [3020]\n",
      "INFO:root:New Testing Investigation\n",
      "INFO:root:Target Feature: Target(names=['Avg Movie Rating'], arity=None)\n",
      "INFO:root:Choosing metric CORR for feature Gender\n",
      "INFO:root:Choosing metric CORR for feature Age\n",
      "INFO:root:New Testing Investigation\n",
      "INFO:root:Target Feature: Target(names=['RMSE'], arity=None)\n",
      "INFO:root:Choosing metric CORR for feature Gender\n",
      "INFO:root:Choosing metric CORR for feature Age\n",
      "INFO:root:New Discovery Investigation\n",
      "INFO:root:Target Feature: Target(names=[Action ... Western], arity=None)\n",
      "INFO:root:Choosing metric REGRESSION for feature Age_bin\n",
      "INFO:root:Choosing metric REGRESSION for feature Gender\n",
      "INFO:root:New Testing Investigation\n",
      "INFO:root:Target Feature: Target(names=['Avg Movie Age'], arity=None)\n",
      "INFO:root:Choosing metric CORR for feature Gender\n",
      "INFO:root:Choosing metric CORR for feature Age\n"
     ]
    }
   ],
   "source": [
    "import fairtest.utils.prepare_data as prepare\n",
    "from fairtest import DataSource\n",
    "import fairtest.investigation as inv\n",
    "import fairtest.testing as testing\n",
    "import fairtest.discovery as discovery\n",
    "import fairtest.error_profiling as error_profiling\n",
    "import fairtest.modules.metrics as metrics\n",
    "import fairtest.modules.metrics.correlation as correlation\n",
    "import fairtest.modules.metrics.regression as regression\n",
    "import fairtest.modules.metrics.binary_metrics as binary_metrics\n",
    "import fairtest.modules.statistics.confidence_interval as intervals\n",
    "import ast\n",
    "import sklearn.preprocessing as preprocessing\n",
    "\n",
    "\n",
    "dataname = 'movies'\n",
    "\n",
    "# Testing Investigation on Movie Ratings\n",
    "data = prepare.data_from_csv( '../data/recommender/recommendations.txt', sep='\\\\t')\n",
    "\n",
    "# prepare labels\n",
    "label_col = 'Types'\n",
    "labeled_data = [ast.literal_eval(s) for s in data[label_col]]\n",
    "for labels in labeled_data:\n",
    "    assert len(labels) == 5\n",
    "label_encoder = preprocessing.MultiLabelBinarizer()\n",
    "labeled_data = label_encoder.fit_transform(labeled_data)\n",
    "labels = label_encoder.classes_\n",
    "df_labels = pd.DataFrame(labeled_data, columns=labels)\n",
    "data = pd.concat([data.drop(label_col, axis=1), df_labels], axis=1)\n",
    "labels = labels.tolist()\n",
    "\n",
    "# prepare age\n",
    "data['Age'] = map(lambda a: 10 if a == 1 \n",
    "                       else 20 if a == 18 \n",
    "                       else 30 if a == 25 \n",
    "                       else 40 if a == 35 \n",
    "                       else 50 if a == 45 or a == 50\n",
    "                       else 60 if a == 56 else None, data['Age'])\n",
    "\n",
    "data['Age_bin'] = map(lambda a: '<35' if a < 35 else '>=35', data['Age'])\n",
    "data_source = DataSource(data)\n",
    "\n",
    "\n",
    "#\n",
    "# Test of associations on movie popularity\n",
    "#\n",
    "SENS = ['Gender', 'Age']\n",
    "TARGET = 'Avg Movie Rating'\n",
    "EXPL = []\n",
    "\n",
    "test_ratings = testing.Testing(data_source, SENS, TARGET, EXPL, random_state=RANDOM_SEED,\n",
    "                               to_drop=['RMSE', 'Avg Movie Age', 'Age_bin'] + labels)\n",
    "\n",
    "\n",
    "\n",
    "#\n",
    "# Test of associations on error\n",
    "#\n",
    "SENS = ['Gender', 'Age']\n",
    "TARGET = 'RMSE'\n",
    "EXPL = []\n",
    "test_rmse = testing.Testing(data_source, SENS, TARGET, EXPL, random_state=RANDOM_SEED,\n",
    "                            to_drop=['Avg Movie Rating', 'Avg Movie Age', 'Age_bin'] + labels)\n",
    "\n",
    "\n",
    "#\n",
    "# Discovery Investigation on Movie Types\n",
    "#\n",
    "TARGET = labels\n",
    "SENS = ['Gender', 'Age_bin']\n",
    "EXPL = []\n",
    "discovery_types = discovery.Discovery(data_source, SENS, TARGET, EXPL, topk=15, random_state=RANDOM_SEED,\n",
    "                                      to_drop=['Avg Movie Rating', 'Avg Movie Age', 'RMSE', 'Age'])\n",
    "                                      \n",
    "\n",
    "#\n",
    "# Testing Investigation on Movie Age                                      \n",
    "#\n",
    "TARGET = 'Avg Movie Age'\n",
    "SENS = ['Gender', 'Age']\n",
    "EXPL = []                    \n",
    "test_ages = testing.Testing(data_source, SENS, TARGET, EXPL, random_state=RANDOM_SEED,\n",
    "                            to_drop=['Avg Movie Rating', 'RMSE', 'Age_bin'] + labels)\n",
    "\n",
    "investigations = [test_ratings, test_rmse, test_ages, discovery_types]"
   ]
  },
  {
   "cell_type": "code",
   "execution_count": 4,
   "metadata": {
    "collapsed": false
   },
   "outputs": [
    {
     "name": "stderr",
     "output_type": "stream",
     "text": [
      "INFO:root:Begin training phase with protected feature Gender\n",
      "INFO:root:Building a Guided Decision Tree\n",
      "INFO:root:splitting on Age (score=0.0119413682903) with threshold 45.0 at pred []\n",
      "INFO:root:splitting on Age (score=0.0120974782475) with threshold 25.0 at pred ['Age <= 45.0']\n",
      "INFO:root:splitting on Occupation (score=0.01319515324) with threshold None at pred ['Age <= 45.0', 'Age > 25.0']\n",
      "INFO:root:Begin training phase with protected feature Age\n",
      "INFO:root:Building a Guided Decision Tree\n",
      "INFO:root:splitting on Gender (score=0.114767969484) with threshold None at pred []\n",
      "INFO:root:splitting on Occupation (score=0.0195100589938) with threshold None at pred ['Gender = 1']\n",
      "INFO:root:Begin training phase with protected feature Gender\n",
      "INFO:root:Building a Guided Decision Tree\n",
      "INFO:root:splitting on Age (score=0.0561652949309) with threshold 25.0 at pred []\n",
      "INFO:root:splitting on Age (score=0.0347857750395) with threshold 15.0 at pred ['Age <= 25.0']\n",
      "INFO:root:splitting on Occupation (score=0.0074092842215) with threshold None at pred ['Age > 25.0']\n",
      "INFO:root:splitting on Age (score=0.0161992092307) with threshold 35.0 at pred ['Age > 25.0', 'Occupation = 7']\n",
      "INFO:root:splitting on Age (score=0.00641578774298) with threshold 35.0 at pred ['Age > 25.0', 'Occupation = 17']\n",
      "INFO:root:Begin training phase with protected feature Age\n",
      "INFO:root:Building a Guided Decision Tree\n",
      "INFO:root:splitting on Gender (score=0.0630780310197) with threshold None at pred []\n",
      "INFO:root:Begin training phase with protected feature Gender\n",
      "INFO:root:Building a Guided Decision Tree\n",
      "INFO:root:splitting on Age (score=0.00649409995981) with threshold 25.0 at pred []\n",
      "INFO:root:splitting on Age (score=0.00917146210732) with threshold 35.0 at pred ['Age > 25.0']\n",
      "INFO:root:Begin training phase with protected feature Age\n",
      "INFO:root:Building a Guided Decision Tree\n",
      "INFO:root:splitting on Gender (score=0.208667979707) with threshold None at pred []\n",
      "INFO:root:Begin training phase with protected feature Age_bin\n",
      "INFO:root:Building a Guided Decision Tree\n",
      "INFO:root:splitting on Gender (score=0.15049688116) with threshold None at pred []\n",
      "INFO:root:splitting on Occupation (score=0.125595485092) with threshold None at pred ['Gender = 1']\n",
      "INFO:root:splitting on Occupation (score=0.082336871528) with threshold None at pred ['Gender = 0']\n",
      "INFO:root:Begin training phase with protected feature Gender\n",
      "INFO:root:Building a Guided Decision Tree\n",
      "INFO:root:splitting on Age_bin (score=0.176917759343) with threshold None at pred []\n",
      "INFO:root:splitting on Occupation (score=0.118656586131) with threshold None at pred ['Age_bin = 0']\n",
      "INFO:root:splitting on Occupation (score=0.0879470334731) with threshold None at pred ['Age_bin = 1']\n"
     ]
    }
   ],
   "source": [
    "import fairtest.modules.context_discovery.guided_tree as guided_tree\n",
    "imp.reload(guided_tree)\n",
    "inv.train(investigations, score_aggregation='avg', min_leaf_size=100, max_depth=5)"
   ]
  },
  {
   "cell_type": "code",
   "execution_count": 5,
   "metadata": {
    "collapsed": false
   },
   "outputs": [
    {
     "name": "stderr",
     "output_type": "stream",
     "text": [
      "INFO:root:Parsing tree for sensitive feature Gender...\n",
      "INFO:root:Parsed tree for sensitive feature Gender\n",
      "INFO:root:Parsing tree for sensitive feature Age...\n",
      "INFO:root:Parsed tree for sensitive feature Age\n",
      "INFO:root:Parsing tree for sensitive feature Gender...\n",
      "INFO:root:Parsed tree for sensitive feature Gender\n",
      "INFO:root:Parsing tree for sensitive feature Age...\n",
      "INFO:root:Parsed tree for sensitive feature Age\n",
      "INFO:root:Parsing tree for sensitive feature Gender...\n",
      "INFO:root:Parsed tree for sensitive feature Gender\n",
      "INFO:root:Parsing tree for sensitive feature Age...\n",
      "INFO:root:Parsed tree for sensitive feature Age\n",
      "INFO:root:Parsing tree for sensitive feature Age_bin...\n",
      "INFO:root:Parsed tree for sensitive feature Age_bin\n",
      "INFO:root:Parsing tree for sensitive feature Gender...\n",
      "INFO:root:Parsed tree for sensitive feature Gender\n",
      "INFO:root:Begin testing phase\n",
      "INFO:root:Testing 10 hypotheses\n",
      "INFO:root:Computing stats for 6 contexts\n",
      "INFO:root:Computing stats for context 0\n",
      "INFO:root:Computing stats for context 1\n",
      "INFO:root:Computing stats for context 3\n",
      "INFO:root:Computing stats for context 4\n",
      "INFO:root:Computing stats for context 7\n",
      "INFO:root:Computing stats for context 2\n",
      "INFO:root:Computing stats for 4 contexts\n",
      "INFO:root:Computing stats for context 0\n",
      "INFO:root:Computing stats for context 1\n",
      "INFO:root:Computing stats for context 4\n",
      "INFO:root:Computing stats for context 9\n",
      "INFO:root:Testing 12 hypotheses\n",
      "INFO:root:Computing stats for 3 contexts\n",
      "INFO:root:Computing stats for context 0\n",
      "INFO:root:Computing stats for context 1\n",
      "INFO:root:Computing stats for context 2\n",
      "INFO:root:Computing stats for 9 contexts\n",
      "INFO:root:Computing stats for context 0\n",
      "INFO:root:Computing stats for context 1\n",
      "INFO:root:Computing stats for context 4\n",
      "INFO:root:Computing stats for context 2\n",
      "INFO:root:Computing stats for context 5\n",
      "INFO:root:Computing stats for context 17\n",
      "INFO:root:Computing stats for context 7\n",
      "INFO:root:Computing stats for context 19\n",
      "INFO:root:Computing stats for context 10\n",
      "INFO:root:Testing 6 hypotheses\n",
      "INFO:root:Computing stats for 3 contexts\n",
      "INFO:root:Computing stats for context 0\n",
      "INFO:root:Computing stats for context 1\n",
      "INFO:root:Computing stats for context 2\n",
      "INFO:root:Computing stats for 3 contexts\n",
      "INFO:root:Computing stats for context 0\n",
      "INFO:root:Computing stats for context 2\n",
      "INFO:root:Computing stats for context 3\n",
      "INFO:root:Testing 390 hypotheses\n",
      "INFO:root:Computing stats for 13 contexts\n",
      "INFO:root:Computing stats for context 0\n",
      "INFO:root:Computing stats for context 1\n",
      "INFO:root:Computing stats for context 3\n",
      "INFO:root:Computing stats for context 4\n",
      "INFO:root:Computing stats for context 5\n",
      "INFO:root:Computing stats for context 6\n",
      "INFO:root:Computing stats for context 7\n",
      "INFO:root:Computing stats for context 8\n",
      "INFO:root:Computing stats for context 9\n",
      "INFO:root:Computing stats for context 2\n",
      "INFO:root:Computing stats for context 10\n",
      "INFO:root:Computing stats for context 11\n",
      "INFO:root:Computing stats for context 12\n",
      "INFO:root:Computing stats for 13 contexts\n",
      "INFO:root:Computing stats for context 0\n",
      "INFO:root:Computing stats for context 1\n",
      "INFO:root:Computing stats for context 3\n",
      "INFO:root:Computing stats for context 4\n",
      "INFO:root:Computing stats for context 5\n",
      "INFO:root:Computing stats for context 6\n",
      "INFO:root:Computing stats for context 7\n",
      "INFO:root:Computing stats for context 8\n",
      "INFO:root:Computing stats for context 2\n",
      "INFO:root:Computing stats for context 9\n",
      "INFO:root:Computing stats for context 10\n",
      "INFO:root:Computing stats for context 11\n",
      "INFO:root:Computing stats for context 12\n"
     ]
    }
   ],
   "source": [
    "import fairtest.modules.statistics.hypothesis_test as tests\n",
    "import fairtest.modules.statistics.multiple_testing as multitest\n",
    "import fairtest.modules.context_discovery.tree_parser as tree_parser\n",
    "import fairtest.modules.statistics.confidence_interval as intervals\n",
    "imp.reload(tests)\n",
    "imp.reload(multitest)\n",
    "imp.reload(tree_parser)\n",
    "imp.reload(intervals)\n",
    "\n",
    "inv.test(investigations, exact=True, prune_insignificant=True)"
   ]
  },
  {
   "cell_type": "code",
   "execution_count": 9,
   "metadata": {
    "collapsed": false
   },
   "outputs": [
    {
     "name": "stderr",
     "output_type": "stream",
     "text": [
      "INFO:root:Filtering and ranking 4 sub-contexts\n",
      "INFO:root:0 statistically significant sub-contexts\n",
      "INFO:root:0 sub-contexts printed\n",
      "INFO:root:Filtering and ranking 6 sub-contexts\n",
      "INFO:root:2 statistically significant sub-contexts\n",
      "INFO:root:Size range: 846-2174\n",
      "INFO:root:1 sub-contexts printed\n",
      "INFO:root:Filtering and ranking 9 sub-contexts\n",
      "INFO:root:1 statistically significant sub-contexts\n",
      "INFO:root:Size range: 2353-2353\n",
      "INFO:root:1 sub-contexts printed\n",
      "INFO:root:Filtering and ranking 3 sub-contexts\n",
      "INFO:root:1 statistically significant sub-contexts\n",
      "INFO:root:Size range: 2174-2174\n",
      "INFO:root:0 sub-contexts printed\n",
      "INFO:root:Filtering and ranking 3 sub-contexts\n",
      "INFO:root:0 statistically significant sub-contexts\n",
      "INFO:root:0 sub-contexts printed\n",
      "INFO:root:Filtering and ranking 3 sub-contexts\n",
      "INFO:root:2 statistically significant sub-contexts\n",
      "INFO:root:Size range: 846-2174\n",
      "INFO:root:0 sub-contexts printed\n",
      "INFO:root:Filtering and ranking 13 sub-contexts\n",
      "INFO:root:1 statistically significant sub-contexts\n",
      "INFO:root:Size range: 2174-2174\n",
      "INFO:root:1 sub-contexts printed\n",
      "INFO:root:Filtering and ranking 13 sub-contexts\n",
      "INFO:root:4 statistically significant sub-contexts\n",
      "INFO:root:Size range: 223-1707\n",
      "INFO:root:0 sub-contexts printed\n"
     ]
    }
   ],
   "source": [
    "import fairtest.modules.bug_report.report as rep\n",
    "import fairtest.modules.bug_report.filter_rank as fr\n",
    "imp.reload(rep)\n",
    "imp.reload(fr)\n",
    "\n",
    "output_dir = '../results'\n",
    "#output_dir = None\n",
    "inv.report(investigations, dataname, filter_conf=0.95, output_dir=output_dir, node_filter=fr.FILTER_BETTER_THAN_ANCESTORS)"
   ]
  },
  {
   "cell_type": "code",
   "execution_count": null,
   "metadata": {
    "collapsed": false
   },
   "outputs": [],
   "source": []
  },
  {
   "cell_type": "code",
   "execution_count": null,
   "metadata": {
    "collapsed": false
   },
   "outputs": [],
   "source": [
    "# Testing Investigation on Movie Ratings\n",
    "data = prepare.data_from_csv( '../data/recommender/recommendations.txt', sep='\\\\t')\n",
    "\n",
    "# prepare age\n",
    "data['Age'] = map(lambda a: 10 if a == 1 \n",
    "                       else 20 if a == 18 \n",
    "                       else 30 if a == 25 \n",
    "                       else 40 if a == 35 \n",
    "                       else 50 if a == 45 or a == 50\n",
    "                       else 60 if a == 56 else None, data['Age'])\n",
    "\n",
    "data['RMSE'] = ['low' if err < np.median(data['RMSE']) else 'high' for err in data['RMSE']]\n",
    "\n",
    "data_source = DataSource(data)\n",
    "\n",
    "\n",
    "#\n",
    "# Test of associations on movie popularity conditioned on error\n",
    "#\n",
    "SENS = ['Gender', 'Age']\n",
    "TARGET = 'Avg Movie Rating'\n",
    "EXPL = ['RMSE']\n",
    "\n",
    "test_ratings = testing.Testing(data_source, SENS, TARGET, EXPL, random_state=RANDOM_SEED,\n",
    "                               to_drop=['Avg Movie Age', 'Types'])"
   ]
  },
  {
   "cell_type": "code",
   "execution_count": null,
   "metadata": {
    "collapsed": false
   },
   "outputs": [],
   "source": [
    "inv.train([test_ratings])"
   ]
  },
  {
   "cell_type": "code",
   "execution_count": null,
   "metadata": {
    "collapsed": false
   },
   "outputs": [],
   "source": [
    "inv.test([test_ratings])"
   ]
  },
  {
   "cell_type": "code",
   "execution_count": null,
   "metadata": {
    "collapsed": false
   },
   "outputs": [],
   "source": [
    "inv.report([test_ratings])"
   ]
  },
  {
   "cell_type": "code",
   "execution_count": null,
   "metadata": {
    "collapsed": false
   },
   "outputs": [],
   "source": [
    "output_dir = None\n",
    "inv.report([test_ratings], dataname, output_dir=output_dir, filter_conf=0.95, node_filter=fr.FILTER_BETTER_THAN_ANCESTORS)"
   ]
  },
  {
   "cell_type": "code",
   "execution_count": null,
   "metadata": {
    "collapsed": true
   },
   "outputs": [],
   "source": []
  }
 ],
 "metadata": {
  "kernelspec": {
   "display_name": "Python 2",
   "language": "python",
   "name": "python2"
  },
  "language_info": {
   "codemirror_mode": {
    "name": "ipython",
    "version": 2
   },
   "file_extension": ".py",
   "mimetype": "text/x-python",
   "name": "python",
   "nbconvert_exporter": "python",
   "pygments_lexer": "ipython2",
   "version": "2.7.10"
  }
 },
 "nbformat": 4,
 "nbformat_minor": 0
}
