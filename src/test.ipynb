{
 "metadata": {
  "name": "",
  "signature": "sha256:960822ee925d1d9999a01d131374d976920ae572e45a159f4debfc7b99fec047"
 },
 "nbformat": 3,
 "nbformat_minor": 0,
 "worksheets": [
  {
   "cells": [
    {
     "cell_type": "code",
     "collapsed": false,
     "input": [
      "import fairtest.bugreport.core.dataset as dataset\n",
      "import fairtest.bugreport.trees.tree_builder as tree_builder\n",
      "import fairtest.bugreport.trees.categorical_tree as cat_tree\n",
      "import fairtest.bugreport.clustering.tree_clustering as tree_clustering\n",
      "import fairtest.bugreport.clustering.display_clusters as display\n",
      "import fairtest.bugreport.statistics.fairness_measures as fm\n",
      "import imp\n",
      "\n",
      "R_LIBRARIES = ['survival', 'coin']\n",
      "try:\n",
      "  R_LOADED\n",
      "except NameError:\n",
      "    import rpy2.robjects as ro\n",
      "    from rpy2.robjects import numpy2ri\n",
      "    ro.conversion.py2ri = numpy2ri\n",
      "    numpy2ri.activate()\n",
      "    for lib in R_LIBRARIES:\n",
      "        ro.r('library({})'.format(lib))\n",
      "    R_LOADED = True"
     ],
     "language": "python",
     "metadata": {},
     "outputs": [],
     "prompt_number": 1
    },
    {
     "cell_type": "code",
     "collapsed": false,
     "input": [
      "RANDOM_SEED = 0\n",
      "imp.reload(dataset)\n",
      "data = dataset.Dataset()\n",
      "\n",
      "\n",
      "#\n",
      "# Choose a Dataset\n",
      "#\n",
      "# Adult dataset (GENDER x INCOME)\n",
      "'''\n",
      "data.load_data_csv('../data/adult/adult.csv')\n",
      "data.drop_feature('fnlwgt')\n",
      "data.set_sens_feature('sex', feature_type='cat')\n",
      "data.set_output_feature('predicted-income', feature_type='cat')\n",
      "#data.original_data['married'] = map(lambda x: 'Yes' if x=='Married-civ-spouse' else 'No' ,data.original_data['marital-status'])\n",
      "#data.set_explanatory_feature('married')\n",
      "#data.drop_feature('marital-status')\n",
      "data.original_data['hours-per-week'] = map(lambda x: '\u226540' if x>=40 else '<40', data.original_data['hours-per-week'])\n",
      "data.set_explanatory_feature('hours-per-week')\n",
      "'''\n",
      "\n",
      "# Medical dataset (Age x Prediction Correctness)\n",
      "'''\n",
      "data.load_data_csv('../data/medical/predictions_bin_4_25.csv')\n",
      "outputs = ['Correct', 'FP', 'FN']\n",
      "data.original_data['Prediction'] = map(lambda l: outputs[l.index(1)], zip(data.original_data['Pred_Correct'], data.original_data['Pred_FP'], data.original_data['Pred_FN']))\n",
      "data.drop_feature('Pred_Correct')\n",
      "data.drop_feature('Pred_FP')\n",
      "data.drop_feature('Pred_FN')\n",
      "data.drop_feature('Pred_TP')\n",
      "data.drop_feature('Pred_TN')\n",
      "data.set_sens_feature('Age', feature_type='cat')\n",
      "data.set_output_feature('Prediction', feature_type='cat')\n",
      "'''\n",
      "\n",
      "# Medical dataset (Age x False Positives)\n",
      "'''\n",
      "data.load_data_csv('../data/medical/predictions_bin.csv')\n",
      "data.drop_feature('Pred_Correct')\n",
      "data.drop_feature('Pred_FN')\n",
      "data.drop_feature('Pred_TP')\n",
      "data.drop_feature('Pred_TN')\n",
      "data.set_sens_feature('Age', feature_type='cat')\n",
      "data.set_output_feature('Pred_FP', feature_type='cat')\n",
      "'''\n",
      "\n",
      "# Medical dataset (Age x Average Predicton Error)\n",
      "data.load_data_csv('../data/medical/predictions_reg_25.csv')\n",
      "data.original_data['Error'] = abs(data.original_data['Error'])\n",
      "data.set_sens_feature('Age', feature_type='cont')\n",
      "data.set_output_feature('Error', feature_type='cont')\n",
      "\n",
      "# Healthcare (Age x Premium)\n",
      "'''\n",
      "data.load_data_csv('../data/medical/healthcare2.csv')\n",
      "data.set_sens_feature('Age', feature_type='cat')\n",
      "data.set_output_feature('Premium', feature_type='cat')\n",
      "data.set_explanatory_feature('HospitalStay')\n",
      "'''\n",
      "\n",
      "# Berkeley dataset (Gender x Admission)\n",
      "'''\n",
      "data.load_data_csv('../data/berkeley/berkeley.csv')\n",
      "data.set_sens_feature('gender', feature_type='cat')\n",
      "data.set_output_feature('accepted', feature_type='cat')\n",
      "data.set_explanatory_feature('department')\n",
      "'''\n",
      "\n",
      "# Staples dataset (Income x Price)\n",
      "'''\n",
      "data.load_data_csv('../data/staples/staples.csv')\n",
      "data.drop_feature('distance')\n",
      "data.drop_feature('zipcode')\n",
      "data.drop_feature('city')\n",
      "data.set_sens_feature('income', feature_type='cat')\n",
      "data.set_output_feature('price', feature_type='cat')\n",
      "'''\n",
      "\n",
      "# Image Labeling dataset (Race x Labels)\n",
      "'''\n",
      "data.load_data_csv('../data/images/overfeat_raw.txt', separator='\\t')\n",
      "#data.load_data_csv('../data/images/lfw_black-white.txt', separator='\\t')\n",
      "data.set_sens_feature('Race', feature_type='cat')\n",
      "data.set_output_feature('Labels', feature_type='labeled')\n",
      "'''\n",
      "\n",
      "# Credit dataset\n",
      "'''\n",
      "data.load_data_csv('../data/credit/german.csv')\n",
      "data.set_sens_feature('Gender', feature_type='cat')\n",
      "data.set_output_feature('Credit score', feature_type='cat')\n",
      "'''\n",
      "\n",
      "data.encode_data(binary=False)\n",
      "data.train_test_split(train_size=0.5, seed=RANDOM_SEED)\n",
      "print 'Sample Size: {}'.format(len(data.original_data))\n",
      "print 'Training Size: {}'.format(len(data.data_train))\n",
      "print 'Testing Size: {}'.format(len(data.data_test))\n",
      "data.data_train.tail()"
     ],
     "language": "python",
     "metadata": {},
     "outputs": [
      {
       "output_type": "stream",
       "stream": "stdout",
       "text": [
        "Sample Size: 86358\n",
        "Training Size: 43179\n",
        "Testing Size: 43179\n"
       ]
      },
      {
       "html": [
        "<div style=\"max-height:1000px;max-width:1500px;overflow:auto;\">\n",
        "<table border=\"1\" class=\"dataframe\">\n",
        "  <thead>\n",
        "    <tr style=\"text-align: right;\">\n",
        "      <th></th>\n",
        "      <th>Average Charlson Index</th>\n",
        "      <th>Average Days Since First Service</th>\n",
        "      <th>Average Drug Count</th>\n",
        "      <th>Average Lab Count</th>\n",
        "      <th>Average Length Of Stay</th>\n",
        "      <th>Average Payment Delay</th>\n",
        "      <th>Condition AMI</th>\n",
        "      <th>Condition APPCHOL</th>\n",
        "      <th>Condition ARTHSPIN</th>\n",
        "      <th>Condition CANCRA</th>\n",
        "      <th>...</th>\n",
        "      <th>Treatment Code SMCD</th>\n",
        "      <th>Treatment Code SMS</th>\n",
        "      <th>Treatment Code SNS</th>\n",
        "      <th>Treatment Code SO</th>\n",
        "      <th>Treatment Code SRS</th>\n",
        "      <th>Treatment Code SUS</th>\n",
        "      <th>Unknown Length Of Stay</th>\n",
        "      <th>Gender</th>\n",
        "      <th>Age</th>\n",
        "      <th>Error</th>\n",
        "    </tr>\n",
        "  </thead>\n",
        "  <tbody>\n",
        "    <tr>\n",
        "      <th>21243</th>\n",
        "      <td>0</td>\n",
        "      <td>1</td>\n",
        "      <td>2.000000</td>\n",
        "      <td>0</td>\n",
        "      <td>0</td>\n",
        "      <td>54</td>\n",
        "      <td>0</td>\n",
        "      <td>0</td>\n",
        "      <td>0</td>\n",
        "      <td>0</td>\n",
        "      <td>...</td>\n",
        "      <td>0</td>\n",
        "      <td>0</td>\n",
        "      <td>0</td>\n",
        "      <td>0</td>\n",
        "      <td>0</td>\n",
        "      <td>0</td>\n",
        "      <td>2</td>\n",
        "      <td>1</td>\n",
        "      <td>55</td>\n",
        "      <td>0.137452</td>\n",
        "    </tr>\n",
        "    <tr>\n",
        "      <th>45891</th>\n",
        "      <td>1</td>\n",
        "      <td>4</td>\n",
        "      <td>1.714285</td>\n",
        "      <td>9</td>\n",
        "      <td>0</td>\n",
        "      <td>62</td>\n",
        "      <td>2</td>\n",
        "      <td>0</td>\n",
        "      <td>6</td>\n",
        "      <td>0</td>\n",
        "      <td>...</td>\n",
        "      <td>0</td>\n",
        "      <td>1</td>\n",
        "      <td>0</td>\n",
        "      <td>0</td>\n",
        "      <td>0</td>\n",
        "      <td>0</td>\n",
        "      <td>27</td>\n",
        "      <td>1</td>\n",
        "      <td>75</td>\n",
        "      <td>0.371211</td>\n",
        "    </tr>\n",
        "    <tr>\n",
        "      <th>42613</th>\n",
        "      <td>0</td>\n",
        "      <td>1</td>\n",
        "      <td>0.000000</td>\n",
        "      <td>0</td>\n",
        "      <td>0</td>\n",
        "      <td>21</td>\n",
        "      <td>0</td>\n",
        "      <td>0</td>\n",
        "      <td>0</td>\n",
        "      <td>0</td>\n",
        "      <td>...</td>\n",
        "      <td>0</td>\n",
        "      <td>0</td>\n",
        "      <td>0</td>\n",
        "      <td>0</td>\n",
        "      <td>0</td>\n",
        "      <td>0</td>\n",
        "      <td>1</td>\n",
        "      <td>1</td>\n",
        "      <td>5</td>\n",
        "      <td>0.891361</td>\n",
        "    </tr>\n",
        "    <tr>\n",
        "      <th>43567</th>\n",
        "      <td>0</td>\n",
        "      <td>1</td>\n",
        "      <td>1.000000</td>\n",
        "      <td>3</td>\n",
        "      <td>0</td>\n",
        "      <td>42</td>\n",
        "      <td>0</td>\n",
        "      <td>0</td>\n",
        "      <td>0</td>\n",
        "      <td>0</td>\n",
        "      <td>...</td>\n",
        "      <td>0</td>\n",
        "      <td>0</td>\n",
        "      <td>0</td>\n",
        "      <td>0</td>\n",
        "      <td>0</td>\n",
        "      <td>0</td>\n",
        "      <td>3</td>\n",
        "      <td>1</td>\n",
        "      <td>45</td>\n",
        "      <td>0.098608</td>\n",
        "    </tr>\n",
        "    <tr>\n",
        "      <th>68268</th>\n",
        "      <td>0</td>\n",
        "      <td>2</td>\n",
        "      <td>1.166666</td>\n",
        "      <td>4</td>\n",
        "      <td>0</td>\n",
        "      <td>92</td>\n",
        "      <td>0</td>\n",
        "      <td>0</td>\n",
        "      <td>0</td>\n",
        "      <td>0</td>\n",
        "      <td>...</td>\n",
        "      <td>0</td>\n",
        "      <td>0</td>\n",
        "      <td>0</td>\n",
        "      <td>0</td>\n",
        "      <td>0</td>\n",
        "      <td>0</td>\n",
        "      <td>5</td>\n",
        "      <td>0</td>\n",
        "      <td>55</td>\n",
        "      <td>0.119511</td>\n",
        "    </tr>\n",
        "  </tbody>\n",
        "</table>\n",
        "<p>5 rows \u00d7 129 columns</p>\n",
        "</div>"
       ],
       "metadata": {},
       "output_type": "pyout",
       "prompt_number": 61,
       "text": [
        "       Average Charlson Index  Average Days Since First Service  \\\n",
        "21243                       0                                 1   \n",
        "45891                       1                                 4   \n",
        "42613                       0                                 1   \n",
        "43567                       0                                 1   \n",
        "68268                       0                                 2   \n",
        "\n",
        "       Average Drug Count  Average Lab Count  Average Length Of Stay  \\\n",
        "21243            2.000000                  0                       0   \n",
        "45891            1.714285                  9                       0   \n",
        "42613            0.000000                  0                       0   \n",
        "43567            1.000000                  3                       0   \n",
        "68268            1.166666                  4                       0   \n",
        "\n",
        "       Average Payment Delay  Condition AMI  Condition APPCHOL  \\\n",
        "21243                     54              0                  0   \n",
        "45891                     62              2                  0   \n",
        "42613                     21              0                  0   \n",
        "43567                     42              0                  0   \n",
        "68268                     92              0                  0   \n",
        "\n",
        "       Condition ARTHSPIN  Condition CANCRA    ...     Treatment Code SMCD  \\\n",
        "21243                   0                 0    ...                       0   \n",
        "45891                   6                 0    ...                       0   \n",
        "42613                   0                 0    ...                       0   \n",
        "43567                   0                 0    ...                       0   \n",
        "68268                   0                 0    ...                       0   \n",
        "\n",
        "       Treatment Code SMS  Treatment Code SNS  Treatment Code SO  \\\n",
        "21243                   0                   0                  0   \n",
        "45891                   1                   0                  0   \n",
        "42613                   0                   0                  0   \n",
        "43567                   0                   0                  0   \n",
        "68268                   0                   0                  0   \n",
        "\n",
        "       Treatment Code SRS  Treatment Code SUS  Unknown Length Of Stay  Gender  \\\n",
        "21243                   0                   0                       2       1   \n",
        "45891                   0                   0                      27       1   \n",
        "42613                   0                   0                       1       1   \n",
        "43567                   0                   0                       3       1   \n",
        "68268                   0                   0                       5       0   \n",
        "\n",
        "       Age     Error  \n",
        "21243   55  0.137452  \n",
        "45891   75  0.371211  \n",
        "42613    5  0.891361  \n",
        "43567   45  0.098608  \n",
        "68268   55  0.119511  \n",
        "\n",
        "[5 rows x 129 columns]"
       ]
      }
     ],
     "prompt_number": 61
    },
    {
     "cell_type": "code",
     "collapsed": false,
     "input": [
      "imp.reload(cat_tree)\n",
      "imp.reload(tree_builder)\n",
      "imp.reload(fm)\n",
      "\n",
      "#measure = fm.NMI(ci_level=0.95)\n",
      "#measure = fm.CondNMI(ci_level=0.95)\n",
      "measure  = fm.CORR(ci_level=0.95)\n",
      "#measure = fm.DIFF(ci_level=0.95)\n",
      "#measure = fm.RATIO(ci_level=0.95)\n",
      "#measure = fm.REGRESSION(ci_level=0.95, topK=60)\n",
      "\n",
      "tree_params = {'max_depth': 5, 'min_leaf_size': 100, 'agg_type': cat_tree.ScoreParams.AVG}\n",
      "\n",
      "tree = tree_builder.train_tree(data, measure=measure, **tree_params)"
     ],
     "language": "python",
     "metadata": {},
     "outputs": [],
     "prompt_number": 62
    },
    {
     "cell_type": "code",
     "collapsed": false,
     "input": [
      "imp.reload(tree_clustering)\n",
      "\n",
      "clusters = tree_clustering.find_clusters_cat(tree, data)\n",
      "print len(clusters)"
     ],
     "language": "python",
     "metadata": {},
     "outputs": [
      {
       "output_type": "stream",
       "stream": "stdout",
       "text": [
        "39\n"
       ]
      }
     ],
     "prompt_number": 63
    },
    {
     "cell_type": "code",
     "collapsed": false,
     "input": [
      "imp.reload(display)\n",
      "imp.reload(fm)\n",
      "\n",
      "node_filter=display.FILTER_BETTER_THAN_ANCESTORS\n",
      "#node_filter=display.FILTER_ROOT_ONLY\n",
      "sort_by = display.SORT_BY_EFFECT\n",
      "\n",
      "display_params = {'sort_by': sort_by, 'node_filter': node_filter, 'approx': False, 'fdr': 0.05}\n",
      "\n",
      "display.print_report_info(data, measure, tree_params, display_params)\n",
      "\n",
      "import cProfile as cp\n",
      "#cp.run('display.bug_report(clusters, columns=None, new_measure=alt_measure, sort_by=sort_by, node_filter=node_filter, approx=False, fdr=0.05)')\n",
      "display.bug_report(clusters, **display_params)"
     ],
     "language": "python",
     "metadata": {},
     "outputs": [
      {
       "output_type": "stream",
       "stream": "stderr",
       "text": [
        "/Library/Python/2.7/site-packages/scikits/bootstrap/bootstrap.py:202: InstabilityWarning: Some values used top 10 low/high samples; results may be unstable.\n",
        "  warnings.warn(\"Some values used top 10 low/high samples; results may be unstable.\", InstabilityWarning)\n",
        "/Library/Python/2.7/site-packages/scikits/bootstrap/bootstrap.py:202: InstabilityWarning: Some values used top 10 low/high samples; results may be unstable.\n",
        "  warnings.warn(\"Some values used top 10 low/high samples; results may be unstable.\", InstabilityWarning)\n"
       ]
      },
      {
       "output_type": "stream",
       "stream": "stderr",
       "text": [
        "/Library/Python/2.7/site-packages/scikits/bootstrap/bootstrap.py:202: InstabilityWarning: Some values used top 10 low/high samples; results may be unstable.\n",
        "  warnings.warn(\"Some values used top 10 low/high samples; results may be unstable.\", InstabilityWarning)\n",
        "/Library/Python/2.7/site-packages/scikits/bootstrap/bootstrap.py:202: InstabilityWarning: Some values used top 10 low/high samples; results may be unstable.\n",
        "  warnings.warn(\"Some values used top 10 low/high samples; results may be unstable.\", InstabilityWarning)\n"
       ]
      },
      {
       "output_type": "stream",
       "stream": "stderr",
       "text": [
        "/Library/Python/2.7/site-packages/scikits/bootstrap/bootstrap.py:202: InstabilityWarning: Some values used top 10 low/high samples; results may be unstable.\n",
        "  warnings.warn(\"Some values used top 10 low/high samples; results may be unstable.\", InstabilityWarning)\n",
        "/Library/Python/2.7/site-packages/scikits/bootstrap/bootstrap.py:202: InstabilityWarning: Some values used top 10 low/high samples; results may be unstable.\n",
        "  warnings.warn(\"Some values used top 10 low/high samples; results may be unstable.\", InstabilityWarning)\n"
       ]
      },
      {
       "output_type": "stream",
       "stream": "stderr",
       "text": [
        "/Library/Python/2.7/site-packages/scikits/bootstrap/bootstrap.py:202: InstabilityWarning: Some values used top 10 low/high samples; results may be unstable.\n",
        "  warnings.warn(\"Some values used top 10 low/high samples; results may be unstable.\", InstabilityWarning)\n",
        "/Library/Python/2.7/site-packages/scikits/bootstrap/bootstrap.py:202: InstabilityWarning: Some values used top 10 low/high samples; results may be unstable.\n",
        "  warnings.warn(\"Some values used top 10 low/high samples; results may be unstable.\", InstabilityWarning)\n"
       ]
      },
      {
       "output_type": "stream",
       "stream": "stderr",
       "text": [
        "/Library/Python/2.7/site-packages/scikits/bootstrap/bootstrap.py:202: InstabilityWarning: Some values used top 10 low/high samples; results may be unstable.\n",
        "  warnings.warn(\"Some values used top 10 low/high samples; results may be unstable.\", InstabilityWarning)\n",
        "/Library/Python/2.7/site-packages/scikits/bootstrap/bootstrap.py:202: InstabilityWarning: Some values used top 10 low/high samples; results may be unstable.\n",
        "  warnings.warn(\"Some values used top 10 low/high samples; results may be unstable.\", InstabilityWarning)\n"
       ]
      },
      {
       "output_type": "stream",
       "stream": "stderr",
       "text": [
        "/Library/Python/2.7/site-packages/scikits/bootstrap/bootstrap.py:202: InstabilityWarning: Some values used top 10 low/high samples; results may be unstable.\n",
        "  warnings.warn(\"Some values used top 10 low/high samples; results may be unstable.\", InstabilityWarning)\n",
        "/Library/Python/2.7/site-packages/scikits/bootstrap/bootstrap.py:202: InstabilityWarning: Some values used top 10 low/high samples; results may be unstable.\n",
        "  warnings.warn(\"Some values used top 10 low/high samples; results may be unstable.\", InstabilityWarning)\n"
       ]
      },
      {
       "output_type": "stream",
       "stream": "stderr",
       "text": [
        "/Library/Python/2.7/site-packages/scikits/bootstrap/bootstrap.py:202: InstabilityWarning: Some values used top 10 low/high samples; results may be unstable.\n",
        "  warnings.warn(\"Some values used top 10 low/high samples; results may be unstable.\", InstabilityWarning)\n",
        "/Library/Python/2.7/site-packages/scikits/bootstrap/bootstrap.py:202: InstabilityWarning: Some values used top 10 low/high samples; results may be unstable.\n",
        "  warnings.warn(\"Some values used top 10 low/high samples; results may be unstable.\", InstabilityWarning)\n"
       ]
      },
      {
       "output_type": "stream",
       "stream": "stderr",
       "text": [
        "/Library/Python/2.7/site-packages/scikits/bootstrap/bootstrap.py:202: InstabilityWarning: Some values used top 10 low/high samples; results may be unstable.\n",
        "  warnings.warn(\"Some values used top 10 low/high samples; results may be unstable.\", InstabilityWarning)\n",
        "/Library/Python/2.7/site-packages/scikits/bootstrap/bootstrap.py:202: InstabilityWarning: Some values used top 10 low/high samples; results may be unstable.\n",
        "  warnings.warn(\"Some values used top 10 low/high samples; results may be unstable.\", InstabilityWarning)\n"
       ]
      },
      {
       "output_type": "stream",
       "stream": "stderr",
       "text": [
        "/Library/Python/2.7/site-packages/scikits/bootstrap/bootstrap.py:202: InstabilityWarning: Some values used top 10 low/high samples; results may be unstable.\n",
        "  warnings.warn(\"Some values used top 10 low/high samples; results may be unstable.\", InstabilityWarning)\n",
        "/Library/Python/2.7/site-packages/scikits/bootstrap/bootstrap.py:202: InstabilityWarning: Some values used top 10 low/high samples; results may be unstable.\n",
        "  warnings.warn(\"Some values used top 10 low/high samples; results may be unstable.\", InstabilityWarning)\n"
       ]
      },
      {
       "output_type": "stream",
       "stream": "stderr",
       "text": [
        "/Library/Python/2.7/site-packages/scikits/bootstrap/bootstrap.py:202: InstabilityWarning: Some values used top 10 low/high samples; results may be unstable.\n",
        "  warnings.warn(\"Some values used top 10 low/high samples; results may be unstable.\", InstabilityWarning)\n",
        "/Library/Python/2.7/site-packages/scikits/bootstrap/bootstrap.py:202: InstabilityWarning: Some values used top 10 low/high samples; results may be unstable.\n",
        "  warnings.warn(\"Some values used top 10 low/high samples; results may be unstable.\", InstabilityWarning)\n"
       ]
      },
      {
       "output_type": "stream",
       "stream": "stderr",
       "text": [
        "/Library/Python/2.7/site-packages/scikits/bootstrap/bootstrap.py:202: InstabilityWarning: Some values used top 10 low/high samples; results may be unstable.\n",
        "  warnings.warn(\"Some values used top 10 low/high samples; results may be unstable.\", InstabilityWarning)\n",
        "/Library/Python/2.7/site-packages/scikits/bootstrap/bootstrap.py:202: InstabilityWarning: Some values used top 10 low/high samples; results may be unstable.\n",
        "  warnings.warn(\"Some values used top 10 low/high samples; results may be unstable.\", InstabilityWarning)\n"
       ]
      },
      {
       "output_type": "stream",
       "stream": "stdout",
       "text": [
        "================================================================================\n",
        "Commit Hash: \t8db8b5756f5dd57d41327d98f7e7cad82c6bf59e\n",
        "\n",
        "Dataset: \t../data/medical/predictions_reg_25.csv\n",
        "Training Size: \t43179\n",
        "Testing Size: \t43179\n",
        "Attributes: \t['Age', 'Average Charlson Index', 'Average Days Since First\n",
        "\t\tService', 'Average Drug Count', 'Average Lab Count',\n",
        "\t\t'Average Length Of Stay', 'Average Payment Delay',\n",
        "\t\t'Condition AMI', 'Condition APPCHOL', 'Condition ARTHSPIN',\n",
        "\t\t'Condition CANCRA', 'Condition CANCRB', 'Condition CANCRM',\n",
        "\t\t'Condition CATAST', 'Condition CHF', 'Condition COPD',\n",
        "\t\t'Condition FLaELEC', 'Condition FXDISLC', 'Condition\n",
        "\t\tGIBLEED', 'Condition GIOBSENT', 'Condition GYNEC1',\n",
        "\t\t'Condition GYNECA', 'Condition HEART2', 'Condition HEART4',\n",
        "\t\t'Condition HEMTOL', 'Condition HIPFX', 'Condition INFEC4',\n",
        "\t\t'Condition LIVERDZ', 'Condition METAB1', 'Condition METAB3',\n",
        "\t\t'Condition MISCHRT', 'Condition MISCL1', 'Condition MISCL5',\n",
        "\t\t'Condition MSC2a3', 'Condition NEUMENT', 'Condition NULL',\n",
        "\t\t'Condition ODaBNCA', 'Condition PERINTL', 'Condition\n",
        "\t\tPERVALV', 'Condition PNCRDZ', 'Condition PNEUM', 'Condition\n",
        "\t\tPRGNCY', 'Condition RENAL1', 'Condition RENAL2', 'Condition\n",
        "\t\tRENAL3', 'Condition RESPR4', 'Condition ROAMI', 'Condition\n",
        "\t\tSEIZURE', 'Condition SEPSIS', 'Condition SKNAUT', 'Condition\n",
        "\t\tSTROKE', 'Condition TRAUMA', 'Condition UTI', 'Drug Months',\n",
        "\t\t'Known Length Of Stay', 'Lab Months', 'Max Charlson Index',\n",
        "\t\t'Max Days Since First Service', 'Max Drug Count', 'Max Lab\n",
        "\t\tCount', 'Max Length Of Stay', 'Max Payment Delay', 'Min\n",
        "\t\tCharlson Index', 'Min Days Since First Service', 'Min Drug\n",
        "\t\tCount', 'Min Lab Count', 'Min Length Of Stay', 'Min Payment\n",
        "\t\tDelay', 'No Drug Count', 'No Lab Count', 'Number Of Claims',\n",
        "\t\t'Number Of Providers', 'Number Of Specialties', 'Number of\n",
        "\t\tPlaces Where Treated', 'Number of Primary Condition Groups',\n",
        "\t\t'Number of Primary Physicians', 'Number of Procedure\n",
        "\t\tGroups', 'Number of Vendors', 'Range Charlson IndexI_range',\n",
        "\t\t'Range Days Since First Service', 'Speciality\n",
        "\t\tAnesthesiology', 'Speciality Diagnostic Imaging',\n",
        "\t\t'Speciality Emergency', 'Speciality General Practice',\n",
        "\t\t'Speciality Internal', 'Speciality Laboratory', 'Speciality\n",
        "\t\tNULL', 'Speciality Obstetrics and Gynecology', 'Speciality\n",
        "\t\tOther', 'Speciality Pathology', 'Speciality Pediatrics',\n",
        "\t\t'Speciality Rehabilitation', 'Speciality Surgery', 'Stdev\n",
        "\t\tCharlson Index', 'Stdev Days Since First Service', 'Stdev\n",
        "\t\tLength Of Stay', 'Stdev Payment Delay', 'Suppressed Claims',\n",
        "\t\t'Supressed Length Of Stay', 'Treated at Ambulance', 'Treated\n",
        "\t\tat Home', 'Treated at Independent Lab', 'Treated at\n",
        "\t\tInpatient Hospital', 'Treated at NULL', 'Treated at Office',\n",
        "\t\t'Treated at Other', 'Treated at Outpatient Hospital',\n",
        "\t\t'Treated at Urgent Care', 'Treatment Code ANES', 'Treatment\n",
        "\t\tCode EM', 'Treatment Code MED', 'Treatment Code NULL',\n",
        "\t\t'Treatment Code PL', 'Treatment Code RAD', 'Treatment Code\n",
        "\t\tSAS', 'Treatment Code SCS', 'Treatment Code SDS', 'Treatment\n",
        "\t\tCode SEOA', 'Treatment Code SGS', 'Treatment Code SIS',\n",
        "\t\t'Treatment Code SMCD', 'Treatment Code SMS', 'Treatment Code\n",
        "\t\tSNS', 'Treatment Code SO', 'Treatment Code SRS', 'Treatment\n",
        "\t\tCode SUS', 'Unknown Length Of Stay', 'Gender', 'Error']\n",
        "Protected: \tAge\n",
        "Explanatory: \tNone\n",
        "Target: \tError\n",
        "\n",
        "Tree Params: \t{'min_leaf_size': 100, 'max_depth': 5, 'agg_type': 'AVG'}\n",
        "Metric: \tCorrelation(confidence=0.95)\n",
        "\n",
        "Report Params: \t{'node_filter': 'BETTER_THAN_ANCESTORS', 'fdr': 0.05, 'approx': False, 'sort_by': 'EFFECT'}\n",
        "================================================================================\n",
        "\n",
        "Global Population of size 43179"
       ]
      },
      {
       "output_type": "stream",
       "stream": "stdout",
       "text": [
        "\n",
        "\n"
       ]
      },
      {
       "metadata": {},
       "output_type": "display_data",
       "png": "[encoded data removed]",
       "text": [
        "<matplotlib.figure.Figure at 0x120567c50>"
       ]
      },
      {
       "output_type": "stream",
       "stream": "stdout",
       "text": [
        "p-value = 3.90e-179 ; CORR = [0.3219, 0.3494]\n",
        "================================================================================\n",
        "\n",
        "Sub-Population of size 180\n",
        "Context = {'Condition RESPR4': (-inf, 1.5], 'Condition INFEC4': (1.5, inf), 'Average Payment Delay': (80.5, inf), 'Speciality Emergency': (-inf, 0.5]}\n",
        "\n"
       ]
      },
      {
       "metadata": {},
       "output_type": "display_data",
       "png": "[encoded data removed]",
       "text": [
        "<matplotlib.figure.Figure at 0x1194c3410>"
       ]
      },
      {
       "output_type": "stream",
       "stream": "stdout",
       "text": [
        "p-value = 2.20e-03 ; CORR = [0.4149, 0.7019]\n",
        "--------------------------------------------------------------------------------\n",
        "\n",
        "Sub-Population of size 123\n",
        "Context = {'Speciality Emergency': (0.5, 4.5], 'Condition FXDISLC': (0.5, 1.5]}\n",
        "\n"
       ]
      },
      {
       "metadata": {},
       "output_type": "display_data",
       "png": "[encoded data removed]",
       "text": [
        "<matplotlib.figure.Figure at 0x119504150>"
       ]
      },
      {
       "output_type": "stream",
       "stream": "stdout",
       "text": [
        "p-value = 2.20e-03 ; CORR = [0.3909, 0.6862]\n",
        "--------------------------------------------------------------------------------\n",
        "\n",
        "Sub-Population of size 5303\n",
        "Context = {'Speciality Obstetrics and Gynecology': (-inf, 0.5], 'Condition INFEC4': (-inf, 0.5], 'Speciality Emergency': (0.5, 4.5], 'Condition FXDISLC': (-inf, 0.5]}\n",
        "\n"
       ]
      },
      {
       "metadata": {},
       "output_type": "display_data",
       "png": "[encoded data removed]",
       "text": [
        "<matplotlib.figure.Figure at 0x1194a74d0>"
       ]
      },
      {
       "output_type": "stream",
       "stream": "stdout",
       "text": [
        "p-value = 3.90e-179 ; CORR = [0.3839, 0.4567]\n",
        "--------------------------------------------------------------------------------\n",
        "\n",
        "Sub-Population of size 558\n",
        "Context = {'Speciality Emergency': (4.5, inf)}\n",
        "\n"
       ]
      },
      {
       "metadata": {},
       "output_type": "display_data",
       "png": "[encoded data removed]",
       "text": [
        "<matplotlib.figure.Figure at 0x119a0a610>"
       ]
      },
      {
       "output_type": "stream",
       "stream": "stdout",
       "text": [
        "p-value = 2.20e-03 ; CORR = [0.3797, 0.5333]\n",
        "--------------------------------------------------------------------------------\n",
        "\n",
        "Sub-Population of size 8177\n",
        "Context = {'Speciality Emergency': (0.5, 4.5]}\n",
        "\n"
       ]
      },
      {
       "metadata": {},
       "output_type": "display_data",
       "png": "[encoded data removed]",
       "text": [
        "<matplotlib.figure.Figure at 0x1193e5890>"
       ]
      },
      {
       "output_type": "stream",
       "stream": "stdout",
       "text": [
        "p-value = 3.90e-179 ; CORR = [0.3792, 0.4385]\n",
        "--------------------------------------------------------------------------------\n",
        "\n",
        "Sub-Population of size 2617\n",
        "Context = {'Condition COPD': (-inf, 1.5], 'Condition INFEC4': (-inf, 1.5], 'Speciality Emergency': (-inf, 0.5], 'Treated at Urgent Care': (0.5, inf)}\n",
        "\n"
       ]
      },
      {
       "metadata": {},
       "output_type": "display_data",
       "png": "[encoded data removed]",
       "text": [
        "<matplotlib.figure.Figure at 0x1200575d0>"
       ]
      },
      {
       "output_type": "stream",
       "stream": "stdout",
       "text": [
        "p-value = 5.24e-100 ; CORR = [0.3410, 0.4472]\n",
        "--------------------------------------------------------------------------------\n",
        "\n",
        "Sub-Population of size 2010\n",
        "Context = {'Condition INFEC4': (1.5, inf), 'Speciality Emergency': (-inf, 0.5]}\n",
        "\n"
       ]
      },
      {
       "metadata": {},
       "output_type": "display_data",
       "png": "[encoded data removed]",
       "text": [
        "<matplotlib.figure.Figure at 0x1200daa90>"
       ]
      },
      {
       "output_type": "stream",
       "stream": "stdout",
       "text": [
        "p-value = 1.50e-79 ; CORR = [0.3394, 0.4599]\n",
        "--------------------------------------------------------------------------------\n",
        "\n",
        "Sub-Population of size 2761\n",
        "Context = {'Condition INFEC4': (-inf, 1.5], 'Speciality Emergency': (-inf, 0.5], 'Treated at Urgent Care': (0.5, inf)}\n",
        "\n"
       ]
      },
      {
       "metadata": {},
       "output_type": "display_data",
       "png": "[encoded data removed]",
       "text": [
        "<matplotlib.figure.Figure at 0x11f112910>"
       ]
      },
      {
       "output_type": "stream",
       "stream": "stdout",
       "text": [
        "p-value = 3.81e-103 ; CORR = [0.3384, 0.4422]\n",
        "--------------------------------------------------------------------------------\n",
        "\n",
        "Sub-Population of size 42621\n",
        "Context = {'Speciality Emergency': (-inf, 4.5]}\n",
        "\n"
       ]
      },
      {
       "metadata": {},
       "output_type": "display_data",
       "png": "[encoded data removed]",
       "text": [
        "<matplotlib.figure.Figure at 0x116214650>"
       ]
      },
      {
       "output_type": "stream",
       "stream": "stdout",
       "text": [
        "p-value = 3.90e-179 ; CORR = [0.3261, 0.3537]\n",
        "--------------------------------------------------------------------------------\n",
        "\n",
        "Hierarchical printing of subpopulations (summary)\n",
        "\n",
        "================================================================================\n",
        "\n",
        " Context = {} ; CI = [0.3219, 0.3494]\n",
        "   Context = {'Speciality Emergency': (-inf, 4.5]} ; CI = [0.3261, 0.3537]\n",
        "     Context = {'Condition INFEC4': (-inf, 1.5], 'Speciality Emergency': (-inf, 0.5], 'Treated at Urgent Care': (0.5, inf)} ; CI = [0.3384, 0.4422]\n",
        "       Context = {'Condition COPD': (-inf, 1.5], 'Condition INFEC4': (-inf, 1.5], 'Speciality Emergency': (-inf, 0.5], 'Treated at Urgent Care': (0.5, inf)} ; CI = [0.3410, 0.4472]\n",
        "     Context = {'Condition INFEC4': (1.5, inf), 'Speciality Emergency': (-inf, 0.5]} ; CI = [0.3394, 0.4599]\n",
        "       Context = {'Condition RESPR4': (-inf, 1.5], 'Condition INFEC4': (1.5, inf), 'Average Payment Delay': (80.5, inf), 'Speciality Emergency': (-inf, 0.5]} ; CI = [0.4149, 0.7019]\n",
        "     Context = {'Speciality Emergency': (0.5, 4.5]} ; CI = [0.3792, 0.4385]\n",
        "       Context = {'Speciality Obstetrics and Gynecology': (-inf, 0.5], 'Condition INFEC4': (-inf, 0.5], 'Speciality Emergency': (0.5, 4.5], 'Condition FXDISLC': (-inf, 0.5]} ; CI = [0.3839, 0.4567]\n",
        "       Context = {'Speciality Emergency': (0.5, 4.5], 'Condition FXDISLC': (0.5, 1.5]} ; CI = [0.3909, 0.6862]\n",
        "   Context = {'Speciality Emergency': (4.5, inf)} ; CI = [0.3797, 0.5333]\n",
        "--------------------------------------------------------------------------------\n",
        "\n"
       ]
      }
     ],
     "prompt_number": 94
    },
    {
     "cell_type": "code",
     "collapsed": false,
     "input": [
      "#cat_tree.print_tree(tree, '../graphs/tree_adult_MI.pdf', data.encoders)"
     ],
     "language": "python",
     "metadata": {},
     "outputs": [],
     "prompt_number": 116
    },
    {
     "cell_type": "code",
     "collapsed": false,
     "input": [],
     "language": "python",
     "metadata": {},
     "outputs": []
    }
   ],
   "metadata": {}
  }
 ]
}