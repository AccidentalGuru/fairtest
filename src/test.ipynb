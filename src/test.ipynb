{
 "cells": [
  {
   "cell_type": "code",
   "execution_count": 1,
   "metadata": {
    "collapsed": false
   },
   "outputs": [
    {
     "name": "stdout",
     "output_type": "stream",
     "text": [
      "Populating the interactive namespace from numpy and matplotlib\n"
     ]
    }
   ],
   "source": [
    "%pylab inline"
   ]
  },
  {
   "cell_type": "code",
   "execution_count": 2,
   "metadata": {
    "collapsed": true
   },
   "outputs": [],
   "source": [
    "import pandas as pd\n",
    "import logging\n",
    "import imp\n",
    "from rpy2.robjects import numpy2ri\n",
    "\n",
    "RANDOM_SEED = 0\n",
    "numpy2ri.activate()\n",
    "\n",
    "import fairtest.utils.log as fairtest_log\n",
    "imp.reload(fairtest_log)\n",
    "fairtest_log.set_params(filename='fairtest.log', level=logging.INFO)"
   ]
  },
  {
   "cell_type": "code",
   "execution_count": 56,
   "metadata": {
    "collapsed": false
   },
   "outputs": [
    {
     "name": "stderr",
     "output_type": "stream",
     "text": [
      "INFO:root:Encoding Feature #Division\n",
      "INFO:root:Encoding Feature Title\n",
      "INFO:root:Encoding Feature Selected\n",
      "INFO:root:Training Size 315\n",
      "INFO:root:Testing Sizes [948]\n",
      "INFO:root:New Testing Investigation\n",
      "INFO:root:Target Feature: Target(names=['Selected'], arity=2)\n",
      "INFO:root:Choosing metric CORR for feature Age\n"
     ]
    },
    {
     "name": "stdout",
     "output_type": "stream",
     "text": [
      "Training set: 315/1263\n"
     ]
    },
    {
     "data": {
      "text/html": [
       "<div>\n",
       "<table border=\"1\" class=\"dataframe\">\n",
       "  <thead>\n",
       "    <tr style=\"text-align: right;\">\n",
       "      <th></th>\n",
       "      <th>#Division</th>\n",
       "      <th>Title</th>\n",
       "      <th>Age</th>\n",
       "      <th>Selected</th>\n",
       "    </tr>\n",
       "  </thead>\n",
       "  <tbody>\n",
       "    <tr>\n",
       "      <th>763</th>\n",
       "      <td>5</td>\n",
       "      <td>73</td>\n",
       "      <td>40</td>\n",
       "      <td>0</td>\n",
       "    </tr>\n",
       "    <tr>\n",
       "      <th>835</th>\n",
       "      <td>5</td>\n",
       "      <td>139</td>\n",
       "      <td>30</td>\n",
       "      <td>0</td>\n",
       "    </tr>\n",
       "    <tr>\n",
       "      <th>1216</th>\n",
       "      <td>6</td>\n",
       "      <td>361</td>\n",
       "      <td>20</td>\n",
       "      <td>1</td>\n",
       "    </tr>\n",
       "    <tr>\n",
       "      <th>559</th>\n",
       "      <td>3</td>\n",
       "      <td>326</td>\n",
       "      <td>60</td>\n",
       "      <td>1</td>\n",
       "    </tr>\n",
       "    <tr>\n",
       "      <th>684</th>\n",
       "      <td>3</td>\n",
       "      <td>507</td>\n",
       "      <td>50</td>\n",
       "      <td>0</td>\n",
       "    </tr>\n",
       "  </tbody>\n",
       "</table>\n",
       "</div>"
      ],
      "text/plain": [
       "      #Division  Title  Age  Selected\n",
       "763           5     73   40         0\n",
       "835           5    139   30         0\n",
       "1216          6    361   20         1\n",
       "559           3    326   60         1\n",
       "684           3    507   50         0"
      ]
     },
     "execution_count": 56,
     "metadata": {},
     "output_type": "execute_result"
    }
   ],
   "source": [
    "from fairtest import DataSource\n",
    "import fairtest.investigation as inv\n",
    "import fairtest.testing as testing\n",
    "import fairtest.discovery as discovery\n",
    "import fairtest.error_profiling as error_profiling\n",
    "import fairtest.modules.metrics as metrics\n",
    "import fairtest.modules.metrics.correlation as correlation\n",
    "import fairtest.modules.metrics.regression as regression\n",
    "import fairtest.modules.metrics.binary_metrics as binary_metrics\n",
    "import fairtest.modules.statistics.confidence_interval as intervals\n",
    "import ast\n",
    "import sklearn.preprocessing as preprocessing\n",
    "\n",
    "'''\n",
    "dataname = 'adult'\n",
    "data = pd.read_csv(\n",
    "            '../data/adult/adult.csv',\n",
    "            header=0,\n",
    "            sep=r'\\s*,\\s*',\n",
    "            engine='python',\n",
    "            na_values=\"?\")\n",
    "data = data.drop('fnlwgt', axis=1)\n",
    "#data['race'] = map(lambda x: 'Asian' if 'Asian' in x else 'Indian' if 'Indian' in x else x, data['race'])\n",
    "#data['race'] = map(lambda x: 'Asian' if 'Asian' in x else 'Black & Other' if ('Indian' in x or 'Other' in x or 'Black' in x) else x, data['race'])\n",
    "TARGET = 'income'\n",
    "SENS = ['sex', 'race']\n",
    "EXPL = []\n",
    "'''\n",
    "\n",
    "'''\n",
    "dataname = 'medical_bin'\n",
    "data = pd.read_csv(\n",
    "            '../data/medical/predictions_bin.csv',\n",
    "            header=0,\n",
    "            sep=r'\\s*,\\s*',\n",
    "            engine='python',\n",
    "            na_values=\"?\")\n",
    "TARGET = 'Prediction'\n",
    "GROUND_TRUTH = 'Ground_Truth'\n",
    "SENS = ['Age']\n",
    "EXPL = []\n",
    "'''\n",
    "'''\n",
    "dataname = 'medical_reg'\n",
    "data = pd.read_csv(\n",
    "            '../data/medical/predictions_reg_log.csv',\n",
    "            header=0,\n",
    "            sep=r'\\s*,\\s*',\n",
    "            engine='python',\n",
    "            na_values=\"?\")\n",
    "TARGET = 'Prediction'\n",
    "GROUND_TRUTH = 'Ground_Truth'\n",
    "SENS = ['Age']\n",
    "EXPL = []\n",
    "'''\n",
    "'''\n",
    "dataname = 'berkeley'\n",
    "data = pd.read_csv(\n",
    "            '../data/berkeley/berkeley.csv',\n",
    "            header=0,\n",
    "            sep=r'\\s*,\\s*',\n",
    "            engine='python',\n",
    "            na_values=\"?\")\n",
    "TARGET = 'accepted'\n",
    "SENS = ['gender']\n",
    "EXPL = ['department']\n",
    "EXPL = []\n",
    "'''\n",
    "'''\n",
    "dataname = 'staples'\n",
    "data = pd.read_csv(\n",
    "            '../data/staples/staples.csv',\n",
    "            header=0,\n",
    "            sep=r'\\s*,\\s*',\n",
    "            engine='python',\n",
    "            na_values=\"?\")\n",
    "data = data.drop('zipcode', axis=1)\n",
    "data = data.drop('distance', axis=1)\n",
    "data = data.drop('city', axis=1)\n",
    "TARGET = 'price'\n",
    "SENS = ['income', 'race']\n",
    "EXPL = []\n",
    "'''\n",
    "'''\n",
    "data['race'] = map(lambda x: 'Asian' if 'Asian' in x else \n",
    "                   'Indian & Alaska Native' if 'Indian' in x  else\n",
    "                   'Black' if 'Black' in x  else\n",
    "                   'Pacific Islander' if 'Pacific' in x else\n",
    "                   'White' if 'White' in x else\n",
    "                   'Hispanic' if 'Latino' in x else\n",
    "                   '2+ Races' if 'Two' in x else\n",
    "                   'Other' if 'Other' in x else\n",
    "                    x, data['race'])\n",
    "'''\n",
    "'''\n",
    "dataname = 'overfeat'\n",
    "data = pd.read_csv(\n",
    "            '../data/images/overfeat_raw.txt',\n",
    "            header=0,\n",
    "            sep=r'\\s*\\t\\s*',\n",
    "            engine='python',\n",
    "            na_values=\"?\")\n",
    "TARGET = 'Labels'\n",
    "SENS = ['Race']\n",
    "EXPL = []\n",
    "labeled_data = map(lambda s: ast.literal_eval(s), data[TARGET])\n",
    "for l in labeled_data:\n",
    "    assert len(l) == 5\n",
    "label_encoder = preprocessing.MultiLabelBinarizer()\n",
    "labeled_data = label_encoder.fit_transform(labeled_data)\n",
    "labels = label_encoder.classes_\n",
    "df_labels = pd.DataFrame(labeled_data, columns=labels)\n",
    "data = pd.concat([data.drop(TARGET, axis=1), df_labels], axis=1)\n",
    "TARGET = labels.tolist()\n",
    "'''\n",
    "\n",
    "'''\n",
    "dataname = 'caffe'\n",
    "data = pd.read_csv(\n",
    "            '../data/images/caffe.txt',\n",
    "            header=0,\n",
    "            sep=r'\\s*\\t\\s*',\n",
    "            engine='python',\n",
    "            na_values=\"?\")\n",
    "TARGET = 'Labels'\n",
    "SENS = ['Race']\n",
    "EXPL = []\n",
    "labeled_data = map(lambda s: ast.literal_eval(s), data[TARGET])\n",
    "for l in labeled_data:\n",
    "    assert len(l) == 5\n",
    "label_encoder = preprocessing.MultiLabelBinarizer()\n",
    "labeled_data = label_encoder.fit_transform(labeled_data)\n",
    "labels = label_encoder.classes_\n",
    "df_labels = pd.DataFrame(labeled_data, columns=labels)\n",
    "data = pd.concat([data.drop(TARGET, axis=1), df_labels], axis=1)\n",
    "TARGET = labels.tolist()\n",
    "'''\n",
    "'''\n",
    "dataname = 'benchmark'\n",
    "data = pd.read_csv(\n",
    "            '../data/benchmark/benchmark.csv',\n",
    "            header=0,\n",
    "            sep=r'\\s*,\\s*',\n",
    "            engine='python',\n",
    "            na_values=\"?\")\n",
    "TARGET = 'price'\n",
    "SENS = ['race', 'income']\n",
    "EXPL = []\n",
    "'''\n",
    "\n",
    "dataname = 'ny-human-rights'\n",
    "data = pd.read_csv(\n",
    "            '../data/ny_human/age_layoff_data.csv',\n",
    "            header=0,\n",
    "            sep=r'\\s*,\\s*',\n",
    "            engine='python',\n",
    "            na_values=\"?\")\n",
    "TARGET = 'Selected'\n",
    "SENS = ['Age']\n",
    "EXPL = []\n",
    "\n",
    "data['Age'] = np.round(data['Age'],-1)\n",
    "\n",
    "#metrics = {'gender': 'Diff'}\n",
    "metrics = {}\n",
    "\n",
    "budget=1\n",
    "data_source = DataSource(data, random_state=RANDOM_SEED, budget=budget, train_size=0.5/(budget+1), conf=0.5)\n",
    "\n",
    "exp = testing.Testing(data_source, SENS, TARGET, EXPL, metrics=metrics, random_state=RANDOM_SEED)\n",
    "#exp = error_profiling.ErrorProfiling(data_source, SENS, TARGET, GROUND_TRUTH, EXPL, metrics=metrics, random_state=RANDOM_SEED)\n",
    "#exp = discovery.Discovery(data_source, SENS, TARGET, EXPL, metrics=metrics, train_size=0.5, topk=35, random_state=RANDOM_SEED)\n",
    "print 'Training set: {}/{}'.format(len(exp.train_set), len(data))\n",
    "exp.train_set.tail()"
   ]
  },
  {
   "cell_type": "code",
   "execution_count": 57,
   "metadata": {
    "collapsed": false
   },
   "outputs": [
    {
     "name": "stderr",
     "output_type": "stream",
     "text": [
      "INFO:root:Begin training phase with protected feature Age\n",
      "INFO:root:Building a Guided Decision Tree\n",
      "INFO:root:splitting on #Division (score=0.0754102435861) with threshold None at pred []\n"
     ]
    }
   ],
   "source": [
    "import fairtest.modules.context_discovery.guided_tree as guided_tree\n",
    "#imp.reload(guided_tree)\n",
    "inv.train([exp], score_aggregation='avg', min_leaf_size=20, max_depth=5)"
   ]
  },
  {
   "cell_type": "code",
   "execution_count": 54,
   "metadata": {
    "collapsed": false
   },
   "outputs": [
    {
     "name": "stdout",
     "output_type": "stream",
     "text": [
      "\n",
      "   /-#Division = 5\n",
      "  |\n",
      "  |--#Division = 2\n",
      "  |\n",
      "--|--#Division = 3\n",
      "  |\n",
      "  |--#Division = 6\n",
      "  |\n",
      "   \\-#Division = 1\n"
     ]
    }
   ],
   "source": [
    "print exp.trained_trees['Age']"
   ]
  },
  {
   "cell_type": "code",
   "execution_count": 58,
   "metadata": {
    "collapsed": false
   },
   "outputs": [
    {
     "name": "stderr",
     "output_type": "stream",
     "text": [
      "INFO:root:Parsing tree for sensitive feature Age...\n",
      "INFO:root:Parsed tree for sensitive feature Age\n",
      "INFO:root:Begin testing phase\n",
      "INFO:root:Testing 6 hypotheses\n",
      "INFO:root:Computing stats for 6 contexts\n",
      "INFO:root:Computing stats for context 0\n",
      "INFO:root:Computing stats for context 1\n",
      "INFO:root:Computing stats for context 2\n",
      "INFO:root:Computing stats for context 3\n",
      "INFO:root:Computing stats for context 4\n",
      "INFO:root:Computing stats for context 5\n"
     ]
    }
   ],
   "source": [
    "import fairtest.modules.statistics.hypothesis_test as tests\n",
    "import fairtest.modules.statistics.multiple_testing as multitest\n",
    "import fairtest.modules.context_discovery.tree_parser as tree_parser\n",
    "import fairtest.modules.statistics.confidence_interval as intervals\n",
    "\n",
    "inv.test([exp], exact=True, prune_insignificant=False)"
   ]
  },
  {
   "cell_type": "code",
   "execution_count": 59,
   "metadata": {
    "collapsed": false
   },
   "outputs": [
    {
     "name": "stdout",
     "output_type": "stream",
     "text": [
      "================================================================================\n",
      "Commit Hash: \t63fb2056675c9519f408902bb36305c99f84a927\n",
      "\n",
      "Dataset: ny-human-rights\n",
      "Train Size: 315\n",
      "Test Size: 948\n",
      "S: ['Age']\n",
      "X: ['Title', '#Division']\n",
      "E: None\n",
      "O: ['Selected']\n",
      "\n",
      "Train Params: \t{'max_bins': 10, 'min_leaf_size': 20, 'max_depth': 5, 'agg_type': 'avg'}\n",
      "Test Params: \t{'prune_insignificant': False, 'exact': True, 'family_conf': 0.5}\n",
      "Report Params: \t{'node_filter': 'all'}\n",
      "================================================================================\n",
      "\n",
      "Report of associations of O=['Selected'] on Si = Age:\n",
      "Association metric: CORR\n",
      "\n",
      "Global Population 0 of size 948\n",
      "\n"
     ]
    },
    {
     "data": {
      "image/png": "[encoded data removed]",
      "text/plain": [
       "<matplotlib.figure.Figure at 0x11253fd10>"
      ]
     },
     "metadata": {},
     "output_type": "display_data"
    },
    {
     "name": "stderr",
     "output_type": "stream",
     "text": [
      "INFO:root:Filtering and ranking 6 sub-contexts\n",
      "INFO:root:5 statistically significant sub-contexts\n",
      "INFO:root:Size range: 73-302\n",
      "INFO:root:5 sub-contexts printed\n"
     ]
    },
    {
     "name": "stdout",
     "output_type": "stream",
     "text": [
      "p-value = 1.60e-01 ; CORR = [0.0196, 0.1188]\n",
      "================================================================================\n",
      "\n",
      "Sub-Population 2 of size 248\n",
      "Context = {'#Division': 'Healthcare Operations'}\n",
      "\n"
     ]
    },
    {
     "data": {
      "image/png": "[encoded data removed]",
      "text/plain": [
       "<matplotlib.figure.Figure at 0x1124cbf50>"
      ]
     },
     "metadata": {},
     "output_type": "display_data"
    },
    {
     "name": "stdout",
     "output_type": "stream",
     "text": [
      "p-value = 1.60e-01 ; CORR = [0.0769, 0.2035]\n",
      "--------------------------------------------------------------------------------\n",
      "\n",
      "Sub-Population 1 of size 302\n",
      "Context = {'#Division': 'Operations'}\n",
      "\n"
     ]
    },
    {
     "data": {
      "image/png": "[encoded data removed]",
      "text/plain": [
       "<matplotlib.figure.Figure at 0x10f3b3e10>"
      ]
     },
     "metadata": {},
     "output_type": "display_data"
    },
    {
     "name": "stdout",
     "output_type": "stream",
     "text": [
      "p-value = 1.00e+00 ; CORR = [-0.0779, 0.0839]\n",
      "--------------------------------------------------------------------------------\n",
      "\n",
      "Sub-Population 3 of size 191\n",
      "Context = {'#Division': 'Information Technology'}\n",
      "\n"
     ]
    },
    {
     "data": {
      "image/png": "[encoded data removed]",
      "text/plain": [
       "<matplotlib.figure.Figure at 0x111763f90>"
      ]
     },
     "metadata": {},
     "output_type": "display_data"
    },
    {
     "name": "stdout",
     "output_type": "stream",
     "text": [
      "p-value = 1.00e+00 ; CORR = [-0.0608, 0.2044]\n",
      "--------------------------------------------------------------------------------\n",
      "\n",
      "Sub-Population 4 of size 91\n",
      "Context = {'#Division': 'Sales and Marketing'}\n",
      "\n"
     ]
    },
    {
     "data": {
      "image/png": "[encoded data removed]",
      "text/plain": [
       "<matplotlib.figure.Figure at 0x117f233d0>"
      ]
     },
     "metadata": {},
     "output_type": "display_data"
    },
    {
     "name": "stdout",
     "output_type": "stream",
     "text": [
      "p-value = 1.00e+00 ; CORR = [-0.0662, 0.2726]\n",
      "--------------------------------------------------------------------------------\n",
      "\n",
      "Sub-Population 5 of size 73\n",
      "Context = {'#Division': 'Finance'}\n",
      "\n"
     ]
    },
    {
     "data": {
      "image/png": "[encoded data removed]",
      "text/plain": [
       "<matplotlib.figure.Figure at 0x1162469d0>"
      ]
     },
     "metadata": {},
     "output_type": "display_data"
    },
    {
     "name": "stdout",
     "output_type": "stream",
     "text": [
      "p-value = 1.00e+00 ; CORR = [-1.0000, 0.2067]\n",
      "--------------------------------------------------------------------------------\n",
      "\n",
      "Hierarchical printing of subpopulations (summary)\n",
      "\n",
      "================================================================================\n",
      "\n",
      " Context = {} ; CI = [0.0196, 0.1188] ; Size = 948\n",
      "   Context = {'#Division': 'Operations'} ; CI = [-0.0779, 0.0839] ; Size = 302\n",
      "   Context = {'#Division': 'Healthcare Operations'} ; CI = [0.0769, 0.2035] ; Size = 248\n",
      "   Context = {'#Division': 'Information Technology'} ; CI = [-0.0608, 0.2044] ; Size = 191\n",
      "   Context = {'#Division': 'Sales and Marketing'} ; CI = [-0.0662, 0.2726] ; Size = 91\n",
      "   Context = {'#Division': 'Finance'} ; CI = [-1.0000, 0.2067] ; Size = 73\n",
      "--------------------------------------------------------------------------------\n",
      "\n"
     ]
    },
    {
     "data": {
      "text/plain": [
       "[{},\n",
       " {'#Division': 'Operations'},\n",
       " {'#Division': 'Healthcare Operations'},\n",
       " {'#Division': 'Information Technology'},\n",
       " {'#Division': 'Sales and Marketing'},\n",
       " {'#Division': 'Finance'}]"
      ]
     },
     "execution_count": 59,
     "metadata": {},
     "output_type": "execute_result"
    }
   ],
   "source": [
    "import fairtest.modules.bug_report.report as rep\n",
    "import fairtest.modules.bug_report.filter_rank as fr\n",
    "imp.reload(rep)\n",
    "imp.reload(fr)\n",
    "\n",
    "output_dir = None\n",
    "inv.report([exp], dataname, output_dir=output_dir, filter_conf=0, node_filter=fr.FILTER_ALL)"
   ]
  },
  {
   "cell_type": "code",
   "execution_count": null,
   "metadata": {
    "collapsed": true
   },
   "outputs": [],
   "source": []
  }
 ],
 "metadata": {
  "kernelspec": {
   "display_name": "Python 2",
   "language": "python",
   "name": "python2"
  },
  "language_info": {
   "codemirror_mode": {
    "name": "ipython",
    "version": 2
   },
   "file_extension": ".py",
   "mimetype": "text/x-python",
   "name": "python",
   "nbconvert_exporter": "python",
   "pygments_lexer": "ipython2",
   "version": "2.7.10"
  }
 },
 "nbformat": 4,
 "nbformat_minor": 0
}
