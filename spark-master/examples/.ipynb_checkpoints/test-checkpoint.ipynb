{
 "metadata": {
  "name": "",
  "signature": "sha256:52eb8dc8d5b8a9705d4abac0abd5ae1d3ab322ae3bd1ce431e6fef66b9a38c06"
 },
 "nbformat": 3,
 "nbformat_minor": 0,
 "worksheets": [
  {
   "cells": [
    {
     "cell_type": "code",
     "collapsed": false,
     "input": [
      "import pandas as pd\n",
      "import numpy as np\n",
      "import sklearn.cross_validation as cross_validation\n",
      "import sklearn.preprocessing as preprocessing\n",
      "import sklearn.linear_model as linear_model\n",
      "from pyspark.mllib.regression import LabeledPoint\n",
      "from pyspark.mllib.tree import DecisionTree, DecisionTreeModel\n",
      "from collections import Counter\n",
      "import pydot\n",
      "from sklearn.externals.six import StringIO \n",
      "import fairness_measures as fm\n",
      "from discrimination import DiscriminationTree"
     ],
     "language": "python",
     "metadata": {},
     "outputs": [],
     "prompt_number": 1
    },
    {
     "cell_type": "code",
     "collapsed": false,
     "input": [
      "original_data = pd.read_csv(\n",
      "    \"../data/adult.data\",\n",
      "    names=[\n",
      "        \"Age\", \"Workclass\", \"fnlwgt\", \"Education\", \"Education-Num\", \"Martial Status\",\n",
      "        \"Occupation\", \"Relationship\", \"Race\", \"Gender\", \"Capital Gain\", \"Capital Loss\",\n",
      "        \"Hours per week\", \"Country\", \"Target\"],\n",
      "        sep=r'\\s*,\\s*',\n",
      "        engine='python',\n",
      "        na_values=\"?\")\n",
      "\n",
      "del original_data['fnlwgt']\n",
      "del original_data['Relationship']\n",
      "del original_data['Education']\n",
      "\n",
      "SENS = \"Gender\"\n",
      "OUT  = \"Target\"\n",
      "SENS_VALS = sorted(map(lambda x: SENS+\"_\"+x, original_data[SENS].unique()))\n",
      "OUT_VALS = sorted(map(lambda x: OUT+\"_\"+x, original_data[OUT].unique()))\n",
      "\n",
      "print SENS_VALS\n",
      "print OUT_VALS\n",
      "\n",
      "original_data.head()"
     ],
     "language": "python",
     "metadata": {},
     "outputs": [
      {
       "output_type": "stream",
       "stream": "stdout",
       "text": [
        "['Gender_Female', 'Gender_Male']\n",
        "['Target_<=50K', 'Target_>50K']\n"
       ]
      },
      {
       "html": [
        "<div style=\"max-height:1000px;max-width:1500px;overflow:auto;\">\n",
        "<table border=\"1\" class=\"dataframe\">\n",
        "  <thead>\n",
        "    <tr style=\"text-align: right;\">\n",
        "      <th></th>\n",
        "      <th>Age</th>\n",
        "      <th>Workclass</th>\n",
        "      <th>Education-Num</th>\n",
        "      <th>Martial Status</th>\n",
        "      <th>Occupation</th>\n",
        "      <th>Race</th>\n",
        "      <th>Gender</th>\n",
        "      <th>Capital Gain</th>\n",
        "      <th>Capital Loss</th>\n",
        "      <th>Hours per week</th>\n",
        "      <th>Country</th>\n",
        "      <th>Target</th>\n",
        "    </tr>\n",
        "  </thead>\n",
        "  <tbody>\n",
        "    <tr>\n",
        "      <th>0</th>\n",
        "      <td>39</td>\n",
        "      <td>State-gov</td>\n",
        "      <td>13</td>\n",
        "      <td>Never-married</td>\n",
        "      <td>Adm-clerical</td>\n",
        "      <td>White</td>\n",
        "      <td>Male</td>\n",
        "      <td>2174</td>\n",
        "      <td>0</td>\n",
        "      <td>40</td>\n",
        "      <td>United-States</td>\n",
        "      <td>&lt;=50K</td>\n",
        "    </tr>\n",
        "    <tr>\n",
        "      <th>1</th>\n",
        "      <td>50</td>\n",
        "      <td>Self-emp-not-inc</td>\n",
        "      <td>13</td>\n",
        "      <td>Married-civ-spouse</td>\n",
        "      <td>Exec-managerial</td>\n",
        "      <td>White</td>\n",
        "      <td>Male</td>\n",
        "      <td>0</td>\n",
        "      <td>0</td>\n",
        "      <td>13</td>\n",
        "      <td>United-States</td>\n",
        "      <td>&lt;=50K</td>\n",
        "    </tr>\n",
        "    <tr>\n",
        "      <th>2</th>\n",
        "      <td>38</td>\n",
        "      <td>Private</td>\n",
        "      <td>9</td>\n",
        "      <td>Divorced</td>\n",
        "      <td>Handlers-cleaners</td>\n",
        "      <td>White</td>\n",
        "      <td>Male</td>\n",
        "      <td>0</td>\n",
        "      <td>0</td>\n",
        "      <td>40</td>\n",
        "      <td>United-States</td>\n",
        "      <td>&lt;=50K</td>\n",
        "    </tr>\n",
        "    <tr>\n",
        "      <th>3</th>\n",
        "      <td>53</td>\n",
        "      <td>Private</td>\n",
        "      <td>7</td>\n",
        "      <td>Married-civ-spouse</td>\n",
        "      <td>Handlers-cleaners</td>\n",
        "      <td>Black</td>\n",
        "      <td>Male</td>\n",
        "      <td>0</td>\n",
        "      <td>0</td>\n",
        "      <td>40</td>\n",
        "      <td>United-States</td>\n",
        "      <td>&lt;=50K</td>\n",
        "    </tr>\n",
        "    <tr>\n",
        "      <th>4</th>\n",
        "      <td>28</td>\n",
        "      <td>Private</td>\n",
        "      <td>13</td>\n",
        "      <td>Married-civ-spouse</td>\n",
        "      <td>Prof-specialty</td>\n",
        "      <td>Black</td>\n",
        "      <td>Female</td>\n",
        "      <td>0</td>\n",
        "      <td>0</td>\n",
        "      <td>40</td>\n",
        "      <td>Cuba</td>\n",
        "      <td>&lt;=50K</td>\n",
        "    </tr>\n",
        "  </tbody>\n",
        "</table>\n",
        "</div>"
       ],
       "metadata": {},
       "output_type": "pyout",
       "prompt_number": 2,
       "text": [
        "   Age         Workclass  Education-Num      Martial Status  \\\n",
        "0   39         State-gov             13       Never-married   \n",
        "1   50  Self-emp-not-inc             13  Married-civ-spouse   \n",
        "2   38           Private              9            Divorced   \n",
        "3   53           Private              7  Married-civ-spouse   \n",
        "4   28           Private             13  Married-civ-spouse   \n",
        "\n",
        "          Occupation   Race  Gender  Capital Gain  Capital Loss  \\\n",
        "0       Adm-clerical  White    Male          2174             0   \n",
        "1    Exec-managerial  White    Male             0             0   \n",
        "2  Handlers-cleaners  White    Male             0             0   \n",
        "3  Handlers-cleaners  Black    Male             0             0   \n",
        "4     Prof-specialty  Black  Female             0             0   \n",
        "\n",
        "   Hours per week        Country Target  \n",
        "0              40  United-States  <=50K  \n",
        "1              13  United-States  <=50K  \n",
        "2              40  United-States  <=50K  \n",
        "3              40  United-States  <=50K  \n",
        "4              40           Cuba  <=50K  "
       ]
      }
     ],
     "prompt_number": 2
    },
    {
     "cell_type": "code",
     "collapsed": false,
     "input": [
      "# get all non-sensitive attributes\n",
      "\n",
      "encoded_data = original_data.drop([OUT, SENS], axis=1)\n",
      "    \n",
      "# encode the sensitive feature and output feature as numbers\n",
      "encoder_sens = preprocessing.LabelEncoder()\n",
      "encoded_data[SENS] = encoder_sens.fit_transform(original_data[SENS])\n",
      "encoder_out = preprocessing.LabelEncoder()\n",
      "encoded_data[OUT] = encoder_out.fit_transform(original_data[OUT])\n",
      "\n",
      "# Encode categorical features as numbers\n",
      "def number_encode_features(df):\n",
      "    result = df.copy()\n",
      "    encoders = {}\n",
      "    for column in result.columns:\n",
      "        if result.dtypes[column] == np.object:\n",
      "            encoders[column] = preprocessing.LabelEncoder()\n",
      "            result[column] = encoders[column].fit_transform(result[column])\n",
      "    return result, encoders\n",
      "\n",
      "\n",
      "encoded_data, encoders = number_encode_features(encoded_data)\n",
      "\n",
      "\n",
      "encoded_data[OUT] = len(SENS_VALS)*encoded_data[OUT] + encoded_data[SENS]\n",
      "del encoded_data[SENS]\n",
      "encoded_data.head()"
     ],
     "language": "python",
     "metadata": {},
     "outputs": [
      {
       "html": [
        "<div style=\"max-height:1000px;max-width:1500px;overflow:auto;\">\n",
        "<table border=\"1\" class=\"dataframe\">\n",
        "  <thead>\n",
        "    <tr style=\"text-align: right;\">\n",
        "      <th></th>\n",
        "      <th>Age</th>\n",
        "      <th>Workclass</th>\n",
        "      <th>Education-Num</th>\n",
        "      <th>Martial Status</th>\n",
        "      <th>Occupation</th>\n",
        "      <th>Race</th>\n",
        "      <th>Capital Gain</th>\n",
        "      <th>Capital Loss</th>\n",
        "      <th>Hours per week</th>\n",
        "      <th>Country</th>\n",
        "      <th>Target</th>\n",
        "    </tr>\n",
        "  </thead>\n",
        "  <tbody>\n",
        "    <tr>\n",
        "      <th>0</th>\n",
        "      <td>39</td>\n",
        "      <td>7</td>\n",
        "      <td>13</td>\n",
        "      <td>4</td>\n",
        "      <td>1</td>\n",
        "      <td>4</td>\n",
        "      <td>2174</td>\n",
        "      <td>0</td>\n",
        "      <td>40</td>\n",
        "      <td>39</td>\n",
        "      <td>1</td>\n",
        "    </tr>\n",
        "    <tr>\n",
        "      <th>1</th>\n",
        "      <td>50</td>\n",
        "      <td>6</td>\n",
        "      <td>13</td>\n",
        "      <td>2</td>\n",
        "      <td>4</td>\n",
        "      <td>4</td>\n",
        "      <td>0</td>\n",
        "      <td>0</td>\n",
        "      <td>13</td>\n",
        "      <td>39</td>\n",
        "      <td>1</td>\n",
        "    </tr>\n",
        "    <tr>\n",
        "      <th>2</th>\n",
        "      <td>38</td>\n",
        "      <td>4</td>\n",
        "      <td>9</td>\n",
        "      <td>0</td>\n",
        "      <td>6</td>\n",
        "      <td>4</td>\n",
        "      <td>0</td>\n",
        "      <td>0</td>\n",
        "      <td>40</td>\n",
        "      <td>39</td>\n",
        "      <td>1</td>\n",
        "    </tr>\n",
        "    <tr>\n",
        "      <th>3</th>\n",
        "      <td>53</td>\n",
        "      <td>4</td>\n",
        "      <td>7</td>\n",
        "      <td>2</td>\n",
        "      <td>6</td>\n",
        "      <td>2</td>\n",
        "      <td>0</td>\n",
        "      <td>0</td>\n",
        "      <td>40</td>\n",
        "      <td>39</td>\n",
        "      <td>1</td>\n",
        "    </tr>\n",
        "    <tr>\n",
        "      <th>4</th>\n",
        "      <td>28</td>\n",
        "      <td>4</td>\n",
        "      <td>13</td>\n",
        "      <td>2</td>\n",
        "      <td>10</td>\n",
        "      <td>2</td>\n",
        "      <td>0</td>\n",
        "      <td>0</td>\n",
        "      <td>40</td>\n",
        "      <td>5</td>\n",
        "      <td>0</td>\n",
        "    </tr>\n",
        "  </tbody>\n",
        "</table>\n",
        "</div>"
       ],
       "metadata": {},
       "output_type": "pyout",
       "prompt_number": 3,
       "text": [
        "   Age  Workclass  Education-Num  Martial Status  Occupation  Race  \\\n",
        "0   39          7             13               4           1     4   \n",
        "1   50          6             13               2           4     4   \n",
        "2   38          4              9               0           6     4   \n",
        "3   53          4              7               2           6     2   \n",
        "4   28          4             13               2          10     2   \n",
        "\n",
        "   Capital Gain  Capital Loss  Hours per week  Country  Target  \n",
        "0          2174             0              40       39       1  \n",
        "1             0             0              13       39       1  \n",
        "2             0             0              40       39       1  \n",
        "3             0             0              40       39       1  \n",
        "4             0             0              40        5       0  "
       ]
      }
     ],
     "prompt_number": 3
    },
    {
     "cell_type": "code",
     "collapsed": false,
     "input": [
      "random.seed(1)\n",
      "X_train, X_test, y_train, y_test = cross_validation.train_test_split(encoded_data[encoded_data.columns.difference([OUT])], encoded_data[OUT], train_size=0.95)\n",
      "print '{} Training Samples, {} Test Samples'.format(len(y_train), len(y_test))"
     ],
     "language": "python",
     "metadata": {},
     "outputs": [
      {
       "output_type": "stream",
       "stream": "stdout",
       "text": [
        "46399 Training Samples, 2443 Test Samples\n"
       ]
      }
     ],
     "prompt_number": 4
    },
    {
     "cell_type": "code",
     "collapsed": false,
     "input": [
      "train_data = X_train.copy().append(X_train.copy()).append(X_train.copy()).append(X_train.copy()).append(X_train.copy()).append(X_train.copy())\n",
      "train_data = train_data.copy().append(train_data.copy()).append(train_data.copy()).append(train_data.copy())\n",
      "print len(train_data)\n",
      "\n",
      "mapping = {}\n",
      "for i in range(len(train_data.columns)):\n",
      "    col = train_data.columns[i]\n",
      "    if col in encoders:\n",
      "        mapping[i] = len(encoders[col].classes_)\n",
      "\n",
      "print mapping\n",
      "\n",
      "train_data.insert(0, 'Target', y_train)\n",
      "train_data.head()"
     ],
     "language": "python",
     "metadata": {},
     "outputs": [
      {
       "output_type": "stream",
       "stream": "stdout",
       "text": [
        "1113576\n",
        "{8: 5, 9: 9, 3: 42, 6: 7, 7: 15}\n"
       ]
      },
      {
       "html": [
        "<div style=\"max-height:1000px;max-width:1500px;overflow:auto;\">\n",
        "<table border=\"1\" class=\"dataframe\">\n",
        "  <thead>\n",
        "    <tr style=\"text-align: right;\">\n",
        "      <th></th>\n",
        "      <th>Target</th>\n",
        "      <th>Age</th>\n",
        "      <th>Capital Gain</th>\n",
        "      <th>Capital Loss</th>\n",
        "      <th>Country</th>\n",
        "      <th>Education-Num</th>\n",
        "      <th>Hours per week</th>\n",
        "      <th>Martial Status</th>\n",
        "      <th>Occupation</th>\n",
        "      <th>Race</th>\n",
        "      <th>Workclass</th>\n",
        "    </tr>\n",
        "  </thead>\n",
        "  <tbody>\n",
        "    <tr>\n",
        "      <th>43954</th>\n",
        "      <td>1</td>\n",
        "      <td>22</td>\n",
        "      <td>0</td>\n",
        "      <td>0</td>\n",
        "      <td>39</td>\n",
        "      <td>10</td>\n",
        "      <td>55</td>\n",
        "      <td>2</td>\n",
        "      <td>4</td>\n",
        "      <td>4</td>\n",
        "      <td>4</td>\n",
        "    </tr>\n",
        "    <tr>\n",
        "      <th>25641</th>\n",
        "      <td>3</td>\n",
        "      <td>52</td>\n",
        "      <td>0</td>\n",
        "      <td>0</td>\n",
        "      <td>39</td>\n",
        "      <td>12</td>\n",
        "      <td>55</td>\n",
        "      <td>2</td>\n",
        "      <td>4</td>\n",
        "      <td>4</td>\n",
        "      <td>4</td>\n",
        "    </tr>\n",
        "    <tr>\n",
        "      <th>45025</th>\n",
        "      <td>1</td>\n",
        "      <td>62</td>\n",
        "      <td>0</td>\n",
        "      <td>0</td>\n",
        "      <td>39</td>\n",
        "      <td>8</td>\n",
        "      <td>40</td>\n",
        "      <td>4</td>\n",
        "      <td>3</td>\n",
        "      <td>4</td>\n",
        "      <td>4</td>\n",
        "    </tr>\n",
        "    <tr>\n",
        "      <th>33876</th>\n",
        "      <td>1</td>\n",
        "      <td>42</td>\n",
        "      <td>0</td>\n",
        "      <td>0</td>\n",
        "      <td>39</td>\n",
        "      <td>12</td>\n",
        "      <td>46</td>\n",
        "      <td>4</td>\n",
        "      <td>1</td>\n",
        "      <td>4</td>\n",
        "      <td>4</td>\n",
        "    </tr>\n",
        "    <tr>\n",
        "      <th>9012</th>\n",
        "      <td>0</td>\n",
        "      <td>32</td>\n",
        "      <td>0</td>\n",
        "      <td>0</td>\n",
        "      <td>39</td>\n",
        "      <td>10</td>\n",
        "      <td>40</td>\n",
        "      <td>4</td>\n",
        "      <td>12</td>\n",
        "      <td>4</td>\n",
        "      <td>4</td>\n",
        "    </tr>\n",
        "  </tbody>\n",
        "</table>\n",
        "</div>"
       ],
       "metadata": {},
       "output_type": "pyout",
       "prompt_number": 75,
       "text": [
        "       Target  Age  Capital Gain  Capital Loss  Country  Education-Num  \\\n",
        "43954       1   22             0             0       39             10   \n",
        "25641       3   52             0             0       39             12   \n",
        "45025       1   62             0             0       39              8   \n",
        "33876       1   42             0             0       39             12   \n",
        "9012        0   32             0             0       39             10   \n",
        "\n",
        "       Hours per week  Martial Status  Occupation  Race  Workclass  \n",
        "43954              55               2           4     4          4  \n",
        "25641              55               2           4     4          4  \n",
        "45025              40               4           3     4          4  \n",
        "33876              46               4           1     4          4  \n",
        "9012               40               4          12     4          4  "
       ]
      }
     ],
     "prompt_number": 75
    },
    {
     "cell_type": "code",
     "collapsed": false,
     "input": [
      "spark_df = sqlContext.createDataFrame(train_data)\n",
      "spark_rdd = spark_df.rdd\n",
      "spark_rdd = spark_rdd.map(lambda row: LabeledPoint(row[0], row[1:]))\n",
      "\n",
      "\n",
      "(_, bins) = pd.qcut(train_data['Age'], 32, labels=False, retbins=True)\n",
      "print bins\n",
      "groups = train_data.head(100).groupby(np.digitize(train_data.head(100)['Age'], bins, right=True))\n",
      "for (key,group) in groups:\n",
      "    print key, group.size\n",
      "\n",
      "temp = train_data.head(100)\n",
      "print temp[(temp['Age'] <= 20)  & (temp['Age'] > 19)].size"
     ],
     "language": "python",
     "metadata": {},
     "outputs": [
      {
       "output_type": "stream",
       "stream": "stdout",
       "text": [
        "[ 17.  19.  20.  21.  23.  24.  25.  26.  28.  29.  30.  31.  32.  34.  35.\n",
        "  36.  37.  38.  40.  41.  42.  43.  45.  46.  48.  49.  51.  53.  56.  58.\n",
        "  62.  67.  90.]\n",
        "1 22\n",
        "2 33\n",
        "3 22\n",
        "4 55\n",
        "5 33\n",
        "6 44\n",
        "7 22\n",
        "8 110\n",
        "9 22\n",
        "10 33\n",
        "11 33\n",
        "12 66\n",
        "13 55\n",
        "14 11\n",
        "15 22\n",
        "16 22\n",
        "17 22\n",
        "18 22\n",
        "19 44\n",
        "20 55\n",
        "21 22\n",
        "22 44\n",
        "23 11\n",
        "24 11\n",
        "25 33\n",
        "26 11\n",
        "27 22\n",
        "28 33\n",
        "30 66\n",
        "31 44\n",
        "32 55\n",
        "33\n"
       ]
      }
     ],
     "prompt_number": 62
    },
    {
     "cell_type": "code",
     "collapsed": false,
     "input": [
      "import discrim_discovery_cont as discovery\n",
      "import cProfile\n",
      "import imp\n",
      "imp.reload(discovery)\n",
      "\n",
      "\n",
      "\n",
      "categorical = ['Country','Marital Status','Occupation','Race','Workclass']\n",
      "#tree_cat = discovery.build_tree(spark_df, (2,2), categorical, 'Target', max_depth=5, min_leaf_size=100, mode=discovery.MODE_AVG)\n",
      "tree_cat = cProfile.run(\"discovery.build_tree(train_data, train_data.columns-['Target'], 'Target', (2,2), categorical, max_depth=5, min_leaf_size=1000, mode=discovery.MODE_AVG)\")\n",
      "#tree_cat = discovery.build_tree(train_data, train_data.columns-['Target'], 'Target', (2,2), categorical, max_depth=5, min_leaf_size=100, mode=discovery.MODE_AVG)"
     ],
     "language": "python",
     "metadata": {},
     "outputs": [
      {
       "output_type": "stream",
       "stream": "stdout",
       "text": [
        "splitting on Education-Num with threshold 9.5 at pred []\n",
        "splitting on Country with threshold None at pred ['Education-Num <= 9.5']"
       ]
      },
      {
       "output_type": "stream",
       "stream": "stdout",
       "text": [
        "\n",
        "splitting on Education-Num with threshold 6.5 at pred ['Education-Num <= 9.5', 'Country = 39']"
       ]
      },
      {
       "output_type": "stream",
       "stream": "stdout",
       "text": [
        "\n",
        "splitting on Education-Num with threshold 4.5 at pred ['Education-Num <= 9.5', 'Country = 39', 'Education-Num <= 6.5']"
       ]
      },
      {
       "output_type": "stream",
       "stream": "stdout",
       "text": [
        "\n",
        "splitting on Age with threshold 32.5 at pred ['Education-Num <= 9.5', 'Country = 39', 'Education-Num <= 6.5', 'Education-Num <= 4.5']"
       ]
      },
      {
       "output_type": "stream",
       "stream": "stdout",
       "text": [
        "\n",
        "splitting on Education-Num with threshold 5.5 at pred ['Education-Num <= 9.5', 'Country = 39', 'Education-Num <= 6.5', 'Education-Num > 4.5']"
       ]
      },
      {
       "output_type": "stream",
       "stream": "stdout",
       "text": [
        "\n",
        "splitting on Age with threshold 43.5 at pred ['Education-Num <= 9.5', 'Country = 39', 'Education-Num > 6.5']"
       ]
      },
      {
       "output_type": "stream",
       "stream": "stdout",
       "text": [
        "\n",
        "splitting on Age with threshold 42.5 at pred ['Education-Num <= 9.5', 'Country = 39', 'Education-Num > 6.5', 'Age <= 43.5']"
       ]
      },
      {
       "output_type": "stream",
       "stream": "stdout",
       "text": [
        "\n",
        "splitting on Capital Gain with threshold 7565.5 at pred ['Education-Num <= 9.5', 'Country = 39', 'Education-Num > 6.5', 'Age > 43.5']"
       ]
      },
      {
       "output_type": "stream",
       "stream": "stdout",
       "text": [
        "\n",
        "splitting on Occupation with threshold None at pred ['Education-Num <= 9.5', 'Country = 0']"
       ]
      },
      {
       "output_type": "stream",
       "stream": "stdout",
       "text": [
        "\n",
        "splitting on Age with threshold 61.5 at pred ['Education-Num <= 9.5', 'Country = 0', 'Occupation = 8']"
       ]
      },
      {
       "output_type": "stream",
       "stream": "stdout",
       "text": [
        "\n",
        "splitting on Hours per week with threshold 35.5 at pred ['Education-Num <= 9.5', 'Country = 0', 'Occupation = 8', 'Age <= 61.5']\n",
        "splitting on Workclass with threshold None at pred ['Education-Num <= 9.5', 'Country = 0', 'Occupation = 12']"
       ]
      },
      {
       "output_type": "stream",
       "stream": "stdout",
       "text": [
        "\n",
        "splitting on Education-Num with threshold 8.5 at pred ['Education-Num <= 9.5', 'Country = 0', 'Occupation = 12', 'Workclass = 4']\n",
        "splitting on Race with threshold None at pred ['Education-Num <= 9.5', 'Country = 0', 'Occupation = 14']"
       ]
      },
      {
       "output_type": "stream",
       "stream": "stdout",
       "text": [
        "\n",
        "splitting on Age with threshold 48.5 at pred ['Education-Num <= 9.5', 'Country = 0', 'Occupation = 10']"
       ]
      },
      {
       "output_type": "stream",
       "stream": "stdout",
       "text": [
        "\n",
        "splitting on Age with threshold 49.5 at pred ['Education-Num <= 9.5', 'Country = 0', 'Occupation = 1']"
       ]
      },
      {
       "output_type": "stream",
       "stream": "stdout",
       "text": [
        "\n",
        "splitting on Age with threshold 38.5 at pred ['Education-Num <= 9.5', 'Country = 0', 'Occupation = 1', 'Age <= 49.5']\n",
        "splitting on Education-Num with threshold 4.5 at pred ['Education-Num <= 9.5', 'Country = 0', 'Occupation = 7']"
       ]
      },
      {
       "output_type": "stream",
       "stream": "stdout",
       "text": [
        "\n",
        "splitting on Education-Num with threshold 8.5 at pred ['Education-Num <= 9.5', 'Country = 0', 'Occupation = 7', 'Education-Num > 4.5']"
       ]
      },
      {
       "output_type": "stream",
       "stream": "stdout",
       "text": [
        "\n",
        "splitting on Age with threshold 53.5 at pred ['Education-Num <= 9.5', 'Country = 0', 'Occupation = 3']"
       ]
      },
      {
       "output_type": "stream",
       "stream": "stdout",
       "text": [
        "\n",
        "splitting on Hours per week with threshold 46.5 at pred ['Education-Num <= 9.5', 'Country = 0', 'Occupation = 3', 'Age <= 53.5']"
       ]
      },
      {
       "output_type": "stream",
       "stream": "stdout",
       "text": [
        "\n",
        "splitting on Hours per week with threshold 40.5 at pred ['Education-Num <= 9.5', 'Country = 0', 'Occupation = 4']"
       ]
      },
      {
       "output_type": "stream",
       "stream": "stdout",
       "text": [
        "\n",
        "splitting on Hours per week with threshold 45.5 at pred ['Education-Num <= 9.5', 'Country = 30']"
       ]
      },
      {
       "output_type": "stream",
       "stream": "stdout",
       "text": [
        "\n",
        "splitting on Occupation with threshold None at pred ['Education-Num <= 9.5', 'Country = 30', 'Hours per week <= 45.5']"
       ]
      },
      {
       "output_type": "stream",
       "stream": "stdout",
       "text": [
        "\n",
        "splitting on Martial Status with threshold 2.5 at pred ['Education-Num <= 9.5', 'Country = 30', 'Hours per week <= 45.5', 'Occupation = 8']"
       ]
      },
      {
       "output_type": "stream",
       "stream": "stdout",
       "text": [
        "\n",
        "splitting on Occupation with threshold None at pred ['Education-Num <= 9.5', 'Country = 26']"
       ]
      },
      {
       "output_type": "stream",
       "stream": "stdout",
       "text": [
        "\n",
        "splitting on Hours per week with threshold 39.5 at pred ['Education-Num <= 9.5', 'Country = 26', 'Occupation = 5']"
       ]
      },
      {
       "output_type": "stream",
       "stream": "stdout",
       "text": [
        "\n",
        "splitting on Hours per week with threshold 45.5 at pred ['Education-Num <= 9.5', 'Country = 26', 'Occupation = 5', 'Hours per week > 39.5']"
       ]
      },
      {
       "output_type": "stream",
       "stream": "stdout",
       "text": [
        "\n",
        "splitting on Hours per week with threshold 40.5 at pred ['Education-Num <= 9.5', 'Country = 26', 'Occupation = 14']"
       ]
      },
      {
       "output_type": "stream",
       "stream": "stdout",
       "text": [
        "\n",
        "splitting on Education-Num with threshold 8.5 at pred ['Education-Num <= 9.5', 'Country = 26', 'Occupation = 14', 'Hours per week <= 40.5']\n",
        "splitting on Age with threshold 32.5 at pred ['Education-Num <= 9.5', 'Country = 26', 'Occupation = 7']"
       ]
      },
      {
       "output_type": "stream",
       "stream": "stdout",
       "text": [
        "\n",
        "splitting on Education-Num with threshold 5.5 at pred ['Education-Num <= 9.5', 'Country = 26', 'Occupation = 7', 'Age <= 32.5']\n",
        "splitting on Age with threshold 51.5 at pred ['Education-Num <= 9.5', 'Country = 26', 'Occupation = 7', 'Age > 32.5']"
       ]
      },
      {
       "output_type": "stream",
       "stream": "stdout",
       "text": [
        "\n",
        "splitting on Age with threshold 35.5 at pred ['Education-Num <= 9.5', 'Country = 26', 'Occupation = 9']\n",
        "splitting on Age with threshold 28.5 at pred ['Education-Num <= 9.5', 'Country = 26', 'Occupation = 9', 'Age <= 35.5']"
       ]
      },
      {
       "output_type": "stream",
       "stream": "stdout",
       "text": [
        "\n",
        "splitting on Age with threshold 28.5 at pred ['Education-Num <= 9.5', 'Country = 26', 'Occupation = 8']"
       ]
      },
      {
       "output_type": "stream",
       "stream": "stdout",
       "text": [
        "\n",
        "splitting on Hours per week with threshold 39.5 at pred ['Education-Num <= 9.5', 'Country = 26', 'Occupation = 8', 'Age <= 28.5']\n",
        "splitting on Education-Num with threshold 3.5 at pred ['Education-Num <= 9.5', 'Country = 26', 'Occupation = 8', 'Age > 28.5']"
       ]
      },
      {
       "output_type": "stream",
       "stream": "stdout",
       "text": [
        "\n",
        "splitting on Age with threshold 51.5 at pred ['Education-Num <= 9.5', 'Country = 26', 'Occupation = 0']"
       ]
      },
      {
       "output_type": "stream",
       "stream": "stdout",
       "text": [
        "\n",
        "splitting on Age with threshold 28.5 at pred ['Education-Num <= 9.5', 'Country = 26', 'Occupation = 0', 'Age <= 51.5']\n",
        "splitting on Education-Num with threshold 8.5 at pred ['Education-Num <= 9.5', 'Country = 26', 'Occupation = 3']"
       ]
      },
      {
       "output_type": "stream",
       "stream": "stdout",
       "text": [
        "\n",
        "splitting on Hours per week with threshold 34.5 at pred ['Education-Num <= 9.5', 'Country = 26', 'Occupation = 3', 'Education-Num <= 8.5']"
       ]
      },
      {
       "output_type": "stream",
       "stream": "stdout",
       "text": [
        "\n",
        "splitting on Age with threshold 45.5 at pred ['Education-Num <= 9.5', 'Country = 26', 'Occupation = 3', 'Education-Num > 8.5']\n",
        "splitting on Hours per week with threshold 40.5 at pred ['Education-Num <= 9.5', 'Country = 26', 'Occupation = 12']"
       ]
      },
      {
       "output_type": "stream",
       "stream": "stdout",
       "text": [
        "\n",
        "splitting on Hours per week with threshold 30.5 at pred ['Education-Num <= 9.5', 'Country = 26', 'Occupation = 12', 'Hours per week <= 40.5']\n",
        "splitting on Education-Num with threshold 3.5 at pred ['Education-Num <= 9.5', 'Country = 26', 'Occupation = 1']"
       ]
      },
      {
       "output_type": "stream",
       "stream": "stdout",
       "text": [
        "\n",
        "splitting on Age with threshold 28.5 at pred ['Education-Num <= 9.5', 'Country = 26', 'Occupation = 1', 'Education-Num > 3.5']\n",
        "splitting on Age with threshold 26.5 at pred ['Education-Num <= 9.5', 'Country = 26', 'Occupation = 6']"
       ]
      },
      {
       "output_type": "stream",
       "stream": "stdout",
       "text": [
        "\n",
        "splitting on Education-Num with threshold 3.5 at pred ['Education-Num <= 9.5', 'Country = 26', 'Occupation = 6', 'Age <= 26.5']\n",
        "splitting on Hours per week with threshold 30.5 at pred ['Education-Num <= 9.5', 'Country = 26', 'Occupation = 6', 'Age > 26.5']"
       ]
      },
      {
       "output_type": "stream",
       "stream": "stdout",
       "text": [
        "\n",
        "splitting on Age with threshold 33.5 at pred ['Education-Num <= 9.5', 'Country = 26', 'Occupation = 4']"
       ]
      },
      {
       "output_type": "stream",
       "stream": "stdout",
       "text": [
        "\n",
        "splitting on Age with threshold 51.5 at pred ['Education-Num <= 9.5', 'Country = 34']"
       ]
      },
      {
       "output_type": "stream",
       "stream": "stdout",
       "text": [
        "\n",
        "splitting on Occupation with threshold None at pred ['Education-Num <= 9.5', 'Country = 9']"
       ]
      },
      {
       "output_type": "stream",
       "stream": "stdout",
       "text": [
        "\n",
        "splitting on Age with threshold 56.5 at pred ['Education-Num <= 9.5', 'Country = 4']"
       ]
      },
      {
       "output_type": "stream",
       "stream": "stdout",
       "text": [
        "\n",
        "splitting on Age with threshold 33.5 at pred ['Education-Num <= 9.5', 'Country = 4', 'Age <= 56.5']"
       ]
      },
      {
       "output_type": "stream",
       "stream": "stdout",
       "text": [
        "\n",
        "splitting on Education-Num with threshold 8.5 at pred ['Education-Num <= 9.5', 'Country = 4', 'Age <= 56.5', 'Age <= 33.5']\n",
        "splitting on Age with threshold 35.5 at pred ['Education-Num <= 9.5', 'Country = 4', 'Age <= 56.5', 'Age > 33.5']"
       ]
      },
      {
       "output_type": "stream",
       "stream": "stdout",
       "text": [
        "\n",
        "splitting on Education-Num with threshold 8.5 at pred ['Education-Num <= 9.5', 'Country = 32']"
       ]
      },
      {
       "output_type": "stream",
       "stream": "stdout",
       "text": [
        "\n",
        "splitting on Age with threshold 46.5 at pred ['Education-Num <= 9.5', 'Country = 32', 'Education-Num <= 8.5']\n",
        "splitting on Age with threshold 28.5 at pred ['Education-Num <= 9.5', 'Country = 32', 'Education-Num <= 8.5', 'Age <= 46.5']"
       ]
      },
      {
       "output_type": "stream",
       "stream": "stdout",
       "text": [
        "\n",
        "splitting on Education-Num with threshold 3.5 at pred ['Education-Num <= 9.5', 'Country = 32', 'Education-Num <= 8.5', 'Age > 46.5']\n",
        "splitting on Hours per week with threshold 40.5 at pred ['Education-Num <= 9.5', 'Country = 32', 'Education-Num > 8.5']\n",
        "splitting on Age with threshold 34.5 at pred ['Education-Num <= 9.5', 'Country = 32', 'Education-Num > 8.5', 'Hours per week <= 40.5']"
       ]
      },
      {
       "output_type": "stream",
       "stream": "stdout",
       "text": [
        "\n",
        "splitting on Occupation with threshold None at pred ['Education-Num <= 9.5', 'Country = 3']"
       ]
      },
      {
       "output_type": "stream",
       "stream": "stdout",
       "text": [
        "\n",
        "splitting on Hours per week with threshold 39.5 at pred ['Education-Num <= 9.5', 'Country = 3', 'Occupation = 8']\n",
        "splitting on Age with threshold 36.5 at pred ['Education-Num <= 9.5', 'Country = 3', 'Occupation = 8', 'Hours per week > 39.5']"
       ]
      },
      {
       "output_type": "stream",
       "stream": "stdout",
       "text": [
        "\n",
        "splitting on Martial Status with threshold 3.5 at pred ['Education-Num <= 9.5', 'Country = 13']"
       ]
      },
      {
       "output_type": "stream",
       "stream": "stdout",
       "text": [
        "\n",
        "splitting on Age with threshold 36.5 at pred ['Education-Num <= 9.5', 'Country = 13', 'Martial Status <= 3.5']\n",
        "splitting on Age with threshold 33.5 at pred ['Education-Num <= 9.5', 'Country = 13', 'Martial Status <= 3.5', 'Age <= 36.5']"
       ]
      },
      {
       "output_type": "stream",
       "stream": "stdout",
       "text": [
        "\n",
        "splitting on Hours per week with threshold 35.5 at pred ['Education-Num <= 9.5', 'Country = 13', 'Martial Status > 3.5']"
       ]
      },
      {
       "output_type": "stream",
       "stream": "stdout",
       "text": [
        "\n",
        "splitting on Age with threshold 21.5 at pred ['Education-Num <= 9.5', 'Country = 13', 'Martial Status > 3.5', 'Hours per week > 35.5']"
       ]
      },
      {
       "output_type": "stream",
       "stream": "stdout",
       "text": [
        "\n",
        "splitting on Hours per week with threshold 60.5 at pred ['Education-Num <= 9.5', 'Country = 35']"
       ]
      },
      {
       "output_type": "stream",
       "stream": "stdout",
       "text": [
        "\n",
        "splitting on Hours per week with threshold 50.5 at pred ['Education-Num <= 9.5', 'Country = 35', 'Hours per week <= 60.5']"
       ]
      },
      {
       "output_type": "stream",
       "stream": "stdout",
       "text": [
        "\n",
        "splitting on Hours per week with threshold 35.5 at pred ['Education-Num <= 9.5', 'Country = 35', 'Hours per week <= 60.5', 'Hours per week <= 50.5']"
       ]
      },
      {
       "output_type": "stream",
       "stream": "stdout",
       "text": [
        "\n",
        "splitting on Age with threshold 29.5 at pred ['Education-Num <= 9.5', 'Country = 19']"
       ]
      },
      {
       "output_type": "stream",
       "stream": "stdout",
       "text": [
        "\n",
        "splitting on Education-Num with threshold 7.5 at pred ['Education-Num <= 9.5', 'Country = 19', 'Age > 29.5']\n",
        "splitting on Age with threshold 29.5 at pred ['Education-Num <= 9.5', 'Country = 25']"
       ]
      },
      {
       "output_type": "stream",
       "stream": "stdout",
       "text": [
        "\n",
        "splitting on Age with threshold 36.5 at pred ['Education-Num <= 9.5', 'Country = 38']"
       ]
      },
      {
       "output_type": "stream",
       "stream": "stdout",
       "text": [
        "\n",
        "splitting on Age with threshold 42.5 at pred ['Education-Num <= 9.5', 'Country = 8']"
       ]
      },
      {
       "output_type": "stream",
       "stream": "stdout",
       "text": [
        "\n",
        "splitting on Hours per week with threshold 39.5 at pred ['Education-Num <= 9.5', 'Country = 8', 'Age <= 42.5']"
       ]
      },
      {
       "output_type": "stream",
       "stream": "stdout",
       "text": [
        "\n",
        "splitting on Martial Status with threshold 3.5 at pred ['Education-Num <= 9.5', 'Country = 8', 'Age <= 42.5', 'Hours per week <= 39.5']\n",
        "splitting on Age with threshold 28.5 at pred ['Education-Num <= 9.5', 'Country = 8', 'Age <= 42.5', 'Hours per week > 39.5']"
       ]
      },
      {
       "output_type": "stream",
       "stream": "stdout",
       "text": [
        "\n",
        "splitting on Age with threshold 51.5 at pred ['Education-Num <= 9.5', 'Country = 8', 'Age > 42.5']\n",
        "splitting on Education-Num with threshold 2.5 at pred ['Education-Num <= 9.5', 'Country = 8', 'Age > 42.5', 'Age <= 51.5']"
       ]
      },
      {
       "output_type": "stream",
       "stream": "stdout",
       "text": [
        "\n",
        "splitting on Occupation with threshold None at pred ['Education-Num <= 9.5', 'Country = 11']"
       ]
      },
      {
       "output_type": "stream",
       "stream": "stdout",
       "text": [
        "\n",
        "splitting on Hours per week with threshold 35.5 at pred ['Education-Num <= 9.5', 'Country = 11', 'Occupation = 3']\n",
        "splitting on Martial Status with threshold 3.5 at pred ['Education-Num <= 9.5', 'Country = 29']"
       ]
      },
      {
       "output_type": "stream",
       "stream": "stdout",
       "text": [
        "\n",
        "splitting on Age with threshold 40.5 at pred ['Education-Num <= 9.5', 'Country = 33']"
       ]
      },
      {
       "output_type": "stream",
       "stream": "stdout",
       "text": [
        "\n",
        "splitting on Occupation with threshold None at pred ['Education-Num <= 9.5', 'Country = 33', 'Age <= 40.5']"
       ]
      },
      {
       "output_type": "stream",
       "stream": "stdout",
       "text": [
        "\n",
        "splitting on Age with threshold 51.5 at pred ['Education-Num <= 9.5', 'Country = 33', 'Age > 40.5']"
       ]
      },
      {
       "output_type": "stream",
       "stream": "stdout",
       "text": [
        "\n",
        "splitting on Workclass with threshold None at pred ['Education-Num <= 9.5', 'Country = 33', 'Age > 40.5', 'Age <= 51.5']\n",
        "splitting on Education-Num with threshold 5.5 at pred ['Education-Num <= 9.5', 'Country = 33', 'Age > 40.5', 'Age > 51.5']"
       ]
      },
      {
       "output_type": "stream",
       "stream": "stdout",
       "text": [
        "\n",
        "splitting on Workclass with threshold None at pred ['Education-Num <= 9.5', 'Country = 12']"
       ]
      },
      {
       "output_type": "stream",
       "stream": "stdout",
       "text": [
        "\n",
        "splitting on Age with threshold 49.5 at pred ['Education-Num <= 9.5', 'Country = 12', 'Workclass = 4']"
       ]
      },
      {
       "output_type": "stream",
       "stream": "stdout",
       "text": [
        "\n",
        "splitting on Age with threshold 33.5 at pred ['Education-Num <= 9.5', 'Country = 17']"
       ]
      },
      {
       "output_type": "stream",
       "stream": "stdout",
       "text": [
        "\n",
        "splitting on Hours per week with threshold 39.5 at pred ['Education-Num <= 9.5', 'Country = 21']"
       ]
      },
      {
       "output_type": "stream",
       "stream": "stdout",
       "text": [
        "\n",
        "splitting on Age with threshold 32.5 at pred ['Education-Num <= 9.5', 'Country = 21', 'Hours per week > 39.5']\n",
        "splitting on Occupation with threshold None at pred ['Education-Num <= 9.5', 'Country = 27']"
       ]
      },
      {
       "output_type": "stream",
       "stream": "stdout",
       "text": [
        "\n",
        "splitting on Age with threshold 51.5 at pred ['Education-Num <= 9.5', 'Country = 31']"
       ]
      },
      {
       "output_type": "stream",
       "stream": "stdout",
       "text": [
        "\n",
        "splitting on Age with threshold 40.5 at pred ['Education-Num <= 9.5', 'Country = 31', 'Age <= 51.5']\n",
        "splitting on Age with threshold 27.5 at pred ['Education-Num <= 9.5', 'Country = 31', 'Age <= 51.5', 'Age <= 40.5']"
       ]
      },
      {
       "output_type": "stream",
       "stream": "stdout",
       "text": [
        "\n",
        "splitting on Education-Num with threshold 4.5 at pred ['Education-Num <= 9.5', 'Country = 31', 'Age > 51.5']\n",
        "splitting on Age with threshold 42.5 at pred ['Education-Num <= 9.5', 'Country = 1']"
       ]
      },
      {
       "output_type": "stream",
       "stream": "stdout",
       "text": [
        "\n",
        "splitting on Age with threshold 45.5 at pred ['Education-Num <= 9.5', 'Country = 23']"
       ]
      },
      {
       "output_type": "stream",
       "stream": "stdout",
       "text": [
        "\n",
        "splitting on Martial Status with threshold 2.5 at pred ['Education-Num <= 9.5', 'Country = 23', 'Age <= 45.5']\n",
        "splitting on Age with threshold 26.5 at pred ['Education-Num <= 9.5', 'Country = 23', 'Age <= 45.5', 'Martial Status > 2.5']"
       ]
      },
      {
       "output_type": "stream",
       "stream": "stdout",
       "text": [
        "\n",
        "splitting on Education-Num with threshold 6.5 at pred ['Education-Num <= 9.5', 'Country = 23', 'Age > 45.5']\n",
        "splitting on Age with threshold 51.5 at pred ['Education-Num <= 9.5', 'Country = 23', 'Age > 45.5', 'Education-Num > 6.5']"
       ]
      },
      {
       "output_type": "stream",
       "stream": "stdout",
       "text": [
        "\n",
        "splitting on Occupation with threshold None at pred ['Education-Num <= 9.5', 'Country = 2']"
       ]
      },
      {
       "output_type": "stream",
       "stream": "stdout",
       "text": [
        "\n",
        "splitting on Hours per week with threshold 30.5 at pred ['Education-Num <= 9.5', 'Country = 2', 'Occupation = 8']\n",
        "splitting on Age with threshold 45.5 at pred ['Education-Num <= 9.5', 'Country = 24']"
       ]
      },
      {
       "output_type": "stream",
       "stream": "stdout",
       "text": [
        "\n",
        "splitting on Hours per week with threshold 40.5 at pred ['Education-Num <= 9.5', 'Country = 24', 'Age <= 45.5']\n",
        "splitting on Martial Status with threshold 3.5 at pred ['Education-Num <= 9.5', 'Country = 24', 'Age <= 45.5', 'Hours per week <= 40.5']\n",
        "splitting on Age with threshold 56.5 at pred ['Education-Num <= 9.5', 'Country = 5']"
       ]
      },
      {
       "output_type": "stream",
       "stream": "stdout",
       "text": [
        "\n",
        "splitting on Occupation with threshold None at pred ['Education-Num <= 9.5', 'Country = 5', 'Age <= 56.5']"
       ]
      },
      {
       "output_type": "stream",
       "stream": "stdout",
       "text": [
        "\n",
        "splitting on Martial Status with threshold 4.5 at pred ['Education-Num <= 9.5', 'Country = 5', 'Age > 56.5']"
       ]
      },
      {
       "output_type": "stream",
       "stream": "stdout",
       "text": [
        "\n",
        "splitting on Age with threshold 58.5 at pred ['Education-Num <= 9.5', 'Country = 5', 'Age > 56.5', 'Martial Status <= 4.5']\n",
        "splitting on Age with threshold 35.5 at pred ['Education-Num <= 9.5', 'Country = 7']"
       ]
      },
      {
       "output_type": "stream",
       "stream": "stdout",
       "text": [
        "\n",
        "splitting on Age with threshold 46.5 at pred ['Education-Num <= 9.5', 'Country = 7', 'Age > 35.5']\n",
        "splitting on Education-Num with threshold 6.5 at pred ['Education-Num <= 9.5', 'Country = 6']"
       ]
      },
      {
       "output_type": "stream",
       "stream": "stdout",
       "text": [
        "\n",
        "splitting on Age with threshold 53.5 at pred ['Education-Num <= 9.5', 'Country = 6', 'Education-Num <= 6.5']"
       ]
      },
      {
       "output_type": "stream",
       "stream": "stdout",
       "text": [
        "\n",
        "splitting on Age with threshold 46.5 at pred ['Education-Num <= 9.5', 'Country = 6', 'Education-Num <= 6.5', 'Age <= 53.5']"
       ]
      },
      {
       "output_type": "stream",
       "stream": "stdout",
       "text": [
        "\n",
        "splitting on Hours per week with threshold 50.5 at pred ['Education-Num <= 9.5', 'Country = 6', 'Education-Num > 6.5']"
       ]
      },
      {
       "output_type": "stream",
       "stream": "stdout",
       "text": [
        "\n",
        "splitting on Age with threshold 30.5 at pred ['Education-Num <= 9.5', 'Country = 6', 'Education-Num > 6.5', 'Hours per week <= 50.5']"
       ]
      },
      {
       "output_type": "stream",
       "stream": "stdout",
       "text": [
        "\n",
        "splitting on Hours per week with threshold 45.5 at pred ['Education-Num <= 9.5', 'Country = 22']"
       ]
      },
      {
       "output_type": "stream",
       "stream": "stdout",
       "text": [
        "\n",
        "splitting on Workclass with threshold None at pred ['Education-Num <= 9.5', 'Country = 22', 'Hours per week <= 45.5']"
       ]
      },
      {
       "output_type": "stream",
       "stream": "stdout",
       "text": [
        "\n",
        "splitting on Age with threshold 56.5 at pred ['Education-Num <= 9.5', 'Country = 22', 'Hours per week <= 45.5', 'Workclass = 4']\n",
        "splitting on Age with threshold 51.5 at pred ['Education-Num <= 9.5', 'Country = 14']"
       ]
      },
      {
       "output_type": "stream",
       "stream": "stdout",
       "text": [
        "\n",
        "splitting on Education-Num with threshold 5.5 at pred ['Education-Num <= 9.5', 'Country = 14', 'Age <= 51.5']\n",
        "splitting on Age with threshold 40.5 at pred ['Education-Num <= 9.5', 'Country = 14', 'Age <= 51.5', 'Education-Num > 5.5']"
       ]
      },
      {
       "output_type": "stream",
       "stream": "stdout",
       "text": [
        "\n",
        "splitting on Age with threshold 43.5 at pred ['Education-Num <= 9.5', 'Country = 41']"
       ]
      },
      {
       "output_type": "stream",
       "stream": "stdout",
       "text": [
        "\n",
        "splitting on Education-Num with threshold 6.5 at pred ['Education-Num <= 9.5', 'Country = 40']"
       ]
      },
      {
       "output_type": "stream",
       "stream": "stdout",
       "text": [
        "\n",
        "splitting on Age with threshold 43.5 at pred ['Education-Num <= 9.5', 'Country = 40', 'Education-Num <= 6.5']\n",
        "splitting on Age with threshold 23.5 at pred ['Education-Num <= 9.5', 'Country = 40', 'Education-Num > 6.5']"
       ]
      },
      {
       "output_type": "stream",
       "stream": "stdout",
       "text": [
        "\n",
        "splitting on Age with threshold 45.5 at pred ['Education-Num <= 9.5', 'Country = 40', 'Education-Num > 6.5', 'Age > 23.5']\n",
        "splitting on Country with threshold None at pred ['Education-Num > 9.5']"
       ]
      },
      {
       "output_type": "stream",
       "stream": "stdout",
       "text": [
        "\n",
        "splitting on Age with threshold 66.5 at pred ['Education-Num > 9.5', 'Country = 39']"
       ]
      },
      {
       "output_type": "stream",
       "stream": "stdout",
       "text": [
        "\n",
        "splitting on Age with threshold 61.5 at pred ['Education-Num > 9.5', 'Country = 39', 'Age <= 66.5']"
       ]
      },
      {
       "output_type": "stream",
       "stream": "stdout",
       "text": [
        "\n",
        "splitting on Age with threshold 58.5 at pred ['Education-Num > 9.5', 'Country = 39', 'Age <= 66.5', 'Age <= 61.5']"
       ]
      },
      {
       "output_type": "stream",
       "stream": "stdout",
       "text": [
        "\n",
        "splitting on Race with threshold None at pred ['Education-Num > 9.5', 'Country = 39', 'Age <= 66.5', 'Age > 61.5']"
       ]
      },
      {
       "output_type": "stream",
       "stream": "stdout",
       "text": [
        "\n",
        "splitting on Workclass with threshold None at pred ['Education-Num > 9.5', 'Country = 39', 'Age > 66.5']"
       ]
      },
      {
       "output_type": "stream",
       "stream": "stdout",
       "text": [
        "\n",
        "splitting on Race with threshold None at pred ['Education-Num > 9.5', 'Country = 39', 'Age > 66.5', 'Workclass = 4']"
       ]
      },
      {
       "output_type": "stream",
       "stream": "stdout",
       "text": [
        "\n",
        "splitting on Hours per week with threshold 34.5 at pred ['Education-Num > 9.5', 'Country = 39', 'Age > 66.5', 'Workclass = 6']"
       ]
      },
      {
       "output_type": "stream",
       "stream": "stdout",
       "text": [
        "\n",
        "splitting on Martial Status with threshold 3.5 at pred ['Education-Num > 9.5', 'Country = 39', 'Age > 66.5', 'Workclass = 7']\n",
        "splitting on Occupation with threshold None at pred ['Education-Num > 9.5', 'Country = 39', 'Age > 66.5', 'Workclass = 2']"
       ]
      },
      {
       "output_type": "stream",
       "stream": "stdout",
       "text": [
        "\n",
        "splitting on Hours per week with threshold 19.5 at pred ['Education-Num > 9.5', 'Country = 39', 'Age > 66.5', 'Workclass = 0']"
       ]
      },
      {
       "output_type": "stream",
       "stream": "stdout",
       "text": [
        "\n",
        "splitting on Hours per week with threshold 19.5 at pred ['Education-Num > 9.5', 'Country = 39', 'Age > 66.5', 'Workclass = 5']\n",
        "splitting on Race with threshold None at pred ['Education-Num > 9.5', 'Country = 26']"
       ]
      },
      {
       "output_type": "stream",
       "stream": "stdout",
       "text": [
        "\n",
        "splitting on Age with threshold 43.5 at pred ['Education-Num > 9.5', 'Country = 26', 'Race = 4']"
       ]
      },
      {
       "output_type": "stream",
       "stream": "stdout",
       "text": [
        "\n",
        "splitting on Martial Status with threshold 0.5 at pred ['Education-Num > 9.5', 'Country = 26', 'Race = 4', 'Age <= 43.5']"
       ]
      },
      {
       "output_type": "stream",
       "stream": "stdout",
       "text": [
        "\n",
        "splitting on Age with threshold 49.5 at pred ['Education-Num > 9.5', 'Country = 26', 'Race = 4', 'Age > 43.5']"
       ]
      },
      {
       "output_type": "stream",
       "stream": "stdout",
       "text": [
        "\n",
        "splitting on Education-Num with threshold 11.5 at pred ['Education-Num > 9.5', 'Country = 26', 'Race = 3']"
       ]
      },
      {
       "output_type": "stream",
       "stream": "stdout",
       "text": [
        "\n",
        "splitting on Occupation with threshold None at pred ['Education-Num > 9.5', 'Country = 30']"
       ]
      },
      {
       "output_type": "stream",
       "stream": "stdout",
       "text": [
        "\n",
        "splitting on Age with threshold 42.5 at pred ['Education-Num > 9.5', 'Country = 30', 'Occupation = 1']"
       ]
      },
      {
       "output_type": "stream",
       "stream": "stdout",
       "text": [
        "\n",
        "splitting on Age with threshold 40.5 at pred ['Education-Num > 9.5', 'Country = 30', 'Occupation = 1', 'Age <= 42.5']\n",
        "splitting on Age with threshold 48.5 at pred ['Education-Num > 9.5', 'Country = 30', 'Occupation = 1', 'Age > 42.5']"
       ]
      },
      {
       "output_type": "stream",
       "stream": "stdout",
       "text": [
        "\n",
        "splitting on Age with threshold 34.5 at pred ['Education-Num > 9.5', 'Country = 30', 'Occupation = 8']"
       ]
      },
      {
       "output_type": "stream",
       "stream": "stdout",
       "text": [
        "\n",
        "splitting on Age with threshold 48.5 at pred ['Education-Num > 9.5', 'Country = 30', 'Occupation = 8', 'Age > 34.5']\n",
        "splitting on Education-Num with threshold 12.5 at pred ['Education-Num > 9.5', 'Country = 30', 'Occupation = 3']"
       ]
      },
      {
       "output_type": "stream",
       "stream": "stdout",
       "text": [
        "\n",
        "splitting on Age with threshold 33.5 at pred ['Education-Num > 9.5', 'Country = 30', 'Occupation = 13']"
       ]
      },
      {
       "output_type": "stream",
       "stream": "stdout",
       "text": [
        "\n",
        "splitting on Age with threshold 48.5 at pred ['Education-Num > 9.5', 'Country = 30', 'Occupation = 10']\n",
        "splitting on Age with threshold 32.5 at pred ['Education-Num > 9.5', 'Country = 30', 'Occupation = 10', 'Age <= 48.5']"
       ]
      },
      {
       "output_type": "stream",
       "stream": "stdout",
       "text": [
        "\n",
        "splitting on Age with threshold 35.5 at pred ['Education-Num > 9.5', 'Country = 30', 'Occupation = 4']"
       ]
      },
      {
       "output_type": "stream",
       "stream": "stdout",
       "text": [
        "\n",
        "splitting on Education-Num with threshold 10.5 at pred ['Education-Num > 9.5', 'Country = 30', 'Occupation = 12']"
       ]
      },
      {
       "output_type": "stream",
       "stream": "stdout",
       "text": [
        "\n",
        "splitting on Age with threshold 23.5 at pred ['Education-Num > 9.5', 'Country = 30', 'Occupation = 12', 'Education-Num <= 10.5']\n",
        "splitting on Occupation with threshold None at pred ['Education-Num > 9.5', 'Country = 36']"
       ]
      },
      {
       "output_type": "stream",
       "stream": "stdout",
       "text": [
        "\n",
        "splitting on Workclass with threshold None at pred ['Education-Num > 9.5', 'Country = 36', 'Occupation = 4']\n",
        "splitting on Hours per week with threshold 30.5 at pred ['Education-Num > 9.5', 'Country = 36', 'Occupation = 10']"
       ]
      },
      {
       "output_type": "stream",
       "stream": "stdout",
       "text": [
        "\n",
        "splitting on Martial Status with threshold 3.5 at pred ['Education-Num > 9.5', 'Country = 36', 'Occupation = 10', 'Hours per week > 30.5']\n",
        "splitting on Education-Num with threshold 14.5 at pred ['Education-Num > 9.5', 'Country = 20']"
       ]
      },
      {
       "output_type": "stream",
       "stream": "stdout",
       "text": [
        "\n",
        "splitting on Education-Num with threshold 11.5 at pred ['Education-Num > 9.5', 'Country = 20', 'Education-Num <= 14.5']"
       ]
      },
      {
       "output_type": "stream",
       "stream": "stdout",
       "text": [
        "\n",
        "splitting on Age with threshold 28.5 at pred ['Education-Num > 9.5', 'Country = 20', 'Education-Num <= 14.5', 'Education-Num <= 11.5']\n",
        "splitting on Hours per week with threshold 30.5 at pred ['Education-Num > 9.5', 'Country = 20', 'Education-Num <= 14.5', 'Education-Num > 11.5']"
       ]
      },
      {
       "output_type": "stream",
       "stream": "stdout",
       "text": [
        "\n",
        "splitting on Education-Num with threshold 12.5 at pred ['Education-Num > 9.5', 'Country = 8']"
       ]
      },
      {
       "output_type": "stream",
       "stream": "stdout",
       "text": [
        "\n",
        "splitting on Martial Status with threshold 2.5 at pred ['Education-Num > 9.5', 'Country = 8', 'Education-Num <= 12.5']\n",
        "splitting on Age with threshold 27.5 at pred ['Education-Num > 9.5', 'Country = 8', 'Education-Num <= 12.5', 'Martial Status <= 2.5']\n",
        "splitting on Hours per week with threshold 40.5 at pred ['Education-Num > 9.5', 'Country = 8', 'Education-Num > 12.5']"
       ]
      },
      {
       "output_type": "stream",
       "stream": "stdout",
       "text": [
        "\n",
        "splitting on Workclass with threshold None at pred ['Education-Num > 9.5', 'Country = 11']"
       ]
      },
      {
       "output_type": "stream",
       "stream": "stdout",
       "text": [
        "\n",
        "splitting on Age with threshold 37.5 at pred ['Education-Num > 9.5', 'Country = 11', 'Workclass = 6']\n",
        "splitting on Age with threshold 42.5 at pred ['Education-Num > 9.5', 'Country = 11', 'Workclass = 4']"
       ]
      },
      {
       "output_type": "stream",
       "stream": "stdout",
       "text": [
        "\n",
        "splitting on Age with threshold 38.5 at pred ['Education-Num > 9.5', 'Country = 11', 'Workclass = 4', 'Age <= 42.5']"
       ]
      },
      {
       "output_type": "stream",
       "stream": "stdout",
       "text": [
        "\n",
        "splitting on Education-Num with threshold 12.5 at pred ['Education-Num > 9.5', 'Country = 11', 'Workclass = 4', 'Age > 42.5']\n",
        "splitting on Age with threshold 30.5 at pred ['Education-Num > 9.5', 'Country = 11', 'Workclass = 2']"
       ]
      },
      {
       "output_type": "stream",
       "stream": "stdout",
       "text": [
        "\n",
        "splitting on Education-Num with threshold 10.5 at pred ['Education-Num > 9.5', 'Country = 3']"
       ]
      },
      {
       "output_type": "stream",
       "stream": "stdout",
       "text": [
        "\n",
        "splitting on Age with threshold 40.5 at pred ['Education-Num > 9.5', 'Country = 3', 'Education-Num > 10.5']"
       ]
      },
      {
       "output_type": "stream",
       "stream": "stdout",
       "text": [
        "\n",
        "splitting on Education-Num with threshold 13.5 at pred ['Education-Num > 9.5', 'Country = 3', 'Education-Num > 10.5', 'Age <= 40.5']\n",
        "splitting on Age with threshold 53.5 at pred ['Education-Num > 9.5', 'Country = 3', 'Education-Num > 10.5', 'Age > 40.5']"
       ]
      },
      {
       "output_type": "stream",
       "stream": "stdout",
       "text": [
        "\n",
        "splitting on Hours per week with threshold 35.5 at pred ['Education-Num > 9.5', 'Country = 0']"
       ]
      },
      {
       "output_type": "stream",
       "stream": "stdout",
       "text": [
        "\n",
        "splitting on Age with threshold 45.5 at pred ['Education-Num > 9.5', 'Country = 0', 'Hours per week <= 35.5']"
       ]
      },
      {
       "output_type": "stream",
       "stream": "stdout",
       "text": [
        "\n",
        "splitting on Education-Num with threshold 14.5 at pred ['Education-Num > 9.5', 'Country = 0', 'Hours per week <= 35.5', 'Age <= 45.5']"
       ]
      },
      {
       "output_type": "stream",
       "stream": "stdout",
       "text": [
        "\n",
        "splitting on Age with threshold 56.5 at pred ['Education-Num > 9.5', 'Country = 0', 'Hours per week <= 35.5', 'Age > 45.5']"
       ]
      },
      {
       "output_type": "stream",
       "stream": "stdout",
       "text": [
        "\n",
        "splitting on Workclass with threshold None at pred ['Education-Num > 9.5', 'Country = 0', 'Hours per week > 35.5']"
       ]
      },
      {
       "output_type": "stream",
       "stream": "stdout",
       "text": [
        "\n",
        "splitting on Race with threshold None at pred ['Education-Num > 9.5', 'Country = 0', 'Hours per week > 35.5', 'Workclass = 4']"
       ]
      },
      {
       "output_type": "stream",
       "stream": "stdout",
       "text": [
        "\n",
        "splitting on Hours per week with threshold 40.5 at pred ['Education-Num > 9.5', 'Country = 0', 'Hours per week > 35.5', 'Workclass = 2']\n",
        "splitting on Race with threshold None at pred ['Education-Num > 9.5', 'Country = 0', 'Hours per week > 35.5', 'Workclass = 6']"
       ]
      },
      {
       "output_type": "stream",
       "stream": "stdout",
       "text": [
        "\n",
        "splitting on Age with threshold 40.5 at pred ['Education-Num > 9.5', 'Country = 0', 'Hours per week > 35.5', 'Workclass = 7']\n",
        "splitting on Age with threshold 41.5 at pred ['Education-Num > 9.5', 'Country = 0', 'Hours per week > 35.5', 'Workclass = 5']"
       ]
      },
      {
       "output_type": "stream",
       "stream": "stdout",
       "text": [
        "\n",
        "splitting on Education-Num with threshold 10.5 at pred ['Education-Num > 9.5', 'Country = 0', 'Hours per week > 35.5', 'Workclass = 0']\n",
        "splitting on Age with threshold 51.5 at pred ['Education-Num > 9.5', 'Country = 0', 'Hours per week > 35.5', 'Workclass = 1']"
       ]
      },
      {
       "output_type": "stream",
       "stream": "stdout",
       "text": [
        "\n",
        "splitting on Age with threshold 40.5 at pred ['Education-Num > 9.5', 'Country = 9']"
       ]
      },
      {
       "output_type": "stream",
       "stream": "stdout",
       "text": [
        "\n",
        "splitting on Education-Num with threshold 12.5 at pred ['Education-Num > 9.5', 'Country = 9', 'Age <= 40.5']"
       ]
      },
      {
       "output_type": "stream",
       "stream": "stdout",
       "text": [
        "\n",
        "splitting on Age with threshold 28.5 at pred ['Education-Num > 9.5', 'Country = 9', 'Age <= 40.5', 'Education-Num <= 12.5']"
       ]
      },
      {
       "output_type": "stream",
       "stream": "stdout",
       "text": [
        "\n",
        "splitting on Age with threshold 24.5 at pred ['Education-Num > 9.5', 'Country = 9', 'Age <= 40.5', 'Education-Num > 12.5']"
       ]
      },
      {
       "output_type": "stream",
       "stream": "stdout",
       "text": [
        "\n",
        "splitting on Occupation with threshold None at pred ['Education-Num > 9.5', 'Country = 9', 'Age > 40.5']"
       ]
      },
      {
       "output_type": "stream",
       "stream": "stdout",
       "text": [
        "\n",
        "splitting on Hours per week with threshold 40.5 at pred ['Education-Num > 9.5', 'Country = 9', 'Age > 40.5', 'Occupation = 10']\n",
        "splitting on Age with threshold 48.5 at pred ['Education-Num > 9.5', 'Country = 9', 'Age > 40.5', 'Occupation = 4']"
       ]
      },
      {
       "output_type": "stream",
       "stream": "stdout",
       "text": [
        "\n",
        "splitting on Workclass with threshold None at pred ['Education-Num > 9.5', 'Country = 2']"
       ]
      },
      {
       "output_type": "stream",
       "stream": "stdout",
       "text": [
        "\n",
        "splitting on Hours per week with threshold 30.5 at pred ['Education-Num > 9.5', 'Country = 2', 'Workclass = 4']"
       ]
      },
      {
       "output_type": "stream",
       "stream": "stdout",
       "text": [
        "\n",
        "splitting on Age with threshold 24.5 at pred ['Education-Num > 9.5', 'Country = 2', 'Workclass = 4', 'Hours per week <= 30.5']\n",
        "splitting on Occupation with threshold None at pred ['Education-Num > 9.5', 'Country = 2', 'Workclass = 4', 'Hours per week > 30.5']"
       ]
      },
      {
       "output_type": "stream",
       "stream": "stdout",
       "text": [
        "\n",
        "splitting on Education-Num with threshold 13.5 at pred ['Education-Num > 9.5', 'Country = 2', 'Workclass = 6']"
       ]
      },
      {
       "output_type": "stream",
       "stream": "stdout",
       "text": [
        "\n",
        "splitting on Hours per week with threshold 20.5 at pred ['Education-Num > 9.5', 'Country = 5']"
       ]
      },
      {
       "output_type": "stream",
       "stream": "stdout",
       "text": [
        "\n",
        "splitting on Age with threshold 29.5 at pred ['Education-Num > 9.5', 'Country = 5', 'Hours per week > 20.5']"
       ]
      },
      {
       "output_type": "stream",
       "stream": "stdout",
       "text": [
        "\n",
        "splitting on Occupation with threshold None at pred ['Education-Num > 9.5', 'Country = 5', 'Hours per week > 20.5', 'Age > 29.5']"
       ]
      },
      {
       "output_type": "stream",
       "stream": "stdout",
       "text": [
        "\n",
        "splitting on Education-Num with threshold 12.5 at pred ['Education-Num > 9.5', 'Country = 14']"
       ]
      },
      {
       "output_type": "stream",
       "stream": "stdout",
       "text": [
        "\n",
        "splitting on Age with threshold 26.5 at pred ['Education-Num > 9.5', 'Country = 14', 'Education-Num <= 12.5']\n",
        "splitting on Age with threshold 40.5 at pred ['Education-Num > 9.5', 'Country = 14', 'Education-Num <= 12.5', 'Age > 26.5']"
       ]
      },
      {
       "output_type": "stream",
       "stream": "stdout",
       "text": [
        "\n",
        "splitting on Race with threshold None at pred ['Education-Num > 9.5', 'Country = 6']"
       ]
      },
      {
       "output_type": "stream",
       "stream": "stdout",
       "text": [
        "\n",
        "splitting on Age with threshold 33.5 at pred ['Education-Num > 9.5', 'Country = 6', 'Race = 4']\n",
        "splitting on Education-Num with threshold 11.5 at pred ['Education-Num > 9.5', 'Country = 6', 'Race = 4', 'Age > 33.5']"
       ]
      },
      {
       "output_type": "stream",
       "stream": "stdout",
       "text": [
        "\n",
        "splitting on Age with threshold 42.5 at pred ['Education-Num > 9.5', 'Country = 33']"
       ]
      },
      {
       "output_type": "stream",
       "stream": "stdout",
       "text": [
        "\n",
        "splitting on Occupation with threshold None at pred ['Education-Num > 9.5', 'Country = 33', 'Age <= 42.5']\n",
        "splitting on Hours per week with threshold 39.5 at pred ['Education-Num > 9.5', 'Country = 33', 'Age <= 42.5', 'Occupation = 1']"
       ]
      },
      {
       "output_type": "stream",
       "stream": "stdout",
       "text": [
        "\n",
        "splitting on Education-Num with threshold 11.5 at pred ['Education-Num > 9.5', 'Country = 33', 'Age > 42.5']"
       ]
      },
      {
       "output_type": "stream",
       "stream": "stdout",
       "text": [
        "\n",
        "splitting on Age with threshold 45.5 at pred ['Education-Num > 9.5', 'Country = 10']"
       ]
      },
      {
       "output_type": "stream",
       "stream": "stdout",
       "text": [
        "\n",
        "splitting on Hours per week with threshold 40.5 at pred ['Education-Num > 9.5', 'Country = 10', 'Age <= 45.5']\n",
        "splitting on Education-Num with threshold 12.5 at pred ['Education-Num > 9.5', 'Country = 10', 'Age <= 45.5', 'Hours per week <= 40.5']"
       ]
      },
      {
       "output_type": "stream",
       "stream": "stdout",
       "text": [
        "\n",
        "splitting on Age with threshold 33.5 at pred ['Education-Num > 9.5', 'Country = 19']"
       ]
      },
      {
       "output_type": "stream",
       "stream": "stdout",
       "text": [
        "\n",
        "splitting on Martial Status with threshold 3.5 at pred ['Education-Num > 9.5', 'Country = 19', 'Age <= 33.5']"
       ]
      },
      {
       "output_type": "stream",
       "stream": "stdout",
       "text": [
        "\n",
        "splitting on Occupation with threshold None at pred ['Education-Num > 9.5', 'Country = 19', 'Age <= 33.5', 'Martial Status <= 3.5']\n",
        "splitting on Hours per week with threshold 48.5 at pred ['Education-Num > 9.5', 'Country = 19', 'Age <= 33.5', 'Martial Status > 3.5']"
       ]
      },
      {
       "output_type": "stream",
       "stream": "stdout",
       "text": [
        "\n",
        "splitting on Hours per week with threshold 39.5 at pred ['Education-Num > 9.5', 'Country = 19', 'Age > 33.5']"
       ]
      },
      {
       "output_type": "stream",
       "stream": "stdout",
       "text": [
        "\n",
        "splitting on Martial Status with threshold 3.5 at pred ['Education-Num > 9.5', 'Country = 19', 'Age > 33.5', 'Hours per week > 39.5']"
       ]
      },
      {
       "output_type": "stream",
       "stream": "stdout",
       "text": [
        "\n",
        "splitting on Age with threshold 35.5 at pred ['Education-Num > 9.5', 'Country = 37']"
       ]
      },
      {
       "output_type": "stream",
       "stream": "stdout",
       "text": [
        "\n",
        "splitting on Hours per week with threshold 40.5 at pred ['Education-Num > 9.5', 'Country = 37', 'Age > 35.5']\n",
        "splitting on Age with threshold 48.5 at pred ['Education-Num > 9.5', 'Country = 22']"
       ]
      },
      {
       "output_type": "stream",
       "stream": "stdout",
       "text": [
        "\n",
        "splitting on Occupation with threshold None at pred ['Education-Num > 9.5', 'Country = 22', 'Age <= 48.5']\n",
        "splitting on Age with threshold 42.5 at pred ['Education-Num > 9.5', 'Country = 22', 'Age <= 48.5', 'Occupation = 10']"
       ]
      },
      {
       "output_type": "stream",
       "stream": "stdout",
       "text": [
        "\n",
        "splitting on Age with threshold 53.5 at pred ['Education-Num > 9.5', 'Country = 22', 'Age > 48.5']\n",
        "splitting on Occupation with threshold None at pred ['Education-Num > 9.5', 'Country = 35']"
       ]
      },
      {
       "output_type": "stream",
       "stream": "stdout",
       "text": [
        "\n",
        "splitting on Age with threshold 28.5 at pred ['Education-Num > 9.5', 'Country = 35', 'Occupation = 10']\n",
        "splitting on Age with threshold 40.5 at pred ['Education-Num > 9.5', 'Country = 35', 'Occupation = 12']"
       ]
      },
      {
       "output_type": "stream",
       "stream": "stdout",
       "text": [
        "\n",
        "splitting on Age with threshold 34.5 at pred ['Education-Num > 9.5', 'Country = 35', 'Occupation = 12', 'Age <= 40.5']\n",
        "splitting on Hours per week with threshold 48.5 at pred ['Education-Num > 9.5', 'Country = 35', 'Occupation = 4']"
       ]
      },
      {
       "output_type": "stream",
       "stream": "stdout",
       "text": [
        "\n",
        "splitting on Occupation with threshold None at pred ['Education-Num > 9.5', 'Country = 24']"
       ]
      },
      {
       "output_type": "stream",
       "stream": "stdout",
       "text": [
        "\n",
        "splitting on Age with threshold 40.5 at pred ['Education-Num > 9.5', 'Country = 24', 'Occupation = 4']\n",
        "splitting on Hours per week with threshold 45.5 at pred ['Education-Num > 9.5', 'Country = 24', 'Occupation = 4', 'Age > 40.5']"
       ]
      },
      {
       "output_type": "stream",
       "stream": "stdout",
       "text": [
        "\n",
        "splitting on Hours per week with threshold 35.5 at pred ['Education-Num > 9.5', 'Country = 24', 'Occupation = 10']"
       ]
      },
      {
       "output_type": "stream",
       "stream": "stdout",
       "text": [
        "\n",
        "splitting on Age with threshold 29.5 at pred ['Education-Num > 9.5', 'Country = 24', 'Occupation = 1']"
       ]
      },
      {
       "output_type": "stream",
       "stream": "stdout",
       "text": [
        "\n",
        "splitting on Hours per week with threshold 48.5 at pred ['Education-Num > 9.5', 'Country = 31']"
       ]
      },
      {
       "output_type": "stream",
       "stream": "stdout",
       "text": [
        "\n",
        "splitting on Education-Num with threshold 11.5 at pred ['Education-Num > 9.5', 'Country = 31', 'Hours per week <= 48.5']\n",
        "splitting on Age with threshold 30.5 at pred ['Education-Num > 9.5', 'Country = 31', 'Hours per week <= 48.5', 'Education-Num <= 11.5']"
       ]
      },
      {
       "output_type": "stream",
       "stream": "stdout",
       "text": [
        "\n",
        "splitting on Age with threshold 42.5 at pred ['Education-Num > 9.5', 'Country = 31', 'Hours per week <= 48.5', 'Education-Num > 11.5']\n",
        "splitting on Hours per week with threshold 39.5 at pred ['Education-Num > 9.5', 'Country = 7']"
       ]
      },
      {
       "output_type": "stream",
       "stream": "stdout",
       "text": [
        "\n",
        "splitting on Race with threshold None at pred ['Education-Num > 9.5', 'Country = 7', 'Hours per week > 39.5']"
       ]
      },
      {
       "output_type": "stream",
       "stream": "stdout",
       "text": [
        "\n",
        "splitting on Occupation with threshold None at pred ['Education-Num > 9.5', 'Country = 23']"
       ]
      },
      {
       "output_type": "stream",
       "stream": "stdout",
       "text": [
        "\n",
        "splitting on Age with threshold 27.5 at pred ['Education-Num > 9.5', 'Country = 23', 'Occupation = 1']"
       ]
      },
      {
       "output_type": "stream",
       "stream": "stdout",
       "text": [
        "\n",
        "splitting on Martial Status with threshold 3.5 at pred ['Education-Num > 9.5', 'Country = 21']"
       ]
      },
      {
       "output_type": "stream",
       "stream": "stdout",
       "text": [
        "\n",
        "splitting on Age with threshold 46.5 at pred ['Education-Num > 9.5', 'Country = 29']"
       ]
      },
      {
       "output_type": "stream",
       "stream": "stdout",
       "text": [
        "\n",
        "splitting on Martial Status with threshold 3.5 at pred ['Education-Num > 9.5', 'Country = 29', 'Age <= 46.5']\n",
        "splitting on Age with threshold 33.5 at pred ['Education-Num > 9.5', 'Country = 29', 'Age <= 46.5', 'Martial Status <= 3.5']"
       ]
      },
      {
       "output_type": "stream",
       "stream": "stdout",
       "text": [
        "\n",
        "splitting on Education-Num with threshold 10.5 at pred ['Education-Num > 9.5', 'Country = 1']"
       ]
      },
      {
       "output_type": "stream",
       "stream": "stdout",
       "text": [
        "\n",
        "splitting on Age with threshold 32.5 at pred ['Education-Num > 9.5', 'Country = 4']"
       ]
      },
      {
       "output_type": "stream",
       "stream": "stdout",
       "text": [
        "\n",
        "splitting on Age with threshold 43.5 at pred ['Education-Num > 9.5', 'Country = 4', 'Age > 32.5']"
       ]
      },
      {
       "output_type": "stream",
       "stream": "stdout",
       "text": [
        "\n",
        "splitting on Age with threshold 56.5 at pred ['Education-Num > 9.5', 'Country = 4', 'Age > 32.5', 'Age > 43.5']\n",
        "splitting on Age with threshold 51.5 at pred ['Education-Num > 9.5', 'Country = 40']"
       ]
      },
      {
       "output_type": "stream",
       "stream": "stdout",
       "text": [
        "\n",
        "splitting on Hours per week with threshold 39.5 at pred ['Education-Num > 9.5', 'Country = 40', 'Age <= 51.5']\n",
        "splitting on Hours per week with threshold 25.5 at pred ['Education-Num > 9.5', 'Country = 40', 'Age <= 51.5', 'Hours per week <= 39.5']"
       ]
      },
      {
       "output_type": "stream",
       "stream": "stdout",
       "text": [
        "\n",
        "splitting on Age with threshold 38.5 at pred ['Education-Num > 9.5', 'Country = 40', 'Age <= 51.5', 'Hours per week > 39.5']\n",
        "splitting on Martial Status with threshold 2.5 at pred ['Education-Num > 9.5', 'Country = 12']"
       ]
      },
      {
       "output_type": "stream",
       "stream": "stdout",
       "text": [
        "\n",
        "splitting on Education-Num with threshold 11.5 at pred ['Education-Num > 9.5', 'Country = 12', 'Martial Status <= 2.5']\n",
        "splitting on Education-Num with threshold 12.5 at pred ['Education-Num > 9.5', 'Country = 34']"
       ]
      },
      {
       "output_type": "stream",
       "stream": "stdout",
       "text": [
        "\n",
        "splitting on Martial Status with threshold 2.5 at pred ['Education-Num > 9.5', 'Country = 27']"
       ]
      },
      {
       "output_type": "stream",
       "stream": "stdout",
       "text": [
        "\n",
        "splitting on Age with threshold 28.5 at pred ['Education-Num > 9.5', 'Country = 13']"
       ]
      },
      {
       "output_type": "stream",
       "stream": "stdout",
       "text": [
        "\n",
        "splitting on Age with threshold 28.5 at pred ['Education-Num > 9.5', 'Country = 17']"
       ]
      },
      {
       "output_type": "stream",
       "stream": "stdout",
       "text": [
        "\n",
        "splitting on Education-Num with threshold 13.5 at pred ['Education-Num > 9.5', 'Country = 17', 'Age > 28.5']\n",
        "splitting on Martial Status with threshold 2.5 at pred ['Education-Num > 9.5', 'Country = 18']"
       ]
      },
      {
       "output_type": "stream",
       "stream": "stdout",
       "text": [
        "\n",
        "splitting on Age with threshold 43.5 at pred ['Education-Num > 9.5', 'Country = 28']"
       ]
      },
      {
       "output_type": "stream",
       "stream": "stdout",
       "text": [
        "\n",
        "         66616697 function calls (66446355 primitive calls) in 67.098 seconds\n",
        "\n",
        "   Ordered by: standard name\n",
        "\n",
        "   ncalls  tottime  percall  cumtime  percall filename:lineno(function)\n",
        "        1    0.000    0.000   67.098   67.098 <string>:1(<module>)\n",
        "      116    0.000    0.000    0.000    0.000 __init__.py:1128(debug)\n",
        "    34003    0.046    0.000    0.083    0.000 __init__.py:123(iteritems)\n",
        "      116    0.000    0.000    0.000    0.000 __init__.py:1329(getEffectiveLevel)\n",
        "      116    0.000    0.000    0.000    0.000 __init__.py:1343(isEnabledFor)\n",
        "      812    0.004    0.000    0.016    0.000 __init__.py:193(dumps)\n",
        "   125472    0.112    0.000    0.675    0.000 _methods.py:23(_sum)\n",
        "    54710    0.102    0.000    0.652    0.000 _methods.py:31(_any)\n",
        "     4921    0.008    0.000    0.042    0.000 _methods.py:35(_all)\n",
        "    37562    0.046    0.000    0.046    0.000 _weakrefset.py:68(__contains__)\n",
        "    18781    0.096    0.000    0.148    0.000 abc.py:128(__instancecheck__)\n",
        "     2981    0.015    0.000    0.056    0.000 algorithms.py:403(_get_data_algo)\n",
        "     2981    0.278    0.000    1.265    0.000 algorithms.py:98(factorize)\n",
        "      203    0.002    0.000    0.003    0.000 attrsettr.py:35(__getattr__)\n",
        "       41    0.002    0.000    0.011    0.000 base.py:444(unique)\n",
        "    18781    0.077    0.000   40.249    0.002 collections.py:438(__init__)\n",
        "    18781   32.140    0.002   40.172    0.002 collections.py:501(update)\n",
        "     9802    0.107    0.000    0.214    0.000 common.py:1105(_maybe_promote)\n",
        "     1718    0.004    0.000    0.004    0.000 common.py:1949(_possibly_castable)\n",
        "      859    0.012    0.000    0.016    0.000 common.py:1974(_possibly_cast_to_datetime)\n",
        "    23758    0.022    0.000    0.792    0.000 common.py:212(isnull)\n",
        "    25596    0.061    0.000    0.219    0.000 common.py:2121(is_bool_indexer)\n",
        "    23758    0.057    0.000    0.770    0.000 common.py:233(_isnull_new)\n",
        "     9125    0.096    0.000    0.169    0.000 common.py:2347(_asarray_tuplesafe)\n",
        "      970    0.003    0.000    0.029    0.000 common.py:2380(_index_labels_to_array)\n",
        "     1718    0.010    0.000    0.018    0.000 common.py:2440(is_datetimelike)\n",
        "     1718    0.004    0.000    0.011    0.000 common.py:2443(_coerce_to_dtype)\n",
        "    44299    0.062    0.000    0.100    0.000 common.py:2461(_get_dtype_type)\n",
        "     4203    0.006    0.000    0.013    0.000 common.py:2477(is_dtype_equal)\n",
        "     6821    0.013    0.000    0.034    0.000 common.py:2495(is_integer_dtype)\n",
        "      859    0.002    0.000    0.004    0.000 common.py:2501(is_int_or_datetime_dtype)\n",
        "     7680    0.013    0.000    0.041    0.000 common.py:2507(is_datetime64_dtype)\n",
        "     6821    0.008    0.000    0.025    0.000 common.py:2516(is_timedelta64_dtype)\n",
        "     3840    0.006    0.000    0.019    0.000 common.py:2526(is_datetime_or_timedelta_dtype)\n",
        "     3840    0.006    0.000    0.015    0.000 common.py:2547(is_float_dtype)\n",
        "     6032    0.009    0.000    0.026    0.000 "
       ]
      },
      {
       "output_type": "stream",
       "stream": "stdout",
       "text": [
        "common.py:2557(is_bool_dtype)\n",
        "    49188    0.200    0.000    0.295    0.000 common.py:2569(is_categorical_dtype)\n",
        "     2981    0.007    0.000    0.011    0.000 common.py:2603(is_list_like)\n",
        "     4203    0.002    0.000    0.002    0.000 common.py:2738(_clean_fill_method)\n",
        "     4203    0.006    0.000    0.008    0.000 common.py:2759(_clean_reindex_fill_method)\n",
        "     1718    0.583    0.000    0.675    0.000 common.py:303(_isnull_ndarraylike)\n",
        "     6821    0.037    0.000    0.226    0.000 common.py:407(array_equivalent)\n",
        "    53650    0.055    0.000    0.125    0.000 common.py:70(_check)\n",
        "    15764    0.032    0.000    0.046    0.000 common.py:724(_get_take_nd_function)\n",
        "    15764    0.288    0.000    2.670    0.000 common.py:756(take_nd)\n",
        "        1    0.002    0.002    4.871    4.871 discrim_discovery_cont.py:18(find_thresholds)\n",
        "      510    0.419    0.001   59.037    0.116 discrim_discovery_cont.py:250(select_best_feature)\n",
        "    18775    0.213    0.000   35.827    0.002 discrim_discovery_cont.py:280(countValues)\n",
        "      705    0.018    0.000   16.160    0.023 discrim_discovery_cont.py:291(test_cat_feature)\n",
        "      705    0.087    0.000   15.743    0.022 discrim_discovery_cont.py:294(<dictcomp>)\n",
        "      705    0.002    0.000    0.002    0.000 discrim_discovery_cont.py:297(<dictcomp>)\n",
        "     2276    0.170    0.000   39.394    0.017 discrim_discovery_cont.py:310(test_cont_feature)\n",
        "    15032    0.064    0.000   24.841    0.002 discrim_discovery_cont.py:318(<lambda>)\n",
        "     7457    0.033    0.000    2.167    0.000 discrim_discovery_cont.py:360(score)\n",
        "    15684    0.021    0.000    1.679    0.000 discrim_discovery_cont.py:367(<lambda>)\n",
        "    15684    0.025    0.000    0.209    0.000 discrim_discovery_cont.py:370(<lambda>)\n",
        "    15684    0.026    0.000    0.142    0.000 discrim_discovery_cont.py:371(<lambda>)\n",
        "        1    0.000    0.000   67.097   67.097 discrim_discovery_cont.py:59(build_tree)\n",
        "    724/1    0.062    0.000   62.227   62.227 discrim_discovery_cont.py:69(rec_build_tree)\n",
        "      812    0.002    0.000    0.002    0.000 encoder.py:101(__init__)\n",
        "      812    0.002    0.000    0.010    0.000 encoder.py:186(encode)\n",
        "      812    0.006    0.000    0.007    0.000 encoder.py:212(iterencode)\n",
        "    15684    0.080    0.000    1.658    0.000 fairness_measures.py:17(mutual_info)\n",
        "       58    0.000    0.000    0.001    0.000 finalizer.py:42(remove_finalizer)\n",
        "    26506    0.167    0.000    6.926    0.000 frame.py:1768(__getitem__)\n",
        "    22666    0.054    0.000    2.154    0.000 frame.py:1793(_getitem_column)\n",
        "     3840    0.056    0.000    4.430    0.001 frame.py:1810(_getitem_array)\n",
        "    25596    0.011    0.000    0.011    0.000 frame.py:188(_constructor)\n",
        "    25596    0.237    0.000    0.435    0.000 frame.py:199(__init__)\n",
        "    22040    0.095    0.000    0.760    0.000 frame.py:2096(_box_item_values)\n",
        "    22040    0.051    0.000    0.484    0.000 frame.py:2103(_box_col_values)\n",
        "      383    0.001    0.000    0.001    0.000 frame.py:599(__len__)\n",
        "    47052    0.071    0.000    0.364    0.000 fromnumeric.py:1621(sum)\n",
        "        1    0.000    0.000    0.000    0.000 fromnumeric.py:792(argsort)\n",
        "      970    0.039    0.000    0.067    0.000 function_base.py:3104(delete)\n",
        "    21756    0.039    0.000    0.083    0.000 generic.py:1046(_indexer)\n",
        "      859    0.002    0.000    0.008    0.000 generic.py:107(_validate_dtype)\n",
        "    22666    0.134    0.000    2.098    0.000 generic.py:1079(_get_item_cache)\n",
        "    22040    0.070    0.000    0.211    0.000 generic.py:1093(_set_as_cached)\n",
        "    18775    0.167    0.000    3.742    0.000 generic.py:1178(_slice)\n",
        "    25407    0.067    0.000    0.107    0.000 generic.py:1199(_set_is_copy)\n",
        "    25596    0.087    0.000    0.100    0.000 generic.py:120(_init_mgr)\n",
        "     6821    0.107    0.000    6.706    0.001 generic.py:1339(take)\n",
        "    25596    0.033    0.000    0.040    0.000 generic.py:2051(__finalize__)\n",
        "     6270    0.011    0.000    0.011    0.000 generic.py:2068(__getattr__)\n",
        "    75959    0.217    0.000    0.217    0.000 generic.py:2085(__setattr__)\n",
        "     2981    0.007    0.000    0.018    0.000 generic.py:2122(_protect_consolidate)\n",
        "     2981    0.009    0.000    0.032    0.000 generic.py:2130(_consolidate_inplace)\n",
        "     2981    0.005    0.000    0.010    0.000 generic.py:2131(<lambda>)\n",
        "    32417    0.075    0.000    0.087    0.000 generic.py:292(_get_axis_number)\n",
        "     2981    0.043    0.000    0.604    0.000 generic.py:3039(groupby)\n",
        "    41360    0.076    0.000    0.101    0.000 generic.py:305(_get_axis_name)\n",
        "    41360    0.058    0.000    0.190    0.000 generic.py:318(_get_axis)\n",
        "    25596    0.051    0.000    0.118    0.000 generic.py:322(_get_block_manager_axis)\n",
        "     3491    0.006    0.000    0.011    0.000 generic.py:386(ndim)\n",
        "      859    0.004    0.000    0.589    0.001 generic.py:4230(logical_func)\n",
        "      859    0.004    0.000    0.007    0.000 generic.py:661(__hash__)\n",
        "    49354    0.128    0.000    0.128    0.000 generic.py:90(__init__)\n",
        "     2981    0.018    0.000    0.551    0.000 groupby.py:1186(groupby)\n",
        "     2981    0.011    0.000    0.011    0.000 groupby.py:1221(__init__)\n",
        "    21756    0.188    0.000   11.104    0.001 groupby.py:1237(get_iterator)\n",
        "     2981    0.015    0.000    1.558    0.001 groupby.py:1251(_get_splitter)\n",
        "     2981    0.007    0.000    0.013    0.000 groupby.py:1255(_get_group_keys)\n",
        "     2276    0.009    0.000    2.283    0.001 groupby.py:1297(indices)\n",
        "     2981    0.004    0.000    0.006    0.000 groupby.py:1311(levels)\n",
        "     2981    0.009    0.000    1.512    0.001 groupby.py:1359(group_info)\n",
        "     2981    0.023    0.000    1.502    0.001 groupby.py:1368(_get_compressed_labels)\n",
        "     2981    0.036    0.000    0.106    0.000 groupby.py:1868(__init__)\n",
        "     2276    0.005    0.000    2.274    0.001 groupby.py:2010(indices)\n",
        "     5962    0.008    0.000    1.464    0.000 groupby.py:2014(labels)\n",
        "     5962    0.003    0.000    0.003    0.000 groupby.py:2020(group_index)\n",
        "     2981    0.089    0.000    1.455    0.000 groupby.py:2026(_make_labels)\n",
        "     2981    0.096    0.000    0.450    0.000 groupby.py:2037(_get_grouper)\n",
        "     5962    0.006    0.000    0.008    0.000 groupby.py:2091(<genexpr>)\n",
        "     5962    0.006    0.000    0.009    0.000 groupby.py:2092(<genexpr>)\n",
        "     3686    0.007    0.000    0.027    0.000 groupby.py:2097(<genexpr>)\n",
        "     2981    0.012    0.000    0.041    0.000 groupby.py:2119(is_in_axis)\n",
        "     2981    0.011    0.000    0.012    0.000 groupby.py:2129(is_in_obj)\n",
        "     2981    0.006    0.000    0.015    0.000 groupby.py:2165(_is_label_like)\n",
        "     2981    0.009    0.000    0.023    0.000 groupby.py:2169(_convert_grouper)\n",
        "     2981    0.005    0.000    0.005    0.000 groupby.py:3394(__init__)\n",
        "     2981    0.009    0.000    0.416    0.000 groupby.py:3401(slabels)\n",
        "     2981    0.009    0.000    0.475    0.000 groupby.py:3406(sort_idx)\n",
        "    21756    0.152    0.000    9.330    0.000 groupby.py:3411(__iter__)\n",
        "     2981    0.023    0.000    3.930    0.001 groupby.py:3428(_get_sorted_data)\n",
        "     2981    0.012    0.000    0.017    0.000 groupby.py:3450(__init__)\n",
        "    18775    0.086    0.000    4.666    0.000 groupby.py:3466(_chop)\n",
        "     2981    0.011    0.000    0.031    0.000 groupby.py:3494(get_splitter)\n",
        "     2981    0.039    0.000    0.529    0.000 groupby.py:364(__init__)\n",
        "     2981    0.088    0.000    0.466    0.000 groupby.py:3766(_get_group_index_sorter)\n",
        "     2276    0.088    0.000    2.269    0.001 groupby.py:3862(_groupby_indices)\n",
        "     2276    0.005    0.000    2.298    0.001 groupby.py:395(__len__)\n",
        "     2276    0.009    0.000    2.292    0.001 groupby.py:411(indices)\n",
        "     2981    0.005    0.000    0.005    0.000 groupby.py:604(__iter__)\n",
        "      203    0.000    0.000    0.002    0.000 hmac.py:116(hexdigest)\n",
        "      203    0.000    0.000    0.000    0.000 hmac.py:27(__init__)\n",
        "      812    0.001    0.000    0.002    0.000 hmac.py:80(update)\n",
        "      203    0.001    0.000    0.002    0.000 hmac.py:85(copy)\n",
        "      203    0.000    0.000    0.001    0.000 hmac.py:97(_current)\n",
        "    29487    0.118    0.000    0.160    0.000 index.py:1036(__contains__)\n",
        "    40815    0.170    0.000    0.598    0.000 index.py:1050(__getitem__)\n",
        "     8407    0.134    0.000    0.449    0.000 index.py:110(__new__)\n",
        "     6821    0.138    0.000    1.229    0.000 index.py:1139(take)\n",
        "     2982    0.017    0.000    0.067    0.000 index.py:1224(equals)\n",
        "        1    0.000    0.000    0.001    0.001 index.py:1342(__sub__)\n",
        "        1    0.000    0.000    0.001    0.001 index.py:1478(difference)\n",
        "    49337    0.077    0.000    0.243    0.000 index.py:1559(get_loc)\n",
        "4203/3951    0.060    0.000    0.508    0.000 index.py:1649(get_indexer)\n",
        "     4203    0.027    0.000    0.041    0.000 index.py:1789(_possibly_promote)\n",
        "    34003    0.153    0.000    0.293    0.000 index.py:205(_simple_new)\n",
        "     9245    0.012    0.000    0.014    0.000 index.py:219(is_)\n",
        "    34003    0.036    0.000    0.036    0.000 index.py:238(_reset_identity)\n",
        "   163418    0.099    0.000    0.127    0.000 index.py:243(__len__)\n",
        "     6821    0.010    0.000    0.016    0.000 index.py:249(__array__)\n",
        "      970    0.006    0.000    0.135    0.000 index.py:2527(delete)\n",
        "      970    0.015    0.000    0.355    0.000 index.py:2557(drop)\n",
        "     4982    0.003    0.000    0.003    0.000 index.py:259(dtype)\n",
        "    26062    0.029    0.000    0.055    0.000 index.py:264(values)\n",
        "    13642    0.014    0.000    0.043    0.000 index.py:269(get_values)\n",
        "     3233    0.004    0.000    0.004    0.000 index.py:313(_coerce_to_ndarray)\n",
        "    25596    0.124    0.000    0.137    0.000 index.py:328(_get_attributes_dict)\n",
        "     2981    0.019    0.000    0.057    0.000 index.py:3385(__new__)\n",
        "    23758    0.010    0.000    0.010    0.000 index.py:3427(is_all_dates)\n",
        "     6263    0.023    0.000    0.273    0.000 index.py:3434(equals)\n",
        "    25596    0.101    0.000    0.473    0.000 index.py:344(_shallow_copy)\n",
        "      252    0.002    0.000    0.005    0.000 index.py:3489(__new__)\n",
        "      252    0.002    0.000    0.016    0.000 index.py:3518(astype)\n",
        "      252    0.001    0.000    0.018    0.000 index.py:565(astype)\n",
        "    79153    0.068    0.000    0.357    0.000 index.py:5672(_ensure_index)\n",
        "     3694    0.012    0.000    0.018    0.000 index.py:731(is_unique)\n",
        "     2981    0.005    0.000    0.005    0.000 index.py:743(is_integer)\n",
        "     2981    0.008    0.000    0.009    0.000 index.py:764(_convert_scalar_indexer)\n",
        "    18775    0.100    0.000    0.174    0.000 index.py:808(_convert_slice_indexer)\n",
        "    56325    0.050    0.000    0.072    0.000 index.py:826(f)\n",
        "     2981    0.007    0.000    0.025    0.000 index.py:905(_convert_list_indexer)\n",
        "     3693    0.013    0.000    0.019    0.000 index.py:949(_engine)\n",
        "     3693    0.003    0.000    0.010    0.000 index.py:952(<lambda>)\n",
        "      779    0.001    0.000    0.013    0.000 index.py:978(inferred_type)\n",
        "     3493    0.008    0.000    0.018    0.000 index.py:992(__iter__)\n",
        "    18775    0.038    0.000    4.510    0.000 indexing.py:1176(__getitem__)\n",
        "    18775    0.035    0.000    0.161    0.000 indexing.py:1355(_has_valid_type)\n",
        "    18775    0.077    0.000    4.253    0.000 indexing.py:1428(_get_slice_axis)\n",
        "    18775    0.054    0.000    4.472    0.000 indexing.py:1440(_getitem_axis)\n",
        "     3840    0.010    0.000    0.013    0.000 indexing.py:1603(convert_to_index_sliceable)\n",
        "     2981    0.015    0.000    0.035    0.000 indexing.py:162(_convert_scalar_indexer)\n",
        "      859    0.003    0.000    0.031    0.000 indexing.py:1639(check_bool_indexer)\n",
        "    18775    0.097    0.000    0.381    0.000 indexing.py:168(_convert_slice_indexer)\n",
        "     6821    0.392    0.000    0.548    0.000 indexing.py:1686(maybe_convert_indices)\n",
        "     2981    0.003    0.000    0.004    0.000 indexing.py:1722(is_nested_tuple)\n",
        "     2981    0.007    0.000    0.018    0.000 indexing.py:1735(is_list_like_indexer)\n",
        "    18775    0.015    0.000    0.015    0.000 indexing.py:1744(need_slice)\n",
        "     3491    0.011    0.000    0.022    0.000 indexing.py:44(__init__)\n",
        "    18775    0.036    0.000    3.778    0.000 indexing.py:94(_slice)\n",
        "     2981    0.101    0.000    0.746    0.000 indexing.py:998(_convert_to_indexer)\n",
        "     3994    0.005    0.000    0.010    0.000 internals.py:112(to_dense)\n",
        "     6821    0.009    0.000    0.009    0.000 internals.py:115(fill_value)\n",
        "   110352    0.038    0.000    0.038    0.000 internals.py:119(mgr_locs)\n",
        "    47636    0.108    0.000    0.502    0.000 internals.py:128(make_block_same_class)\n",
        "    49355    0.069    0.000    0.091    0.000 internals.py:141(mgr_locs)\n",
        "    18775    0.087    0.000    0.087    0.000 internals.py:177(_slice)\n",
        "    18775    0.132    0.000    0.406    0.000 internals.py:199(getitem_block)\n",
        "    49355    0.124    0.000    0.421    0.000 internals.py:2073(make_block)\n",
        "    25596    0.185    0.000    2.641    0.000 internals.py:2163(__init__)\n",
        "     6821    0.005    0.000    0.005    0.000 internals.py:220(shape)\n",
        "    67817    0.427    0.000    0.724    0.000 internals.py:2204(shape)\n",
        "   203451    0.080    0.000    0.290    0.000 internals.py:2206(<genexpr>)\n",
        "    60645    0.041    0.000    0.051    0.000 internals.py:2208(ndim)\n",
        "     2981    0.022    0.000    0.043    0.000 internals.py:2246(_is_single_block)\n",
        "    25597    0.775    0.000    2.014    0.000 internals.py:2258(_rebuild_blknos_and_blklocs)\n",
        "    57021    0.022    0.000    0.022    0.000 internals.py:2279(_get_items)\n",
        "    32423    0.017    0.000    0.017    0.000 internals.py:228(dtype)\n",
        "    25598    0.077    0.000    0.090    0.000 internals.py:232(ftype)\n",
        "     3844    0.007    0.000    0.014    0.000 internals.py:2369(__len__)\n",
        "     6821    0.042    0.000    0.147    0.000 internals.py:2384(_verify_integrity)\n",
        "    13642    0.011    0.000    0.016    0.000 internals.py:2386(<genexpr>)\n",
        "    35398    0.023    0.000    0.023    0.000 internals.py:2560(is_consolidated)\n",
        "    25597    0.129    0.000    0.227    0.000 internals.py:2568(_consolidate_check)\n",
        "    22040    0.032    0.000    0.032    0.000 internals.py:259(iget)\n",
        "    18775    0.231    0.000    3.061    0.000 internals.py:2647(get_slice)\n",
        "     2981    0.003    0.000    0.005    0.000 internals.py:2821(consolidate)\n",
        "    32417    0.032    0.000    0.303    0.000 internals.py:2836(_consolidate_inplace)\n",
        "    22040    0.114    0.000    0.964    0.000 internals.py:2844(get)\n",
        "    22040    0.198    0.000    0.605    0.000 internals.py:2872(iget)\n",
        "     6821    0.077    0.000    3.507    0.001 internals.py:3124(reindex_indexer)\n",
        "     2981    0.071    0.000    0.952    0.000 internals.py:3168(_slice_take_blocks_ax0)\n",
        "     6821    0.291    0.000    6.010    0.001 internals.py:3255(take)\n",
        "    23758    0.091    0.000    0.170    0.000 internals.py:3343(__init__)\n",
        "    87287    0.039    0.000    0.039    0.000 internals.py:3390(_block)\n",
        "    83293    0.061    0.000    0.097    0.000 internals.py:3394(_values)\n",
        "    62048    0.061    0.000    0.138    0.000 internals.py:3453(dtype)\n",
        "    21245    0.034    0.000    0.082    0.000 internals.py:3477(values)\n",
        "     3994    0.014    0.000    0.032    0.000 internals.py:3481(get_values)\n",
        "        1    0.000    0.000    0.249    0.249 internals.py:3805(_consolidate)\n",
        "        4    0.000    0.000    0.000    0.000 internals.py:3811(<lambda>)\n",
        "        1    0.192    0.192    0.249    0.249 internals.py:3826(_merge_blocks)\n",
        "        1    0.000    0.000    0.057    0.057 internals.py:3862(_vstack)\n",
        "     5962    0.030    0.000    0.049    0.000 internals.py:3931(_get_blkno_placements)\n",
        "     2981    0.013    0.000    0.026    0.000 internals.py:4457(_preprocess_slice_or_indexer)\n",
        "    49355    0.162    0.000    0.295    0.000 internals.py:64(__init__)\n",
        "        4    0.000    0.000    0.000    0.000 internals.py:79(_consolidate_key)\n",
        "     6821    0.071    0.000    2.159    0.000 internals.py:845(take_nd)\n",
        "     6821    0.005    0.000    0.005    0.000 internals.py:874(get_values)\n",
        "      203    0.001    0.000    0.008    0.000 iostream.py:112(_flush_from_subprocesses)\n",
        "      203    0.003    0.000    0.096    0.000 iostream.py:140(flush)\n",
        "      558    0.006    0.000    0.112    0.000 iostream.py:196(write)\n",
        "      203    0.001    0.000    0.002    0.000 iostream.py:227(_flush_buffer)\n",
        "      203    0.001    0.000    0.001    0.000 iostream.py:236(_new_buffer)\n",
        "      964    0.001    0.000    0.002    0.000 iostream.py:86(_is_master_process)\n",
        "      203    0.001    0.000    0.002    0.000 iostream.py:89(_is_master_thread)\n",
        "      761    0.001    0.000    0.003    0.000 iostream.py:95(_check_mp_mode)\n",
        "       58    0.000    0.000    0.007    0.000 java_gateway.py:232(_garbage_collect_object)\n",
        "       58    0.000    0.000    0.000    0.000 java_gateway.py:312(_get_connection)\n",
        "       58    0.000    0.000    0.000    0.000 java_gateway.py:328(_give_back_connection)\n",
        "       58    0.000    0.000    0.006    0.000 java_gateway.py:348(send_command)\n",
        "       58    0.001    0.000    0.006    0.000 java_gateway.py:459(send_command)\n",
        "       58    0.000    0.000    0.007    0.000 java_gateway.py:568(<lambda>)\n",
        "      812    0.002    0.000    0.018    0.000 jsonapi.py:31(dumps)\n",
        "      203    0.000    0.000    0.001    0.000 jsonutil.py:102(date_default)\n",
        "      859    0.000    0.000    0.000    0.000 nanops.py:133(_get_fill_value)\n",
        "      859    0.010    0.000    0.537    0.001 nanops.py:156(_get_values)\n",
        "      859    0.002    0.000    0.006    0.000 nanops.py:209(_na_ok_dtype)\n",
        "      859    0.001    0.000    0.007    0.000 nanops.py:213(_view_if_needed)\n",
        "      859    0.003    0.000    0.566    0.001 nanops.py:236(nanany)\n",
        "       41    0.002    0.000    0.009    0.000 nanops.py:715(unique1d)\n",
        "      970    0.002    0.000    0.009    0.000 numeric.py:136(ones)\n",
        "    43951    0.091    0.000    0.109    0.000 numeric.py:1810(isscalar)\n",
        "     2981    0.113    0.000    0.159    0.000 numeric.py:2222(array_equal)\n",
        "    84481    0.069    0.000    0.228    0.000 numeric.py:392(asarray)\n",
        "     9804    0.016    0.000    0.039    0.000 numeric.py:462(asanyarray)\n",
        "        1    0.000    0.000    0.000    0.000 numeric.py:586(require)\n",
        "     2276    0.008    0.000    0.024    0.000 numeric.py:78(zeros_like)\n",
        "    15684    0.198    0.000    0.260    0.000 numeric.py:966(outer)\n",
        "    37726    0.023    0.000    0.040    0.000 numerictypes.py:667(issubclass_)\n",
        "    37726    0.067    0.000    0.118    0.000 numerictypes.py:735(issubdtype)\n",
        "      859    0.099    0.000    0.107    0.000 ops.py:543(na_op)\n",
        "      859    0.023    0.000    1.095    0.001 ops.py:574(wrapper)\n",
        "      203    0.001    0.000    0.006    0.000 poll.py:77(poll)\n",
        "      174    0.000    0.000    0.000    0.000 protocol.py:193(smart_decode)\n",
        "      203    0.000    0.000    0.000    0.000 py3compat.py:13(no_code)\n",
        "    18781    0.168    0.000    0.706    0.000 series.py:1001(__iter__)\n",
        "    23758    0.133    0.000    0.426    0.000 series.py:118(__init__)\n",
        "      859    0.010    0.000    0.585    0.001 series.py:2061(_reduce)\n",
        "    22040    0.076    0.000    0.433    0.000 series.py:225(from_array)\n",
        "    23758    0.085    0.000    0.124    0.000 series.py:255(_set_axis)\n",
        "     1718    0.016    0.000    0.060    0.000 series.py:2589(_sanitize_array)\n",
        "     1718    0.005    0.000    0.026    0.000 series.py:2604(_try_cast)\n",
        "    23758    0.029    0.000    0.029    0.000 series.py:275(_set_subtyp)\n",
        "    62048    0.060    0.000    0.198    0.000 series.py:286(dtype)\n",
        "    21245    0.026    0.000    0.108    0.000 series.py:306(values)\n",
        "     3994    0.006    0.000    0.038    0.000 series.py:317(get_values)\n",
        "      863    0.001    0.000    0.007    0.000 series.py:379(__len__)\n",
        "     3135    0.004    0.000    0.033    0.000 series.py:389(__array__)\n",
        "      203    0.001    0.000    0.003    0.000 session.py:201(msg_header)\n",
        "      203    0.001    0.000    0.002    0.000 session.py:205(extract_header)\n",
        "      203    0.001    0.000    0.022    0.000 session.py:435(msg_id)\n",
        "      203    0.002    0.000    0.027    0.000 session.py:487(msg_header)\n",
        "      203    0.002    0.000    0.031    0.000 session.py:490(msg)\n",
        "      203    0.002    0.000    0.008    0.000 session.py:509(sign)\n",
        "      203    0.003    0.000    0.031    0.000 session.py:524(serialize)\n",
        "      203    0.004    0.000    0.077    0.000 session.py:583(send)\n",
        "      812    0.001    0.000    0.019    0.000 session.py:92(<lambda>)\n",
        "        1    0.000    0.000    0.057    0.057 shape_base.py:179(vstack)\n",
        "        2    0.000    0.000    0.000    0.000 shape_base.py:60(atleast_2d)\n",
        "       58    0.000    0.000    0.001    0.000 socket.py:223(meth)\n",
        "      203    0.002    0.000    0.009    0.000 socket.py:245(send_multipart)\n",
        "       58    0.001    0.000    0.004    0.000 socket.py:406(readline)\n",
        "    15684    0.603    0.000    1.578    0.000 supervised.py:497(mutual_info_score)\n",
        "      203    0.000    0.000    0.001    0.000 threading.py:1152(currentThread)\n",
        "       58    0.000    0.000    0.000    0.000 threading.py:146(acquire)\n",
        "       58    0.000    0.000    0.000    0.000 threading.py:186(release)\n",
        "       58    0.000    0.000    0.000    0.000 threading.py:214(__exit__)\n",
        "      116    0.000    0.000    0.000    0.000 threading.py:63(_note)\n",
        "      203    0.000    0.000    0.000    0.000 threading.py:983(ident)\n",
        "     2436    0.002    0.000    0.002    0.000 traitlets.py:325(__get__)\n",
        "      723    0.001    0.000    0.001    0.000 tree.py:148(_set_up)\n",
        "      723    0.000    0.000    0.000    0.000 tree.py:154(_get_children)\n",
        "      724    0.005    0.000    0.006    0.000 tree.py:198(__init__)\n",
        "      723    0.005    0.000    0.013    0.000 tree.py:292(add_child)\n",
        "      558    0.001    0.000    0.003    0.000 utf_8.py:15(decode)\n",
        "      203    0.006    0.000    0.008    0.000 uuid.py:101(__init__)\n",
        "      203    0.001    0.000    0.001    0.000 uuid.py:197(__str__)\n",
        "      203    0.002    0.000    0.020    0.000 uuid.py:533(uuid4)\n",
        "      558    0.002    0.000    0.002    0.000 {_codecs.utf_8_decode}\n",
        "        1    0.000    0.000    0.000    0.000 {_warnings.warn}\n",
        "      770    0.000    0.000    0.000    0.000 {abs}\n",
        "     2981    0.003    0.000    0.030    0.000 {all}\n",
        "     5962    0.006    0.000    0.021    0.000 {any}\n",
        "    34003    0.018    0.000    0.018    0.000 {built-in method __new__ of type object at 0x103e7d598}\n",
        "      203    0.002    0.000    0.002    0.000 {built-in method now}\n",
        "       58    0.000    0.000    0.000    0.000 {cStringIO.StringIO}\n",
        "     2981    0.001    0.000    0.001    0.000 {callable}\n",
        "   266535    0.170    0.000    0.177    0.000 {getattr}\n",
        "    61539    0.073    0.000    0.082    0.000 {hasattr}\n",
        "    29487    0.012    0.000    0.019    0.000 {hash}\n",
        "     2981    0.000    0.000    0.000    0.000 {id}\n",
        "  1063886    0.471    0.000    0.744    0.000 {isinstance}\n",
        "   222226    0.077    0.000    0.077    0.000 {issubclass}\n",
        "    22274    0.011    0.000    0.011    0.000 {iter}\n",
        "739823/571315    0.254    0.000    0.363    0.000 {len}\n",
        "      203    0.000    0.000    0.000    0.000 {locals}\n",
        "    24850    0.180    0.000   37.787    0.002 {map}\n",
        "    47052    0.017    0.000    0.017    0.000 {math.log}\n",
        "      203    0.000    0.000    0.000    0.000 {max}\n",
        "       58    0.000    0.000    0.000    0.000 {method 'acquire' of 'thread.lock' objects}\n",
        "     4921    0.006    0.000    0.048    0.000 {method 'all' of 'numpy.ndarray' objects}\n",
        "    54710    0.071    0.000    0.723    0.000 {method 'any' of 'numpy.ndarray' objects}\n",
        "       58    0.000    0.000    0.000    0.000 {method 'append' of 'collections.deque' objects}\n",
        "     9903    0.004    0.000    0.004    0.000 {method 'append' of 'list' objects}\n",
        "     2982    0.013    0.000    0.013    0.000 {method 'argsort' of 'numpy.ndarray' objects}\n",
        "     6214    0.012    0.000    0.012    0.000 {method 'astype' of 'numpy.ndarray' objects}\n",
        "      203    0.000    0.000    0.000    0.000 {method 'close' of '_io.StringIO' objects}\n",
        "      609    0.001    0.000    0.001    0.000 {method 'copy' of '_hashlib.HASH' objects}\n",
        "      203    0.000    0.000    0.000    0.000 {method 'copy' of 'dict' objects}\n",
        "      859    0.016    0.000    0.016    0.000 {method 'copy' of 'numpy.ndarray' objects}\n",
        "      203    0.000    0.000    0.000    0.000 {method 'count' of 'list' objects}\n",
        "      558    0.002    0.000    0.006    0.000 {method 'decode' of 'str' objects}\n",
        "      203    0.000    0.000    0.000    0.000 {method 'digest' of '_hashlib.HASH' objects}\n",
        "        1    0.000    0.000    0.000    0.000 {method 'disable' of '_lsprof.Profiler' objects}\n",
        "       58    0.000    0.000    0.000    0.000 {method 'encode' of 'unicode' objects}\n",
        "      406    0.000    0.000    0.000    0.000 {method 'extend' of 'list' objects}\n",
        "    51194    0.075    0.000    0.075    0.000 {method 'fill' of 'numpy.ndarray' objects}\n",
        "     1861    0.011    0.000    0.011    0.000 {method 'format' of 'str' objects}\n",
        "      116    0.000    0.000    0.000    0.000 {method 'format' of 'unicode' objects}\n",
        " 58392046    7.246    0.000    7.246    0.000 {method 'get' of 'dict' objects}\n",
        "     3951    0.042    0.000    0.042    0.000 {method 'get_indexer' of 'pandas.index.IndexEngine' objects}\n",
        "     2981    0.493    0.000    0.493    0.000 {method 'get_labels' of 'pandas.hashtable.Int64HashTable' objects}\n",
        "    49337    0.091    0.000    0.091    0.000 {method 'get_loc' of 'pandas.index.IndexEngine' objects}\n",
        "      203    0.000    0.000    0.000    0.000 {method 'getvalue' of '_io.StringIO' objects}\n",
        "      203    0.000    0.000    0.000    0.000 {method 'hexdigest' of '_hashlib.HASH' objects}\n",
        "      203    0.001    0.000    0.001    0.000 {method 'isoformat' of 'datetime.datetime' objects}\n",
        "    25596    0.013    0.000    0.013    0.000 {method 'items' of 'dict' objects}\n",
        "    34708    0.018    0.000    0.018    0.000 {method 'iteritems' of 'dict' objects}\n",
        "      870    0.001    0.000    0.001    0.000 {method 'join' of 'str' objects}\n",
        "        6    0.000    0.000    0.000    0.000 {method 'keys' of 'dict' objects}\n",
        "      859    0.234    0.000    0.234    0.000 {method 'nonzero' of 'numpy.ndarray' objects}\n",
        "       58    0.000    0.000    0.000    0.000 {method 'pop' of 'collections.deque' objects}\n",
        "       58    0.000    0.000    0.000    0.000 {method 'pop' of 'dict' objects}\n",
        "     2981    0.005    0.000    0.005    0.000 {method 'put' of 'numpy.ndarray' objects}\n",
        "    31368    0.019    0.000    0.019    0.000 {method 'ravel' of 'numpy.ndarray' objects}\n",
        "       58    0.000    0.000    0.000    0.000 {method 'read' of 'cStringIO.StringO' objects}\n",
        "      174    0.003    0.000    0.003    0.000 {method 'recv' of '_socket.socket' objects}\n",
        "   185103    1.148    0.000    1.148    0.000 {method 'reduce' of 'numpy.ufunc' objects}\n",
        "       58    0.000    0.000    0.000    0.000 {method 'release' of 'thread.lock' objects}\n",
        "    18775    0.040    0.000    0.040    0.000 {method 'reshape' of 'numpy.ndarray' objects}\n",
        "      116    0.000    0.000    0.000    0.000 {method 'seek' of 'cStringIO.StringO' objects}\n",
        "     1421    0.008    0.000    0.008    0.000 {method 'send' of 'zmq.backend.cython.socket.Socket' objects}\n",
        "       58    0.001    0.000    0.001    0.000 {method 'sendall' of '_socket.socket' objects}\n",
        "       58    0.000    0.000    0.000    0.000 {method 'strip' of 'unicode' objects}\n",
        "    15684    0.026    0.000    0.095    0.000 {method 'sum' of 'numpy.generic' objects}\n",
        "    62736    0.036    0.000    0.374    0.000 {method 'sum' of 'numpy.ndarray' objects}\n",
        "    12783    0.835    0.000    0.835    0.000 {method 'take' of 'numpy.ndarray' objects}\n",
        "       58    0.000    0.000    0.000    0.000 {method 'tell' of 'cStringIO.StringO' objects}\n",
        "     2981    0.013    0.000    0.013    0.000 {method 'to_array' of 'pandas.hashtable.Int64Vector' objects}\n",
        "       41    0.007    0.000    0.007    0.000 {method 'unique' of 'pandas.hashtable.Int64HashTable' objects}\n",
        "     1015    0.002    0.000    0.002    0.000 {method 'update' of '_hashlib.HASH' objects}\n",
        "    25596    0.016    0.000    0.016    0.000 {method 'update' of 'dict' objects}\n",
        "      724    0.000    0.000    0.000    0.000 {method 'update' of 'set' objects}\n",
        "      204    0.000    0.000    0.000    0.000 {method 'upper' of 'str' objects}\n",
        "      287    0.000    0.000    0.000    0.000 {method 'values' of 'dict' objects}\n",
        "    58122    0.065    0.000    0.065    0.000 {method 'view' of 'numpy.ndarray' objects}\n",
        "      558    0.001    0.000    0.001    0.000 {method 'write' of '_io.StringIO' objects}\n",
        "    21756    0.019    0.000    0.019    0.000 {min}\n",
        "     7457    0.054    0.000    0.054    0.000 {numpy.core._dotblas.dot}\n",
        "    31559    0.098    0.000    0.098    0.000 {numpy.core.multiarray.arange}\n",
        "145019/144160    0.724    0.000    0.752    0.000 {numpy.core.multiarray.array}\n",
        "      970    0.001    0.000    0.001    0.000 {numpy.core.multiarray.can_cast}\n",
        "        2    0.057    0.028    0.057    0.028 {numpy.core.multiarray.concatenate}\n",
        "     3246    0.014    0.000    0.014    0.000 {numpy.core.multiarray.copyto}\n",
        "     2276    0.005    0.000    0.005    0.000 {numpy.core.multiarray.empty_like}\n",
        "    70909    0.265    0.000    0.265    0.000 {numpy.core.multiarray.empty}\n",
        "     3840    0.091    0.000    0.091    0.000 {numpy.core.multiarray.putmask}\n",
        "     2276    0.004    0.000    0.004    0.000 {numpy.core.multiarray.zeros}\n",
        "     2276    0.632    0.000    0.664    0.000 {numpy.lib._compiled_base.digitize}\n",
        "    46474    0.009    0.000    0.009    0.000 {pandas.algos.ensure_int64}\n",
        "     2276    0.274    0.000    0.274    0.000 {pandas.algos.ensure_object}\n",
        "    16734    0.005    0.000    0.005    0.000 {pandas.algos.ensure_platform_int}\n",
        "     2276    1.879    0.001    1.903    0.001 {pandas.algos.groupby_indices}\n",
        "     2981    0.376    0.000    0.376    0.000 {pandas.algos.groupsort_indexer}\n",
        "     8943    0.368    0.000    0.368    0.000 {pandas.algos.take_1d_int64_int64}\n",
        "     2981    0.292    0.000    0.292    0.000 {pandas.algos.take_2d_axis0_int64_int64}\n",
        "     3840    1.284    0.000    1.284    0.000 {pandas.algos.take_2d_axis1_int64_int64}\n",
        "      859    0.003    0.000    0.003    0.000 {pandas.index.convert_scalar}\n",
        "    22040    0.020    0.000    0.020    0.000 {pandas.lib.checknull}\n",
        "     2981    0.166    0.000    0.166    0.000 {pandas.lib.generate_slices}\n",
        "     2981    0.018    0.000    0.018    0.000 {pandas.lib.get_blkno_indexers}\n",
        "     5449    0.075    0.000    0.077    0.000 {pandas.lib.infer_dtype}\n",
        "     5962    0.001    0.000    0.001    0.000 {pandas.lib.is_bool}\n",
        "    12783    0.005    0.000    0.005    0.000 {pandas.lib.is_float}\n",
        "    78910    0.016    0.000    0.016    0.000 {pandas.lib.is_integer}\n",
        "    23758    0.012    0.000    0.012    0.000 {pandas.lib.isscalar}\n",
        "        1    0.000    0.000    0.000    0.000 {pandas.lib.list_to_object_array}\n",
        "    70813    0.108    0.000    0.151    0.000 {pandas.lib.values_from_object}\n",
        "     1167    0.000    0.000    0.000    0.000 {posix.getpid}\n",
        "      203    0.010    0.000    0.010    0.000 {posix.urandom}\n",
        "    21254    0.023    0.000    0.023    0.000 {range}\n",
        "     2276    0.077    0.000    0.077    0.000 {reduce}\n",
        "    10312    0.009    0.000    0.017    0.000 {setattr}\n",
        "        9    0.000    0.000    0.000    0.000 {sorted}\n",
        "    43556    0.134    0.000    0.149    0.000 {sum}\n",
        "      319    0.000    0.000    0.000    0.000 {thread.get_ident}\n",
        "      558    0.000    0.000    0.000    0.000 {time.time}\n",
        "     4552    0.074    0.000    0.074    0.000 {zip}\n",
        "      203    0.005    0.000    0.005    0.000 {zmq.backend.cython._poll.zmq_poll}\n",
        "\n",
        "\n"
       ]
      }
     ],
     "prompt_number": 76
    },
    {
     "cell_type": "code",
     "collapsed": false,
     "input": [],
     "language": "python",
     "metadata": {},
     "outputs": []
    },
    {
     "cell_type": "code",
     "collapsed": false,
     "input": [
      "numClasses = len(SENS_VALS)*len(OUT_VALS)\n",
      "dimOut = len(OUT_VALS)\n",
      "dimSens = len(SENS_VALS)\n",
      "minInstancesPerNode = 100\n",
      "maxDepth = 5\n",
      "maxBins = max(32, max(map(lambda encoder: len(encoder.classes_), encoders.values())))\n",
      "\n",
      "#model = DecisionTree.findBias(spark_rdd, numClasses=numClasses, dimOut=dimOut, dimSens=dimSens, categoricalFeaturesInfo=mapping, maxBins=maxBins, maxDepth=maxDepth, minInstancesPerNode=minInstancesPerNode)\n",
      "model = DiscriminationTree.findBias(spark_rdd, numClasses=numClasses, dimOut=dimOut, dimSens=dimSens, categoricalFeaturesInfo=mapping, maxBins=maxBins, maxDepth=maxDepth, minInstancesPerNode=minInstancesPerNode)"
     ],
     "language": "python",
     "metadata": {},
     "outputs": [],
     "prompt_number": 7
    },
    {
     "cell_type": "code",
     "collapsed": false,
     "input": [
      "import tree_clustering as tc\n",
      "import imp\n",
      "imp.reload(tc)\n",
      "\n",
      "node_iterator = model._java_model.topNode().subtreeIterator()\n",
      "topNode = model._java_model.topNode()\n",
      "features = X_train.columns.tolist()\n",
      "\n",
      "\n",
      "data = X_train.copy()\n",
      "data[SENS] = original_data.loc[data.index][SENS]\n",
      "data[OUT] = original_data.loc[data.index][OUT]\n",
      "\n",
      "clusters, tree = tc.find_clusters(topNode, data, features, encoders, SENS, OUT)"
     ],
     "language": "python",
     "metadata": {},
     "outputs": [],
     "prompt_number": 8
    },
    {
     "cell_type": "code",
     "collapsed": false,
     "input": [
      "LEAVES_ONLY = True\n",
      "\n",
      "# print cluster info\n",
      "for cluster in clusters:\n",
      "    cluster.analyse_ct(exact=False)\n",
      "    if LEAVES_ONLY and cluster.ctype is tc.C_INTERNAL:\n",
      "        continue\n",
      "    \n",
      "    print cluster\n",
      "    print '-'*80"
     ],
     "language": "python",
     "metadata": {},
     "outputs": [
      {
       "output_type": "stream",
       "stream": "stdout",
       "text": [
        "LEAF node 2 of size 181\n",
        "{'Country': set(['Jamaica', 'Iran', 'Poland', 'Yugoslavia', 'Trinadad&Tobago', 'Japan', 'Thailand', 'Germany', 'Ecuador'])}\n",
        "G-Test = 29.2678482677 ; p-value = 6.3032937318e-08 ; p-value adj = 0 ; permut p-value = 0 ; MI = [0.0294879452149, 0.132212873944]\n",
        "SP = 0.355197695732 ; Slift = 5.75964912281 ; Slift_d = 0.355197695732\n",
        "Gender  Female  Male\n",
        "Target              \n",
        "<=50K       62    65\n",
        ">50K         5    49\n",
        "--------------------------------------------------------------------------------\n",
        "LEAF node 48 of size 454\n",
        "{'Education-Num': (-inf, 9.0), 'Country': set([nan, 'Canada', 'Hong', 'Dominican-Republic', 'Italy', 'Peru', 'India', 'Scotland', 'Cambodia', 'France', 'Ireland', 'Laos', 'Columbia', 'Cuba', 'Guatemala', 'China', 'Haiti', 'Holand-Netherlands', 'Philippines', 'Vietnam', 'England', 'South', 'Honduras', 'Portugal', 'Mexico', 'El-Salvador', 'Outlying-US(Guam-USVI-etc)', 'Puerto-Rico', 'United-States', 'Greece', 'Hungary', 'Taiwan', 'Nicaragua']), 'Age': (-inf, 44.0), 'Capital Loss': (-inf, 0.0), 'Occupation': set(['Protective-serv', 'Tech-support', 'Sales'])}\n",
        "G-Test = 35.541843052 ; p-value = 2.49630191563e-09 ; p-value adj = 0 ; permut p-value = 0 ; MI = [0.0159704041896, 0.0623155937223]\n",
        "SP = 0.191668806415 ; Slift = 5.19541720709 ; Slift_d = 0.191668806415\n",
        "Gender  Female  Male\n",
        "Target              \n",
        "<=50K      188   196\n",
        ">50K         9    61\n",
        "--------------------------------------------------------------------------------\n",
        "LEAF node 49 of size 862\n",
        "{'Education-Num': (9.0, inf), 'Country': set([nan, 'Canada', 'Hong', 'Dominican-Republic', 'Italy', 'Peru', 'India', 'Scotland', 'Cambodia', 'France', 'Ireland', 'Laos', 'Columbia', 'Cuba', 'Guatemala', 'China', 'Haiti', 'Holand-Netherlands', 'Philippines', 'Vietnam', 'England', 'South', 'Honduras', 'Portugal', 'Mexico', 'El-Salvador', 'Outlying-US(Guam-USVI-etc)', 'Puerto-Rico', 'United-States', 'Greece', 'Hungary', 'Taiwan', 'Nicaragua']), 'Age': (-inf, 44.0), 'Capital Loss': (-inf, 0.0), 'Occupation': set(['Protective-serv', 'Tech-support', 'Sales'])}\n",
        "G-Test = 49.8939568093 ; p-value = 1.62283714167e-12 ; p-value adj = 0 ; permut p-value = 0 ; MI = [0.0139257054992, 0.0439559149292]\n",
        "SP = 0.212707762256 ; Slift = 2.78066783831 ; Slift_d = 0.212707762256\n",
        "Gender  Female  Male\n",
        "Target              \n",
        "<=50K      258   380\n",
        ">50K        35   189\n",
        "--------------------------------------------------------------------------------\n",
        "LEAF node 50 of size 129\n",
        "{'Country': set([nan, 'Canada', 'Hong', 'Dominican-Republic', 'Italy', 'Peru', 'India', 'Scotland', 'Cambodia', 'France', 'Ireland', 'Laos', 'Columbia', 'Cuba', 'Guatemala', 'China', 'Haiti', 'Holand-Netherlands', 'Philippines', 'Vietnam', 'England', 'South', 'Honduras', 'Portugal', 'Mexico', 'El-Salvador', 'Outlying-US(Guam-USVI-etc)', 'Puerto-Rico', 'United-States', 'Greece', 'Hungary', 'Taiwan', 'Nicaragua']), 'Age': (44.0, 47.0), 'Capital Loss': (-inf, 0.0), 'Occupation': set(['Protective-serv', 'Tech-support', 'Sales'])}\n",
        "G-Test = 43.6963331526 ; p-value = 3.83489631311e-11 ; p-value adj = 0 ; permut p-value = 0 ; MI = [0.0932607174976, 0.245470547252]\n",
        "SP = 0.588449848024 ; Slift = 21.5957446809 ; Slift_d = 0.588449848024\n",
        "Gender  Female  Male\n",
        "Target              \n",
        "<=50K       34    36\n",
        ">50K         1    58\n",
        "--------------------------------------------------------------------------------\n",
        "LEAF node 51 of size 413\n",
        "{'Country': set([nan, 'Canada', 'Hong', 'Dominican-Republic', 'Italy', 'Peru', 'India', 'Scotland', 'Cambodia', 'France', 'Ireland', 'Laos', 'Columbia', 'Cuba', 'Guatemala', 'China', 'Haiti', 'Holand-Netherlands', 'Philippines', 'Vietnam', 'England', 'South', 'Honduras', 'Portugal', 'Mexico', 'El-Salvador', 'Outlying-US(Guam-USVI-etc)', 'Puerto-Rico', 'United-States', 'Greece', 'Hungary', 'Taiwan', 'Nicaragua']), 'Age': (47.0, inf), 'Capital Loss': (-inf, 0.0), 'Occupation': set(['Protective-serv', 'Tech-support', 'Sales'])}\n",
        "G-Test = 69.2962581513 ; p-value = 8.47301871562e-17 ; p-value adj = 0 ; permut p-value = 0 ; MI = [0.0511913077279, 0.116596242275]\n",
        "SP = 0.423470372515 ; Slift = 7.9872611465 ; Slift_d = 0.423470372515\n",
        "Gender  Female  Male\n",
        "Target              \n",
        "<=50K       93   162\n",
        ">50K         6   152\n",
        "--------------------------------------------------------------------------------\n",
        "LEAF node 13 of size 100\n",
        "{'Country': set([nan, 'Canada', 'Hong', 'Dominican-Republic', 'Italy', 'Peru', 'India', 'Scotland', 'Cambodia', 'France', 'Ireland', 'Laos', 'Columbia', 'Cuba', 'Guatemala', 'China', 'Haiti', 'Holand-Netherlands', 'Philippines', 'Vietnam', 'England', 'South', 'Honduras', 'Portugal', 'Mexico', 'El-Salvador', 'Outlying-US(Guam-USVI-etc)', 'Puerto-Rico', 'United-States', 'Greece', 'Hungary', 'Taiwan', 'Nicaragua']), 'Capital Loss': (0.0, inf), 'Occupation': set(['Protective-serv', 'Tech-support', 'Sales'])}\n",
        "G-Test = 17.1166492556 ; p-value = 3.51527932156e-05 ; p-value adj = 0 ; permut p-value = 0 ; MI = [0.00998890461803, 0.161177587938]\n",
        "SP = 0.430147058824 ; Slift = 3.29411764706 ; Slift_d = 0.430147058824\n",
        "Gender  Female  Male\n",
        "Target              \n",
        "<=50K       26    26\n",
        ">50K         6    42\n",
        "--------------------------------------------------------------------------------\n",
        "LEAF node 28 of size 157\n",
        "{'Country': set([nan, 'Canada', 'Hong', 'Dominican-Republic', 'Italy', 'Peru', 'India', 'Scotland', 'Cambodia', 'France', 'Ireland', 'Laos', 'Columbia', 'Cuba', 'Guatemala', 'China', 'Haiti', 'Holand-Netherlands', 'Philippines', 'Vietnam', 'England', 'South', 'Honduras', 'Portugal', 'Mexico', 'El-Salvador', 'Outlying-US(Guam-USVI-etc)', 'Puerto-Rico', 'United-States', 'Greece', 'Hungary', 'Taiwan', 'Nicaragua']), 'Workclass': set(['Federal-gov']), 'Occupation': set(['Handlers-cleaners', 'Other-service', 'Transport-moving', 'Prof-specialty', 'Exec-managerial'])}\n",
        "G-Test = 17.0144783574 ; p-value = 3.7095870637e-05 ; p-value adj = 0 ; permut p-value = 0 ; MI = [0.00507311992151, 0.103299353692]\n",
        "SP = 0.348814984709 ; Slift = 2.52210175146 ; Slift_d = 0.348814984709\n",
        "Gender  Female  Male\n",
        "Target              \n",
        "<=50K       37    46\n",
        ">50K        11    63\n",
        "--------------------------------------------------------------------------------\n",
        "LEAF node 29 of size 142\n",
        "{'Country': set([nan, 'Canada', 'Hong', 'Dominican-Republic', 'Italy', 'Peru', 'India', 'Scotland', 'Cambodia', 'France', 'Ireland', 'Laos', 'Columbia', 'Cuba', 'Guatemala', 'China', 'Haiti', 'Holand-Netherlands', 'Philippines', 'Vietnam', 'England', 'South', 'Honduras', 'Portugal', 'Mexico', 'El-Salvador', 'Outlying-US(Guam-USVI-etc)', 'Puerto-Rico', 'United-States', 'Greece', 'Hungary', 'Taiwan', 'Nicaragua']), 'Workclass': set(['Federal-gov']), 'Occupation': set([nan, 'Farming-fishing', 'Armed-Forces', 'Craft-repair', 'Adm-clerical', 'Priv-house-serv', 'Machine-op-inspct'])}\n",
        "G-Test = 12.9683276712 ; p-value = 0.000316804872581 ; p-value adj = 0 ; permut p-value = 0 ; MI = [0, 0.0920594058489]\n",
        "SP = 0.283913043478 ; Slift = 3.02795031056 ; Slift_d = 0.283913043478\n",
        "Gender  Female  Male\n",
        "Target              \n",
        "<=50K       43    53\n",
        ">50K         7    39\n",
        "--------------------------------------------------------------------------------\n",
        "LEAF node 30 of size 103\n",
        "{'Country': set(['Nicaragua', 'Taiwan', 'England', 'Puerto-Rico', 'Cambodia']), 'Workclass': set([nan, 'Self-emp-inc', 'State-gov', 'Without-pay', 'Private', 'Local-gov', 'Self-emp-not-inc', 'Never-worked']), 'Occupation': set([nan, 'Farming-fishing', 'Armed-Forces', 'Craft-repair', 'Other-service', 'Transport-moving', 'Prof-specialty', 'Exec-managerial', 'Handlers-cleaners', 'Adm-clerical', 'Priv-house-serv', 'Machine-op-inspct'])}\n",
        "G-Test = 11.4231041109 ; p-value = 0.000725364049701 ; p-value adj = 0 ; permut p-value = 0 ; MI = [7.43536390911e-05, 0.110829569767]\n",
        "SP = 0.289612676056 ; Slift = 5.6338028169 ; Slift_d = 0.289612676056\n",
        "Gender  Female  Male\n",
        "Target              \n",
        "<=50K       30    46\n",
        ">50K         2    25\n",
        "--------------------------------------------------------------------------------\n",
        "LEAF node 62 of size 8927\n",
        "{'Country': set([nan, 'Canada', 'Hong', 'Dominican-Republic', 'Italy', 'Peru', 'Outlying-US(Guam-USVI-etc)', 'Scotland', 'France', 'Ireland', 'Laos', 'Columbia', 'Cuba', 'Guatemala', 'China', 'Haiti', 'United-States', 'Philippines', 'Vietnam', 'South', 'Honduras', 'Portugal', 'Mexico', 'El-Salvador', 'India', 'Holand-Netherlands', 'Greece', 'Hungary']), 'Age': (-inf, 60.0), 'Workclass': set([nan, 'Self-emp-inc', 'State-gov', 'Without-pay', 'Private', 'Local-gov', 'Self-emp-not-inc', 'Never-worked']), 'Occupation': set([nan, 'Farming-fishing', 'Armed-Forces', 'Craft-repair', 'Other-service', 'Transport-moving', 'Prof-specialty', 'Exec-managerial', 'Handlers-cleaners', 'Adm-clerical', 'Priv-house-serv', 'Machine-op-inspct'])}\n",
        "G-Test = 352.721724803 ; p-value = 1.08255989173e-78 ; p-value adj = 0 ; permut p-value = 0 ; MI = [0.0158736380644, 0.0236381491881]\n",
        "SP = 0.168494734196 ; Slift = 2.48464239246 ; Slift_d = 0.168494734196\n",
        "Gender  Female  Male\n",
        "Target              \n",
        "<=50K     2648  4265\n",
        ">50K       339  1675\n",
        "--------------------------------------------------------------------------------\n",
        "LEAF node 63 of size 742\n",
        "{'Country': set([nan, 'Canada', 'Hong', 'Dominican-Republic', 'Italy', 'Peru', 'Outlying-US(Guam-USVI-etc)', 'Scotland', 'France', 'Ireland', 'Laos', 'Columbia', 'Cuba', 'Guatemala', 'China', 'Haiti', 'United-States', 'Philippines', 'Vietnam', 'South', 'Honduras', 'Portugal', 'Mexico', 'El-Salvador', 'India', 'Holand-Netherlands', 'Greece', 'Hungary']), 'Age': (60.0, inf), 'Workclass': set([nan, 'Self-emp-inc', 'State-gov', 'Without-pay', 'Private', 'Local-gov', 'Self-emp-not-inc', 'Never-worked']), 'Occupation': set([nan, 'Farming-fishing', 'Armed-Forces', 'Craft-repair', 'Other-service', 'Transport-moving', 'Prof-specialty', 'Exec-managerial', 'Handlers-cleaners', 'Adm-clerical', 'Priv-house-serv', 'Machine-op-inspct'])}\n",
        "G-Test = 72.5695386581 ; p-value = 1.61248852994e-17 ; p-value adj = 0 ; permut p-value = 0 ; MI = [0.0289692940017, 0.068833318745]\n",
        "SP = 0.262060635342 ; Slift = 4.71252566735 ; Slift_d = 0.262060635342\n",
        "Gender  Female  Male\n",
        "Target              \n",
        "<=50K      237   325\n",
        ">50K        18   162"
       ]
      },
      {
       "output_type": "stream",
       "stream": "stdout",
       "text": [
        "\n",
        "--------------------------------------------------------------------------------\n"
       ]
      }
     ],
     "prompt_number": 9
    },
    {
     "cell_type": "code",
     "collapsed": false,
     "input": [
      "imp.reload(tc)\n",
      "\n",
      "dot_data = StringIO()\n",
      "tc.export_graphviz(tree, out_file=dot_data) \n",
      "graph = pydot.graph_from_dot_data(dot_data.getvalue()) \n",
      "graph.write_pdf('tree5.pdf') "
     ],
     "language": "python",
     "metadata": {},
     "outputs": [
      {
       "metadata": {},
       "output_type": "pyout",
       "prompt_number": 10,
       "text": [
        "True"
       ]
      }
     ],
     "prompt_number": 10
    },
    {
     "cell_type": "code",
     "collapsed": false,
     "input": [
      "print model._java_model.topNode()"
     ],
     "language": "python",
     "metadata": {},
     "outputs": [
      {
       "output_type": "stream",
       "stream": "stdout",
       "text": [
        "id = 1, isLeaf = false, predict = 1.0 (prob = 0.45864045864045866), impurity = -2.2603200245128395E-6, split = Some(Feature = 3, threshold = -1.7976931348623157E308, featureType = Categorical, categories = List(38.0, 20.0, 37.0, 7.0, 31.0, 41.0, 11.0, 24.0, 23.0)), stats = Some(gain = 6.2608849481532694E-6, impurity = -2.2603200245128395E-6, left impurity = -4.2559446141515777E-4, right impurity = -2.2455162690256583E-6)\n"
       ]
      }
     ],
     "prompt_number": 11
    },
    {
     "cell_type": "code",
     "collapsed": false,
     "input": [],
     "language": "python",
     "metadata": {},
     "outputs": []
    }
   ],
   "metadata": {}
  }
 ]
}